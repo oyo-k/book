{
 "cells": [
  {
   "cell_type": "code",
   "execution_count": 1,
   "metadata": {},
   "outputs": [
    {
     "name": "stdout",
     "output_type": "stream",
     "text": [
      "1 回目開始\n",
      "2 回目開始\n",
      "3 回目開始\n",
      "三角形描画終了\n"
     ]
    }
   ],
   "source": [
    "from turtle import * #プログラム開始 \n",
    "speed(1) # 亀の移動速度の設定\n",
    "# インデントした命令を3回繰り返し\n",
    "for i in range(1, 4): \n",
    "    print(i,'回目開始')\n",
    "    forward(100) # 距離100進む\n",
    "    left(120)    # 120度回転\n",
    "\n",
    "print('三角形描画終了') \n",
    "done() # プログラム終了"
   ]
  },
  {
   "cell_type": "code",
   "execution_count": 19,
   "metadata": {},
   "outputs": [],
   "source": [
    "####### Windowsの場合\n",
    "#import winsound as ws # 音を出すパッケージ\n",
    "#ws.Beep(500,500) # 音を出す命令Beep(Hz, ミリ秒)と指定\n",
    "# Hzはヘルツと読みます。500Hzは低いピー音です。\n",
    "\n",
    "####### mac os の場合\n",
    "#import os\n",
    "#os.system('afplay /System/Library/Sounds/Basso.aiff')\n",
    "#from pybeep.pybeep import PyBeep\n",
    "#PyBeep().beep()"
   ]
  },
  {
   "cell_type": "code",
   "execution_count": 22,
   "metadata": {},
   "outputs": [
    {
     "name": "stdout",
     "output_type": "stream",
     "text": [
      "0 回目の音が出ます\n",
      "1 回目の音が出ます\n",
      "2 回目の音が出ます\n"
     ]
    }
   ],
   "source": [
    "####### Windowsの場合\n",
    "import numpy as np\n",
    "for kaisuu in np.arange(3):\n",
    "    # [0, 1, 2]のため3回繰り返す\n",
    "    print(kaisuu,'回目の音が出ます')\n",
    "    ws.Beep(500,500) # 音を出す命令\n",
    "####### mac os の場合\n",
    "#for kaisuu in np.arange(3):\n",
    "#    # [0, 1, 2]のため3回繰り返す\n",
    "#    print(kaisuu,'回目の音が出ます')\n",
    "#    PyBeep().beep() # 音を出す命令"
   ]
  },
  {
   "cell_type": "code",
   "execution_count": 23,
   "metadata": {},
   "outputs": [
    {
     "name": "stdout",
     "output_type": "stream",
     "text": [
      "一の段の 1 × 1 = 1 です。\n",
      "一の段の 1 × 2 = 2 です。\n",
      "一の段の 1 × 3 = 3 です。\n",
      "一の段の 1 × 4 = 4 です。\n",
      "一の段の 1 × 5 = 5 です。\n",
      "一の段の 1 × 6 = 6 です。\n",
      "一の段の 1 × 7 = 7 です。\n",
      "一の段の 1 × 8 = 8 です。\n",
      "一の段の 1 × 9 = 9 です。\n"
     ]
    }
   ],
   "source": [
    "kazu = 1\n",
    "print('一の段の 1 ×', kazu, '=' , 1 * kazu, 'です。') \n",
    "kazu = 2\n",
    "print('一の段の 1 ×', kazu, '=' , 1 * kazu, 'です。') \n",
    "kazu = 3\n",
    "print('一の段の 1 ×', kazu, '=' , 1 * kazu, 'です。') \n",
    "kazu = 4\n",
    "print('一の段の 1 ×', kazu, '=' , 1 * kazu, 'です。') \n",
    "kazu = 5\n",
    "print('一の段の 1 ×', kazu, '=' , 1 * kazu, 'です。') \n",
    "kazu = 6\n",
    "print('一の段の 1 ×', kazu, '=' , 1 * kazu, 'です。') \n",
    "kazu = 7\n",
    "print('一の段の 1 ×', kazu, '=' , 1 * kazu, 'です。') \n",
    "kazu = 8\n",
    "print('一の段の 1 ×', kazu, '=' , 1 * kazu, 'です。') \n",
    "kazu = 9\n",
    "print('一の段の 1 ×', kazu, '=' , 1 * kazu, 'です。') "
   ]
  },
  {
   "cell_type": "code",
   "execution_count": 24,
   "metadata": {},
   "outputs": [
    {
     "name": "stdout",
     "output_type": "stream",
     "text": [
      "一の段の 1 × 1 = 1 です。\n",
      "一の段の 1 × 2 = 2 です。\n",
      "一の段の 1 × 3 = 3 です。\n",
      "一の段の 1 × 4 = 4 です。\n",
      "一の段の 1 × 5 = 5 です。\n",
      "一の段の 1 × 6 = 6 です。\n",
      "一の段の 1 × 7 = 7 です。\n",
      "一の段の 1 × 8 = 8 です。\n",
      "一の段の 1 × 9 = 9 です。\n"
     ]
    }
   ],
   "source": [
    "import numpy as np\n",
    "# np.arange(1,10)の中身は\n",
    "# [1, 2, 3, 4, 5, 6, 7, 8, 9]\n",
    "for kazu in np.arange(1,10):\n",
    "    print('一の段の 1 ×', kazu,\n",
    "    '=',1 * kazu, 'です。') "
   ]
  },
  {
   "cell_type": "code",
   "execution_count": 25,
   "metadata": {},
   "outputs": [
    {
     "name": "stdout",
     "output_type": "stream",
     "text": [
      "5 歳のお誕生日おめでとう! ロウソクは 5 本ね\n",
      "6 歳のお誕生日おめでとう! ロウソクは 6 本ね\n",
      "7 歳のお誕生日おめでとう! ロウソクは 7 本ね\n",
      "5 歳から 7 歳までの誕生日会はおしまいです。\n"
     ]
    }
   ],
   "source": [
    "# np.arange(5, 8)の中身は[5, 6, 7]\n",
    "for age in np.arange(5, 8): \n",
    "    print(age,'歳のお誕生日おめでとう!','ロウソクは', age ,'本ね')\n",
    "print('5 歳から', age ,'歳までの誕生日会はおしまいです。')"
   ]
  },
  {
   "cell_type": "code",
   "execution_count": 26,
   "metadata": {},
   "outputs": [
    {
     "name": "stdout",
     "output_type": "stream",
     "text": [
      "5 歳から\n",
      "6 歳に変わりました\n",
      "6 歳から\n",
      "7 歳に変わりました\n",
      "7 歳から\n",
      "8 歳に変わりました\n",
      "現在は 8 歳です。\n"
     ]
    }
   ],
   "source": [
    "import numpy as np\n",
    "age = 5 # 5歳から始める\n",
    "for i in np.arange(3): # 三年経過\n",
    "    print(age,'歳から')\n",
    "    age = age + 1 \n",
    "    print(age,'歳に変わりました')\n",
    "print('現在は',age,'歳です。')"
   ]
  },
  {
   "cell_type": "code",
   "execution_count": 27,
   "metadata": {},
   "outputs": [
    {
     "name": "stdout",
     "output_type": "stream",
     "text": [
      "-3\n"
     ]
    }
   ],
   "source": [
    "x = 0\n",
    "for i in np.arange(3):\n",
    "    x = x - 1\n",
    "print(x) "
   ]
  },
  {
   "cell_type": "markdown",
   "metadata": {},
   "source": [
    "# 練習問題"
   ]
  },
  {
   "cell_type": "code",
   "execution_count": 28,
   "metadata": {},
   "outputs": [
    {
     "name": "stdout",
     "output_type": "stream",
     "text": [
      "0 回目の音が出ます\n"
     ]
    },
    {
     "ename": "NameError",
     "evalue": "name 'ws' is not defined",
     "output_type": "error",
     "traceback": [
      "\u001b[0;31m---------------------------------------------------------------------------\u001b[0m",
      "\u001b[0;31mNameError\u001b[0m                                 Traceback (most recent call last)",
      "\u001b[0;32m<ipython-input-28-3e71a0d6abe5>\u001b[0m in \u001b[0;36m<module>\u001b[0;34m\u001b[0m\n\u001b[1;32m      3\u001b[0m \u001b[0;32mfor\u001b[0m \u001b[0mkaisuu\u001b[0m \u001b[0;32min\u001b[0m \u001b[0mnp\u001b[0m\u001b[0;34m.\u001b[0m\u001b[0marange\u001b[0m\u001b[0;34m(\u001b[0m\u001b[0;36m5\u001b[0m\u001b[0;34m)\u001b[0m\u001b[0;34m:\u001b[0m \u001b[0;31m# 5回繰り返す\u001b[0m\u001b[0;34m\u001b[0m\u001b[0;34m\u001b[0m\u001b[0m\n\u001b[1;32m      4\u001b[0m     \u001b[0mprint\u001b[0m\u001b[0;34m(\u001b[0m\u001b[0mkaisuu\u001b[0m\u001b[0;34m,\u001b[0m\u001b[0;34m'回目の音が出ます'\u001b[0m\u001b[0;34m)\u001b[0m\u001b[0;34m\u001b[0m\u001b[0;34m\u001b[0m\u001b[0m\n\u001b[0;32m----> 5\u001b[0;31m     \u001b[0mws\u001b[0m\u001b[0;34m.\u001b[0m\u001b[0mBeep\u001b[0m\u001b[0;34m(\u001b[0m\u001b[0;36m500\u001b[0m\u001b[0;34m,\u001b[0m\u001b[0;36m500\u001b[0m\u001b[0;34m)\u001b[0m \u001b[0;31m# 音を鳴らす命令\u001b[0m\u001b[0;34m\u001b[0m\u001b[0;34m\u001b[0m\u001b[0m\n\u001b[0m",
      "\u001b[0;31mNameError\u001b[0m: name 'ws' is not defined"
     ]
    }
   ],
   "source": [
    "####### Windowsの場合\n",
    "import numpy as np\n",
    "#0, 1, 2, 3, 4の数値をkaisuuに代入\n",
    "for kaisuu in np.arange(5): # 5回繰り返す\n",
    "    print(kaisuu,'回目の音が出ます')\n",
    "    ws.Beep(500,500) # 音を鳴らす命令\n",
    "\n",
    "####### mac os の場合\n",
    "#for kaisuu in np.arange(5):\n",
    "#    print(kaisuu,'回目の音が出ます')\n",
    "#    PyBeep().beep() # 音を出す命令"
   ]
  },
  {
   "cell_type": "code",
   "execution_count": 29,
   "metadata": {},
   "outputs": [
    {
     "name": "stdout",
     "output_type": "stream",
     "text": [
      "5 歳のお誕生日おめでとう! ロウソクは 5 本ね\n",
      "6 歳のお誕生日おめでとう! ロウソクは 6 本ね\n",
      "7 歳のお誕生日おめでとう! ロウソクは 7 本ね\n",
      "8 歳のお誕生日おめでとう! ロウソクは 8 本ね\n",
      "9 歳のお誕生日おめでとう! ロウソクは 9 本ね\n",
      "10 歳のお誕生日おめでとう! ロウソクは 10 本ね\n",
      "5 歳から 10 歳までの誕生日会はおしまいです。\n"
     ]
    }
   ],
   "source": [
    "for age in np.arange(5, 11): \n",
    "    print(age,'歳のお誕生日おめでとう!','ロウソクは', age ,'本ね')    \n",
    "print('5 歳から', age ,'歳までの誕生日会はおしまいです。')"
   ]
  },
  {
   "cell_type": "code",
   "execution_count": 30,
   "metadata": {},
   "outputs": [
    {
     "name": "stdout",
     "output_type": "stream",
     "text": [
      "12502500\n"
     ]
    }
   ],
   "source": [
    "sum_data = 0 # 合計を代入する入れ物\n",
    "for i in np.arange(1,5001):  \n",
    "    sum_data = sum_data + i \n",
    "print(sum_data) "
   ]
  },
  {
   "cell_type": "code",
   "execution_count": null,
   "metadata": {},
   "outputs": [],
   "source": []
  },
  {
   "cell_type": "code",
   "execution_count": null,
   "metadata": {},
   "outputs": [],
   "source": []
  },
  {
   "cell_type": "code",
   "execution_count": null,
   "metadata": {},
   "outputs": [],
   "source": []
  },
  {
   "cell_type": "code",
   "execution_count": null,
   "metadata": {},
   "outputs": [],
   "source": []
  },
  {
   "cell_type": "code",
   "execution_count": null,
   "metadata": {},
   "outputs": [],
   "source": []
  },
  {
   "cell_type": "code",
   "execution_count": null,
   "metadata": {},
   "outputs": [],
   "source": []
  },
  {
   "cell_type": "code",
   "execution_count": null,
   "metadata": {},
   "outputs": [],
   "source": []
  },
  {
   "cell_type": "code",
   "execution_count": null,
   "metadata": {},
   "outputs": [],
   "source": []
  },
  {
   "cell_type": "code",
   "execution_count": null,
   "metadata": {},
   "outputs": [],
   "source": []
  },
  {
   "cell_type": "code",
   "execution_count": null,
   "metadata": {},
   "outputs": [],
   "source": []
  },
  {
   "cell_type": "code",
   "execution_count": null,
   "metadata": {},
   "outputs": [],
   "source": []
  }
 ],
 "metadata": {
  "kernelspec": {
   "display_name": "Python 3",
   "language": "python",
   "name": "python3"
  },
  "language_info": {
   "codemirror_mode": {
    "name": "ipython",
    "version": 3
   },
   "file_extension": ".py",
   "mimetype": "text/x-python",
   "name": "python",
   "nbconvert_exporter": "python",
   "pygments_lexer": "ipython3",
   "version": "3.7.6"
  }
 },
 "nbformat": 4,
 "nbformat_minor": 4
}
