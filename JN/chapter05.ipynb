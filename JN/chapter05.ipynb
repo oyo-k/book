{
 "cells": [
  {
   "cell_type": "code",
   "execution_count": 1,
   "metadata": {},
   "outputs": [
    {
     "name": "stdout",
     "output_type": "stream",
     "text": [
      "2\n",
      "5\n",
      "4.0\n"
     ]
    }
   ],
   "source": [
    "print(1 + 1)       # 加算\n",
    "print(2 * 3 - 1)   # 乗算(掛け算)と減算\n",
    "print(2 * (6 / 3)) # 乗算と除算\n"
   ]
  },
  {
   "cell_type": "code",
   "execution_count": 2,
   "metadata": {},
   "outputs": [
    {
     "name": "stdout",
     "output_type": "stream",
     "text": [
      "あなたの資産は 1 万です。\n",
      "あなたの資産は 2 万に増えました。\n",
      "あなたの資産は 1 万に減りました。\n",
      "あなたの資産は10倍の 10 万に増えました。\n",
      "あなたの資産は半分の 5.0 万に減りました。\n"
     ]
    }
   ],
   "source": [
    "sisan = 1 # 変数に1を代入\n",
    "print('あなたの資産は',sisan,'万です。')\n",
    "sisan = sisan + 1 # 変数の中身1に1を加算\n",
    "print('あなたの資産は',sisan,'万に増えました。')\n",
    "sisan = sisan - 1 # 変数の中身2から1を引く\n",
    "print('あなたの資産は',sisan,'万に減りました。')\n",
    "sisan = sisan * 10 # 変数の中身1に10かける\n",
    "print('あなたの資産は10倍の',sisan,'万に増えました。')\n",
    "sisan = sisan / 2 # 変数の中身10を2で割る\n",
    "print('あなたの資産は半分の',sisan,'万に減りました。')"
   ]
  },
  {
   "cell_type": "code",
   "execution_count": 3,
   "metadata": {},
   "outputs": [
    {
     "name": "stdout",
     "output_type": "stream",
     "text": [
      "2の2乗は 4 です\n",
      "あまりは 0 です\n"
     ]
    }
   ],
   "source": [
    "a = b = 2 # マルチターゲット代入\n",
    "data = a ** b # 2の2乗\n",
    "print('2の2乗は',data,'です')\n",
    "data = data % a # 4を2で割ったあまり\n",
    "print('あまりは',data,'です')"
   ]
  },
  {
   "cell_type": "code",
   "execution_count": 4,
   "metadata": {},
   "outputs": [
    {
     "name": "stdout",
     "output_type": "stream",
     "text": [
      "赤 青\n"
     ]
    }
   ],
   "source": [
    "red = '赤'  # 変数redに文字列'赤'を代入\n",
    "blue = '青' # 変数blueに文字列'青'を代入\n",
    "print(red + ' ' + blue) # 文字列の足し算"
   ]
  },
  {
   "cell_type": "code",
   "execution_count": 5,
   "metadata": {},
   "outputs": [
    {
     "name": "stdout",
     "output_type": "stream",
     "text": [
      "こんにちはこんにちはこんにちは\n"
     ]
    }
   ],
   "source": [
    "print('こんにちは' * 3) "
   ]
  },
  {
   "cell_type": "code",
   "execution_count": 6,
   "metadata": {},
   "outputs": [
    {
     "name": "stdout",
     "output_type": "stream",
     "text": [
      "こんにちはこんにちはこんにちはこんにちはこんにちはこんにちはこんにちはこんにちはこんにちはこんにちは\n"
     ]
    }
   ],
   "source": [
    "print('こんにちは' * 10) "
   ]
  },
  {
   "cell_type": "code",
   "execution_count": 7,
   "metadata": {},
   "outputs": [
    {
     "name": "stdout",
     "output_type": "stream",
     "text": [
      "110.00000000000001\n"
     ]
    }
   ],
   "source": [
    "ct = 1.10 # 消費税 (浮動小数点)\n",
    "price = 100 # 100円 (整数)\n",
    "goukei = price * ct # 100円 * 1.10の消費税\n",
    "print(goukei) # goukeiは浮動小数点"
   ]
  },
  {
   "cell_type": "code",
   "execution_count": 8,
   "metadata": {},
   "outputs": [
    {
     "name": "stdout",
     "output_type": "stream",
     "text": [
      "現在の合計金額は 0 円です。\n",
      "現在の合計金額は 100 円です。\n",
      "現在の合計金額は 250 円です。\n",
      "レジ通過後の合計金額は 450 円です。\n"
     ]
    }
   ],
   "source": [
    "y = 0 # 初期化: 何も購入していないときの合計金額\n",
    "print('現在の合計金額は', y , '円です。')\n",
    "y = y + 100 # 商品Aがレジ打ちされたときの合計金額の計算\n",
    "print('現在の合計金額は', y , '円です。')\n",
    "y = y + 150 # 商品Bがレジ打ちされたときの合計金額の計算\n",
    "print('現在の合計金額は', y , '円です。')\n",
    "y = y + 200 # 商品Cがレジ打ちされたときの合計金額の計算\n",
    "print('レジ通過後の合計金額は', y , '円です。')"
   ]
  },
  {
   "cell_type": "code",
   "execution_count": 9,
   "metadata": {},
   "outputs": [
    {
     "ename": "TypeError",
     "evalue": "unsupported operand type(s) for +: 'int' and 'str'",
     "output_type": "error",
     "traceback": [
      "\u001b[0;31m---------------------------------------------------------------------------\u001b[0m",
      "\u001b[0;31mTypeError\u001b[0m                                 Traceback (most recent call last)",
      "\u001b[0;32m<ipython-input-9-7e36faa1ef2d>\u001b[0m in \u001b[0;36m<module>\u001b[0;34m\u001b[0m\n\u001b[1;32m      1\u001b[0m \u001b[0mtest1\u001b[0m \u001b[0;34m=\u001b[0m \u001b[0;36m10\u001b[0m \u001b[0;31m# 整数型\u001b[0m\u001b[0;34m\u001b[0m\u001b[0;34m\u001b[0m\u001b[0m\n\u001b[1;32m      2\u001b[0m \u001b[0mtest2\u001b[0m \u001b[0;34m=\u001b[0m \u001b[0;34m'10'\u001b[0m \u001b[0;31m# 文字列型\u001b[0m\u001b[0;34m\u001b[0m\u001b[0;34m\u001b[0m\u001b[0m\n\u001b[0;32m----> 3\u001b[0;31m \u001b[0mtest1\u001b[0m \u001b[0;34m+\u001b[0m \u001b[0mtest2\u001b[0m \u001b[0;31m# ここでエラー\u001b[0m\u001b[0;34m\u001b[0m\u001b[0;34m\u001b[0m\u001b[0m\n\u001b[0m",
      "\u001b[0;31mTypeError\u001b[0m: unsupported operand type(s) for +: 'int' and 'str'"
     ]
    }
   ],
   "source": [
    "### エラーが出るのが正解\n",
    "test1 = 10 # 整数型\n",
    "test2 = '10' # 文字列型\n",
    "test1 + test2 # ここでエラー"
   ]
  },
  {
   "cell_type": "code",
   "execution_count": 10,
   "metadata": {},
   "outputs": [
    {
     "name": "stdout",
     "output_type": "stream",
     "text": [
      "入れ替え前; x: 10 y: 15\n",
      "入れ替え後; x: 15 y: 10\n"
     ]
    }
   ],
   "source": [
    "x = 10 # オブジェクト10の名前はx\n",
    "y = 15 # オブジェクト15の名前はy\n",
    "print('入れ替え前; x:',x,'y:',y) # 10 15 を出力\n",
    "tmp = x # オブジェクト10はxとtmpの二つの名前\n",
    "x = y   # オブジェクト15はxとyの二つの名前\n",
    "y = tmp # オブジェクト10はyとtmpの二つの名前\n",
    "print('入れ替え後; x:',x,'y:',y) # 15 10を出力"
   ]
  },
  {
   "cell_type": "code",
   "execution_count": 11,
   "metadata": {},
   "outputs": [
    {
     "name": "stdout",
     "output_type": "stream",
     "text": [
      "0 1 2\n"
     ]
    }
   ],
   "source": [
    "x = 0\n",
    "y = 1\n",
    "z = 2\n",
    "print(x,y,z)"
   ]
  },
  {
   "cell_type": "code",
   "execution_count": 12,
   "metadata": {},
   "outputs": [
    {
     "name": "stdout",
     "output_type": "stream",
     "text": [
      "0 1 2\n"
     ]
    }
   ],
   "source": [
    "x, y, z = 0, 1, 2\n",
    "print(x,y,z)"
   ]
  }
 ],
 "metadata": {
  "kernelspec": {
   "display_name": "Python 3",
   "language": "python",
   "name": "python3"
  },
  "language_info": {
   "codemirror_mode": {
    "name": "ipython",
    "version": 3
   },
   "file_extension": ".py",
   "mimetype": "text/x-python",
   "name": "python",
   "nbconvert_exporter": "python",
   "pygments_lexer": "ipython3",
   "version": "3.7.6"
  }
 },
 "nbformat": 4,
 "nbformat_minor": 4
}
