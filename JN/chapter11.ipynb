{
 "cells": [
  {
   "cell_type": "code",
   "execution_count": 1,
   "metadata": {},
   "outputs": [
    {
     "name": "stdout",
     "output_type": "stream",
     "text": [
      "A\n"
     ]
    }
   ],
   "source": [
    "# (流れ1に該当)プログラムの開始\n",
    "word = 'a'      # (流れ2に該当)文字列 a を代入\n",
    "if word == 'A': # (流れ3に該当)'a' と 'A' は等しいか？\n",
    "    print('a')  # ここは実行されない\n",
    "elif word == 'a': # (流れ4に該当)'a' と 'a' は等しいか？\n",
    "    print('A')  # (流れ5に該当)条件に一致したため実行\n",
    "else: # それ以外。ここも実行されない\n",
    "    print('エラー') # ここも実行されない\n",
    "# (流れ6に該当)プログラムの終了。\n"
   ]
  },
  {
   "cell_type": "code",
   "execution_count": 2,
   "metadata": {},
   "outputs": [
    {
     "name": "stdout",
     "output_type": "stream",
     "text": [
      "合格\n"
     ]
    }
   ],
   "source": [
    "grade = 65 # ある学生の点数が 65 点であると仮定\n",
    "if grade >= 60: # grade の中身が 60 以上かどうか \n",
    "    print('合格') # 60 以上なので合格と出力\n"
   ]
  },
  {
   "cell_type": "code",
   "execution_count": 3,
   "metadata": {},
   "outputs": [
    {
     "name": "stdout",
     "output_type": "stream",
     "text": [
      "True\n"
     ]
    }
   ],
   "source": [
    "a = b = 10\n",
    "print(a == b)"
   ]
  },
  {
   "cell_type": "code",
   "execution_count": 4,
   "metadata": {},
   "outputs": [
    {
     "name": "stdout",
     "output_type": "stream",
     "text": [
      "False\n"
     ]
    }
   ],
   "source": [
    "a = b = 10\n",
    "print(a != b)"
   ]
  },
  {
   "cell_type": "code",
   "execution_count": 6,
   "metadata": {},
   "outputs": [
    {
     "name": "stdout",
     "output_type": "stream",
     "text": [
      "False\n"
     ]
    }
   ],
   "source": [
    "a, b = 10, '10'\n",
    "print(a == b)"
   ]
  },
  {
   "cell_type": "code",
   "execution_count": 7,
   "metadata": {},
   "outputs": [
    {
     "name": "stdout",
     "output_type": "stream",
     "text": [
      "合格\n"
     ]
    }
   ],
   "source": [
    "grade = 65 # ある学生Aの成績\n",
    "if grade >= 60: # 成績が 60 以上か？\n",
    "    print('合格') # 60点以上のときは実行\n",
    "else: # それ以外の時\n",
    "    print('不合格') # それ以外のときは実行"
   ]
  },
  {
   "cell_type": "code",
   "execution_count": 8,
   "metadata": {},
   "outputs": [
    {
     "name": "stdout",
     "output_type": "stream",
     "text": [
      "合格\n"
     ]
    }
   ],
   "source": [
    "grade = 65 \n",
    "if grade >= 60: \n",
    "    print('合格')\n",
    "elif grade < 60: # 点数が60点未満か?\n",
    "    print('不合格') # 点数が60点未満のときに実行"
   ]
  },
  {
   "cell_type": "code",
   "execution_count": 9,
   "metadata": {},
   "outputs": [
    {
     "name": "stdout",
     "output_type": "stream",
     "text": [
      "B\n"
     ]
    }
   ],
   "source": [
    "grade = 75 \n",
    "if grade >= 90: #ある学生の点数が 90 以上か？\n",
    "    print('S')\n",
    "elif grade >= 80: #ある学生の点数が 90 未満かつ 80 以上か？\n",
    "    print('A')\n",
    "elif grade >= 70: #ある学生の点数が 80 未満かつ 70 以上か？\n",
    "    print('B')\n",
    "elif grade >= 60: #ある学生の点数が 70 未満かつ 60 以上か？\n",
    "    print('C')\n",
    "else:  #それ以外の場合(つまり60点未満)\n",
    "    print('D')"
   ]
  },
  {
   "cell_type": "code",
   "execution_count": 10,
   "metadata": {},
   "outputs": [
    {
     "name": "stdout",
     "output_type": "stream",
     "text": [
      "True\n",
      "False\n"
     ]
    }
   ],
   "source": [
    "tmp = 10\n",
    "print(tmp <= 10 and tmp >= 5)\n",
    "tmp = 11\n",
    "print(tmp <= 10 and tmp >= 5)"
   ]
  },
  {
   "cell_type": "code",
   "execution_count": 11,
   "metadata": {},
   "outputs": [
    {
     "name": "stdout",
     "output_type": "stream",
     "text": [
      "True\n",
      "True\n",
      "True\n"
     ]
    }
   ],
   "source": [
    "tmp = 10\n",
    "print(tmp <= 10 or tmp >= 5)\n",
    "tmp = 11\n",
    "print(tmp <= 10 or tmp >= 5)\n",
    "tmp = 4\n",
    "print(tmp <= 10 or tmp >= 5)"
   ]
  },
  {
   "cell_type": "code",
   "execution_count": 12,
   "metadata": {},
   "outputs": [
    {
     "data": {
      "text/html": [
       "<div>\n",
       "<style scoped>\n",
       "    .dataframe tbody tr th:only-of-type {\n",
       "        vertical-align: middle;\n",
       "    }\n",
       "\n",
       "    .dataframe tbody tr th {\n",
       "        vertical-align: top;\n",
       "    }\n",
       "\n",
       "    .dataframe thead th {\n",
       "        text-align: right;\n",
       "    }\n",
       "</style>\n",
       "<table border=\"1\" class=\"dataframe\">\n",
       "  <thead>\n",
       "    <tr style=\"text-align: right;\">\n",
       "      <th></th>\n",
       "      <th>都道府県</th>\n",
       "      <th>市区町村名</th>\n",
       "      <th>町域名</th>\n",
       "    </tr>\n",
       "    <tr>\n",
       "      <th>郵便番号</th>\n",
       "      <th></th>\n",
       "      <th></th>\n",
       "      <th></th>\n",
       "    </tr>\n",
       "  </thead>\n",
       "  <tbody>\n",
       "    <tr>\n",
       "      <th>600000</th>\n",
       "      <td>北海道</td>\n",
       "      <td>札幌市中央区</td>\n",
       "      <td>以下に掲載がない場合</td>\n",
       "    </tr>\n",
       "    <tr>\n",
       "      <th>640941</th>\n",
       "      <td>北海道</td>\n",
       "      <td>札幌市中央区</td>\n",
       "      <td>旭ケ丘</td>\n",
       "    </tr>\n",
       "    <tr>\n",
       "      <th>600041</th>\n",
       "      <td>北海道</td>\n",
       "      <td>札幌市中央区</td>\n",
       "      <td>大通東</td>\n",
       "    </tr>\n",
       "    <tr>\n",
       "      <th>600042</th>\n",
       "      <td>北海道</td>\n",
       "      <td>札幌市中央区</td>\n",
       "      <td>大通西（１〜１９丁目）</td>\n",
       "    </tr>\n",
       "    <tr>\n",
       "      <th>640820</th>\n",
       "      <td>北海道</td>\n",
       "      <td>札幌市中央区</td>\n",
       "      <td>大通西（２０〜２８丁目）</td>\n",
       "    </tr>\n",
       "    <tr>\n",
       "      <th>...</th>\n",
       "      <td>...</td>\n",
       "      <td>...</td>\n",
       "      <td>...</td>\n",
       "    </tr>\n",
       "    <tr>\n",
       "      <th>9071433</th>\n",
       "      <td>沖縄県</td>\n",
       "      <td>八重山郡竹富町</td>\n",
       "      <td>南風見仲</td>\n",
       "    </tr>\n",
       "    <tr>\n",
       "      <th>9071751</th>\n",
       "      <td>沖縄県</td>\n",
       "      <td>八重山郡竹富町</td>\n",
       "      <td>波照間</td>\n",
       "    </tr>\n",
       "    <tr>\n",
       "      <th>9071544</th>\n",
       "      <td>沖縄県</td>\n",
       "      <td>八重山郡竹富町</td>\n",
       "      <td>鳩間</td>\n",
       "    </tr>\n",
       "    <tr>\n",
       "      <th>9071800</th>\n",
       "      <td>沖縄県</td>\n",
       "      <td>八重山郡与那国町</td>\n",
       "      <td>以下に掲載がない場合</td>\n",
       "    </tr>\n",
       "    <tr>\n",
       "      <th>9071801</th>\n",
       "      <td>沖縄県</td>\n",
       "      <td>八重山郡与那国町</td>\n",
       "      <td>与那国</td>\n",
       "    </tr>\n",
       "  </tbody>\n",
       "</table>\n",
       "<p>124331 rows × 3 columns</p>\n",
       "</div>"
      ],
      "text/plain": [
       "        都道府県     市区町村名           町域名\n",
       "郵便番号                                \n",
       "600000   北海道    札幌市中央区    以下に掲載がない場合\n",
       "640941   北海道    札幌市中央区           旭ケ丘\n",
       "600041   北海道    札幌市中央区           大通東\n",
       "600042   北海道    札幌市中央区   大通西（１〜１９丁目）\n",
       "640820   北海道    札幌市中央区  大通西（２０〜２８丁目）\n",
       "...      ...       ...           ...\n",
       "9071433  沖縄県   八重山郡竹富町          南風見仲\n",
       "9071751  沖縄県   八重山郡竹富町           波照間\n",
       "9071544  沖縄県   八重山郡竹富町            鳩間\n",
       "9071800  沖縄県  八重山郡与那国町    以下に掲載がない場合\n",
       "9071801  沖縄県  八重山郡与那国町           与那国\n",
       "\n",
       "[124331 rows x 3 columns]"
      ]
     },
     "metadata": {},
     "output_type": "display_data"
    }
   ],
   "source": [
    "import pandas as pd\n",
    "data = pd.read_csv(\n",
    "    'data//ken_data.csv', # 郵便番号のデータのファイルパス\n",
    "    encoding='shift_jis', index_col='郵便番号')\n",
    "display(data) #全国124,331件の住所"
   ]
  },
  {
   "cell_type": "code",
   "execution_count": 13,
   "metadata": {},
   "outputs": [
    {
     "name": "stdout",
     "output_type": "stream",
     "text": [
      "7桁郵便番号(-は不要)を入力してください:6691337\n",
      "あなたの入力した郵便番号： 6691337 です。\n",
      "        都道府県 市区町村名 町域名\n",
      "郵便番号                  \n",
      "6691337  兵庫県   三田市  学園\n"
     ]
    }
   ],
   "source": [
    "number = input('7桁郵便番号(-は不要)を入力してください:')\n",
    "print('あなたの入力した郵便番号：',number, 'です。')\n",
    "data_sub = data.loc[data.index.values == int(number),:]\n",
    "print(data_sub) # 6691337の例"
   ]
  },
  {
   "cell_type": "code",
   "execution_count": 14,
   "metadata": {},
   "outputs": [
    {
     "name": "stdout",
     "output_type": "stream",
     "text": [
      "7桁郵便番号(-は不要)を入力してください:6691337\n",
      "あなたの入力した郵便番号 6691337 以上の住所は次のとおりです。\n",
      "        都道府県     市区町村名         町域名\n",
      "郵便番号                              \n",
      "9800000  宮城県    仙台市青葉区  以下に掲載がない場合\n",
      "9810916  宮城県    仙台市青葉区         青葉町\n",
      "9800856  宮城県    仙台市青葉区         青葉山\n",
      "9893211  宮城県    仙台市青葉区          赤坂\n",
      "9810963  宮城県    仙台市青葉区       あけぼの町\n",
      "...      ...       ...         ...\n",
      "9071433  沖縄県   八重山郡竹富町        南風見仲\n",
      "9071751  沖縄県   八重山郡竹富町         波照間\n",
      "9071544  沖縄県   八重山郡竹富町          鳩間\n",
      "9071800  沖縄県  八重山郡与那国町  以下に掲載がない場合\n",
      "9071801  沖縄県  八重山郡与那国町         与那国\n",
      "\n",
      "[52982 rows x 3 columns]\n"
     ]
    }
   ],
   "source": [
    "number = input('7桁郵便番号(-は不要)を入力してください:')\n",
    "print('あなたの入力した郵便番号',number, '以上の住所は次のとおりです。')\n",
    "data_sub = data.loc[data.index.values >= int(number),:]\n",
    "print(data_sub) # 6691337"
   ]
  },
  {
   "cell_type": "code",
   "execution_count": 15,
   "metadata": {},
   "outputs": [],
   "source": [
    "from tkinter import Tk\n",
    "import tkinter.simpledialog as sg\n",
    "import tkinter.messagebox as mx\n",
    "root = Tk() #  描画を制御するオマジナイ\n",
    "root.withdraw() # 余計なウィンドを出さないためのオマジナイ\n",
    "# 入力画面を描画\n",
    "name = sg.askstring('ELIZA:', 'あなたの名前を入力してください')\n",
    "data = sg.askstring('ELIZA:', '現在の時刻に合わせた挨拶を入力')\n",
    "# 入力内容を使いメッセージを出力\n",
    "mx.showinfo('ELIZA:',(data, name,'さん。'))\n",
    "#  入力内容ごとにメッセージを出力\n",
    "if data == 'おはよう':\n",
    "    mx.showinfo('ELIZA:',(name,'さん。','朝食は食べましたか?'))\n",
    "elif data == 'こんにちは':\n",
    "    mx.showinfo('ELIZA:',(name,'さん。','お昼に行きましょう'))\n",
    "elif data == 'こんばんは':\n",
    "    mx.showinfo('ELIZA:',(name,'さん。','今日もお疲れ様でした。'))\n",
    "else:\n",
    "    mx.showinfo('ELIZA:',(name,'さん。','何か言いましたか？'))\n",
    "    \n",
    "root.destroy() # 描画命令を終了\n"
   ]
  },
  {
   "cell_type": "markdown",
   "metadata": {},
   "source": [
    "# 練習問題の解答例"
   ]
  },
  {
   "cell_type": "code",
   "execution_count": 16,
   "metadata": {},
   "outputs": [
    {
     "name": "stdout",
     "output_type": "stream",
     "text": [
      "合格\n"
     ]
    }
   ],
   "source": [
    "# 11-1\n",
    "grade = 90 \n",
    "if grade >= 80:  \n",
    "    print('合格') "
   ]
  },
  {
   "cell_type": "code",
   "execution_count": 17,
   "metadata": {},
   "outputs": [
    {
     "name": "stdout",
     "output_type": "stream",
     "text": [
      "不合格\n",
      "あなたは再試験を受けられます。\n"
     ]
    }
   ],
   "source": [
    "# 11-2\n",
    "grade = 40 \n",
    "if grade < 60:  \n",
    "    print('不合格') \n",
    "    print('あなたは再試験を受けられます。')"
   ]
  },
  {
   "cell_type": "code",
   "execution_count": 18,
   "metadata": {},
   "outputs": [
    {
     "name": "stdout",
     "output_type": "stream",
     "text": [
      "不合格\n"
     ]
    }
   ],
   "source": [
    "# 11-3\n",
    "grade = 40 \n",
    "if grade >= 60: \n",
    "    print('合格') \n",
    "else:\n",
    "    print('不合格')"
   ]
  },
  {
   "cell_type": "code",
   "execution_count": 20,
   "metadata": {},
   "outputs": [
    {
     "name": "stdout",
     "output_type": "stream",
     "text": [
      "不合格\n"
     ]
    }
   ],
   "source": [
    "# 11-4\n",
    "grade = 90 \n",
    "if grade <= 60: \n",
    "    print('合格') \n",
    "else:\n",
    "    print('不合格')"
   ]
  },
  {
   "cell_type": "code",
   "execution_count": 19,
   "metadata": {},
   "outputs": [
    {
     "name": "stdout",
     "output_type": "stream",
     "text": [
      "不合格\n"
     ]
    }
   ],
   "source": [
    "# 11-5\n",
    "grade = 40\n",
    "if grade >= 60: \n",
    "    print('合格')\n",
    "elif grade < 60: \n",
    "    print('不合格')"
   ]
  },
  {
   "cell_type": "code",
   "execution_count": 21,
   "metadata": {},
   "outputs": [],
   "source": [
    "# 11-6\n",
    "grade = -1\n",
    "if grade >= 60: \n",
    "    print('合格')\n",
    "elif grade >= 0: \n",
    "    print('不合格')"
   ]
  },
  {
   "cell_type": "code",
   "execution_count": 23,
   "metadata": {},
   "outputs": [
    {
     "name": "stdout",
     "output_type": "stream",
     "text": [
      "S\n"
     ]
    }
   ],
   "source": [
    "# 11-7\n",
    "grade = 95 # grade=95、grade=85、grade=65、grade=20\n",
    "if grade >= 90: #ある学生の点数が 90 以上か？\n",
    "    print('S')\n",
    "elif grade >= 80: #ある学生の点数が 90 未満かつ 80 以上か？\n",
    "    print('A')\n",
    "elif grade >= 70: #ある学生の点数が 80 未満かつ 70 以上か？\n",
    "    print('B')\n",
    "elif grade >= 60: #ある学生の点数が 70 未満かつ 60 以上か？\n",
    "    print('C')\n",
    "else:  #それ以外の場合(つまり60点未満)\n",
    "    print('D')"
   ]
  },
  {
   "cell_type": "code",
   "execution_count": 24,
   "metadata": {},
   "outputs": [
    {
     "name": "stdout",
     "output_type": "stream",
     "text": [
      "True\n"
     ]
    }
   ],
   "source": [
    "a = b = c = 10\n",
    "if a == b and a == c and b == c:\n",
    "    print(True)\n",
    "else:\n",
    "    print(False)"
   ]
  },
  {
   "cell_type": "code",
   "execution_count": 25,
   "metadata": {},
   "outputs": [
    {
     "name": "stdout",
     "output_type": "stream",
     "text": [
      "True\n"
     ]
    }
   ],
   "source": [
    "a = b = c = 10\n",
    "if a == b == c:\n",
    "    print(True)\n",
    "else:\n",
    "    print(False)"
   ]
  },
  {
   "cell_type": "code",
   "execution_count": 28,
   "metadata": {},
   "outputs": [
    {
     "name": "stdout",
     "output_type": "stream",
     "text": [
      "10\n"
     ]
    }
   ],
   "source": [
    "x,y = 10, 5\n",
    "if x > y :\n",
    "    tmp = x\n",
    "else:\n",
    "    tmp = y\n",
    "print(tmp)\n",
    "\n",
    "\n",
    "\n",
    "\n",
    "\n",
    "\n",
    "\n"
   ]
  },
  {
   "cell_type": "code",
   "execution_count": 29,
   "metadata": {},
   "outputs": [
    {
     "name": "stdout",
     "output_type": "stream",
     "text": [
      "10\n"
     ]
    }
   ],
   "source": [
    "x,y = 10, 5\n",
    "tmp = x if x>y else y\n",
    "print(tmp)"
   ]
  },
  {
   "cell_type": "code",
   "execution_count": 31,
   "metadata": {},
   "outputs": [
    {
     "name": "stdout",
     "output_type": "stream",
     "text": [
      "10\n"
     ]
    }
   ],
   "source": [
    "x,y = 10, 5\n",
    "tmp = x>y and x or y\n",
    "print(tmp)"
   ]
  },
  {
   "cell_type": "code",
   "execution_count": 30,
   "metadata": {},
   "outputs": [
    {
     "name": "stdout",
     "output_type": "stream",
     "text": [
      "10\n"
     ]
    }
   ],
   "source": [
    "x,y = 10, 5\n",
    "tmp = [y,x][x>y]\n",
    "print(tmp)\n",
    "\n",
    "\n"
   ]
  }
 ],
 "metadata": {
  "kernelspec": {
   "display_name": "Python 3",
   "language": "python",
   "name": "python3"
  },
  "language_info": {
   "codemirror_mode": {
    "name": "ipython",
    "version": 3
   },
   "file_extension": ".py",
   "mimetype": "text/x-python",
   "name": "python",
   "nbconvert_exporter": "python",
   "pygments_lexer": "ipython3",
   "version": "3.7.6"
  }
 },
 "nbformat": 4,
 "nbformat_minor": 4
}
