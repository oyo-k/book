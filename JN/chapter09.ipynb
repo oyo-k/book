{
 "cells": [
  {
   "cell_type": "code",
   "execution_count": 1,
   "metadata": {},
   "outputs": [
    {
     "data": {
      "text/html": [
       "<div>\n",
       "<style scoped>\n",
       "    .dataframe tbody tr th:only-of-type {\n",
       "        vertical-align: middle;\n",
       "    }\n",
       "\n",
       "    .dataframe tbody tr th {\n",
       "        vertical-align: top;\n",
       "    }\n",
       "\n",
       "    .dataframe thead th {\n",
       "        text-align: right;\n",
       "    }\n",
       "</style>\n",
       "<table border=\"1\" class=\"dataframe\">\n",
       "  <thead>\n",
       "    <tr style=\"text-align: right;\">\n",
       "      <th></th>\n",
       "      <th>名前</th>\n",
       "      <th>国語</th>\n",
       "      <th>数学</th>\n",
       "      <th>英語</th>\n",
       "    </tr>\n",
       "    <tr>\n",
       "      <th>ID</th>\n",
       "      <th></th>\n",
       "      <th></th>\n",
       "      <th></th>\n",
       "      <th></th>\n",
       "    </tr>\n",
       "  </thead>\n",
       "  <tbody>\n",
       "    <tr>\n",
       "      <th>s01</th>\n",
       "      <td>斎藤</td>\n",
       "      <td>88</td>\n",
       "      <td>18</td>\n",
       "      <td>59</td>\n",
       "    </tr>\n",
       "    <tr>\n",
       "      <th>s02</th>\n",
       "      <td>鈴木</td>\n",
       "      <td>48</td>\n",
       "      <td>81</td>\n",
       "      <td>2</td>\n",
       "    </tr>\n",
       "    <tr>\n",
       "      <th>s03</th>\n",
       "      <td>高橋</td>\n",
       "      <td>91</td>\n",
       "      <td>39</td>\n",
       "      <td>30</td>\n",
       "    </tr>\n",
       "  </tbody>\n",
       "</table>\n",
       "</div>"
      ],
      "text/plain": [
       "     名前  国語  数学  英語\n",
       "ID                 \n",
       "s01  斎藤  88  18  59\n",
       "s02  鈴木  48  81   2\n",
       "s03  高橋  91  39  30"
      ]
     },
     "metadata": {},
     "output_type": "display_data"
    }
   ],
   "source": [
    "import pandas as pd\n",
    "df = pd.DataFrame(\n",
    "    {'名前': ['斎藤','鈴木','高橋'],\n",
    "    '国語': [88, 48, 91],\n",
    "    '数学': [18, 81, 39],\n",
    "    '英語': [59,  2, 30]},\n",
    "    index=['s01','s02','s03'])\n",
    "df.index.name = 'ID'\n",
    "display(df)"
   ]
  },
  {
   "cell_type": "code",
   "execution_count": 2,
   "metadata": {},
   "outputs": [
    {
     "data": {
      "text/plain": [
       "Index(['s01', 's02', 's03'], dtype='object', name='ID')"
      ]
     },
     "execution_count": 2,
     "metadata": {},
     "output_type": "execute_result"
    }
   ],
   "source": [
    "df.index"
   ]
  },
  {
   "cell_type": "code",
   "execution_count": 3,
   "metadata": {},
   "outputs": [
    {
     "data": {
      "text/plain": [
       "array(['s01', 's02', 's03'], dtype=object)"
      ]
     },
     "execution_count": 3,
     "metadata": {},
     "output_type": "execute_result"
    }
   ],
   "source": [
    "df.index.values"
   ]
  },
  {
   "cell_type": "code",
   "execution_count": 4,
   "metadata": {},
   "outputs": [
    {
     "name": "stdout",
     "output_type": "stream",
     "text": [
      "s01\n"
     ]
    }
   ],
   "source": [
    "print(df.index.values[0])"
   ]
  },
  {
   "cell_type": "code",
   "execution_count": 5,
   "metadata": {},
   "outputs": [
    {
     "data": {
      "text/plain": [
       "Index(['名前', '国語', '数学', '英語'], dtype='object')"
      ]
     },
     "execution_count": 5,
     "metadata": {},
     "output_type": "execute_result"
    }
   ],
   "source": [
    "df.columns"
   ]
  },
  {
   "cell_type": "code",
   "execution_count": 8,
   "metadata": {},
   "outputs": [
    {
     "name": "stdout",
     "output_type": "stream",
     "text": [
      "名前\n"
     ]
    }
   ],
   "source": [
    "print(df.columns.values[0])"
   ]
  },
  {
   "cell_type": "code",
   "execution_count": 7,
   "metadata": {},
   "outputs": [
    {
     "name": "stdout",
     "output_type": "stream",
     "text": [
      "[['斎藤' 88 18 59]\n",
      " ['鈴木' 48 81 2]\n",
      " ['高橋' 91 39 30]]\n"
     ]
    }
   ],
   "source": [
    "print(df.values)"
   ]
  },
  {
   "cell_type": "code",
   "execution_count": 6,
   "metadata": {},
   "outputs": [
    {
     "name": "stdout",
     "output_type": "stream",
     "text": [
      "81\n",
      "81\n",
      "81\n",
      "81\n"
     ]
    }
   ],
   "source": [
    "print(df.at['s02','数学'])\n",
    "print(df.iat[1,2])\n",
    "print(df.loc['s02','数学'])\n",
    "print(df.iloc[1,2])"
   ]
  },
  {
   "cell_type": "code",
   "execution_count": 9,
   "metadata": {},
   "outputs": [
    {
     "name": "stdout",
     "output_type": "stream",
     "text": [
      "     名前  国語  数学  英語\n",
      "ID                 \n",
      "s01  斎藤  88  18  59\n",
      "s03  高橋  91  39  30\n",
      "     名前  国語  数学  英語\n",
      "ID                 \n",
      "s01  斎藤  88  18  59\n",
      "s03  高橋  91  39  30\n"
     ]
    }
   ],
   "source": [
    "print(df.loc[['s01','s03'], :])\n",
    "print(df.iloc[[0,2],:])"
   ]
  },
  {
   "cell_type": "code",
   "execution_count": 10,
   "metadata": {},
   "outputs": [
    {
     "name": "stdout",
     "output_type": "stream",
     "text": [
      "     名前  英語\n",
      "ID         \n",
      "s01  斎藤  59\n",
      "s02  鈴木   2\n",
      "s03  高橋  30\n",
      "     名前  数学\n",
      "ID         \n",
      "s01  斎藤  18\n",
      "s02  鈴木  81\n",
      "s03  高橋  39\n"
     ]
    }
   ],
   "source": [
    "print(df.loc[:, ['名前','英語']])\n",
    "print(df.iloc[:, [0,2]])"
   ]
  },
  {
   "cell_type": "code",
   "execution_count": 12,
   "metadata": {},
   "outputs": [
    {
     "name": "stdout",
     "output_type": "stream",
     "text": [
      "     名前  国語\n",
      "ID         \n",
      "s01  斎藤  88\n",
      "s02  鈴木  48\n",
      "s03  高橋  91\n",
      "     名前  国語\n",
      "ID         \n",
      "s01  斎藤  88\n",
      "s02  鈴木  48\n",
      "s03  高橋  91\n"
     ]
    }
   ],
   "source": [
    "print(df.loc[:, '名前':'国語'])\n",
    "print(df.iloc[:, 0:2])"
   ]
  },
  {
   "cell_type": "code",
   "execution_count": 11,
   "metadata": {},
   "outputs": [
    {
     "name": "stdout",
     "output_type": "stream",
     "text": [
      "     名前  国語\n",
      "ID         \n",
      "s01  斎藤  88\n",
      "s02  鈴木  48\n",
      "     名前  国語\n",
      "ID         \n",
      "s01  斎藤  88\n",
      "s02  鈴木  48\n",
      "     名前  国語\n",
      "ID         \n",
      "s01  斎藤  88\n",
      "s02  鈴木  48\n",
      "     名前  国語\n",
      "ID         \n",
      "s01  斎藤  88\n",
      "s02  鈴木  48\n"
     ]
    }
   ],
   "source": [
    "print(df.loc[['s01','s02'], ['名前','国語']])\n",
    "print(df.loc['s01':'s02', '名前':'国語'])\n",
    "print(df.iloc[[0,1], [0,1]])\n",
    "print(df.iloc[0:2, 0:2])"
   ]
  },
  {
   "cell_type": "code",
   "execution_count": 13,
   "metadata": {},
   "outputs": [
    {
     "name": "stdout",
     "output_type": "stream",
     "text": [
      "60\n"
     ]
    }
   ],
   "source": [
    "df.at['s01', '数学'] = 60\n",
    "print(df.at['s01', '数学'])"
   ]
  },
  {
   "cell_type": "code",
   "execution_count": 14,
   "metadata": {},
   "outputs": [
    {
     "name": "stdout",
     "output_type": "stream",
     "text": [
      "     国語  数学  英語\n",
      "ID             \n",
      "s02   0   0   0\n",
      "s03   0   0   0\n"
     ]
    }
   ],
   "source": [
    "df.loc['s02':'s03','国語':'英語'] = 0\n",
    "print(df.loc['s02':'s03','国語':'英語'])\n"
   ]
  },
  {
   "cell_type": "code",
   "execution_count": null,
   "metadata": {},
   "outputs": [],
   "source": []
  }
 ],
 "metadata": {
  "kernelspec": {
   "display_name": "Python 3",
   "language": "python",
   "name": "python3"
  },
  "language_info": {
   "codemirror_mode": {
    "name": "ipython",
    "version": 3
   },
   "file_extension": ".py",
   "mimetype": "text/x-python",
   "name": "python",
   "nbconvert_exporter": "python",
   "pygments_lexer": "ipython3",
   "version": "3.7.6"
  }
 },
 "nbformat": 4,
 "nbformat_minor": 4
}
