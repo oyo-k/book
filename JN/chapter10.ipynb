{
 "cells": [
  {
   "cell_type": "code",
   "execution_count": 1,
   "metadata": {},
   "outputs": [
    {
     "name": "stdout",
     "output_type": "stream",
     "text": [
      "dfa:\n",
      "      A     B\n",
      "i1  100   850\n",
      "i2  200  2750\n",
      "dfb:\n",
      "      A     B\n",
      "i1  100   150\n",
      "i2  800  1250\n",
      "dfa + dfb= \n",
      "       A     B\n",
      "i1   200  1000\n",
      "i2  1000  4000\n"
     ]
    }
   ],
   "source": [
    "import pandas as pd\n",
    "dfa = pd.DataFrame({'A': [100,200],\n",
    "    'B':[850,2750]},\n",
    "    index=['i1','i2'])\n",
    "print('dfa:')\n",
    "print(dfa)\n",
    "dfb = pd.DataFrame({'A': [100,800],\n",
    "    'B':[150,1250]},\n",
    "    index=['i1','i2'])\n",
    "print('dfb:')\n",
    "print(dfb)\n",
    "dfab = dfa + dfb \n",
    "print('dfa + dfb= ') \n",
    "print(dfab)\n"
   ]
  },
  {
   "cell_type": "code",
   "execution_count": 2,
   "metadata": {},
   "outputs": [
    {
     "name": "stdout",
     "output_type": "stream",
     "text": [
      "      A     B\n",
      "i1  200   850\n",
      "i2  200  2750\n",
      "      A     B\n",
      "i1  200  1000\n",
      "i2  200  4000\n",
      "      A     B\n",
      "i1  300  1150\n",
      "i2  200  4000\n"
     ]
    }
   ],
   "source": [
    "dfa.at['i1','A'] = dfa.at['i1','A'] + dfb.at['i1','A']\n",
    "print(dfa) # 100 + 100\n",
    "dfa.loc[:,'B'] = dfa.loc[:,'B'] + dfb.loc[:,'B']\n",
    "print(dfa) # i1は850+150=1000, i2は2750*1250=4000\n",
    "dfa.loc['i1',:] = dfa.loc['i1',:] + dfb.loc['i1',:]\n",
    "print(dfa) # i1, A = 200 + 100, i1, B = 1000+150\n"
   ]
  },
  {
   "cell_type": "code",
   "execution_count": 3,
   "metadata": {},
   "outputs": [
    {
     "name": "stdout",
     "output_type": "stream",
     "text": [
      "dfx:       A     B\n",
      "i1  300  1150\n",
      "i2  200  4000\n"
     ]
    }
   ],
   "source": [
    "dfx = pd.DataFrame(\n",
    "    {'A': [100,200],\n",
    "    'B':[850,2750]},\n",
    "    index=['i1','i2'])\n",
    "print('dfx:',dfa)\n",
    "dfy = pd.DataFrame(\n",
    "    {'A': [100,200,300],\n",
    "    'B':[850,2750,3000]},\n",
    "    index=['i1','i2','i3'])"
   ]
  },
  {
   "cell_type": "code",
   "execution_count": 4,
   "metadata": {},
   "outputs": [
    {
     "name": "stdout",
     "output_type": "stream",
     "text": [
      "        A       B\n",
      "i1  200.0  1700.0\n",
      "i2  400.0  5500.0\n",
      "i3    NaN     NaN\n"
     ]
    }
   ],
   "source": [
    "print(dfx + dfy)"
   ]
  },
  {
   "cell_type": "code",
   "execution_count": 5,
   "metadata": {},
   "outputs": [
    {
     "data": {
      "text/html": [
       "<div>\n",
       "<style scoped>\n",
       "    .dataframe tbody tr th:only-of-type {\n",
       "        vertical-align: middle;\n",
       "    }\n",
       "\n",
       "    .dataframe tbody tr th {\n",
       "        vertical-align: top;\n",
       "    }\n",
       "\n",
       "    .dataframe thead th {\n",
       "        text-align: right;\n",
       "    }\n",
       "</style>\n",
       "<table border=\"1\" class=\"dataframe\">\n",
       "  <thead>\n",
       "    <tr style=\"text-align: right;\">\n",
       "      <th></th>\n",
       "      <th>国語</th>\n",
       "      <th>数学</th>\n",
       "      <th>英語</th>\n",
       "    </tr>\n",
       "    <tr>\n",
       "      <th>ID</th>\n",
       "      <th></th>\n",
       "      <th></th>\n",
       "      <th></th>\n",
       "    </tr>\n",
       "  </thead>\n",
       "  <tbody>\n",
       "    <tr>\n",
       "      <th>20190001</th>\n",
       "      <td>30</td>\n",
       "      <td>91</td>\n",
       "      <td>75</td>\n",
       "    </tr>\n",
       "    <tr>\n",
       "      <th>20190002</th>\n",
       "      <td>70</td>\n",
       "      <td>16</td>\n",
       "      <td>54</td>\n",
       "    </tr>\n",
       "    <tr>\n",
       "      <th>20190003</th>\n",
       "      <td>78</td>\n",
       "      <td>71</td>\n",
       "      <td>30</td>\n",
       "    </tr>\n",
       "    <tr>\n",
       "      <th>20190004</th>\n",
       "      <td>7</td>\n",
       "      <td>91</td>\n",
       "      <td>78</td>\n",
       "    </tr>\n",
       "    <tr>\n",
       "      <th>20190005</th>\n",
       "      <td>0</td>\n",
       "      <td>55</td>\n",
       "      <td>23</td>\n",
       "    </tr>\n",
       "    <tr>\n",
       "      <th>...</th>\n",
       "      <td>...</td>\n",
       "      <td>...</td>\n",
       "      <td>...</td>\n",
       "    </tr>\n",
       "    <tr>\n",
       "      <th>20190596</th>\n",
       "      <td>5</td>\n",
       "      <td>62</td>\n",
       "      <td>98</td>\n",
       "    </tr>\n",
       "    <tr>\n",
       "      <th>20190597</th>\n",
       "      <td>91</td>\n",
       "      <td>70</td>\n",
       "      <td>3</td>\n",
       "    </tr>\n",
       "    <tr>\n",
       "      <th>20190598</th>\n",
       "      <td>8</td>\n",
       "      <td>87</td>\n",
       "      <td>15</td>\n",
       "    </tr>\n",
       "    <tr>\n",
       "      <th>20190599</th>\n",
       "      <td>47</td>\n",
       "      <td>0</td>\n",
       "      <td>30</td>\n",
       "    </tr>\n",
       "    <tr>\n",
       "      <th>20190600</th>\n",
       "      <td>32</td>\n",
       "      <td>75</td>\n",
       "      <td>35</td>\n",
       "    </tr>\n",
       "  </tbody>\n",
       "</table>\n",
       "<p>600 rows × 3 columns</p>\n",
       "</div>"
      ],
      "text/plain": [
       "          国語  数学  英語\n",
       "ID                  \n",
       "20190001  30  91  75\n",
       "20190002  70  16  54\n",
       "20190003  78  71  30\n",
       "20190004   7  91  78\n",
       "20190005   0  55  23\n",
       "...       ..  ..  ..\n",
       "20190596   5  62  98\n",
       "20190597  91  70   3\n",
       "20190598   8  87  15\n",
       "20190599  47   0  30\n",
       "20190600  32  75  35\n",
       "\n",
       "[600 rows x 3 columns]"
      ]
     },
     "metadata": {},
     "output_type": "display_data"
    }
   ],
   "source": [
    "import pandas as pd\n",
    "data_csv = pd.read_csv('data//pdset.csv', index_col='ID')\n",
    "display(data_csv)"
   ]
  },
  {
   "cell_type": "code",
   "execution_count": 7,
   "metadata": {},
   "outputs": [
    {
     "data": {
      "text/html": [
       "<div>\n",
       "<style scoped>\n",
       "    .dataframe tbody tr th:only-of-type {\n",
       "        vertical-align: middle;\n",
       "    }\n",
       "\n",
       "    .dataframe tbody tr th {\n",
       "        vertical-align: top;\n",
       "    }\n",
       "\n",
       "    .dataframe thead th {\n",
       "        text-align: right;\n",
       "    }\n",
       "</style>\n",
       "<table border=\"1\" class=\"dataframe\">\n",
       "  <thead>\n",
       "    <tr style=\"text-align: right;\">\n",
       "      <th></th>\n",
       "      <th>国語</th>\n",
       "      <th>数学</th>\n",
       "      <th>英語</th>\n",
       "    </tr>\n",
       "    <tr>\n",
       "      <th>ID</th>\n",
       "      <th></th>\n",
       "      <th></th>\n",
       "      <th></th>\n",
       "    </tr>\n",
       "  </thead>\n",
       "  <tbody>\n",
       "    <tr>\n",
       "      <th>20190001</th>\n",
       "      <td>30</td>\n",
       "      <td>91</td>\n",
       "      <td>75</td>\n",
       "    </tr>\n",
       "    <tr>\n",
       "      <th>20190002</th>\n",
       "      <td>70</td>\n",
       "      <td>16</td>\n",
       "      <td>54</td>\n",
       "    </tr>\n",
       "    <tr>\n",
       "      <th>20190003</th>\n",
       "      <td>78</td>\n",
       "      <td>71</td>\n",
       "      <td>30</td>\n",
       "    </tr>\n",
       "    <tr>\n",
       "      <th>20190004</th>\n",
       "      <td>7</td>\n",
       "      <td>91</td>\n",
       "      <td>78</td>\n",
       "    </tr>\n",
       "    <tr>\n",
       "      <th>20190005</th>\n",
       "      <td>0</td>\n",
       "      <td>55</td>\n",
       "      <td>23</td>\n",
       "    </tr>\n",
       "    <tr>\n",
       "      <th>...</th>\n",
       "      <td>...</td>\n",
       "      <td>...</td>\n",
       "      <td>...</td>\n",
       "    </tr>\n",
       "    <tr>\n",
       "      <th>20190596</th>\n",
       "      <td>5</td>\n",
       "      <td>62</td>\n",
       "      <td>98</td>\n",
       "    </tr>\n",
       "    <tr>\n",
       "      <th>20190597</th>\n",
       "      <td>91</td>\n",
       "      <td>70</td>\n",
       "      <td>3</td>\n",
       "    </tr>\n",
       "    <tr>\n",
       "      <th>20190598</th>\n",
       "      <td>8</td>\n",
       "      <td>87</td>\n",
       "      <td>15</td>\n",
       "    </tr>\n",
       "    <tr>\n",
       "      <th>20190599</th>\n",
       "      <td>47</td>\n",
       "      <td>0</td>\n",
       "      <td>30</td>\n",
       "    </tr>\n",
       "    <tr>\n",
       "      <th>20190600</th>\n",
       "      <td>32</td>\n",
       "      <td>75</td>\n",
       "      <td>35</td>\n",
       "    </tr>\n",
       "  </tbody>\n",
       "</table>\n",
       "<p>600 rows × 3 columns</p>\n",
       "</div>"
      ],
      "text/plain": [
       "          国語  数学  英語\n",
       "ID                  \n",
       "20190001  30  91  75\n",
       "20190002  70  16  54\n",
       "20190003  78  71  30\n",
       "20190004   7  91  78\n",
       "20190005   0  55  23\n",
       "...       ..  ..  ..\n",
       "20190596   5  62  98\n",
       "20190597  91  70   3\n",
       "20190598   8  87  15\n",
       "20190599  47   0  30\n",
       "20190600  32  75  35\n",
       "\n",
       "[600 rows x 3 columns]"
      ]
     },
     "metadata": {},
     "output_type": "display_data"
    }
   ],
   "source": [
    "data_xlsx = pd.read_excel('data//pdset.xlsx', \n",
    "                          index_col='ID')\n",
    "display(data_xlsx)"
   ]
  },
  {
   "cell_type": "code",
   "execution_count": 8,
   "metadata": {},
   "outputs": [
    {
     "data": {
      "text/html": [
       "<div>\n",
       "<style scoped>\n",
       "    .dataframe tbody tr th:only-of-type {\n",
       "        vertical-align: middle;\n",
       "    }\n",
       "\n",
       "    .dataframe tbody tr th {\n",
       "        vertical-align: top;\n",
       "    }\n",
       "\n",
       "    .dataframe thead th {\n",
       "        text-align: right;\n",
       "    }\n",
       "</style>\n",
       "<table border=\"1\" class=\"dataframe\">\n",
       "  <thead>\n",
       "    <tr style=\"text-align: right;\">\n",
       "      <th></th>\n",
       "      <th>1</th>\n",
       "      <th>2</th>\n",
       "      <th>3</th>\n",
       "      <th>4</th>\n",
       "      <th>5</th>\n",
       "    </tr>\n",
       "    <tr>\n",
       "      <th>ID</th>\n",
       "      <th></th>\n",
       "      <th></th>\n",
       "      <th></th>\n",
       "      <th></th>\n",
       "      <th></th>\n",
       "    </tr>\n",
       "  </thead>\n",
       "  <tbody>\n",
       "    <tr>\n",
       "      <th>A</th>\n",
       "      <td>53.0</td>\n",
       "      <td>168.0</td>\n",
       "      <td>154.0</td>\n",
       "      <td>115.0</td>\n",
       "      <td>57.0</td>\n",
       "    </tr>\n",
       "    <tr>\n",
       "      <th>B</th>\n",
       "      <td>33.0</td>\n",
       "      <td>115.0</td>\n",
       "      <td>192.0</td>\n",
       "      <td>142.0</td>\n",
       "      <td>138.0</td>\n",
       "    </tr>\n",
       "    <tr>\n",
       "      <th>C</th>\n",
       "      <td>5.0</td>\n",
       "      <td>109.0</td>\n",
       "      <td>63.0</td>\n",
       "      <td>5.0</td>\n",
       "      <td>80.0</td>\n",
       "    </tr>\n",
       "    <tr>\n",
       "      <th>D</th>\n",
       "      <td>65.0</td>\n",
       "      <td>60.0</td>\n",
       "      <td>92.0</td>\n",
       "      <td>26.0</td>\n",
       "      <td>95.0</td>\n",
       "    </tr>\n",
       "    <tr>\n",
       "      <th>E</th>\n",
       "      <td>30.0</td>\n",
       "      <td>99.0</td>\n",
       "      <td>194.0</td>\n",
       "      <td>96.0</td>\n",
       "      <td>66.0</td>\n",
       "    </tr>\n",
       "  </tbody>\n",
       "</table>\n",
       "</div>"
      ],
      "text/plain": [
       "       1      2      3      4      5\n",
       "ID                                  \n",
       "A   53.0  168.0  154.0  115.0   57.0\n",
       "B   33.0  115.0  192.0  142.0  138.0\n",
       "C    5.0  109.0   63.0    5.0   80.0\n",
       "D   65.0   60.0   92.0   26.0   95.0\n",
       "E   30.0   99.0  194.0   96.0   66.0"
      ]
     },
     "metadata": {},
     "output_type": "display_data"
    }
   ],
   "source": [
    "dfs = pd.read_excel('data//S.xlsx',index_col='ID')\n",
    "dfa = pd.read_excel('data//A.xlsx',index_col='ID')\n",
    "dfb = pd.read_excel('data//B.xlsx',index_col='ID')\n",
    "#display('dfs:',dfs) # dfsの出力には先頭の#を削除 \n",
    "#display('dfa:',dfa) # dfaの出力には先頭の#を削除 \n",
    "#dfs+dfaの計算結果をdata_sumに代入\n",
    "data_sum = dfs.add(dfa, fill_value=0) \n",
    "#display('data_sum=dfs+dfa:',data_sum)\n",
    "#display('dfb',dfb) # dfbの出力には先頭の#を削除\n",
    "# data_sum+dfbの計算結果をdata_sumに代入\n",
    "data_sum = data_sum.add(dfb, fill_value=0) \n",
    "display(data_sum)\n"
   ]
  },
  {
   "cell_type": "code",
   "execution_count": 9,
   "metadata": {},
   "outputs": [],
   "source": [
    "data_sum.to_csv('data_sum.csv', index = True)"
   ]
  },
  {
   "cell_type": "code",
   "execution_count": 10,
   "metadata": {},
   "outputs": [
    {
     "name": "stdout",
     "output_type": "stream",
     "text": [
      "1    186.0\n",
      "2    551.0\n",
      "3    695.0\n",
      "4    384.0\n",
      "5    436.0\n",
      "dtype: float64\n"
     ]
    }
   ],
   "source": [
    "data = pd.read_csv('data_sum.csv',index_col = 'ID')\n",
    "print(data.sum())"
   ]
  },
  {
   "cell_type": "code",
   "execution_count": 11,
   "metadata": {},
   "outputs": [
    {
     "name": "stdout",
     "output_type": "stream",
     "text": [
      "ID\n",
      "A    547.0\n",
      "B    620.0\n",
      "C    262.0\n",
      "D    338.0\n",
      "E    485.0\n",
      "dtype: float64\n"
     ]
    }
   ],
   "source": [
    "print(data.sum(axis = 1 ))"
   ]
  },
  {
   "cell_type": "code",
   "execution_count": null,
   "metadata": {},
   "outputs": [],
   "source": []
  },
  {
   "cell_type": "code",
   "execution_count": null,
   "metadata": {},
   "outputs": [],
   "source": []
  },
  {
   "cell_type": "code",
   "execution_count": null,
   "metadata": {},
   "outputs": [],
   "source": []
  },
  {
   "cell_type": "code",
   "execution_count": null,
   "metadata": {},
   "outputs": [],
   "source": []
  },
  {
   "cell_type": "code",
   "execution_count": null,
   "metadata": {},
   "outputs": [],
   "source": []
  },
  {
   "cell_type": "code",
   "execution_count": null,
   "metadata": {},
   "outputs": [],
   "source": []
  },
  {
   "cell_type": "code",
   "execution_count": null,
   "metadata": {},
   "outputs": [],
   "source": []
  },
  {
   "cell_type": "code",
   "execution_count": null,
   "metadata": {},
   "outputs": [],
   "source": []
  },
  {
   "cell_type": "code",
   "execution_count": null,
   "metadata": {},
   "outputs": [],
   "source": []
  },
  {
   "cell_type": "code",
   "execution_count": null,
   "metadata": {},
   "outputs": [],
   "source": []
  },
  {
   "cell_type": "code",
   "execution_count": null,
   "metadata": {},
   "outputs": [],
   "source": []
  },
  {
   "cell_type": "code",
   "execution_count": null,
   "metadata": {},
   "outputs": [],
   "source": []
  }
 ],
 "metadata": {
  "kernelspec": {
   "display_name": "Python 3",
   "language": "python",
   "name": "python3"
  },
  "language_info": {
   "codemirror_mode": {
    "name": "ipython",
    "version": 3
   },
   "file_extension": ".py",
   "mimetype": "text/x-python",
   "name": "python",
   "nbconvert_exporter": "python",
   "pygments_lexer": "ipython3",
   "version": "3.7.6"
  }
 },
 "nbformat": 4,
 "nbformat_minor": 4
}
