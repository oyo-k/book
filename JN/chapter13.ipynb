{
 "cells": [
  {
   "cell_type": "code",
   "execution_count": null,
   "metadata": {},
   "outputs": [],
   "source": [
    "import numpy as np\n",
    "x = np.array([8, 3, 1])\n",
    "for i in np.arange(3): #[0,1,2]\n",
    "    print('i =',i,'x =',x[i]) "
   ]
  },
  {
   "cell_type": "code",
   "execution_count": null,
   "metadata": {},
   "outputs": [],
   "source": [
    "x = np.array([8, 3, 1])\n",
    "for i in x:\n",
    "    print('一次元配列の中身:',i)"
   ]
  },
  {
   "cell_type": "code",
   "execution_count": null,
   "metadata": {},
   "outputs": [],
   "source": [
    "y = np.array([10, 20, 30])\n",
    "for i in np.arange(3):\n",
    "    y[i] = y[i] + i\n",
    "    print('i =',i,'y =',y[i]) "
   ]
  },
  {
   "cell_type": "code",
   "execution_count": null,
   "metadata": {},
   "outputs": [],
   "source": [
    "# windows の場合\n",
    "#import winsound as ws\n",
    "#import numpy as np\n",
    "# hzは300, 600, 900と変化\n",
    "# シーケンスはnp.array([300,600,900])と設定\n",
    "#for hz in np.arange(300,901,300): # 3回繰り返し\n",
    "#    print(hz,'Hzの音を出します')\n",
    "#    ws.Beep(hz, 500) # hzの高さの音を出す命令\n",
    "\n"
   ]
  },
  {
   "cell_type": "code",
   "execution_count": null,
   "metadata": {},
   "outputs": [],
   "source": [
    "import pandas as pd\n",
    "data = pd.read_csv(\n",
    "    'data//seiseki_6s.csv',\n",
    "    index_col='ID')\n",
    "display(data) # 表の形式で出力\n",
    "\n",
    "print('loop start')\n",
    "# カラム名を利用して繰り返す\n",
    "for i in data.columns.values: \n",
    "  # i にはカラム名を代入\n",
    "  print('20190001の', i, 'は',\n",
    "    data.at[20190001,i],\n",
    "    '点です') \n",
    "\n",
    "print('loop end')"
   ]
  },
  {
   "cell_type": "code",
   "execution_count": null,
   "metadata": {},
   "outputs": [],
   "source": [
    "for i in data.index: \n",
    "    print('インデックス名 ', i) \n",
    "    print(data.loc[i,:]) # 各カラムの出力"
   ]
  },
  {
   "cell_type": "code",
   "execution_count": null,
   "metadata": {},
   "outputs": [],
   "source": [
    "import pandas as pd\n",
    "df = pd.read_csv('data//seiseki_bj_ren.csv',index_col='ID')\n",
    "print(df)\n",
    "print('判定開始')\n",
    "for id in df.index.values:\n",
    "  # id には学籍番号を代入\n",
    "  if df.at[id,'国語'] >= 60:\n",
    "      # 繰り返し内:国語の点数が60以上の処理\n",
    "      df.at[id,'判定'] = '可'\n",
    "  else:\n",
    "      # 繰り返し内:それ以外の処理\n",
    "      df.at[id,'判定'] = '不可'\n",
    "print('判定終了')\n",
    "print(df)\n"
   ]
  },
  {
   "cell_type": "code",
   "execution_count": null,
   "metadata": {},
   "outputs": [],
   "source": [
    "import numpy as np\n",
    "for step in np.arange(3):\n",
    "  print('<<<Step', step, 'start!>>>')\n",
    "  my_hand = input('my_handの入力: rock, scissors, or, paper:')\n",
    "  cpu_hand = input('cpu_handの入力: rock, scissors,  or, paper:')\n",
    "  print('my_hand is', my_hand, '. cpu_hand is', cpu_hand)\n",
    "  if my_hand == cpu_hand:\n",
    "      print('***Rock, paper, scissors***')\n",
    "  elif my_hand == 'rock' and cpu_hand == 'scissors':\n",
    "      print('***You win.***')\n",
    "  elif my_hand == 'scissors' and cpu_hand == 'paper':\n",
    "      print('***You win.***')\n",
    "  elif my_hand == 'paper' and cpu_hand == 'rock':\n",
    "      print('***You win.***')\n",
    "  else:\n",
    "      print('***You lose.***')\n",
    "print('*******Game Over*******')"
   ]
  },
  {
   "cell_type": "code",
   "execution_count": null,
   "metadata": {},
   "outputs": [],
   "source": [
    "import numpy as np\n",
    "for kaisuu in np.arange(3):\n",
    "    rand = np.random.rand() # 0から1の実数値\n",
    "    print(kaisuu,'回目の乱数は',rand,'です。')\n",
    "    if  0.0  <= rand < 1/6 : # randは0以上1/6未満なので\n",
    "        print('サイコロの出目は 1 に対応します。')\n",
    "    elif 1/6 <= rand < 2/6 : # randは1/6以上2/6未満なので\n",
    "        print('サイコロの出目は 2 に対応します。')\n",
    "    elif 2/6 <= rand < 3/6 : # randは2/6以上3/6未満なので\n",
    "        print('サイコロの出目は 3 に対応します。')\n",
    "    elif 3/6 <= rand < 4/6 : # randは3/6以上4/6未満なので\n",
    "        print('サイコロの出目は 4 に対応します。')\n",
    "    elif 4/6 <= rand < 5/6 : # randは4/6以上5/6未満なので\n",
    "        print('サイコロの出目は 5 に対応します。')\n",
    "    elif 5/6 <= rand < 1 : # randは5/6以上6/6未満なので\n",
    "        print('サイコロの出目は 6 に対応します。')"
   ]
  },
  {
   "cell_type": "code",
   "execution_count": null,
   "metadata": {},
   "outputs": [],
   "source": [
    "for kaisuu in np.arange(1,8):\n",
    "    # 1から6までの整数\n",
    "    rand = np.random.randint(1,7) \n",
    "    print(kaisuu,'回目のサイコロの出目は',rand,'です。')"
   ]
  },
  {
   "cell_type": "markdown",
   "metadata": {},
   "source": [
    "# 練習問題の解答"
   ]
  },
  {
   "cell_type": "code",
   "execution_count": null,
   "metadata": {},
   "outputs": [],
   "source": [
    "import pandas as pd\n",
    "data = pd.read_csv(\n",
    "    'data//seiseki_6s.csv',\n",
    "    index_col='ID')\n",
    "for i in data: \n",
    "    print('19990003の', i,'は', \n",
    "     data.at[19990003,i],'点です') "
   ]
  },
  {
   "cell_type": "code",
   "execution_count": null,
   "metadata": {},
   "outputs": [],
   "source": [
    "# インデックス名を利用して繰り返す\n",
    "for i in data.loc[20190001:20195500,:].index:\n",
    "    print('インデックス名 ', i) \n",
    "    print(data.loc[i,:]) # 各カラムの出力\n"
   ]
  },
  {
   "cell_type": "code",
   "execution_count": null,
   "metadata": {},
   "outputs": [],
   "source": [
    "import pandas as pd\n",
    "df = pd.read_csv('data//seiseki_bj_ren2.csv',index_col='ID')\n",
    "print(df)\n",
    "\n",
    "print('判定開始')\n",
    "for id in df.index.values:\n",
    "  # id には学籍番号を代入\n",
    "  if df.at[id,'数学'] >= 60:\n",
    "      df.at[id,'判定'] = '可'\n",
    "  else:\n",
    "      df.at[id,'判定'] = '不可'\n",
    "print('判定終了')\n",
    "print(df)\n"
   ]
  },
  {
   "cell_type": "code",
   "execution_count": null,
   "metadata": {},
   "outputs": [],
   "source": [
    "import numpy as np\n",
    "\n",
    "for kaisuu in np.arange(3):\n",
    "    rand = np.random.rand() # 0から1の実数値\n",
    "    print(kaisuu,'回目の乱数は',rand,'です。')\n",
    "    if  0.0  <= rand < 1/10 : \n",
    "        print('サイコロの出目は 1 に対応します。')\n",
    "    elif 1/10 <= rand < 2/10 :\n",
    "        print('サイコロの出目は 2 に対応します。')\n",
    "    elif 2/10 <= rand < 3/10 :\n",
    "        print('サイコロの出目は 3 に対応します。')\n",
    "    elif 3/10 <= rand < 4/10 :\n",
    "        print('サイコロの出目は 4 に対応します。')\n",
    "    elif 4/10 <= rand < 5/10 :\n",
    "        print('サイコロの出目は 5 に対応します。')\n",
    "    elif 5/10 <= rand < 1.0 :\n",
    "        print('サイコロの出目は 6 に対応します。')"
   ]
  },
  {
   "cell_type": "code",
   "execution_count": null,
   "metadata": {},
   "outputs": [],
   "source": []
  },
  {
   "cell_type": "code",
   "execution_count": null,
   "metadata": {},
   "outputs": [],
   "source": []
  },
  {
   "cell_type": "code",
   "execution_count": null,
   "metadata": {},
   "outputs": [],
   "source": []
  },
  {
   "cell_type": "code",
   "execution_count": null,
   "metadata": {},
   "outputs": [],
   "source": []
  },
  {
   "cell_type": "code",
   "execution_count": null,
   "metadata": {},
   "outputs": [],
   "source": []
  },
  {
   "cell_type": "code",
   "execution_count": null,
   "metadata": {},
   "outputs": [],
   "source": []
  },
  {
   "cell_type": "code",
   "execution_count": null,
   "metadata": {},
   "outputs": [],
   "source": []
  }
 ],
 "metadata": {
  "kernelspec": {
   "display_name": "Python 3",
   "language": "python",
   "name": "python3"
  },
  "language_info": {
   "codemirror_mode": {
    "name": "ipython",
    "version": 3
   },
   "file_extension": ".py",
   "mimetype": "text/x-python",
   "name": "python",
   "nbconvert_exporter": "python",
   "pygments_lexer": "ipython3",
   "version": "3.7.6"
  }
 },
 "nbformat": 4,
 "nbformat_minor": 4
}
