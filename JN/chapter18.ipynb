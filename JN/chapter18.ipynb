{
 "cells": [
  {
   "cell_type": "code",
   "execution_count": 1,
   "metadata": {},
   "outputs": [
    {
     "data": {
      "text/html": [
       "<div>\n",
       "<style scoped>\n",
       "    .dataframe tbody tr th:only-of-type {\n",
       "        vertical-align: middle;\n",
       "    }\n",
       "\n",
       "    .dataframe tbody tr th {\n",
       "        vertical-align: top;\n",
       "    }\n",
       "\n",
       "    .dataframe thead th {\n",
       "        text-align: right;\n",
       "    }\n",
       "</style>\n",
       "<table border=\"1\" class=\"dataframe\">\n",
       "  <thead>\n",
       "    <tr style=\"text-align: right;\">\n",
       "      <th></th>\n",
       "      <th>年齢</th>\n",
       "      <th>性別</th>\n",
       "    </tr>\n",
       "    <tr>\n",
       "      <th>ID</th>\n",
       "      <th></th>\n",
       "      <th></th>\n",
       "    </tr>\n",
       "  </thead>\n",
       "  <tbody>\n",
       "    <tr>\n",
       "      <th>100000001</th>\n",
       "      <td>25</td>\n",
       "      <td>2</td>\n",
       "    </tr>\n",
       "    <tr>\n",
       "      <th>100000002</th>\n",
       "      <td>34</td>\n",
       "      <td>2</td>\n",
       "    </tr>\n",
       "    <tr>\n",
       "      <th>100000003</th>\n",
       "      <td>37</td>\n",
       "      <td>1</td>\n",
       "    </tr>\n",
       "    <tr>\n",
       "      <th>100000004</th>\n",
       "      <td>44</td>\n",
       "      <td>2</td>\n",
       "    </tr>\n",
       "    <tr>\n",
       "      <th>100000005</th>\n",
       "      <td>32</td>\n",
       "      <td>2</td>\n",
       "    </tr>\n",
       "    <tr>\n",
       "      <th>...</th>\n",
       "      <td>...</td>\n",
       "      <td>...</td>\n",
       "    </tr>\n",
       "    <tr>\n",
       "      <th>100014338</th>\n",
       "      <td>15</td>\n",
       "      <td>1</td>\n",
       "    </tr>\n",
       "    <tr>\n",
       "      <th>100014339</th>\n",
       "      <td>11</td>\n",
       "      <td>1</td>\n",
       "    </tr>\n",
       "    <tr>\n",
       "      <th>100014340</th>\n",
       "      <td>5</td>\n",
       "      <td>1</td>\n",
       "    </tr>\n",
       "    <tr>\n",
       "      <th>100014341</th>\n",
       "      <td>8</td>\n",
       "      <td>1</td>\n",
       "    </tr>\n",
       "    <tr>\n",
       "      <th>100014342</th>\n",
       "      <td>8</td>\n",
       "      <td>1</td>\n",
       "    </tr>\n",
       "  </tbody>\n",
       "</table>\n",
       "<p>14342 rows × 2 columns</p>\n",
       "</div>"
      ],
      "text/plain": [
       "           年齢  性別\n",
       "ID               \n",
       "100000001  25   2\n",
       "100000002  34   2\n",
       "100000003  37   1\n",
       "100000004  44   2\n",
       "100000005  32   2\n",
       "...        ..  ..\n",
       "100014338  15   1\n",
       "100014339  11   1\n",
       "100014340   5   1\n",
       "100014341   8   1\n",
       "100014342   8   1\n",
       "\n",
       "[14342 rows x 2 columns]"
      ]
     },
     "metadata": {},
     "output_type": "display_data"
    },
    {
     "name": "stdout",
     "output_type": "stream",
     "text": [
      "Index(['年齢', '性別'], dtype='object')\n"
     ]
    }
   ],
   "source": [
    "import pandas as pd\n",
    "import numpy as np\n",
    "# データの読み込み\n",
    "data = pd.read_excel('data//u12.xlsx',index_col='ID')\n",
    "display(data) # データ全体を表示\n",
    "# カラム名を表示\n",
    "print(data.columns)"
   ]
  },
  {
   "cell_type": "code",
   "execution_count": 2,
   "metadata": {},
   "outputs": [
    {
     "name": "stdout",
     "output_type": "stream",
     "text": [
      "14342\n",
      "(14342, 2)\n"
     ]
    }
   ],
   "source": [
    "print(len(data)) # 方法1\n",
    "print(data.shape) # 方法2"
   ]
  },
  {
   "cell_type": "code",
   "execution_count": 3,
   "metadata": {},
   "outputs": [
    {
     "name": "stdout",
     "output_type": "stream",
     "text": [
      "男性: 7363 女性: 6979 合計人数: 14342\n"
     ]
    }
   ],
   "source": [
    "male = 0 # 男性の人数を代入する変数に初期値0を代入する\n",
    "female = 0 # 女性の人数を代入する変数に初期値0を代入する\n",
    "\n",
    "# IDを利用して男女別の人数カウントを開始\n",
    "for i in data.index: # モニター人数分繰り返し\n",
    "  # i は100000001から100014342まで変化           \n",
    "  if data.at[i,'性別'] == 1: #ID i の人が１（男性）なら\n",
    "    male = male + 1 # maleを１増加(男性の人数に+1)\n",
    "  else:# ID iの人が２（女性）であれば\n",
    "    female = female + 1 #femaleを１増加(女性の人数+1)\n",
    "# カウント結果である男性人数と女性人数を表示\n",
    "print('男性:',male,'女性:',female,'合計人数:',male+female)"
   ]
  },
  {
   "cell_type": "code",
   "execution_count": 4,
   "metadata": {},
   "outputs": [
    {
     "name": "stdout",
     "output_type": "stream",
     "text": [
      "男性の平均年齢: 26.331658291457288 女性の平均年齢: 25.936237283278405\n"
     ]
    }
   ],
   "source": [
    "male_age = 0 # 男性の年齢を加える変数 (全男性の合計年齢)\n",
    "female_age = 0 # 女性の年齢を加える変数(全女性の合計年齢)\n",
    "\n",
    "for i in data.index:\n",
    "    if data.at[i,'性別'] == 1: # ID i の人が男性なら\n",
    "        # 男性の年齢の合計にID i の人の年齢を加える\n",
    "        male_age = male_age + data.at[i,'年齢']\n",
    "    else: # ID i の人が女性なら\n",
    "        # 女性の年齢の合計にID i の人の年齢を加える\n",
    "        female_age = female_age + data.at[i,'年齢']\n",
    "\n",
    "# 年齢の総合計を人数で割り、男性と女性の平均年齢を計算\n",
    "print('男性の平均年齢:', male_age/male, '女性の平均年齢:', female_age/female)"
   ]
  },
  {
   "cell_type": "code",
   "execution_count": 5,
   "metadata": {},
   "outputs": [
    {
     "name": "stdout",
     "output_type": "stream",
     "text": [
      "男性の分散: 193.83703523730614 標準偏差 13.922536954065022\n",
      "女性の分散: 185.49715225548925 標準偏差 13.61973392748512\n"
     ]
    }
   ],
   "source": [
    "ave_male_age=male_age/male # 男性の平均年齢\n",
    "ave_female_age=female_age/female # 女性の平均年齢\n",
    "\n",
    "var_male=0 # 男性の分散を求める変数\n",
    "var_female=0 # 女性の分散を求める変数\n",
    "\n",
    "for i in data.index: \n",
    "    if data.at[i,'性別']==1: # ID iの人が男性(1)なら\n",
    "        #男性の個々の年齢と年齢平均の差の二乗を求めてvar_maleに加算\n",
    "        var_male+=(data.at[i,'年齢']-ave_male_age)**2 \n",
    "    else: # ID iの人が女性(2)なら\n",
    "        #女性の個々の年齢と年齢平均の差の二乗を求めてvar_maleに加算\n",
    "        var_female+=(data.at[i,'年齢']-ave_female_age)**2 \n",
    "\n",
    "var_male/=male #男性の年齢平均と個々の年齢の差の二乗の合計/人数\n",
    "var_female/=female #女性の年齢平均と個々の年齢の差の二乗の合計/人数\n",
    "\n",
    "# 標準偏差は分散(var_maleまたはvar_female)の平方根\n",
    "print('男性の分散:',var_male,'標準偏差',np.sqrt(var_male))\n",
    "print('女性の分散:',var_female,'標準偏差',np.sqrt(var_female))"
   ]
  },
  {
   "cell_type": "code",
   "execution_count": 6,
   "metadata": {},
   "outputs": [
    {
     "name": "stdout",
     "output_type": "stream",
     "text": [
      "min: 1\n",
      "max: 55\n"
     ]
    }
   ],
   "source": [
    "df_s = data.sort_values('年齢') # 並び替え\n",
    "print('min:',df_s.iloc[0,0]) # 年齢の0番目\n",
    "# 年齢の14341番目\n",
    "print('max:',df_s.iloc[len(data)-1,0]) "
   ]
  },
  {
   "cell_type": "code",
   "execution_count": 7,
   "metadata": {},
   "outputs": [
    {
     "name": "stdout",
     "output_type": "stream",
     "text": [
      "中央値の計算に使う位置は 7170 と 7171 です。\n",
      "中央値: 27.0\n"
     ]
    }
   ],
   "source": [
    "if len(df_s) % 2 == 0: # 偶数の場合\n",
    "    c1 = int((len(df_s) - 1) * 50/ 100)\n",
    "    c2 = c1 + 1\n",
    "    print('中央値の計算に使う位置は',c1,'と',c2,'です。')\n",
    "    print('中央値:',(df_s.iloc[c1,0] + df_s.iloc[c2,0])/2)\n",
    "else: # 奇数の場合\n",
    "    c1 = int((len(df_s) + 1) / 2 - 1)\n",
    "    print('中央値の計算に使う位置は',c1,'です。')\n",
    "    print('中央値:',df_s.iloc[int(c1),0])"
   ]
  },
  {
   "cell_type": "code",
   "execution_count": 8,
   "metadata": {},
   "outputs": [
    {
     "name": "stdout",
     "output_type": "stream",
     "text": [
      "25%点の位置: 3585.25 小数: 0.25\n",
      "25%点: 15.0\n"
     ]
    }
   ],
   "source": [
    "# 25%点の位置を計算するための整数部\n",
    "c25_i = (len(df_s)-1) * 25/100 \n",
    "s = c25_i - int(c25_i) # 25%点を計算するための小数部\n",
    "print('25%点の位置:',c25_i, '小数:',s)\n",
    "#「i番目の年齢 + 小数部分 (i+1番目の年齢 - i番目の年齢)」\n",
    "c25 = df_s.iloc[int(c25_i), 0] + s*(df_s.iloc[int(c25_i)+1, 0] - df_s.iloc[int(c25_i), 0])\n",
    "print('25%点:',c25) # 25%点の出力"
   ]
  },
  {
   "cell_type": "code",
   "execution_count": 9,
   "metadata": {},
   "outputs": [
    {
     "name": "stdout",
     "output_type": "stream",
     "text": [
      "75%点の位置: 10755.75 小数: 0.75\n",
      "75%点: 37.0\n"
     ]
    }
   ],
   "source": [
    "c75_i = (len(df_s)-1)*75/100 # 整数部の計算\n",
    "s = c75_i - int(c75_i) # 小数部の計算\n",
    "print('75%点の位置:',c75_i, '小数:',s)\n",
    "#k + 小数部分 ( k + 1 番目の値 - k)\n",
    "c75 = df_s.iloc[int(c75_i), 0] + s*(df_s.iloc[int(c75_i)+1, 0] - df_s.iloc[int(c75_i), 0])\n",
    "print('75%点:',c75)"
   ]
  },
  {
   "cell_type": "code",
   "execution_count": 10,
   "metadata": {},
   "outputs": [
    {
     "name": "stdout",
     "output_type": "stream",
     "text": [
      "             度数\n",
      "(0,10]   2426.0\n",
      "(10,20]  2750.0\n",
      "(20,30]  3463.0\n",
      "(30,40]  3227.0\n",
      "(40,50]  1924.0\n",
      "(50,60]   552.0\n"
     ]
    }
   ],
   "source": [
    "age_df = pd.DataFrame(np.zeros(6))\n",
    "age_df.columns = ['度数'] # カラム名を変更\n",
    "for i in data.index:\n",
    "    age = int((data.at[i,'年齢']-1)/10)\n",
    "    age_df.iat[age,0] += 1    \n",
    "age_df.index = ['(0,10]', '(10,20]', '(20,30]', '(30,40]', '(40,50]', '(50,60]'] # 出力用のインデックス名\n",
    "print(age_df) "
   ]
  },
  {
   "cell_type": "code",
   "execution_count": null,
   "metadata": {},
   "outputs": [],
   "source": []
  },
  {
   "cell_type": "code",
   "execution_count": null,
   "metadata": {},
   "outputs": [],
   "source": []
  },
  {
   "cell_type": "code",
   "execution_count": null,
   "metadata": {},
   "outputs": [],
   "source": []
  },
  {
   "cell_type": "code",
   "execution_count": null,
   "metadata": {},
   "outputs": [],
   "source": []
  },
  {
   "cell_type": "code",
   "execution_count": null,
   "metadata": {},
   "outputs": [],
   "source": []
  },
  {
   "cell_type": "code",
   "execution_count": null,
   "metadata": {},
   "outputs": [],
   "source": []
  },
  {
   "cell_type": "code",
   "execution_count": null,
   "metadata": {},
   "outputs": [],
   "source": []
  },
  {
   "cell_type": "code",
   "execution_count": null,
   "metadata": {},
   "outputs": [],
   "source": []
  },
  {
   "cell_type": "code",
   "execution_count": null,
   "metadata": {},
   "outputs": [],
   "source": []
  },
  {
   "cell_type": "code",
   "execution_count": null,
   "metadata": {},
   "outputs": [],
   "source": []
  },
  {
   "cell_type": "code",
   "execution_count": null,
   "metadata": {},
   "outputs": [],
   "source": []
  },
  {
   "cell_type": "code",
   "execution_count": null,
   "metadata": {},
   "outputs": [],
   "source": []
  }
 ],
 "metadata": {
  "kernelspec": {
   "display_name": "Python 3",
   "language": "python",
   "name": "python3"
  },
  "language_info": {
   "codemirror_mode": {
    "name": "ipython",
    "version": 3
   },
   "file_extension": ".py",
   "mimetype": "text/x-python",
   "name": "python",
   "nbconvert_exporter": "python",
   "pygments_lexer": "ipython3",
   "version": "3.7.6"
  }
 },
 "nbformat": 4,
 "nbformat_minor": 4
}
