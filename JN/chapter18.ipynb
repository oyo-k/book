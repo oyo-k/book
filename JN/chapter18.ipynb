{
 "cells": [
  {
   "cell_type": "code",
   "execution_count": 11,
   "metadata": {},
   "outputs": [
    {
     "data": {
      "text/html": [
       "<div>\n",
       "<style scoped>\n",
       "    .dataframe tbody tr th:only-of-type {\n",
       "        vertical-align: middle;\n",
       "    }\n",
       "\n",
       "    .dataframe tbody tr th {\n",
       "        vertical-align: top;\n",
       "    }\n",
       "\n",
       "    .dataframe thead th {\n",
       "        text-align: right;\n",
       "    }\n",
       "</style>\n",
       "<table border=\"1\" class=\"dataframe\">\n",
       "  <thead>\n",
       "    <tr style=\"text-align: right;\">\n",
       "      <th></th>\n",
       "      <th>年齢</th>\n",
       "      <th>性別</th>\n",
       "    </tr>\n",
       "    <tr>\n",
       "      <th>ID</th>\n",
       "      <th></th>\n",
       "      <th></th>\n",
       "    </tr>\n",
       "  </thead>\n",
       "  <tbody>\n",
       "    <tr>\n",
       "      <th>100000001</th>\n",
       "      <td>25</td>\n",
       "      <td>2</td>\n",
       "    </tr>\n",
       "    <tr>\n",
       "      <th>100000002</th>\n",
       "      <td>34</td>\n",
       "      <td>2</td>\n",
       "    </tr>\n",
       "    <tr>\n",
       "      <th>100000003</th>\n",
       "      <td>37</td>\n",
       "      <td>1</td>\n",
       "    </tr>\n",
       "    <tr>\n",
       "      <th>100000004</th>\n",
       "      <td>44</td>\n",
       "      <td>2</td>\n",
       "    </tr>\n",
       "    <tr>\n",
       "      <th>100000005</th>\n",
       "      <td>32</td>\n",
       "      <td>2</td>\n",
       "    </tr>\n",
       "    <tr>\n",
       "      <th>...</th>\n",
       "      <td>...</td>\n",
       "      <td>...</td>\n",
       "    </tr>\n",
       "    <tr>\n",
       "      <th>100014338</th>\n",
       "      <td>15</td>\n",
       "      <td>1</td>\n",
       "    </tr>\n",
       "    <tr>\n",
       "      <th>100014339</th>\n",
       "      <td>11</td>\n",
       "      <td>1</td>\n",
       "    </tr>\n",
       "    <tr>\n",
       "      <th>100014340</th>\n",
       "      <td>5</td>\n",
       "      <td>1</td>\n",
       "    </tr>\n",
       "    <tr>\n",
       "      <th>100014341</th>\n",
       "      <td>8</td>\n",
       "      <td>1</td>\n",
       "    </tr>\n",
       "    <tr>\n",
       "      <th>100014342</th>\n",
       "      <td>8</td>\n",
       "      <td>1</td>\n",
       "    </tr>\n",
       "  </tbody>\n",
       "</table>\n",
       "<p>14342 rows × 2 columns</p>\n",
       "</div>"
      ],
      "text/plain": [
       "           年齢  性別\n",
       "ID               \n",
       "100000001  25   2\n",
       "100000002  34   2\n",
       "100000003  37   1\n",
       "100000004  44   2\n",
       "100000005  32   2\n",
       "...        ..  ..\n",
       "100014338  15   1\n",
       "100014339  11   1\n",
       "100014340   5   1\n",
       "100014341   8   1\n",
       "100014342   8   1\n",
       "\n",
       "[14342 rows x 2 columns]"
      ]
     },
     "metadata": {},
     "output_type": "display_data"
    },
    {
     "name": "stdout",
     "output_type": "stream",
     "text": [
      "Index(['年齢', '性別'], dtype='object')\n"
     ]
    }
   ],
   "source": [
    "import pandas as pd\n",
    "import numpy as np\n",
    "# データの読み込み\n",
    "data = pd.read_excel('data//u12.xlsx',index_col='ID')\n",
    "display(data) # データ全体を表示\n",
    "# カラム名を表示\n",
    "print(data.columns)"
   ]
  },
  {
   "cell_type": "code",
   "execution_count": 2,
   "metadata": {},
   "outputs": [
    {
     "name": "stdout",
     "output_type": "stream",
     "text": [
      "14342\n",
      "(14342, 2)\n"
     ]
    }
   ],
   "source": [
    "print(len(data)) # 方法1\n",
    "print(data.shape) # 方法2"
   ]
  },
  {
   "cell_type": "code",
   "execution_count": 3,
   "metadata": {},
   "outputs": [
    {
     "name": "stdout",
     "output_type": "stream",
     "text": [
      "男性: 7363 女性: 6979 合計人数: 14342\n"
     ]
    }
   ],
   "source": [
    "male = 0 # 男性の人数を代入する変数に初期値0を代入する\n",
    "female = 0 # 女性の人数を代入する変数に初期値0を代入する\n",
    "\n",
    "# IDを利用して男女別の人数カウントを開始\n",
    "for i in data.index: # モニター人数分繰り返し\n",
    "  # i は100000001から100014342まで変化           \n",
    "  if data.at[i,'性別'] == 1: #ID i の人が１（男性）なら\n",
    "    male = male + 1 # maleを１増加(男性の人数に+1)\n",
    "  else:# ID iの人が２（女性）であれば\n",
    "    female = female + 1 #femaleを１増加(女性の人数+1)\n",
    "# カウント結果である男性人数と女性人数を表示\n",
    "print('男性:',male,'女性:',female,'合計人数:',male+female)"
   ]
  },
  {
   "cell_type": "code",
   "execution_count": 4,
   "metadata": {},
   "outputs": [
    {
     "name": "stdout",
     "output_type": "stream",
     "text": [
      "男性の平均年齢: 26.331658291457288 女性の平均年齢: 25.936237283278405\n"
     ]
    }
   ],
   "source": [
    "male_age = 0 # 男性の年齢を加える変数 (全男性の合計年齢)\n",
    "female_age = 0 # 女性の年齢を加える変数(全女性の合計年齢)\n",
    "\n",
    "for i in data.index:\n",
    "    if data.at[i,'性別'] == 1: # ID i の人が男性なら\n",
    "        # 男性の年齢の合計にID i の人の年齢を加える\n",
    "        male_age = male_age + data.at[i,'年齢']\n",
    "    else: # ID i の人が女性なら\n",
    "        # 女性の年齢の合計にID i の人の年齢を加える\n",
    "        female_age = female_age + data.at[i,'年齢']\n",
    "\n",
    "# 年齢の総合計を人数で割り、男性と女性の平均年齢を計算\n",
    "print('男性の平均年齢:', male_age/male, '女性の平均年齢:', female_age/female)"
   ]
  },
  {
   "cell_type": "code",
   "execution_count": 5,
   "metadata": {},
   "outputs": [
    {
     "name": "stdout",
     "output_type": "stream",
     "text": [
      "男性の分散: 193.83703523730614 標準偏差 13.922536954065022\n",
      "女性の分散: 185.49715225548925 標準偏差 13.61973392748512\n"
     ]
    }
   ],
   "source": [
    "ave_male_age=male_age/male # 男性の平均年齢\n",
    "ave_female_age=female_age/female # 女性の平均年齢\n",
    "\n",
    "var_male=0 # 男性の分散を求める変数\n",
    "var_female=0 # 女性の分散を求める変数\n",
    "\n",
    "for i in data.index: \n",
    "    if data.at[i,'性別']==1: # ID iの人が男性(1)なら\n",
    "        #男性の個々の年齢と年齢平均の差の二乗を求めてvar_maleに加算\n",
    "        var_male+=(data.at[i,'年齢']-ave_male_age)**2 \n",
    "    else: # ID iの人が女性(2)なら\n",
    "        #女性の個々の年齢と年齢平均の差の二乗を求めてvar_maleに加算\n",
    "        var_female+=(data.at[i,'年齢']-ave_female_age)**2 \n",
    "\n",
    "var_male/=male #男性の年齢平均と個々の年齢の差の二乗の合計/人数\n",
    "var_female/=female #女性の年齢平均と個々の年齢の差の二乗の合計/人数\n",
    "\n",
    "# 標準偏差は分散(var_maleまたはvar_female)の平方根\n",
    "print('男性の分散:',var_male,'標準偏差',np.sqrt(var_male))\n",
    "print('女性の分散:',var_female,'標準偏差',np.sqrt(var_female))"
   ]
  },
  {
   "cell_type": "code",
   "execution_count": 3,
   "metadata": {},
   "outputs": [
    {
     "name": "stdout",
     "output_type": "stream",
     "text": [
      "min: 1\n",
      "max: 55\n"
     ]
    }
   ],
   "source": [
    "df_s = data.sort_values('年齢') # 並び替え\n",
    "print('min:',df_s.iloc[0,0]) # 年齢の0番目\n",
    "# 年齢の14341番目\n",
    "print('max:',df_s.iloc[len(data)-1,0]) "
   ]
  },
  {
   "cell_type": "code",
   "execution_count": 5,
   "metadata": {},
   "outputs": [
    {
     "name": "stdout",
     "output_type": "stream",
     "text": [
      "50%点の位置: 7170.5 小数: 0.5 中央値: 27.0\n"
     ]
    }
   ],
   "source": [
    "c50_i = (len(df_s)-1) * 50 / 100 # 整数部\n",
    "s = c50_i - int(c50_i) # 50%点を計算するための小数部\n",
    "#「i番目の年齢 + 小数部分 (i+1番目の年齢 - i番目の年齢)」\n",
    "c50 = df_s.iloc[int(c50_i), 0] + s*(df_s.iloc[int(c50_i)+1, 0] - df_s.iloc[int(c50_i), 0])\n",
    "print('50%点の位置:',c50_i, '小数:',s, '中央値:',c50)"
   ]
  },
  {
   "cell_type": "code",
   "execution_count": 8,
   "metadata": {},
   "outputs": [
    {
     "data": {
      "text/plain": [
       "27"
      ]
     },
     "execution_count": 8,
     "metadata": {},
     "output_type": "execute_result"
    }
   ],
   "source": [
    "df_s.iloc[int(c50_i)+1,0]"
   ]
  },
  {
   "cell_type": "code",
   "execution_count": 7,
   "metadata": {},
   "outputs": [
    {
     "name": "stdout",
     "output_type": "stream",
     "text": [
      "中央値の計算に使う位置は 7170 と 7171 です。\n",
      "中央値: 27.0\n"
     ]
    }
   ],
   "source": [
    "# 別の方法\n",
    "if len(df_s) % 2 == 0: # 偶数の場合\n",
    "    c1 = int((len(df_s) - 1) * 50/ 100)\n",
    "    c2 = c1 + 1\n",
    "    print('中央値の計算に使う位置は',c1,'と',c2,'です。')\n",
    "    print('中央値:',(df_s.iloc[c1,0] + df_s.iloc[c2,0])/2)\n",
    "else: # 奇数の場合\n",
    "    c1 = int((len(df_s) + 1) / 2 - 1)\n",
    "    print('中央値の計算に使う位置は',c1,'です。')\n",
    "    print('中央値:',df_s.iloc[int(c1),0])"
   ]
  },
  {
   "cell_type": "code",
   "execution_count": 10,
   "metadata": {},
   "outputs": [
    {
     "name": "stdout",
     "output_type": "stream",
     "text": [
      "25%点の位置: 3585.25 小数: 0.25 25%点: 15.0\n",
      "75%点の位置: 10755.75 小数: 0.75 75%点: 37.0\n"
     ]
    }
   ],
   "source": [
    "c25_i = (len(df_s)-1) * 25/100 \n",
    "s = c25_i - int(c25_i) # 25%点を計算するための小数部\n",
    "#「i番目の年齢 + 小数部分 (i+1番目の年齢 - i番目の年齢)」\n",
    "c25 = df_s.iloc[int(c25_i), 0] + s*(df_s.iloc[int(c25_i)+1, 0] - df_s.iloc[int(c25_i), 0])\n",
    "print('25%点の位置:',c25_i, '小数:',s, '25%点:',c25) \n",
    "c75_i = (len(df_s)-1)*75/100 # 整数部の計算\n",
    "s = c75_i - int(c75_i) # 小数部の計算\n",
    "c75 = df_s.iloc[int(c75_i), 0] + s*(df_s.iloc[int(c75_i)+1, 0] - df_s.iloc[int(c75_i), 0])\n",
    "print('75%点の位置:',c75_i, '小数:',s,'75%点:',c75)"
   ]
  },
  {
   "cell_type": "code",
   "execution_count": 10,
   "metadata": {},
   "outputs": [
    {
     "name": "stdout",
     "output_type": "stream",
     "text": [
      "             度数\n",
      "(0,10]   2426.0\n",
      "(10,20]  2750.0\n",
      "(20,30]  3463.0\n",
      "(30,40]  3227.0\n",
      "(40,50]  1924.0\n",
      "(50,60]   552.0\n"
     ]
    }
   ],
   "source": [
    "age_df = pd.DataFrame(np.zeros(6))\n",
    "age_df.columns = ['度数'] # カラム名を変更\n",
    "for i in data.index:\n",
    "    age = int((data.at[i,'年齢']-1)/10)\n",
    "    age_df.iat[age,0] += 1    \n",
    "age_df.index = ['(0,10]', '(10,20]', '(20,30]', '(30,40]', '(40,50]', '(50,60]'] # 出力用のインデックス名\n",
    "print(age_df) "
   ]
  },
  {
   "cell_type": "code",
   "execution_count": 12,
   "metadata": {},
   "outputs": [
    {
     "name": "stdout",
     "output_type": "stream",
     "text": [
      "1    7363\n",
      "2    6979\n",
      "Name: 性別, dtype: int64\n"
     ]
    }
   ],
   "source": [
    "#指定したカラムの値ごとにカウントする\n",
    "print(data['性別'].value_counts())\n",
    "# 1は男性の人数、2は女性の人数"
   ]
  },
  {
   "cell_type": "code",
   "execution_count": 13,
   "metadata": {},
   "outputs": [
    {
     "name": "stdout",
     "output_type": "stream",
     "text": [
      "count    14342.000000\n",
      "mean        26.139241\n",
      "std         13.777919\n",
      "min          1.000000\n",
      "25%         15.000000\n",
      "50%         27.000000\n",
      "75%         37.000000\n",
      "max         55.000000\n",
      "Name: 年齢, dtype: float64\n"
     ]
    }
   ],
   "source": [
    "#指定したカラムの基本統計量を計算する\n",
    "print(data['年齢'].describe())\n",
    "# count は data 内の人数\n",
    "# mean は平均\n",
    "# std は標準偏差(不偏)\n",
    "# min は最小値, max は最大値\n",
    "# 25%は25%点\n",
    "# 50%は中央値\n",
    "# 75%は75%点"
   ]
  },
  {
   "cell_type": "code",
   "execution_count": 14,
   "metadata": {},
   "outputs": [
    {
     "name": "stdout",
     "output_type": "stream",
     "text": [
      "(20, 30]    3463\n",
      "(30, 40]    3227\n",
      "(10, 20]    2750\n",
      "(0, 10]     2426\n",
      "(40, 50]    1924\n",
      "(50, 60]     552\n",
      "Name: 年齢, dtype: int64\n"
     ]
    }
   ],
   "source": [
    "#cutとvalue_countsの組み合わせ\n",
    "age = pd.cut(data['年齢'], bins=[0,10, 20, 30, 40, 50, 60])\n",
    "#binsの数値を境に年齢を分割\n",
    "p_data = age.value_counts()\n",
    "# 数値をカウントし度数を出力\n",
    "print(p_data)"
   ]
  },
  {
   "cell_type": "code",
   "execution_count": 15,
   "metadata": {},
   "outputs": [
    {
     "data": {
      "text/html": [
       "<div>\n",
       "<style scoped>\n",
       "    .dataframe tbody tr th:only-of-type {\n",
       "        vertical-align: middle;\n",
       "    }\n",
       "\n",
       "    .dataframe tbody tr th {\n",
       "        vertical-align: top;\n",
       "    }\n",
       "\n",
       "    .dataframe thead th {\n",
       "        text-align: right;\n",
       "    }\n",
       "</style>\n",
       "<table border=\"1\" class=\"dataframe\">\n",
       "  <thead>\n",
       "    <tr style=\"text-align: right;\">\n",
       "      <th></th>\n",
       "      <th>国語</th>\n",
       "      <th>数学</th>\n",
       "      <th>英語</th>\n",
       "      <th>理科</th>\n",
       "      <th>社会</th>\n",
       "      <th>音楽</th>\n",
       "      <th>体育</th>\n",
       "      <th>技術家庭</th>\n",
       "    </tr>\n",
       "    <tr>\n",
       "      <th>ID</th>\n",
       "      <th></th>\n",
       "      <th></th>\n",
       "      <th></th>\n",
       "      <th></th>\n",
       "      <th></th>\n",
       "      <th></th>\n",
       "      <th></th>\n",
       "      <th></th>\n",
       "    </tr>\n",
       "  </thead>\n",
       "  <tbody>\n",
       "    <tr>\n",
       "      <th>10001</th>\n",
       "      <td>75</td>\n",
       "      <td>55</td>\n",
       "      <td>72</td>\n",
       "      <td>48</td>\n",
       "      <td>74</td>\n",
       "      <td>39</td>\n",
       "      <td>62</td>\n",
       "      <td>37</td>\n",
       "    </tr>\n",
       "    <tr>\n",
       "      <th>10002</th>\n",
       "      <td>74</td>\n",
       "      <td>35</td>\n",
       "      <td>56</td>\n",
       "      <td>86</td>\n",
       "      <td>72</td>\n",
       "      <td>56</td>\n",
       "      <td>89</td>\n",
       "      <td>59</td>\n",
       "    </tr>\n",
       "    <tr>\n",
       "      <th>...</th>\n",
       "      <td>...</td>\n",
       "      <td>...</td>\n",
       "      <td>...</td>\n",
       "      <td>...</td>\n",
       "      <td>...</td>\n",
       "      <td>...</td>\n",
       "      <td>...</td>\n",
       "      <td>...</td>\n",
       "    </tr>\n",
       "    <tr>\n",
       "      <th>11131</th>\n",
       "      <td>77</td>\n",
       "      <td>42</td>\n",
       "      <td>61</td>\n",
       "      <td>58</td>\n",
       "      <td>72</td>\n",
       "      <td>66</td>\n",
       "      <td>76</td>\n",
       "      <td>54</td>\n",
       "    </tr>\n",
       "    <tr>\n",
       "      <th>11132</th>\n",
       "      <td>70</td>\n",
       "      <td>34</td>\n",
       "      <td>57</td>\n",
       "      <td>50</td>\n",
       "      <td>81</td>\n",
       "      <td>40</td>\n",
       "      <td>35</td>\n",
       "      <td>49</td>\n",
       "    </tr>\n",
       "  </tbody>\n",
       "</table>\n",
       "<p>1132 rows × 8 columns</p>\n",
       "</div>"
      ],
      "text/plain": [
       "       国語  数学  英語  理科  社会  音楽  体育  技術家庭\n",
       "ID                                     \n",
       "10001  75  55  72  48  74  39  62    37\n",
       "10002  74  35  56  86  72  56  89    59\n",
       "...    ..  ..  ..  ..  ..  ..  ..   ...\n",
       "11131  77  42  61  58  72  66  76    54\n",
       "11132  70  34  57  50  81  40  35    49\n",
       "\n",
       "[1132 rows x 8 columns]"
      ]
     },
     "metadata": {},
     "output_type": "display_data"
    }
   ],
   "source": [
    "import pandas as pd \n",
    "df = pd.read_csv('data//seiseki_8s.csv',index_col='ID')\n",
    "# Jupyter Notebook 上で表示するサイズを設定\n",
    "pd.set_option('display.max_columns', 9) # 列数を9に制限\n",
    "pd.set_option('display.max_rows', 4) # 行数を4に制限\n",
    "# 小数点の有効桁数を2桁へ変更\n",
    "pd.options.display.precision = 2 \n",
    "display(df)"
   ]
  },
  {
   "cell_type": "code",
   "execution_count": 16,
   "metadata": {},
   "outputs": [
    {
     "data": {
      "text/html": [
       "<div>\n",
       "<style scoped>\n",
       "    .dataframe tbody tr th:only-of-type {\n",
       "        vertical-align: middle;\n",
       "    }\n",
       "\n",
       "    .dataframe tbody tr th {\n",
       "        vertical-align: top;\n",
       "    }\n",
       "\n",
       "    .dataframe thead th {\n",
       "        text-align: right;\n",
       "    }\n",
       "</style>\n",
       "<table border=\"1\" class=\"dataframe\">\n",
       "  <thead>\n",
       "    <tr style=\"text-align: right;\">\n",
       "      <th></th>\n",
       "      <th>国語</th>\n",
       "      <th>数学</th>\n",
       "      <th>英語</th>\n",
       "      <th>理科</th>\n",
       "      <th>社会</th>\n",
       "      <th>音楽</th>\n",
       "      <th>体育</th>\n",
       "      <th>技術家庭</th>\n",
       "    </tr>\n",
       "  </thead>\n",
       "  <tbody>\n",
       "    <tr>\n",
       "      <th>count</th>\n",
       "      <td>1132.00</td>\n",
       "      <td>1132.00</td>\n",
       "      <td>1132.00</td>\n",
       "      <td>1132.00</td>\n",
       "      <td>1132.00</td>\n",
       "      <td>1132.00</td>\n",
       "      <td>1132.00</td>\n",
       "      <td>1132.00</td>\n",
       "    </tr>\n",
       "    <tr>\n",
       "      <th>mean</th>\n",
       "      <td>70.44</td>\n",
       "      <td>48.64</td>\n",
       "      <td>62.35</td>\n",
       "      <td>49.07</td>\n",
       "      <td>69.53</td>\n",
       "      <td>47.83</td>\n",
       "      <td>65.94</td>\n",
       "      <td>55.40</td>\n",
       "    </tr>\n",
       "    <tr>\n",
       "      <th>std</th>\n",
       "      <td>8.15</td>\n",
       "      <td>16.71</td>\n",
       "      <td>10.93</td>\n",
       "      <td>13.61</td>\n",
       "      <td>8.80</td>\n",
       "      <td>14.69</td>\n",
       "      <td>11.39</td>\n",
       "      <td>14.45</td>\n",
       "    </tr>\n",
       "    <tr>\n",
       "      <th>min</th>\n",
       "      <td>40.00</td>\n",
       "      <td>0.00</td>\n",
       "      <td>30.00</td>\n",
       "      <td>10.00</td>\n",
       "      <td>40.00</td>\n",
       "      <td>0.00</td>\n",
       "      <td>30.00</td>\n",
       "      <td>10.00</td>\n",
       "    </tr>\n",
       "    <tr>\n",
       "      <th>25%</th>\n",
       "      <td>65.00</td>\n",
       "      <td>38.00</td>\n",
       "      <td>55.00</td>\n",
       "      <td>40.00</td>\n",
       "      <td>64.00</td>\n",
       "      <td>38.00</td>\n",
       "      <td>59.00</td>\n",
       "      <td>46.00</td>\n",
       "    </tr>\n",
       "    <tr>\n",
       "      <th>50%</th>\n",
       "      <td>70.00</td>\n",
       "      <td>48.00</td>\n",
       "      <td>62.00</td>\n",
       "      <td>49.00</td>\n",
       "      <td>69.00</td>\n",
       "      <td>48.00</td>\n",
       "      <td>66.00</td>\n",
       "      <td>56.00</td>\n",
       "    </tr>\n",
       "    <tr>\n",
       "      <th>75%</th>\n",
       "      <td>76.00</td>\n",
       "      <td>59.25</td>\n",
       "      <td>70.00</td>\n",
       "      <td>59.00</td>\n",
       "      <td>75.00</td>\n",
       "      <td>57.00</td>\n",
       "      <td>74.00</td>\n",
       "      <td>66.00</td>\n",
       "    </tr>\n",
       "    <tr>\n",
       "      <th>max</th>\n",
       "      <td>100.00</td>\n",
       "      <td>100.00</td>\n",
       "      <td>100.00</td>\n",
       "      <td>100.00</td>\n",
       "      <td>100.00</td>\n",
       "      <td>100.00</td>\n",
       "      <td>100.00</td>\n",
       "      <td>100.00</td>\n",
       "    </tr>\n",
       "  </tbody>\n",
       "</table>\n",
       "</div>"
      ],
      "text/plain": [
       "            国語       数学       英語       理科       社会       音楽       体育     技術家庭\n",
       "count  1132.00  1132.00  1132.00  1132.00  1132.00  1132.00  1132.00  1132.00\n",
       "mean     70.44    48.64    62.35    49.07    69.53    47.83    65.94    55.40\n",
       "std       8.15    16.71    10.93    13.61     8.80    14.69    11.39    14.45\n",
       "min      40.00     0.00    30.00    10.00    40.00     0.00    30.00    10.00\n",
       "25%      65.00    38.00    55.00    40.00    64.00    38.00    59.00    46.00\n",
       "50%      70.00    48.00    62.00    49.00    69.00    48.00    66.00    56.00\n",
       "75%      76.00    59.25    70.00    59.00    75.00    57.00    74.00    66.00\n",
       "max     100.00   100.00   100.00   100.00   100.00   100.00   100.00   100.00"
      ]
     },
     "metadata": {},
     "output_type": "display_data"
    }
   ],
   "source": [
    "pd.set_option('display.max_rows', 8)\n",
    "display(df.describe())"
   ]
  },
  {
   "cell_type": "code",
   "execution_count": 17,
   "metadata": {},
   "outputs": [
    {
     "data": {
      "text/html": [
       "<div>\n",
       "<style scoped>\n",
       "    .dataframe tbody tr th:only-of-type {\n",
       "        vertical-align: middle;\n",
       "    }\n",
       "\n",
       "    .dataframe tbody tr th {\n",
       "        vertical-align: top;\n",
       "    }\n",
       "\n",
       "    .dataframe thead th {\n",
       "        text-align: right;\n",
       "    }\n",
       "</style>\n",
       "<table border=\"1\" class=\"dataframe\">\n",
       "  <thead>\n",
       "    <tr style=\"text-align: right;\">\n",
       "      <th></th>\n",
       "      <th>国語</th>\n",
       "      <th>数学</th>\n",
       "      <th>英語</th>\n",
       "      <th>理科</th>\n",
       "      <th>社会</th>\n",
       "      <th>音楽</th>\n",
       "      <th>体育</th>\n",
       "      <th>技術家庭</th>\n",
       "    </tr>\n",
       "    <tr>\n",
       "      <th>ID</th>\n",
       "      <th></th>\n",
       "      <th></th>\n",
       "      <th></th>\n",
       "      <th></th>\n",
       "      <th></th>\n",
       "      <th></th>\n",
       "      <th></th>\n",
       "      <th></th>\n",
       "    </tr>\n",
       "  </thead>\n",
       "  <tbody>\n",
       "    <tr>\n",
       "      <th>10774</th>\n",
       "      <td>83</td>\n",
       "      <td>54</td>\n",
       "      <td>78</td>\n",
       "      <td>58</td>\n",
       "      <td>78</td>\n",
       "      <td>56</td>\n",
       "      <td>60</td>\n",
       "      <td>50</td>\n",
       "    </tr>\n",
       "    <tr>\n",
       "      <th>11007</th>\n",
       "      <td>72</td>\n",
       "      <td>51</td>\n",
       "      <td>74</td>\n",
       "      <td>56</td>\n",
       "      <td>78</td>\n",
       "      <td>36</td>\n",
       "      <td>66</td>\n",
       "      <td>59</td>\n",
       "    </tr>\n",
       "    <tr>\n",
       "      <th>11068</th>\n",
       "      <td>90</td>\n",
       "      <td>59</td>\n",
       "      <td>71</td>\n",
       "      <td>58</td>\n",
       "      <td>90</td>\n",
       "      <td>70</td>\n",
       "      <td>59</td>\n",
       "      <td>59</td>\n",
       "    </tr>\n",
       "  </tbody>\n",
       "</table>\n",
       "</div>"
      ],
      "text/plain": [
       "       国語  数学  英語  理科  社会  音楽  体育  技術家庭\n",
       "ID                                     \n",
       "10774  83  54  78  58  78  56  60    50\n",
       "11007  72  51  74  56  78  36  66    59\n",
       "11068  90  59  71  58  90  70  59    59"
      ]
     },
     "execution_count": 17,
     "metadata": {},
     "output_type": "execute_result"
    }
   ],
   "source": [
    "df.query('国語> 70 and 英語> 70 and 社会> 70 and 50 < 数学 < 60 and 50 < 理科 < 60')\n"
   ]
  },
  {
   "cell_type": "code",
   "execution_count": 18,
   "metadata": {},
   "outputs": [
    {
     "name": "stdout",
     "output_type": "stream",
     "text": [
      "国語      73.99\n",
      "数学      56.20\n",
      "英語      57.92\n",
      "理科      56.56\n",
      "社会      73.26\n",
      "音楽      65.09\n",
      "体育      43.91\n",
      "技術家庭    52.49\n",
      "Name: 11068, dtype: float64\n"
     ]
    }
   ],
   "source": [
    "# 元のデータが変更されないように避難\n",
    "dfh = df.copy() \n",
    "# カラム名を利用して繰り返し\n",
    "for i in dfh.columns: # 8回繰り返し\n",
    "    t = dfh.loc[:,i] # 式を短くする工夫\n",
    "    # 平均50, 標準偏差10の偏差値を計算\n",
    "    dfh.loc[:,i] = (t - t.mean()) / (t.std()) * 10 + 50\n",
    "    \n",
    "print(dfh.loc[11068,:]) # 指定学生の成績\n"
   ]
  },
  {
   "cell_type": "code",
   "execution_count": 19,
   "metadata": {},
   "outputs": [
    {
     "name": "stdout",
     "output_type": "stream",
     "text": [
      "Empty DataFrame\n",
      "Columns: [国語, 数学, 英語, 理科, 社会, 音楽, 体育, 技術家庭]\n",
      "Index: []\n"
     ]
    }
   ],
   "source": [
    "print(df.query('国語 < 65 and 数学 < 38 and 英語< 55 and 理科 < 40 and 社会 < 64'))\n"
   ]
  },
  {
   "cell_type": "code",
   "execution_count": 20,
   "metadata": {},
   "outputs": [
    {
     "name": "stdout",
     "output_type": "stream",
     "text": [
      "Empty DataFrame\n",
      "Columns: [国語, 数学, 英語, 理科, 社会, 音楽, 体育, 技術家庭]\n",
      "Index: []\n"
     ]
    }
   ],
   "source": [
    "print(df.query('国語 >= 76 and 数学 >= 59 and 英語 >= 70 and 理科 >= 59 and 社会 >= 75 and 音楽 >=57 and 体育 >=74 and 技術家庭 >=66'))\n"
   ]
  },
  {
   "cell_type": "code",
   "execution_count": 21,
   "metadata": {},
   "outputs": [
    {
     "name": "stdout",
     "output_type": "stream",
     "text": [
      "       国語  数学  英語  理科  社会  音楽  体育  技術家庭\n",
      "ID                                     \n",
      "10436  81  61  71  72  85  53  67    38\n",
      "10711  77  59  79  65  75  41  66    41\n",
      "10882  80  62  73  59  77  59  51    65\n"
     ]
    }
   ],
   "source": [
    "print(df.query('国語 >= 76 and 数学 >= 59 and 英語 >= 70 and 理科 >= 59 and 社会 >= 75'))\n"
   ]
  },
  {
   "cell_type": "code",
   "execution_count": 23,
   "metadata": {},
   "outputs": [],
   "source": [
    "df['s'] = df.T.sum() # 合計入りの成績表\n",
    "filepass = 'data//pandas_seiseki.xlsx' #保存用ファイルパス\n",
    "#with pd.ExcelWriter(filepass,encoding='utf-8') as w:\n",
    "with pd.ExcelWriter(filepass,encoding='shift-jis') as w:    \n",
    "  df.to_excel(w, sheet_name='成績表')\n",
    "  dfh.to_excel(w, sheet_name='偏差値表')\n",
    "  df.sort_values('s', ascending = False).to_excel(w, sheet_name = '成績表(合計で降順済)')\n",
    "  df['s'].describe().to_excel(w, sheet_name = '合計の基本統計量')\n",
    "  df.query('国語 >= 76 and 数学 >= 59 and 英語 >= 70 and 理科 >= 59 and 社会 >= 75').to_excel(w, sheet_name='優秀な学生')\n"
   ]
  },
  {
   "cell_type": "code",
   "execution_count": 24,
   "metadata": {},
   "outputs": [
    {
     "data": {
      "text/html": [
       "<div>\n",
       "<style scoped>\n",
       "    .dataframe tbody tr th:only-of-type {\n",
       "        vertical-align: middle;\n",
       "    }\n",
       "\n",
       "    .dataframe tbody tr th {\n",
       "        vertical-align: top;\n",
       "    }\n",
       "\n",
       "    .dataframe thead tr th {\n",
       "        text-align: left;\n",
       "    }\n",
       "</style>\n",
       "<table border=\"1\" class=\"dataframe\">\n",
       "  <thead>\n",
       "    <tr>\n",
       "      <th></th>\n",
       "      <th>学年</th>\n",
       "      <th colspan=\"4\" halign=\"left\">1</th>\n",
       "      <th>...</th>\n",
       "      <th colspan=\"4\" halign=\"left\">3</th>\n",
       "    </tr>\n",
       "    <tr>\n",
       "      <th></th>\n",
       "      <th>クラス</th>\n",
       "      <th>A</th>\n",
       "      <th>B</th>\n",
       "      <th>C</th>\n",
       "      <th>D</th>\n",
       "      <th>...</th>\n",
       "      <th>G</th>\n",
       "      <th>H</th>\n",
       "      <th>I</th>\n",
       "      <th>J</th>\n",
       "    </tr>\n",
       "  </thead>\n",
       "  <tbody>\n",
       "    <tr>\n",
       "      <th rowspan=\"4\" valign=\"top\">国語</th>\n",
       "      <th>count</th>\n",
       "      <td>25.00</td>\n",
       "      <td>18.00</td>\n",
       "      <td>28.00</td>\n",
       "      <td>34.00</td>\n",
       "      <td>...</td>\n",
       "      <td>20.00</td>\n",
       "      <td>23.00</td>\n",
       "      <td>57.00</td>\n",
       "      <td>26.00</td>\n",
       "    </tr>\n",
       "    <tr>\n",
       "      <th>mean</th>\n",
       "      <td>67.76</td>\n",
       "      <td>66.17</td>\n",
       "      <td>65.54</td>\n",
       "      <td>67.38</td>\n",
       "      <td>...</td>\n",
       "      <td>69.45</td>\n",
       "      <td>75.13</td>\n",
       "      <td>74.54</td>\n",
       "      <td>76.81</td>\n",
       "    </tr>\n",
       "    <tr>\n",
       "      <th>std</th>\n",
       "      <td>9.91</td>\n",
       "      <td>13.34</td>\n",
       "      <td>12.80</td>\n",
       "      <td>10.63</td>\n",
       "      <td>...</td>\n",
       "      <td>11.61</td>\n",
       "      <td>10.77</td>\n",
       "      <td>9.16</td>\n",
       "      <td>10.91</td>\n",
       "    </tr>\n",
       "    <tr>\n",
       "      <th>min</th>\n",
       "      <td>50.00</td>\n",
       "      <td>40.00</td>\n",
       "      <td>44.00</td>\n",
       "      <td>45.00</td>\n",
       "      <td>...</td>\n",
       "      <td>54.00</td>\n",
       "      <td>50.00</td>\n",
       "      <td>55.00</td>\n",
       "      <td>52.00</td>\n",
       "    </tr>\n",
       "    <tr>\n",
       "      <th>...</th>\n",
       "      <th>...</th>\n",
       "      <td>...</td>\n",
       "      <td>...</td>\n",
       "      <td>...</td>\n",
       "      <td>...</td>\n",
       "      <td>...</td>\n",
       "      <td>...</td>\n",
       "      <td>...</td>\n",
       "      <td>...</td>\n",
       "      <td>...</td>\n",
       "    </tr>\n",
       "    <tr>\n",
       "      <th rowspan=\"4\" valign=\"top\">技術家庭</th>\n",
       "      <th>25%</th>\n",
       "      <td>36.00</td>\n",
       "      <td>31.75</td>\n",
       "      <td>42.50</td>\n",
       "      <td>38.50</td>\n",
       "      <td>...</td>\n",
       "      <td>44.75</td>\n",
       "      <td>48.00</td>\n",
       "      <td>45.00</td>\n",
       "      <td>43.50</td>\n",
       "    </tr>\n",
       "    <tr>\n",
       "      <th>50%</th>\n",
       "      <td>47.00</td>\n",
       "      <td>41.50</td>\n",
       "      <td>52.00</td>\n",
       "      <td>54.00</td>\n",
       "      <td>...</td>\n",
       "      <td>60.50</td>\n",
       "      <td>58.00</td>\n",
       "      <td>59.00</td>\n",
       "      <td>52.00</td>\n",
       "    </tr>\n",
       "    <tr>\n",
       "      <th>75%</th>\n",
       "      <td>55.00</td>\n",
       "      <td>55.75</td>\n",
       "      <td>63.00</td>\n",
       "      <td>62.75</td>\n",
       "      <td>...</td>\n",
       "      <td>73.00</td>\n",
       "      <td>66.50</td>\n",
       "      <td>72.00</td>\n",
       "      <td>65.50</td>\n",
       "    </tr>\n",
       "    <tr>\n",
       "      <th>max</th>\n",
       "      <td>74.00</td>\n",
       "      <td>70.00</td>\n",
       "      <td>74.00</td>\n",
       "      <td>77.00</td>\n",
       "      <td>...</td>\n",
       "      <td>93.00</td>\n",
       "      <td>93.00</td>\n",
       "      <td>99.00</td>\n",
       "      <td>84.00</td>\n",
       "    </tr>\n",
       "  </tbody>\n",
       "</table>\n",
       "<p>64 rows × 30 columns</p>\n",
       "</div>"
      ],
      "text/plain": [
       "学年              1                       ...      3                     \n",
       "クラス             A      B      C      D  ...      G      H      I      J\n",
       "国語   count  25.00  18.00  28.00  34.00  ...  20.00  23.00  57.00  26.00\n",
       "     mean   67.76  66.17  65.54  67.38  ...  69.45  75.13  74.54  76.81\n",
       "     std     9.91  13.34  12.80  10.63  ...  11.61  10.77   9.16  10.91\n",
       "     min    50.00  40.00  44.00  45.00  ...  54.00  50.00  55.00  52.00\n",
       "...           ...    ...    ...    ...  ...    ...    ...    ...    ...\n",
       "技術家庭 25%    36.00  31.75  42.50  38.50  ...  44.75  48.00  45.00  43.50\n",
       "     50%    47.00  41.50  52.00  54.00  ...  60.50  58.00  59.00  52.00\n",
       "     75%    55.00  55.75  63.00  62.75  ...  73.00  66.50  72.00  65.50\n",
       "     max    74.00  70.00  74.00  77.00  ...  93.00  93.00  99.00  84.00\n",
       "\n",
       "[64 rows x 30 columns]"
      ]
     },
     "metadata": {},
     "output_type": "display_data"
    }
   ],
   "source": [
    "df = pd.read_csv('data//seiseki_3_10.csv',index_col='ID')\n",
    "pd.set_option('display.max_columns', 8) # \n",
    "pd.set_option('display.max_rows', 8)\n",
    "pd.options.display.precision = 2\n",
    "new_df = df.groupby(['学年','クラス']).describe().T\n",
    "display(new_df)"
   ]
  },
  {
   "cell_type": "code",
   "execution_count": 26,
   "metadata": {},
   "outputs": [],
   "source": [
    "filepass = 'data//pandas_seiseki_3_10.xlsx'\n",
    "new_df2 = df.groupby(['学年']).describe().T\n",
    "#with pd.ExcelWriter(filepass,encoding='utf-8') as w:\n",
    "with pd.ExcelWriter(filepass,encoding='shift-jis') as w:    \n",
    "  df.to_excel(w, sheet_name='成績表一覧')\n",
    "  new_df.to_excel(w, sheet_name='学年とクラス別')\n",
    "  new_df2.to_excel(w, sheet_name='学年別')\n",
    "  df.query('国語 >= 60 and 数学 >= 60 and 英語 >= 60 and 理科 >= 60 and 社会 >= 60').to_excel(w, sheet_name='優秀な学生')"
   ]
  },
  {
   "cell_type": "code",
   "execution_count": 28,
   "metadata": {},
   "outputs": [
    {
     "data": {
      "text/html": [
       "<div>\n",
       "<style scoped>\n",
       "    .dataframe tbody tr th:only-of-type {\n",
       "        vertical-align: middle;\n",
       "    }\n",
       "\n",
       "    .dataframe tbody tr th {\n",
       "        vertical-align: top;\n",
       "    }\n",
       "\n",
       "    .dataframe thead th {\n",
       "        text-align: right;\n",
       "    }\n",
       "</style>\n",
       "<table border=\"1\" class=\"dataframe\">\n",
       "  <thead>\n",
       "    <tr style=\"text-align: right;\">\n",
       "      <th></th>\n",
       "      <th>ren</th>\n",
       "    </tr>\n",
       "  </thead>\n",
       "  <tbody>\n",
       "    <tr>\n",
       "      <th>0</th>\n",
       "      <td>5</td>\n",
       "    </tr>\n",
       "    <tr>\n",
       "      <th>1</th>\n",
       "      <td>6</td>\n",
       "    </tr>\n",
       "    <tr>\n",
       "      <th>2</th>\n",
       "      <td>7</td>\n",
       "    </tr>\n",
       "  </tbody>\n",
       "</table>\n",
       "</div>"
      ],
      "text/plain": [
       "   ren\n",
       "0    5\n",
       "1    6\n",
       "2    7"
      ]
     },
     "metadata": {},
     "output_type": "display_data"
    },
    {
     "name": "stdout",
     "output_type": "stream",
     "text": [
      "平均: 6.0 分散: 0.6666666666666666\n"
     ]
    }
   ],
   "source": [
    "df = pd.DataFrame({'ren':np.arange(5,8)})\n",
    "display(df)\n",
    "goukei = 0 # 合計を入れる変数\n",
    "ave = 0 # 平均を入れる変数\n",
    "var = 0 # 分散を入れる変数\n",
    "# 平均値を求めるために合計を算出\n",
    "for k in df.index:  \n",
    "    goukei = goukei + df.at[k,'ren']\n",
    "ave = goukei / df.size # 平均値の計算\n",
    "# 平均値を求めるために合計を算出\n",
    "for j in df.index:\n",
    "    var = var + (df.at[j,'ren']-ave)**2\n",
    "var = var / df.size # 分散を計算\n",
    "# 平均と分散を出力 \n",
    "print('平均:',ave, '分散:',var) \n"
   ]
  },
  {
   "cell_type": "code",
   "execution_count": 29,
   "metadata": {},
   "outputs": [
    {
     "name": "stdout",
     "output_type": "stream",
     "text": [
      "min: 10\n",
      "max: 19\n",
      "25%点の位置: 2.25 小数: 0.25\n",
      "50%点の位置: 4.5 小数: 0.5\n",
      "75%点の位置: 6.75 小数: 0.75\n",
      "25%点: 12.25 50%点: 14.5 75%点: 16.75\n"
     ]
    }
   ],
   "source": [
    "df_ren = pd.DataFrame({'ren':np.arange(10,20)})\n",
    "df_rens = df_ren.sort_values('ren') # 並び替え\n",
    "\n",
    "print('min:',df_rens.iloc[0,0]) # 最小値\n",
    "print('max:',df_rens.iloc[len(df_rens)-1,0]) # 最大値\n",
    "#25%点を計算 # (n-1)p + 1\n",
    "c_i = (len(df_rens)-1)*25/100  # 位置を計算\n",
    "s = c_i - int(c_i) # 小数部 \n",
    "print('25%点の位置:',c_i, '小数:',s)\n",
    "c25 = df_rens.iloc[int(c_i), 0] + s*(df_rens.iloc[int(c_i)+1, 0] - df_rens.iloc[int(c_i), 0])\n",
    "# 中央値(50%点)を計算\n",
    "c_i = (len(df_rens)-1)*50/100 # 位置を計算\n",
    "s = c_i - int(c_i) # 小数部\n",
    "print('50%点の位置:',c_i, '小数:',s)\n",
    "c50 = df_rens.iloc[int(c_i), 0] + s*(df_rens.iloc[int(c_i)+1, 0] - df_rens.iloc[int(c_i), 0])\n",
    "# 75%点を計算\n",
    "c_i = (len(df_rens)-1)*75/100 # 位置を計算\n",
    "s = c_i - int(c_i) # 小数部\n",
    "print('75%点の位置:',c_i, '小数:',s)\n",
    "c75 = df_rens.iloc[int(c_i), 0] + s*(df_rens.iloc[int(c_i)+1, 0] - df_rens.iloc[int(c_i), 0])\n",
    "\n",
    "print('25%点:',c25, '50%点:',c50, '75%点:',c75)"
   ]
  },
  {
   "cell_type": "code",
   "execution_count": 30,
   "metadata": {},
   "outputs": [
    {
     "data": {
      "text/html": [
       "<div>\n",
       "<style scoped>\n",
       "    .dataframe tbody tr th:only-of-type {\n",
       "        vertical-align: middle;\n",
       "    }\n",
       "\n",
       "    .dataframe tbody tr th {\n",
       "        vertical-align: top;\n",
       "    }\n",
       "\n",
       "    .dataframe thead th {\n",
       "        text-align: right;\n",
       "    }\n",
       "</style>\n",
       "<table border=\"1\" class=\"dataframe\">\n",
       "  <thead>\n",
       "    <tr style=\"text-align: right;\">\n",
       "      <th></th>\n",
       "      <th>国語</th>\n",
       "      <th>数学</th>\n",
       "      <th>英語</th>\n",
       "      <th>理科</th>\n",
       "      <th>社会</th>\n",
       "      <th>音楽</th>\n",
       "      <th>体育</th>\n",
       "      <th>技術家庭</th>\n",
       "    </tr>\n",
       "    <tr>\n",
       "      <th>ID</th>\n",
       "      <th></th>\n",
       "      <th></th>\n",
       "      <th></th>\n",
       "      <th></th>\n",
       "      <th></th>\n",
       "      <th></th>\n",
       "      <th></th>\n",
       "      <th></th>\n",
       "    </tr>\n",
       "  </thead>\n",
       "  <tbody>\n",
       "    <tr>\n",
       "      <th>10863</th>\n",
       "      <td>85</td>\n",
       "      <td>86</td>\n",
       "      <td>81</td>\n",
       "      <td>40</td>\n",
       "      <td>53</td>\n",
       "      <td>43</td>\n",
       "      <td>78</td>\n",
       "      <td>70</td>\n",
       "    </tr>\n",
       "  </tbody>\n",
       "</table>\n",
       "</div>"
      ],
      "text/plain": [
       "       国語  数学  英語  理科  社会  音楽  体育  技術家庭\n",
       "ID                                     \n",
       "10863  85  86  81  40  53  43  78    70"
      ]
     },
     "execution_count": 30,
     "metadata": {},
     "output_type": "execute_result"
    }
   ],
   "source": [
    "df = pd.read_csv('data//seiseki_8s.csv',index_col='ID')\n",
    "df.query('国語> 80 and 英語> 80 and 数学 >80')\n"
   ]
  },
  {
   "cell_type": "code",
   "execution_count": 31,
   "metadata": {},
   "outputs": [
    {
     "name": "stdout",
     "output_type": "stream",
     "text": [
      "国語      67.86\n",
      "数学      72.36\n",
      "英語      67.07\n",
      "理科      43.34\n",
      "社会      31.21\n",
      "音楽      46.71\n",
      "体育      60.59\n",
      "技術家庭    60.11\n",
      "Name: 10863, dtype: float64\n"
     ]
    }
   ],
   "source": [
    "dfh = df.copy() \n",
    "for i in dfh.columns:\n",
    "    t = dfh.loc[:,i] \n",
    "    # 標準化を行う(平均50、標準偏差10の偏差値を計算)\n",
    "    dfh.loc[:,i] = (t - t.mean()) / (t.std()) * 10 + 50\n",
    "print(dfh.loc[10863,:])\n"
   ]
  }
 ],
 "metadata": {
  "kernelspec": {
   "display_name": "Python 3",
   "language": "python",
   "name": "python3"
  },
  "language_info": {
   "codemirror_mode": {
    "name": "ipython",
    "version": 3
   },
   "file_extension": ".py",
   "mimetype": "text/x-python",
   "name": "python",
   "nbconvert_exporter": "python",
   "pygments_lexer": "ipython3",
   "version": "3.7.6"
  }
 },
 "nbformat": 4,
 "nbformat_minor": 4
}
