{
 "cells": [
  {
   "cell_type": "code",
   "execution_count": 6,
   "metadata": {},
   "outputs": [
    {
     "name": "stdout",
     "output_type": "stream",
     "text": [
      "Love\n",
      "2\n",
      "3.14\n"
     ]
    }
   ],
   "source": [
    "h_str = 'Love' # 変数に文字列を設定\n",
    "print(h_str)   # 変数に設定した文字列を出力\n",
    "h_int = 2      # 数値を変数に設定\n",
    "print(h_int)   # 設定した数値を変数名で出力\n",
    "h_float = 3.14 # 数値を変数に設定\n",
    "print(h_float) # 設定した数値を変数名で出力"
   ]
  },
  {
   "cell_type": "code",
   "execution_count": null,
   "metadata": {},
   "outputs": [],
   "source": [
    "from turtle import *\n",
    "\n",
    "forward(100)\n",
    "left(120)\n",
    "forward(100) \n",
    "left(120)\n",
    "forward(100) \n",
    "done()"
   ]
  },
  {
   "cell_type": "code",
   "execution_count": 3,
   "metadata": {},
   "outputs": [],
   "source": [
    "from turtle import *\n",
    "kyori = 100 # 距離100を設定\n",
    "kakudo = 120 # 角度を設定\n",
    "forward(kyori) # 100進む\n",
    "left(kakudo)   # 左上に向く\n",
    "forward(kyori) \n",
    "left(kakudo)   # 左下に向く\n",
    "forward(kyori) \n",
    "done() # 描画を終える\n"
   ]
  },
  {
   "cell_type": "code",
   "execution_count": 5,
   "metadata": {},
   "outputs": [],
   "source": [
    "from turtle import *\n",
    "kyori = 300 # 移動距離300に変更 \n",
    "kakudo = 120 \n",
    "forward(kyori) \n",
    "left(kakudo)   \n",
    "forward(kyori) \n",
    "left(kakudo)   \n",
    "forward(kyori) \n",
    "done() \n"
   ]
  },
  {
   "cell_type": "code",
   "execution_count": 7,
   "metadata": {},
   "outputs": [
    {
     "name": "stdout",
     "output_type": "stream",
     "text": [
      "10\n"
     ]
    }
   ],
   "source": [
    "seisu = 10\n",
    "print(seisu)"
   ]
  },
  {
   "cell_type": "code",
   "execution_count": 8,
   "metadata": {},
   "outputs": [
    {
     "name": "stdout",
     "output_type": "stream",
     "text": [
      "True\n"
     ]
    }
   ],
   "source": [
    "h_bool = True # この時点で自動的に型が決定\n",
    "print(h_bool)"
   ]
  },
  {
   "cell_type": "code",
   "execution_count": 9,
   "metadata": {},
   "outputs": [
    {
     "name": "stdout",
     "output_type": "stream",
     "text": [
      "step1; seisu: 10 other: 10\n",
      "step2; seisu: 10 other: 100\n"
     ]
    }
   ],
   "source": [
    "seisu = 10 # 変数の代入\n",
    "other = seisu # 変数seisuの値と変数otherを紐付け\n",
    "print('step1; seisu:', seisu, 'other:', other)\n",
    "other = 100 # 変数の再定義\n",
    "print('step2; seisu:', seisu, 'other:', other)"
   ]
  },
  {
   "cell_type": "code",
   "execution_count": 10,
   "metadata": {},
   "outputs": [
    {
     "name": "stdout",
     "output_type": "stream",
     "text": [
      "あなたの苗字を下記または右の欄に入力してください: 斎藤\n",
      "あなたの名前は 斎藤 さんですね。Pythonの世界へようこそ\n",
      "これから 19 歳の 斎藤 さんは、変数を利用します。\n"
     ]
    }
   ],
   "source": [
    "# 読者が標準入力した文字列を変数nameに代入\n",
    "name = input('あなたの苗字を下記または右の欄に入力してください: ') \n",
    "print('あなたの名前は',name,'さんですね。Pythonの世界へようこそ')\n",
    "age = 19 # Jupyter notebookに記述した数値を変数ageに代入\n",
    "print('これから',age,'歳の',name,'さんは、変数を利用します。')"
   ]
  },
  {
   "cell_type": "code",
   "execution_count": 16,
   "metadata": {},
   "outputs": [
    {
     "name": "stdout",
     "output_type": "stream",
     "text": [
      "lecture_voice1.mp3 をパソコンに保存しました\n"
     ]
    }
   ],
   "source": [
    "# 英語を音声のファイルに変換するパッケージ\n",
    "from gtts import gTTS \n",
    "\n",
    "# 英語の音声に変換したい英語の文字列を記述\n",
    "text_data = 'Nice to meet you.　I am Kura'\n",
    "# text_dataに代入した文字列を音声に変換\n",
    "voice_data = gTTS(text_data)\n",
    "\n",
    "filename = 'lecture_voice1.mp3' # 保存用のファイル名\n",
    "# Jupyter notebook u4 が保存されている場所に保存\n",
    "voice_data.save(filename) \n",
    "print(filename,'をパソコンに保存しました') "
   ]
  },
  {
   "cell_type": "code",
   "execution_count": 18,
   "metadata": {},
   "outputs": [
    {
     "name": "stdout",
     "output_type": "stream",
     "text": [
      "翻訳前 初めまして。私は斉藤です。\n",
      "翻訳語: Nice to meet you. I am Saito.\n",
      "音声に変換終了\n",
      "lecture_voice2.mp3 をパソコンに保存しました\n"
     ]
    }
   ],
   "source": [
    "from gtts import gTTS\n",
    "from googletrans import Translator # 翻訳に必要な道具\n",
    "translator = Translator()# 翻訳機の用意\n",
    "\n",
    "filename = 'lecture_voice2.mp3' # 保存用のファイル名\n",
    "\n",
    "# 最大翻訳文字数は1500字\n",
    "text_data_jp = '初めまして。私は斉藤です。' # 日本語の原稿を記述\n",
    "print('翻訳前', text_data_jp)\n",
    "\n",
    "# text_data_jpの日本語を英語に翻訳\n",
    "data_translated = translator.translate(text_data_jp, \n",
    "        src='ja', #  翻訳前の言語を日本語に指定\n",
    "        dest='en')#  翻訳後の言語を英語に指定\n",
    "print('翻訳語:', data_translated.text) # テキストを抽出\n",
    "\n",
    "voice_data_en = gTTS(data_translated.text) \n",
    "print('音声に変換終了') \n",
    "voice_data_en.save(filename)\n",
    "print(filename,'をパソコンに保存しました') "
   ]
  },
  {
   "cell_type": "code",
   "execution_count": 19,
   "metadata": {},
   "outputs": [
    {
     "name": "stdout",
     "output_type": "stream",
     "text": [
      "翻訳前 初めまして。私は斉藤です。\n",
      "翻訳語: Nice to meet you. I am Saito.\n",
      "音声に変換終了\n",
      "lecture_voice2.mp3 をパソコンに保存しました\n"
     ]
    }
   ],
   "source": [
    "from gtts import gTTS\n",
    "from googletrans import Translator # 翻訳に必要な道具\n",
    "translator = Translator()# 翻訳機の用意\n",
    "\n",
    "filename = 'lecture_voice2.mp3' # 保存用のファイル名\n",
    "\n",
    "# 最大翻訳文字数は1500字\n",
    "text_data_jp = '初めまして。私は斉藤です。' # 日本語の原稿を記述\n",
    "print('翻訳前', text_data_jp)\n",
    "\n",
    "# text_data_jpの日本語を英語に翻訳\n",
    "data_translated = translator.translate(text_data_jp, \n",
    "        src='ja', #  翻訳前の言語を日本語に指定\n",
    "        dest='en')#  翻訳後の言語を英語に指定\n",
    "print('翻訳語:', data_translated.text) # テキストを抽出\n",
    "\n",
    "voice_data_en = gTTS(data_translated.text) \n",
    "print('音声に変換終了') \n",
    "voice_data_en.save(filename)\n",
    "print(filename,'をパソコンに保存しました') "
   ]
  },
  {
   "cell_type": "code",
   "execution_count": 20,
   "metadata": {},
   "outputs": [
    {
     "name": "stdout",
     "output_type": "stream",
     "text": [
      "0 0 0\n"
     ]
    }
   ],
   "source": [
    "x = 0\n",
    "y = 0\n",
    "z = 0\n",
    "print(x,y,z)"
   ]
  },
  {
   "cell_type": "code",
   "execution_count": 21,
   "metadata": {},
   "outputs": [
    {
     "name": "stdout",
     "output_type": "stream",
     "text": [
      "0 0 0\n"
     ]
    }
   ],
   "source": [
    "x = y = z = 0\n",
    "print(x,y,z)"
   ]
  }
 ],
 "metadata": {
  "kernelspec": {
   "display_name": "Python 3",
   "language": "python",
   "name": "python3"
  },
  "language_info": {
   "codemirror_mode": {
    "name": "ipython",
    "version": 3
   },
   "file_extension": ".py",
   "mimetype": "text/x-python",
   "name": "python",
   "nbconvert_exporter": "python",
   "pygments_lexer": "ipython3",
   "version": "3.7.6"
  }
 },
 "nbformat": 4,
 "nbformat_minor": 4
}
