{
 "cells": [
  {
   "cell_type": "code",
   "execution_count": 1,
   "metadata": {},
   "outputs": [],
   "source": [
    "import numpy as np\n",
    "from turtle import *\n",
    "shape('turtle')\n",
    "speed(10)\n",
    "pencolor('green')\n",
    "penup()\n",
    "dot() #(x軸0, y軸0)に点を打つ\n",
    "\n",
    "a, b = 1, 20 # 傾きと切片\n",
    "goto(0,b) # 切片に亀が移動\n",
    "dot()# 切片に点を打つ\n",
    "pendown()\n",
    "for x in np.arange(0,101,20):\n",
    "    # 横にx進み、上にa進む\n",
    "    y = a * x + b\n",
    "    goto(x,y) #指定した場所へ移動\n",
    "    dot() #移動した場所に点\n",
    "    \n",
    "done()"
   ]
  },
  {
   "cell_type": "code",
   "execution_count": 3,
   "metadata": {},
   "outputs": [],
   "source": [
    "from turtle import *\n",
    "import numpy as np\n",
    "shape('turtle') #  ペン先を亀に\n",
    "penup() #点だけを打てるように準備\n",
    "speed(10) #亀を高速に移動 \n",
    "\n",
    "# 亀に次の処理を100回お願いする\n",
    "for j in np.arange(100):\n",
    "  # x軸の数値をランダムに設定 \n",
    "  x = np.random.randint(0,255)\n",
    "  # y軸の数値をランダムに設定 \n",
    "  y = np.random.randint(0,255)\n",
    "  # 亀がxとyの位置に移動する\n",
    "  goto(x, y) #x軸とy軸の設定\n",
    "  \n",
    "  #ランダムに選んだ色のインクを指定\n",
    "  pencolor(\n",
    "    (np.random.rand(), # 赤の濃さ\n",
    "    np.random.rand(), # 緑の濃さ\n",
    "    np.random.rand())) # 青の濃さ\n",
    "  dot(10) #亀の足を使いスタンプ\n",
    "  \n",
    "done()# 亀のお仕事終了\n"
   ]
  },
  {
   "cell_type": "code",
   "execution_count": 5,
   "metadata": {},
   "outputs": [],
   "source": [
    "import numpy as np\n",
    "from turtle import *\n",
    "\n",
    "shape('turtle') #(0,0)へ移動\n",
    "speed(5)\n",
    "pencolor('red')\n",
    "r = 200 #半径を設定\n",
    "penup() #ペン先を上げる\n",
    "\n",
    "for th in np.arange(0,361,1):\n",
    "  th = np.deg2rad(th)\n",
    "  #ペン先の横(x軸)の位置を計算 \n",
    "  x = r * np.sin(th) \n",
    "  #ペン先の縦(y軸)の位置を計算 \n",
    "  y = r * np.cos(th)\n",
    "  goto(x,y) #徐々に円を描く\n",
    "  pendown() #ペンを下げる\n",
    "\n",
    "done()\n"
   ]
  },
  {
   "cell_type": "code",
   "execution_count": 7,
   "metadata": {},
   "outputs": [],
   "source": [
    "from turtle import *\n",
    "import numpy as np\n",
    "import matplotlib.pylab as plt\n",
    "\n",
    "speed(0)\n",
    "penup()\n",
    "cmap = plt.get_cmap('rainbow',\n",
    "                    5776)\n",
    "sized = 200\n",
    "k = 1/8 # 花の形を決めるパラメータ\n",
    "\n",
    "for i in np.arange(0,361*8,1):\n",
    "    # 色の設定\n",
    "    r = float(cmap(i)[0])\n",
    "    g = float(cmap(i)[1])\n",
    "    b = float(cmap(i)[2])\n",
    "    pencolor(r,g,b)\n",
    "    # ラジアンに変換\n",
    "    th = np.deg2rad(i) \n",
    "    r = sized * np.cos(k*th)\n",
    "    x = r * np.cos(th) \n",
    "    y = r * np.sin(th)\n",
    "    goto(x,y)\n",
    "    pendown()\n",
    "    \n",
    "done()"
   ]
  },
  {
   "cell_type": "code",
   "execution_count": 9,
   "metadata": {},
   "outputs": [],
   "source": [
    "from turtle import *\n",
    "import numpy as np\n",
    "speed(0) # 高速に描画\n",
    "bgcolor('black')\n",
    "pencolor('white')\n",
    "\n",
    "n, d = 26, 277 #自由パラメータ\n",
    "sized = 200 # 模様の大きさ\n",
    "for th in np.arange(0,361,1):\n",
    "    th = np.deg2rad(th)\n",
    "    k = th * d\n",
    "    r = sized * np.sin(n*k)\n",
    "    x = r * np.cos(k) \n",
    "    y = r * np.sin(k)\n",
    "    goto(x, y)\n",
    "    \n",
    "done()"
   ]
  },
  {
   "cell_type": "markdown",
   "metadata": {},
   "source": [
    "# 練習問題の解答例"
   ]
  },
  {
   "cell_type": "code",
   "execution_count": 11,
   "metadata": {},
   "outputs": [],
   "source": [
    "from turtle import *\n",
    "shape('turtle')\n",
    "speed(10)\n",
    "pencolor('green')\n",
    "penup()\n",
    "dot() #(x軸0, y軸0)\n",
    "goto(50,50) # 切片に亀が移動\n",
    "dot()# 切片に点を打つ\n",
    "pendown()\n",
    "goto(50, -100) \n",
    "dot() \n",
    "done()"
   ]
  },
  {
   "cell_type": "code",
   "execution_count": null,
   "metadata": {},
   "outputs": [],
   "source": []
  },
  {
   "cell_type": "code",
   "execution_count": null,
   "metadata": {},
   "outputs": [],
   "source": []
  },
  {
   "cell_type": "code",
   "execution_count": 12,
   "metadata": {},
   "outputs": [
    {
     "name": "stdout",
     "output_type": "stream",
     "text": [
      "(0, 3)\n",
      "(1, 4)\n",
      "(2, 5)\n"
     ]
    }
   ],
   "source": [
    "import numpy as np\n",
    "x = np.arange(0,3)\n",
    "y = np.arange(3,6)\n",
    "for i in zip(x,y):\n",
    "    print(i)"
   ]
  },
  {
   "cell_type": "code",
   "execution_count": 13,
   "metadata": {},
   "outputs": [
    {
     "name": "stdout",
     "output_type": "stream",
     "text": [
      "i:  0 tmp:  3\n",
      "i:  1 tmp:  4\n",
      "i:  2 tmp:  5\n"
     ]
    }
   ],
   "source": [
    "import numpy as np\n",
    "y = np.arange(3,6)\n",
    "for i,tmp in enumerate(y):\n",
    "    print('i: ',i, 'tmp: ', tmp)"
   ]
  },
  {
   "cell_type": "code",
   "execution_count": 14,
   "metadata": {},
   "outputs": [
    {
     "name": "stdout",
     "output_type": "stream",
     "text": [
      "i: 0  tmp:  (0, 3) tmp[0]:  0 tmp[1]:  3\n",
      "i: 1  tmp:  (1, 4) tmp[0]:  1 tmp[1]:  4\n",
      "i: 2  tmp:  (2, 5) tmp[0]:  2 tmp[1]:  5\n"
     ]
    }
   ],
   "source": [
    "x = np.arange(0,3)\n",
    "y = np.arange(3,6)\n",
    "for i,tmp in enumerate(zip(x,y)):\n",
    "    print('i:',i,' tmp: ', tmp,'tmp[0]: ',\n",
    "     tmp[0],'tmp[1]: ', tmp[1])\n"
   ]
  },
  {
   "cell_type": "code",
   "execution_count": null,
   "metadata": {},
   "outputs": [],
   "source": []
  },
  {
   "cell_type": "code",
   "execution_count": null,
   "metadata": {},
   "outputs": [],
   "source": []
  },
  {
   "cell_type": "code",
   "execution_count": null,
   "metadata": {},
   "outputs": [],
   "source": []
  },
  {
   "cell_type": "code",
   "execution_count": null,
   "metadata": {},
   "outputs": [],
   "source": []
  },
  {
   "cell_type": "code",
   "execution_count": null,
   "metadata": {},
   "outputs": [],
   "source": []
  },
  {
   "cell_type": "code",
   "execution_count": null,
   "metadata": {},
   "outputs": [],
   "source": []
  },
  {
   "cell_type": "code",
   "execution_count": null,
   "metadata": {},
   "outputs": [],
   "source": []
  },
  {
   "cell_type": "code",
   "execution_count": null,
   "metadata": {},
   "outputs": [],
   "source": []
  },
  {
   "cell_type": "code",
   "execution_count": null,
   "metadata": {},
   "outputs": [],
   "source": []
  },
  {
   "cell_type": "code",
   "execution_count": null,
   "metadata": {},
   "outputs": [],
   "source": []
  }
 ],
 "metadata": {
  "kernelspec": {
   "display_name": "Python 3",
   "language": "python",
   "name": "python3"
  },
  "language_info": {
   "codemirror_mode": {
    "name": "ipython",
    "version": 3
   },
   "file_extension": ".py",
   "mimetype": "text/x-python",
   "name": "python",
   "nbconvert_exporter": "python",
   "pygments_lexer": "ipython3",
   "version": "3.7.6"
  }
 },
 "nbformat": 4,
 "nbformat_minor": 4
}
