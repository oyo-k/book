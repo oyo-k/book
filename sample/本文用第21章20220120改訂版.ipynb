{
 "cells": [
  {
   "cell_type": "markdown",
   "metadata": {},
   "source": [
    "# プログラム21.1"
   ]
  },
  {
   "cell_type": "code",
   "execution_count": 1,
   "metadata": {},
   "outputs": [
    {
     "name": "stdout",
     "output_type": "stream",
     "text": [
      "中身: [1, 2, 3]\n",
      "要素番号0の中身: 1\n",
      "追加後: [1, 2, 3, 10]\n",
      "削除後: [1, 2, 3]\n"
     ]
    }
   ],
   "source": [
    "l = [1, 2, 3] # リストを作成\n",
    "print('中身:', l) # 中身を全て出力\n",
    "print('要素番号0の中身:', l[0])\n",
    "l.append(10) # 要素10を末尾に追加\n",
    "print('追加後:', l)\n",
    "l.remove(10) # 要素10を削除\n",
    "print('削除後:', l)"
   ]
  },
  {
   "cell_type": "markdown",
   "metadata": {},
   "source": [
    "# プログラム21.2"
   ]
  },
  {
   "cell_type": "code",
   "execution_count": 2,
   "metadata": {},
   "outputs": [
    {
     "name": "stdout",
     "output_type": "stream",
     "text": [
      "リスト内包表記 [0, 1, 2, 3, 4, 5, 6, 7, 8, 9]\n"
     ]
    }
   ],
   "source": [
    "print('リスト内包表記',[i for i in range(10)])"
   ]
  },
  {
   "cell_type": "markdown",
   "metadata": {},
   "source": [
    "# プログラム21.3"
   ]
  },
  {
   "cell_type": "code",
   "execution_count": 3,
   "metadata": {},
   "outputs": [
    {
     "name": "stdout",
     "output_type": "stream",
     "text": [
      "リスト作成 [0, 1, 2, 3, 4, 5, 6, 7, 8, 9]\n"
     ]
    }
   ],
   "source": [
    "tmp = [] # 空のリストを用意 \n",
    "for i in range(10):\n",
    "    tmp.append(i) # 空のリストに、ループ変数 i の値を逐次追加する\n",
    "print('リスト作成', tmp) "
   ]
  },
  {
   "cell_type": "markdown",
   "metadata": {},
   "source": [
    "# プログラム21.4"
   ]
  },
  {
   "cell_type": "code",
   "execution_count": 4,
   "metadata": {},
   "outputs": [
    {
     "name": "stdout",
     "output_type": "stream",
     "text": [
      "ifとforの省略 [0, 2, 4, 6, 8]\n"
     ]
    }
   ],
   "source": [
    "print('ifとforの省略', [i for i in range(10) if i% 2 == 0])"
   ]
  },
  {
   "cell_type": "markdown",
   "metadata": {},
   "source": [
    "# プログラム21.5"
   ]
  },
  {
   "cell_type": "code",
   "execution_count": 5,
   "metadata": {},
   "outputs": [
    {
     "name": "stdout",
     "output_type": "stream",
     "text": [
      "非省略形 [0, 2, 4, 6, 8]\n"
     ]
    }
   ],
   "source": [
    "tmp = []\n",
    "for i in range(10):\n",
    "    if i % 2 == 0:\n",
    "        tmp.append(i)\n",
    "print('非省略形', tmp)"
   ]
  },
  {
   "cell_type": "markdown",
   "metadata": {},
   "source": [
    "# プログラム21.6"
   ]
  },
  {
   "cell_type": "code",
   "execution_count": 6,
   "metadata": {},
   "outputs": [
    {
     "data": {
      "text/plain": [
       "[0, 'Non', 'Non', 3, 'Non', 'Non', 6, 'Non', 'Non', 9]"
      ]
     },
     "execution_count": 6,
     "metadata": {},
     "output_type": "execute_result"
    }
   ],
   "source": [
    "[i if i % 3 == 0 else 'Non' for i in range(10)]"
   ]
  },
  {
   "cell_type": "markdown",
   "metadata": {},
   "source": [
    "# プログラム21.7"
   ]
  },
  {
   "cell_type": "code",
   "execution_count": 7,
   "metadata": {},
   "outputs": [
    {
     "name": "stdout",
     "output_type": "stream",
     "text": [
      "[0, 'Non', 'Non', 3, 'Non', 'Non', 6, 'Non', 'Non', 9]\n"
     ]
    }
   ],
   "source": [
    "tmp = []\n",
    "for i in range(10):\n",
    "    if i % 3 == 0:\n",
    "        tmp.append(i)\n",
    "    else:\n",
    "        tmp.append('Non')\n",
    "print(tmp)"
   ]
  },
  {
   "cell_type": "markdown",
   "metadata": {},
   "source": [
    "# プログラム21.8"
   ]
  },
  {
   "cell_type": "code",
   "execution_count": 2,
   "metadata": {},
   "outputs": [
    {
     "name": "stdout",
     "output_type": "stream",
     "text": [
      "配列に変換: [0 2 4 6 8]\n",
      "numpyの利用: [0 2 4 6 8]\n"
     ]
    }
   ],
   "source": [
    "import numpy as np\n",
    "print('配列に変換:', np.array([i for i in range(10) if i % 2 == 0]))\n",
    "print('numpyの利用:', np.arange(0, 10, 2))"
   ]
  },
  {
   "cell_type": "markdown",
   "metadata": {},
   "source": [
    "# プログラム21.9"
   ]
  },
  {
   "cell_type": "code",
   "execution_count": 9,
   "metadata": {},
   "outputs": [
    {
     "data": {
      "text/plain": [
       "[5, 10, 15, 20, 25, 30, 35, 40, 45]"
      ]
     },
     "execution_count": 9,
     "metadata": {},
     "output_type": "execute_result"
    }
   ],
   "source": [
    "[5 * i for i in range(1,10)] # 処理1の部分は5 * i"
   ]
  },
  {
   "cell_type": "markdown",
   "metadata": {},
   "source": [
    "# プログラム21.10"
   ]
  },
  {
   "cell_type": "code",
   "execution_count": 10,
   "metadata": {},
   "outputs": [
    {
     "name": "stdout",
     "output_type": "stream",
     "text": [
      "['5の段の5×1=5です。', '5の段の5×2=10です。', '5の段の5×3=15です。', '5の段の5×4=20です。', '5の段の5×5=25です。', '5の段の5×6=30です。', '5の段の5×7=35です。', '5の段の5×8=40です。', '5の段の5×9=45です。']\n"
     ]
    }
   ],
   "source": [
    "tmp = ['5の段の5×' + str(i) + '=' + str(5*i) + 'です。' for i in np.arange(1, 10)]\n",
    "print(tmp)"
   ]
  },
  {
   "cell_type": "markdown",
   "metadata": {},
   "source": [
    "# プログラム21.11"
   ]
  },
  {
   "cell_type": "code",
   "execution_count": 11,
   "metadata": {},
   "outputs": [
    {
     "name": "stdout",
     "output_type": "stream",
     "text": [
      "[1, 2, 3, 4, 5, 6, 7, 8, 9, 2, 4, 6, 8, 10, 12, 14, 16, 18, 3, 6, 9, 12, 15, 18, 21, 24, 27, 4, 8, 12, 16, 20, 24, 28, 32, 36, 5, 10, 15, 20, 25, 30, 35, 40, 45, 6, 12, 18, 24, 30, 36, 42, 48, 54, 7, 14, 21, 28, 35, 42, 49, 56, 63, 8, 16, 24, 32, 40, 48, 56, 64, 72, 9, 18, 27, 36, 45, 54, 63, 72, 81]\n"
     ]
    }
   ],
   "source": [
    "tmp = [dan * kazu for dan in np.arange(1,10) for kazu in np.arange(1, 10)]\n",
    "print(tmp)"
   ]
  },
  {
   "cell_type": "markdown",
   "metadata": {},
   "source": [
    "# プログラム21.12"
   ]
  },
  {
   "cell_type": "code",
   "execution_count": 3,
   "metadata": {},
   "outputs": [
    {
     "name": "stdout",
     "output_type": "stream",
     "text": [
      "['一の段の1 × 1 = 1です。', '一の段の1 × 2 = 2です。', '一の段の1 × 3 = 3です。', '一の段の1 × 4 = 4です。', '一の段の1 × 5 = 5です。', '一の段の1 × 6 = 6です。', '一の段の1 × 7 = 7です。', '一の段の1 × 8 = 8です。', '一の段の1 × 9 = 9です。', '二の段の2 × 1 = 2です。', '二の段の2 × 2 = 4です。', '二の段の2 × 3 = 6です。', '二の段の2 × 4 = 8です。', '二の段の2 × 5 = 10です。', '二の段の2 × 6 = 12です。', '二の段の2 × 7 = 14です。', '二の段の2 × 8 = 16です。', '二の段の2 × 9 = 18です。', '三の段の3 × 1 = 3です。', '三の段の3 × 2 = 6です。', '三の段の3 × 3 = 9です。', '三の段の3 × 4 = 12です。', '三の段の3 × 5 = 15です。', '三の段の3 × 6 = 18です。', '三の段の3 × 7 = 21です。', '三の段の3 × 8 = 24です。', '三の段の3 × 9 = 27です。', '四の段の4 × 1 = 4です。', '四の段の4 × 2 = 8です。', '四の段の4 × 3 = 12です。', '四の段の4 × 4 = 16です。', '四の段の4 × 5 = 20です。', '四の段の4 × 6 = 24です。', '四の段の4 × 7 = 28です。', '四の段の4 × 8 = 32です。', '四の段の4 × 9 = 36です。', '五の段の5 × 1 = 5です。', '五の段の5 × 2 = 10です。', '五の段の5 × 3 = 15です。', '五の段の5 × 4 = 20です。', '五の段の5 × 5 = 25です。', '五の段の5 × 6 = 30です。', '五の段の5 × 7 = 35です。', '五の段の5 × 8 = 40です。', '五の段の5 × 9 = 45です。', '六の段の6 × 1 = 6です。', '六の段の6 × 2 = 12です。', '六の段の6 × 3 = 18です。', '六の段の6 × 4 = 24です。', '六の段の6 × 5 = 30です。', '六の段の6 × 6 = 36です。', '六の段の6 × 7 = 42です。', '六の段の6 × 8 = 48です。', '六の段の6 × 9 = 54です。', '七の段の7 × 1 = 7です。', '七の段の7 × 2 = 14です。', '七の段の7 × 3 = 21です。', '七の段の7 × 4 = 28です。', '七の段の7 × 5 = 35です。', '七の段の7 × 6 = 42です。', '七の段の7 × 7 = 49です。', '七の段の7 × 8 = 56です。', '七の段の7 × 9 = 63です。', '八の段の8 × 1 = 8です。', '八の段の8 × 2 = 16です。', '八の段の8 × 3 = 24です。', '八の段の8 × 4 = 32です。', '八の段の8 × 5 = 40です。', '八の段の8 × 6 = 48です。', '八の段の8 × 7 = 56です。', '八の段の8 × 8 = 64です。', '八の段の8 × 9 = 72です。', '九の段の9 × 1 = 9です。', '九の段の9 × 2 = 18です。', '九の段の9 × 3 = 27です。', '九の段の9 × 4 = 36です。', '九の段の9 × 5 = 45です。', '九の段の9 × 6 = 54です。', '九の段の9 × 7 = 63です。', '九の段の9 × 8 = 72です。', '九の段の9 × 9 = 81です。']\n"
     ]
    }
   ],
   "source": [
    "kanzi_dan = ['零', '一', '二', '三', '四', '五', '六', '七', '八', '九']\n",
    "tmp = [kanzi_dan[dan] + 'の段の' + str(dan) + ' × ' + str(kazu) + ' = ' + str(dan * kazu)\n",
    "       + 'です。' for dan in np.arange(1, 10) for kazu in np.arange(1, 10)]\n",
    "print(tmp)"
   ]
  }
 ],
 "metadata": {
  "kernelspec": {
   "display_name": "Python 3 (ipykernel)",
   "language": "python",
   "name": "python3"
  },
  "language_info": {
   "codemirror_mode": {
    "name": "ipython",
    "version": 3
   },
   "file_extension": ".py",
   "mimetype": "text/x-python",
   "name": "python",
   "nbconvert_exporter": "python",
   "pygments_lexer": "ipython3",
   "version": "3.9.7"
  }
 },
 "nbformat": 4,
 "nbformat_minor": 4
}
