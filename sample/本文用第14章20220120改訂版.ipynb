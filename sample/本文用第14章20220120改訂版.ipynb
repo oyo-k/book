{
 "cells": [
  {
   "cell_type": "markdown",
   "metadata": {},
   "source": [
    "# プログラム14.1"
   ]
  },
  {
   "cell_type": "code",
   "execution_count": null,
   "metadata": {},
   "outputs": [],
   "source": [
    "import numpy as np\n",
    "from turtle import *\n",
    "shape('turtle')\n",
    "speed(10)\n",
    "pencolor('green') # 色を緑に変更\n",
    "penup() # 余計な線を引かないため\n",
    "dot() # (x軸0, y軸0)に点を打つ\n",
    "\n",
    "a, b = 1, 20 # 傾きと切片の設定\n",
    "goto(0, b) # 切片に亀が移動\n",
    "dot() # 切片に点を打つ\n",
    "pendown() # 始点から線を引き始めるためペンを下げる\n",
    "for x in np.arange(0, 101, 20):\n",
    "    # 横にx進み、上にa進む\n",
    "    y = a * x + b # y軸の値の計算\n",
    "    goto(x, y) # 指定した座標へ移動\n",
    "    dot() # 点を打つ\n",
    "done()"
   ]
  },
  {
   "cell_type": "markdown",
   "metadata": {},
   "source": [
    "# プログラム14.1の変更例1"
   ]
  },
  {
   "cell_type": "code",
   "execution_count": null,
   "metadata": {},
   "outputs": [],
   "source": [
    "# 試行錯誤 変更例1\n",
    "import numpy as np\n",
    "from turtle import *\n",
    "shape('turtle')\n",
    "speed(10)\n",
    "pencolor('green') # 色を緑に変更\n",
    "penup() # 余計な線を引かないため\n",
    "dot() # (x軸0, y軸0)に点を打つ\n",
    "\n",
    "a, b = -3, -20 # 傾きと切片の設定\n",
    "goto(0, b) # 切片に亀が移動\n",
    "dot() # 切片に点を打つ\n",
    "pendown() # 始点から線を引き始めるためペンを下げる\n",
    "for x in np.arange(0, 101, 20):\n",
    "    # 横にx進み、上にa進む\n",
    "    y = a * x + b # y軸の値の計算\n",
    "    goto(x, y) # 指定した座標へ移動\n",
    "    dot() # 点を打つ\n",
    "done()"
   ]
  },
  {
   "cell_type": "markdown",
   "metadata": {},
   "source": [
    "# プログラム14.1の変更例2"
   ]
  },
  {
   "cell_type": "code",
   "execution_count": 3,
   "metadata": {},
   "outputs": [],
   "source": [
    "# 試行錯誤 変更例2\n",
    "import numpy as np\n",
    "from turtle import *\n",
    "shape('turtle')\n",
    "speed(10)\n",
    "pencolor('green') # 色を緑に変更\n",
    "penup() # 余計な線を引かないため\n",
    "dot() # (x軸0, y軸0)に点を打つ\n",
    "\n",
    "a, b = -3, -20 # 傾きと切片の設定\n",
    "goto(0, b) # 切片に亀が移動\n",
    "dot() # 切片に点を打つ\n",
    "pendown() # 始点から線を引き始めるためペンを下げる\n",
    "for x in np.arange(-120, 121, 40):\n",
    "    # 横にx進み、上にa進む\n",
    "    y = a * x + b # y軸の値の計算\n",
    "    goto(x, y) # 指定した座標へ移動\n",
    "    dot() # 点を打つ\n",
    "done()"
   ]
  },
  {
   "cell_type": "markdown",
   "metadata": {},
   "source": [
    "# プログラム14.1の変更例3"
   ]
  },
  {
   "cell_type": "code",
   "execution_count": 1,
   "metadata": {},
   "outputs": [
    {
     "name": "stdout",
     "output_type": "stream",
     "text": [
      "x座標: -120 y座標 340\n",
      "x座標: -80 y座標 220\n",
      "x座標: -40 y座標 100\n",
      "x座標: 0 y座標 -20\n",
      "x座標: 40 y座標 -140\n",
      "x座標: 80 y座標 -260\n",
      "x座標: 120 y座標 -380\n"
     ]
    }
   ],
   "source": [
    "# 試行錯誤 変更例3\n",
    "import numpy as np\n",
    "from turtle import *\n",
    "shape('turtle')\n",
    "speed(10)\n",
    "pencolor('green') # 色を緑に変更\n",
    "penup() # 余計な線を引かないため\n",
    "dot() # (x軸0, y軸0)に点を打つ\n",
    "\n",
    "a, b = -3, -20 # 傾きと切片の設定\n",
    "goto(0, b) # 切片に亀が移動\n",
    "dot() # 切片に点を打つ\n",
    "pendown() # 始点から線を引き始めるためペンを下げる\n",
    "for x in np.arange(-120, 121, 40):\n",
    "    # 横にx進み、上にa進む\n",
    "    y = a * x + b # y軸の値の計算\n",
    "    goto(x, y) # 指定した座標へ移動\n",
    "    print('x座標:', x, 'y座標',y)\n",
    "    dot() # 点を打つ\n",
    "done()"
   ]
  },
  {
   "cell_type": "markdown",
   "metadata": {},
   "source": [
    "# プログラム14.2"
   ]
  },
  {
   "cell_type": "code",
   "execution_count": null,
   "metadata": {},
   "outputs": [],
   "source": [
    "from turtle import *\n",
    "import numpy as np\n",
    "shape('turtle') # ペン先を亀に変更\n",
    "penup() # 点だけを打つ準備\n",
    "speed(10) # 亀の移動を高速に設定\n",
    "colormode(255) # 0から255の256階調に設定\n",
    "# 亀が次の処理を100回繰り返し\n",
    "for j in np.arange(100):\n",
    "  # x軸の数値をランダムに設定\n",
    "  x = np.random.randint(0, 255)\n",
    "  # y軸の数値をランダムに設定\n",
    "  y = np.random.randint(0, 255)\n",
    "  goto(x, y) # 指定したx軸とy軸の位置に亀が移動\n",
    "\n",
    "  R = np.random.randint(0, 256) # 赤の濃さ\n",
    "  G = np.random.randint(0, 256) # 緑の濃さ\n",
    "  B = np.random.randint(0, 256) # 青の濃さ\n",
    "  pencolor(R, G, B) # 赤、緑、青色の順番で指定\n",
    "  \n",
    "  dot(10)  # 点(スタンプ)を押す\n",
    "done()  # プログラム終了"
   ]
  },
  {
   "cell_type": "markdown",
   "metadata": {},
   "source": [
    "# プログラム14.2の変更例1から4"
   ]
  },
  {
   "cell_type": "code",
   "execution_count": 6,
   "metadata": {},
   "outputs": [],
   "source": [
    "# 変更例1から４を適用させたもの\n",
    "from turtle import *\n",
    "import numpy as np\n",
    "shape('turtle') # ペン先を亀に変更\n",
    "penup() # 点だけを打つ準備\n",
    "speed(10) # 亀の移動を高速に設定\n",
    "colormode(255) # 0から255の256階調に設定\n",
    "for j in np.arange(100): # 亀が次の処理を100回繰り返し\n",
    "  # x軸の数値をランダムに設定\n",
    "  x = np.random.randint(0, 100)\n",
    "  # y軸の数値をランダムに設定\n",
    "  y = np.random.randint(0, 150)\n",
    "  goto(x, y) # 指定したx軸とy軸の位置に亀が移動\n",
    "  R = np.random.randint(0, 256) # 赤の濃さ\n",
    "  G = np.random.randint(0, 256) # 緑の濃さ\n",
    "  B = np.random.randint(0, 256) # 青の濃さ\n",
    "  pencolor(R, G, B) # 赤、緑、青色の順番で指定\n",
    "  dot(np.random.randint(0,15))  # 点(スタンプ)を押す\n",
    "done()  # プログラム終了"
   ]
  },
  {
   "cell_type": "markdown",
   "metadata": {},
   "source": [
    "# プログラム14.3"
   ]
  },
  {
   "cell_type": "code",
   "execution_count": null,
   "metadata": {},
   "outputs": [],
   "source": [
    "import numpy as np\n",
    "from turtle import *\n",
    "\n",
    "shape('turtle') # 亀を表示\n",
    "speed(5)\n",
    "pencolor('red')\n",
    "r = 100 # 半径を設定\n",
    "penup() # ペン先を上げる\n",
    "# 0 度から 360 度を設定し繰り返し\n",
    "for th in np.arange(0, 361, 1):\n",
    "  th = np.deg2rad(th) # ラジアンに変換\n",
    "  x = r * np.cos(th) # ペン先(x軸)の計算\n",
    "  y = r * np.sin(th) # ペン先(y軸)の計算 \n",
    "  goto(x, y) # 移動しながら徐々に円を描く\n",
    "  pendown() # ペン先を下げる\n",
    "done()"
   ]
  },
  {
   "cell_type": "markdown",
   "metadata": {},
   "source": [
    "# プログラム14.4"
   ]
  },
  {
   "cell_type": "code",
   "execution_count": null,
   "metadata": {},
   "outputs": [],
   "source": [
    "from turtle import *\n",
    "import numpy as np\n",
    "import matplotlib.pylab as plt\n",
    "# k = 1 / 8 のバラ曲線を描きたいが、kの分子pと分母qの数値で繰り返し回数が異なるため分割\n",
    "p = 1 \n",
    "q = 8 # 変数qは色の指定と繰り返し回数に利用\n",
    "k = p / q  # 花の形状のパラメータを設定\n",
    "cmap = plt.get_cmap('rainbow', (360 * q)) # p * q が偶数の場合\n",
    "speed(0)\n",
    "penup()\n",
    "sized = 50  # 大きさの設定\n",
    "for i in np.arange(0, (360 * q) + 1, 1): \n",
    "    r = float(cmap(i)[0]) # 赤色の濃さの指定\n",
    "    g = float(cmap(i)[1]) # 緑色の濃さの指定\n",
    "    b = float(cmap(i)[2]) # 青色の濃さの指定\n",
    "    pencolor(r, g, b) # 色の設定\n",
    "    th = np.deg2rad(i) # ラジアンに変換\n",
    "    # cos関数により(0, 0)からの距離 r の値を逐次変更\n",
    "    r = sized * np.cos(k * th) # np.cosをnp.sinと変更すれば90度回転\n",
    "    x = r * np.cos(th) \n",
    "    y = r * np.sin(th)\n",
    "    goto(x, y)\n",
    "    pendown()\n",
    "done()"
   ]
  },
  {
   "cell_type": "markdown",
   "metadata": {},
   "source": [
    "# プログラム14.5"
   ]
  },
  {
   "cell_type": "code",
   "execution_count": null,
   "metadata": {},
   "outputs": [],
   "source": [
    "from turtle import *\n",
    "import numpy as np\n",
    "speed(0) # 高速に描画\n",
    "# 二つの自由パラメータの設定\n",
    "n, d = 26, 277 \n",
    "sized = 200 # 模様の大きさ\n",
    "for th in np.arange(0, 361, 1):\n",
    "    th = np.deg2rad(th)\n",
    "    r = sized * np.sin(n * th * d)\n",
    "    x = r * np.cos(th * d) \n",
    "    y = r * np.sin(th * d)\n",
    "    goto(x, y)\n",
    "done()"
   ]
  },
  {
   "cell_type": "markdown",
   "metadata": {},
   "source": [
    "# 練習問題の解答例"
   ]
  },
  {
   "cell_type": "markdown",
   "metadata": {},
   "source": [
    "# プログラム14.6"
   ]
  },
  {
   "cell_type": "code",
   "execution_count": null,
   "metadata": {},
   "outputs": [],
   "source": [
    "from turtle import *\n",
    "shape('turtle')\n",
    "speed(10)\n",
    "pencolor('green')\n",
    "penup()\n",
    "dot() #(x軸0, y軸0)\n",
    "goto(50,50) # 切片に亀が移動\n",
    "dot()# 切片に点を打つ\n",
    "pendown()\n",
    "goto(50, -100) \n",
    "dot() \n",
    "done()"
   ]
  },
  {
   "cell_type": "markdown",
   "metadata": {},
   "source": [
    "# コラム\n",
    "# プログラム14.8"
   ]
  },
  {
   "cell_type": "code",
   "execution_count": null,
   "metadata": {},
   "outputs": [],
   "source": [
    "import numpy as np\n",
    "x = np.arange(0, 3)\n",
    "y = np.arange(3, 6)\n",
    "for i in zip(x,y):\n",
    "    print(i)"
   ]
  },
  {
   "cell_type": "markdown",
   "metadata": {},
   "source": [
    "# プログラム14.9"
   ]
  },
  {
   "cell_type": "code",
   "execution_count": null,
   "metadata": {},
   "outputs": [],
   "source": [
    "y = np.arange(3, 6)\n",
    "for i, tmp in enumerate(y):\n",
    "    print('i: ', i, 'tmp: ', tmp)"
   ]
  },
  {
   "cell_type": "markdown",
   "metadata": {},
   "source": [
    "# プログラム14.10"
   ]
  },
  {
   "cell_type": "code",
   "execution_count": null,
   "metadata": {},
   "outputs": [],
   "source": [
    "x = np.arange(0, 3)\n",
    "y = np.arange(3, 6)\n",
    "for i, tmp in enumerate(zip(x, y)):\n",
    "    print('i:',i,'tmp:',tmp,'tmp[0]:',\n",
    "    tmp[0], 'tmp[1]:', tmp[1])"
   ]
  }
 ],
 "metadata": {
  "kernelspec": {
   "display_name": "Python 3 (ipykernel)",
   "language": "python",
   "name": "python3"
  },
  "language_info": {
   "codemirror_mode": {
    "name": "ipython",
    "version": 3
   },
   "file_extension": ".py",
   "mimetype": "text/x-python",
   "name": "python",
   "nbconvert_exporter": "python",
   "pygments_lexer": "ipython3",
   "version": "3.9.7"
  }
 },
 "nbformat": 4,
 "nbformat_minor": 4
}
