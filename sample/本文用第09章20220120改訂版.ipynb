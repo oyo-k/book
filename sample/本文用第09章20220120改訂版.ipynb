{
 "cells": [
  {
   "cell_type": "markdown",
   "metadata": {},
   "source": [
    "# プログラム9.1"
   ]
  },
  {
   "cell_type": "code",
   "execution_count": 1,
   "metadata": {},
   "outputs": [
    {
     "name": "stdout",
     "output_type": "stream",
     "text": [
      "a\n"
     ]
    }
   ],
   "source": [
    "# (処理1に該当)プログラムの開始\n",
    "word = 'a' # (処理2に該当)文字列 'a' を代入\n",
    "if word == 'A': # (処理3に該当)'a' と 'A' は等しいか？\n",
    "    print('not a') # word = 'a'の場合、ここは実行されない\n",
    "elif word == 'a': # (処理4に該当)'a' と 'a' は等しいか？\n",
    "    print('a') # (処理5に該当)条件に一致したため実行\n",
    "else: # それ以外。ここも実行されない\n",
    "    print('aでもAでもない') # ここも実行されない\n",
    "# (処理6に該当)プログラムの終了"
   ]
  },
  {
   "cell_type": "markdown",
   "metadata": {},
   "source": [
    "# プログラム9.2"
   ]
  },
  {
   "cell_type": "code",
   "execution_count": 2,
   "metadata": {},
   "outputs": [
    {
     "name": "stdout",
     "output_type": "stream",
     "text": [
      "合格\n"
     ]
    }
   ],
   "source": [
    "grade = 65 # ある学生の点数が 65 点であると設定\n",
    "if grade >= 60: # grade の中身が 60 以上かどうか \n",
    "    print('合格') # 60 以上なので合格と出力"
   ]
  },
  {
   "cell_type": "markdown",
   "metadata": {},
   "source": [
    "# プログラム9.3"
   ]
  },
  {
   "cell_type": "code",
   "execution_count": 3,
   "metadata": {},
   "outputs": [
    {
     "name": "stdout",
     "output_type": "stream",
     "text": [
      "True\n"
     ]
    }
   ],
   "source": [
    "a = b = 10\n",
    "print(a ==  b)"
   ]
  },
  {
   "cell_type": "markdown",
   "metadata": {},
   "source": [
    "# プログラム9.4"
   ]
  },
  {
   "cell_type": "code",
   "execution_count": 4,
   "metadata": {},
   "outputs": [
    {
     "name": "stdout",
     "output_type": "stream",
     "text": [
      "False\n"
     ]
    }
   ],
   "source": [
    "a = b = 10\n",
    "print(a != b)"
   ]
  },
  {
   "cell_type": "markdown",
   "metadata": {},
   "source": [
    "# プログラム9.5"
   ]
  },
  {
   "cell_type": "code",
   "execution_count": 5,
   "metadata": {},
   "outputs": [
    {
     "name": "stdout",
     "output_type": "stream",
     "text": [
      "False\n"
     ]
    }
   ],
   "source": [
    "a, b = 10, '10'\n",
    "print(a == b)"
   ]
  },
  {
   "cell_type": "markdown",
   "metadata": {},
   "source": [
    "# プログラム9.6"
   ]
  },
  {
   "cell_type": "code",
   "execution_count": 6,
   "metadata": {},
   "outputs": [
    {
     "name": "stdout",
     "output_type": "stream",
     "text": [
      "合格\n"
     ]
    }
   ],
   "source": [
    "grade = 65 # ある学生 A の成績\n",
    "if grade >= 60: # 成績が 60 以上か？\n",
    "    print('合格') # 60 点以上のときは実行\n",
    "else: # それ以外の時\n",
    "    print('不合格') # それ以外のときは実行"
   ]
  },
  {
   "cell_type": "markdown",
   "metadata": {},
   "source": [
    "# プログラム9.7"
   ]
  },
  {
   "cell_type": "code",
   "execution_count": 8,
   "metadata": {},
   "outputs": [
    {
     "name": "stdout",
     "output_type": "stream",
     "text": [
      "B\n"
     ]
    }
   ],
   "source": [
    "grade = 75 \n",
    "if grade >= 90: # ある学生の点数が90 以上か？\n",
    "    print('S')\n",
    "elif grade >= 80: # ある学生の点数が90 未満かつ80 以上か？\n",
    "    print('A')\n",
    "elif grade >= 70: # ある学生の点数が80 未満かつ70 以上か？\n",
    "    print('B')\n",
    "elif grade >= 60: # ある学生の点数が70 未満かつ60 以上か？\n",
    "    print('C')\n",
    "else:  # それ以外の場合(つまり60 点未満)\n",
    "    print('D')"
   ]
  },
  {
   "cell_type": "markdown",
   "metadata": {},
   "source": [
    "# プログラム9.8"
   ]
  },
  {
   "cell_type": "code",
   "execution_count": 9,
   "metadata": {},
   "outputs": [
    {
     "name": "stdout",
     "output_type": "stream",
     "text": [
      "True\n",
      "False\n"
     ]
    }
   ],
   "source": [
    "tmp = 10\n",
    "print(tmp <= 10 and tmp >= 5)\n",
    "tmp = 11\n",
    "print(tmp <= 10 and tmp >= 5)"
   ]
  },
  {
   "cell_type": "markdown",
   "metadata": {},
   "source": [
    "# プログラム9.9"
   ]
  },
  {
   "cell_type": "code",
   "execution_count": 10,
   "metadata": {},
   "outputs": [
    {
     "name": "stdout",
     "output_type": "stream",
     "text": [
      "True\n",
      "True\n",
      "True\n"
     ]
    }
   ],
   "source": [
    "tmp = 10\n",
    "print(tmp <= 10 or tmp >= 5)\n",
    "tmp = 11\n",
    "print(tmp <= 10 or tmp >= 5)\n",
    "tmp = 4\n",
    "print(tmp <= 10 or tmp >= 5)"
   ]
  },
  {
   "cell_type": "markdown",
   "metadata": {},
   "source": [
    "# プログラム9.10"
   ]
  },
  {
   "cell_type": "code",
   "execution_count": 3,
   "metadata": {},
   "outputs": [],
   "source": [
    "from tkinter import Tk # ウィンドウなどを出すために必要な命令\n",
    "import tkinter.simpledialog as sg, tkinter.messagebox as mx\n",
    "root = Tk() # 描画を制御する命令\n",
    "root.withdraw() # 余計なウィンドウを出さないための命令\n",
    "# 入力画面を描画して、nameに名前、dataに挨拶を代入\n",
    "name = sg.askstring('ELIZA:', 'あなたの名前を入力してください')\n",
    "data = sg.askstring('ELIZA:', '現在の時刻に合わせた挨拶を入力')\n",
    "# 入力内容を使いダイアログボックスをとおしてメッセージを出力\n",
    "mx.showinfo('ELIZA:', (data, name, 'さん。'))\n",
    "# 入力内容ごとに応じて予め設定したメッセージを出力\n",
    "if data == 'おはよう': # 入力が 'おはよう' の場合\n",
    "    mx.showinfo('ELIZA:', (name, 'さん。', '朝食は食べましたか?'))\n",
    "elif data == 'こんにちは': # 入力が 'こんにちは' の場合\n",
    "    mx.showinfo('ELIZA:', (name, 'さん。', 'お昼に行きましょう'))\n",
    "elif data == 'こんばんは': # 入力が 'こんばんは の場合\n",
    "    mx.showinfo('ELIZA:', (name, 'さん。', '今日もお疲れ様。'))\n",
    "else: # それら以外の場合の処理\n",
    "    mx.showinfo('ELIZA:', (name, 'さん。', '何か言いましたか？'))\n",
    "root.destroy() # 描画命令を終了"
   ]
  },
  {
   "cell_type": "markdown",
   "metadata": {},
   "source": [
    "# 練習問題の解答例"
   ]
  },
  {
   "cell_type": "markdown",
   "metadata": {},
   "source": [
    "# プログラム9.11"
   ]
  },
  {
   "cell_type": "code",
   "execution_count": 12,
   "metadata": {},
   "outputs": [
    {
     "name": "stdout",
     "output_type": "stream",
     "text": [
      "合格\n"
     ]
    }
   ],
   "source": [
    "grade = 90 \n",
    "if grade >= 80:  \n",
    "    print('合格')"
   ]
  },
  {
   "cell_type": "markdown",
   "metadata": {},
   "source": [
    "# プログラム9.12"
   ]
  },
  {
   "cell_type": "code",
   "execution_count": 13,
   "metadata": {
    "scrolled": true
   },
   "outputs": [
    {
     "name": "stdout",
     "output_type": "stream",
     "text": [
      "不合格\n",
      "再試験対象です。\n"
     ]
    }
   ],
   "source": [
    "grade = 40 \n",
    "if grade < 60:  \n",
    "    print('不合格') \n",
    "    print('再試験対象です。')"
   ]
  },
  {
   "cell_type": "markdown",
   "metadata": {},
   "source": [
    "# プログラム9.13"
   ]
  },
  {
   "cell_type": "code",
   "execution_count": 14,
   "metadata": {
    "scrolled": true
   },
   "outputs": [
    {
     "name": "stdout",
     "output_type": "stream",
     "text": [
      "不合格\n"
     ]
    }
   ],
   "source": [
    "grade = 40 \n",
    "if grade >= 60: \n",
    "    print('合格') \n",
    "else:\n",
    "    print('不合格')"
   ]
  },
  {
   "cell_type": "markdown",
   "metadata": {},
   "source": [
    "# プログラム9.14"
   ]
  },
  {
   "cell_type": "code",
   "execution_count": 15,
   "metadata": {
    "scrolled": true
   },
   "outputs": [
    {
     "name": "stdout",
     "output_type": "stream",
     "text": [
      "不合格\n"
     ]
    }
   ],
   "source": [
    "grade = 90 \n",
    "if grade <= 60: \n",
    "    print('合格') \n",
    "else:\n",
    "    print('不合格')"
   ]
  },
  {
   "cell_type": "markdown",
   "metadata": {},
   "source": [
    "# 練習問題9-5の解答例"
   ]
  },
  {
   "cell_type": "code",
   "execution_count": 16,
   "metadata": {},
   "outputs": [
    {
     "name": "stdout",
     "output_type": "stream",
     "text": [
      "S\n"
     ]
    }
   ],
   "source": [
    "grade = 95\n",
    "if grade >= 90: # ある学生の点数が90 以上か？\n",
    "    print('S')\n",
    "elif grade >= 80: # ある学生の点数が90 未満かつ80 以上か？\n",
    "    print('A')\n",
    "elif grade >= 70: # ある学生の点数が80 未満かつ70 以上か？\n",
    "    print('B')\n",
    "elif grade >= 60: # ある学生の点数が70 未満かつ60 以上か？\n",
    "    print('C')\n",
    "else:  # それ以外の場合(つまり60 点未満)\n",
    "    print('D')"
   ]
  },
  {
   "cell_type": "code",
   "execution_count": 17,
   "metadata": {},
   "outputs": [
    {
     "name": "stdout",
     "output_type": "stream",
     "text": [
      "A\n"
     ]
    }
   ],
   "source": [
    "grade = 85 \n",
    "if grade >= 90: # ある学生の点数が90 以上か？\n",
    "    print('S')\n",
    "elif grade >= 80: # ある学生の点数が90 未満かつ80 以上か？\n",
    "    print('A')\n",
    "elif grade >= 70: # ある学生の点数が80 未満かつ70 以上か？\n",
    "    print('B')\n",
    "elif grade >= 60: # ある学生の点数が70 未満かつ60 以上か？\n",
    "    print('C')\n",
    "else:  # それ以外の場合(つまり60 点未満)\n",
    "    print('D')"
   ]
  },
  {
   "cell_type": "code",
   "execution_count": 18,
   "metadata": {},
   "outputs": [
    {
     "name": "stdout",
     "output_type": "stream",
     "text": [
      "C\n"
     ]
    }
   ],
   "source": [
    "grade = 65\n",
    "if grade >= 90: # ある学生の点数が90 以上か？\n",
    "    print('S')\n",
    "elif grade >= 80: # ある学生の点数が90 未満かつ80 以上か？\n",
    "    print('A')\n",
    "elif grade >= 70: # ある学生の点数が80 未満かつ70 以上か？\n",
    "    print('B')\n",
    "elif grade >= 60: # ある学生の点数が70 未満かつ60 以上か？\n",
    "    print('C')\n",
    "else:  # それ以外の場合(つまり60 点未満)\n",
    "    print('D')"
   ]
  },
  {
   "cell_type": "code",
   "execution_count": 19,
   "metadata": {},
   "outputs": [
    {
     "name": "stdout",
     "output_type": "stream",
     "text": [
      "D\n"
     ]
    }
   ],
   "source": [
    "grade = 20\n",
    "if grade >= 90: # ある学生の点数が90 以上か？\n",
    "    print('S')\n",
    "elif grade >= 80: # ある学生の点数が90 未満かつ80 以上か？\n",
    "    print('A')\n",
    "elif grade >= 70: # ある学生の点数が80 未満かつ70 以上か？\n",
    "    print('B')\n",
    "elif grade >= 60: # ある学生の点数が70 未満かつ60 以上か？\n",
    "    print('C')\n",
    "else:  # それ以外の場合(つまり60 点未満)\n",
    "    print('D')"
   ]
  },
  {
   "cell_type": "markdown",
   "metadata": {},
   "source": [
    "# プログラム9.15"
   ]
  },
  {
   "cell_type": "code",
   "execution_count": 20,
   "metadata": {
    "scrolled": true
   },
   "outputs": [
    {
     "name": "stdout",
     "output_type": "stream",
     "text": [
      "True\n"
     ]
    }
   ],
   "source": [
    "grade = 90 \n",
    "print(grade <= 100 and grade >= 90)"
   ]
  },
  {
   "cell_type": "markdown",
   "metadata": {},
   "source": [
    "# コラムのプログラム9.22"
   ]
  },
  {
   "cell_type": "code",
   "execution_count": 21,
   "metadata": {},
   "outputs": [
    {
     "name": "stdout",
     "output_type": "stream",
     "text": [
      "True\n"
     ]
    }
   ],
   "source": [
    "a = b = c = 10\n",
    "if a == b and a == c and b == c:\n",
    "    print(True)\n",
    "else:\n",
    "    print(False)"
   ]
  },
  {
   "cell_type": "markdown",
   "metadata": {},
   "source": [
    "# コラムのプログラム9.23"
   ]
  },
  {
   "cell_type": "code",
   "execution_count": 22,
   "metadata": {
    "scrolled": true
   },
   "outputs": [
    {
     "name": "stdout",
     "output_type": "stream",
     "text": [
      "True\n"
     ]
    }
   ],
   "source": [
    "a = b = c = 10\n",
    "if a == b == c:\n",
    "    print(True)\n",
    "else:\n",
    "    print(False)\n",
    "    "
   ]
  },
  {
   "cell_type": "markdown",
   "metadata": {},
   "source": [
    "# コラムのプログラム9.24"
   ]
  },
  {
   "cell_type": "code",
   "execution_count": 23,
   "metadata": {
    "scrolled": true
   },
   "outputs": [
    {
     "name": "stdout",
     "output_type": "stream",
     "text": [
      "10\n"
     ]
    }
   ],
   "source": [
    "x, y = 10, 5\n",
    "if x > y :\n",
    "    tmp = x\n",
    "else:\n",
    "    tmp = y\n",
    "print(tmp)"
   ]
  },
  {
   "cell_type": "markdown",
   "metadata": {},
   "source": [
    "# コラムのプログラム9.25"
   ]
  },
  {
   "cell_type": "code",
   "execution_count": 24,
   "metadata": {
    "scrolled": true
   },
   "outputs": [
    {
     "name": "stdout",
     "output_type": "stream",
     "text": [
      "10\n"
     ]
    }
   ],
   "source": [
    "x, y = 10, 5\n",
    "tmp = x if x > y else y\n",
    "print(tmp)"
   ]
  },
  {
   "cell_type": "markdown",
   "metadata": {},
   "source": [
    "# コラムのプログラム9.26"
   ]
  },
  {
   "cell_type": "code",
   "execution_count": 25,
   "metadata": {},
   "outputs": [
    {
     "name": "stdout",
     "output_type": "stream",
     "text": [
      "10\n"
     ]
    }
   ],
   "source": [
    "x, y = 10, 5\n",
    "tmp = x > y and x or y\n",
    "print(tmp)"
   ]
  },
  {
   "cell_type": "markdown",
   "metadata": {},
   "source": [
    "# コラムのプログラム9.27"
   ]
  },
  {
   "cell_type": "code",
   "execution_count": 26,
   "metadata": {},
   "outputs": [
    {
     "name": "stdout",
     "output_type": "stream",
     "text": [
      "10\n"
     ]
    }
   ],
   "source": [
    "x, y = 10, 5\n",
    "tmp = [y, x][x > y]\n",
    "print(tmp)"
   ]
  }
 ],
 "metadata": {
  "kernelspec": {
   "display_name": "Python 3 (ipykernel)",
   "language": "python",
   "name": "python3"
  },
  "language_info": {
   "codemirror_mode": {
    "name": "ipython",
    "version": 3
   },
   "file_extension": ".py",
   "mimetype": "text/x-python",
   "name": "python",
   "nbconvert_exporter": "python",
   "pygments_lexer": "ipython3",
   "version": "3.9.7"
  }
 },
 "nbformat": 4,
 "nbformat_minor": 4
}
