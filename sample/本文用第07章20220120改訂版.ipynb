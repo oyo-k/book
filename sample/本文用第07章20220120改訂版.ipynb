{
 "cells": [
  {
   "cell_type": "markdown",
   "metadata": {},
   "source": [
    "# プログラム7.1"
   ]
  },
  {
   "cell_type": "code",
   "execution_count": 2,
   "metadata": {},
   "outputs": [
    {
     "name": "stdout",
     "output_type": "stream",
     "text": [
      "[[10 11 12 13 14]\n",
      " [15 16 17 18 19]\n",
      " [20 21 22 23 24]]\n",
      "17\n",
      "[[ 10  11  12  13  14]\n",
      " [ 15  16 100  18  19]\n",
      " [ 20  21  22  23  24]]\n"
     ]
    }
   ],
   "source": [
    "import numpy as np\n",
    "# 1行ずつ記入し2次元配列を作成\n",
    "d = np.array([[10, 11, 12, 13, 14],\n",
    "              [15, 16, 17, 18, 19],\n",
    "              [20, 21, 22, 23, 24]]) \n",
    "print(d) # 配列の中身を全て出力\n",
    "print(d[1, 2]) # 一部である 17 を出力\n",
    "d[1, 2] = 100 # 値を変更\n",
    "print(d) # 配列の中身を全て出力"
   ]
  },
  {
   "cell_type": "markdown",
   "metadata": {},
   "source": [
    "# プログラム7.2"
   ]
  },
  {
   "cell_type": "code",
   "execution_count": 3,
   "metadata": {},
   "outputs": [
    {
     "name": "stdout",
     "output_type": "stream",
     "text": [
      "12\n"
     ]
    }
   ],
   "source": [
    "d = np.array([[10, 11, 12, 13, 14], \n",
    "              [15, 16, 17, 18, 19], \n",
    "              [20, 21, 22, 23, 24]]) \n",
    "print(d[0, 2])"
   ]
  },
  {
   "cell_type": "markdown",
   "metadata": {},
   "source": [
    "# プログラム7.3"
   ]
  },
  {
   "cell_type": "code",
   "execution_count": 3,
   "metadata": {},
   "outputs": [
    {
     "name": "stdout",
     "output_type": "stream",
     "text": [
      "[15 16 17 18 19]\n"
     ]
    }
   ],
   "source": [
    "print(d[1, :])"
   ]
  },
  {
   "cell_type": "markdown",
   "metadata": {},
   "source": [
    "# プログラム7.4"
   ]
  },
  {
   "cell_type": "code",
   "execution_count": 4,
   "metadata": {},
   "outputs": [
    {
     "name": "stdout",
     "output_type": "stream",
     "text": [
      "[13 18 23]\n"
     ]
    }
   ],
   "source": [
    "print(d[:, 3])"
   ]
  },
  {
   "cell_type": "markdown",
   "metadata": {},
   "source": [
    "# プログラム7.5"
   ]
  },
  {
   "cell_type": "code",
   "execution_count": 5,
   "metadata": {},
   "outputs": [
    {
     "name": "stdout",
     "output_type": "stream",
     "text": [
      "[[11 12 13]\n",
      " [16 17 18]\n",
      " [21 22 23]]\n"
     ]
    }
   ],
   "source": [
    "print(d[0:3, 1:4])"
   ]
  },
  {
   "cell_type": "markdown",
   "metadata": {},
   "source": [
    "# プログラム7.6"
   ]
  },
  {
   "cell_type": "code",
   "execution_count": 6,
   "metadata": {},
   "outputs": [
    {
     "name": "stdout",
     "output_type": "stream",
     "text": [
      "112\n"
     ]
    }
   ],
   "source": [
    "d[0, 2] = 112\n",
    "print(d[0, 2])"
   ]
  },
  {
   "cell_type": "markdown",
   "metadata": {},
   "source": [
    "# プログラム7.7"
   ]
  },
  {
   "cell_type": "code",
   "execution_count": 7,
   "metadata": {},
   "outputs": [
    {
     "name": "stdout",
     "output_type": "stream",
     "text": [
      "[77 77 77]\n"
     ]
    }
   ],
   "source": [
    "d[:, 3] = 77\n",
    "print(d[:, 3])"
   ]
  },
  {
   "cell_type": "markdown",
   "metadata": {},
   "source": [
    "# プログラム7.8"
   ]
  },
  {
   "cell_type": "code",
   "execution_count": 8,
   "metadata": {},
   "outputs": [
    {
     "name": "stdout",
     "output_type": "stream",
     "text": [
      "[[0 0 0]\n",
      " [0 0 0]\n",
      " [0 0 0]]\n"
     ]
    }
   ],
   "source": [
    "d[0:3, 1:4] = 0\n",
    "print(d[0:3, 1:4])"
   ]
  },
  {
   "cell_type": "markdown",
   "metadata": {},
   "source": [
    "# プログラム7.9"
   ]
  },
  {
   "cell_type": "code",
   "execution_count": 5,
   "metadata": {},
   "outputs": [
    {
     "name": "stdout",
     "output_type": "stream",
     "text": [
      "[[0 0 0 0]\n",
      " [0 0 0 0]\n",
      " [0 0 0 0]]\n",
      "[[1 1 1 1]\n",
      " [1 1 1 1]\n",
      " [1 1 1 1]]\n"
     ]
    }
   ],
   "source": [
    "# 以下のように改行せずに記述することも可能 \n",
    "d = np.array([[10, 11, 12, 13], [15, 16, 17, 18], [20, 21, 22, 23]]) \n",
    "d = d - d # 行番号と列番号が同じ要素の減算\n",
    "print(d) # 全ての要素が 0 の配列の全ての要素を出力  \n",
    "d = d + 1 # 全ての要素に1 を加算\n",
    "print(d) # 全ての要素が 1 の配列の全ての要素を出力"
   ]
  },
  {
   "cell_type": "markdown",
   "metadata": {},
   "source": [
    "# プログラム7.10"
   ]
  },
  {
   "cell_type": "code",
   "execution_count": 10,
   "metadata": {},
   "outputs": [
    {
     "name": "stdout",
     "output_type": "stream",
     "text": [
      "[[10 11 12 13]\n",
      " [30 32 34 36]\n",
      " [20 21 22 23]]\n"
     ]
    }
   ],
   "source": [
    "d = np.array([[10,11,12,13], [15,16,17,18], [20,21,22,23]]) \n",
    "d[1, :] = d[1, :] + d[1, :]\n",
    "print(d)"
   ]
  },
  {
   "cell_type": "markdown",
   "metadata": {},
   "source": [
    "# プログラム7.11"
   ]
  },
  {
   "cell_type": "code",
   "execution_count": 6,
   "metadata": {},
   "outputs": [
    {
     "name": "stdout",
     "output_type": "stream",
     "text": [
      "[ 1  2  3  4  5  6  7  8  9 10 11 12 13 14 15 16 17 18 19 20 21 22 23 24\n",
      " 25 26 27 28 29 30 31 32 33 34 35 36 37 38 39 40 41 42 43 44 45 46 47 48\n",
      " 49 50 51 52 53 54 55 56 57 58 59 60 61 62 63 64 65 66 67 68 69 70 71 72\n",
      " 73 74 75 76 77 78 79 80 81 82 83 84 85 86 87 88 89 90]\n",
      "1次元配列を6行15列の2次元配列に変換\n",
      "[[ 1  2  3  4  5  6  7  8  9 10 11 12 13 14 15]\n",
      " [16 17 18 19 20 21 22 23 24 25 26 27 28 29 30]\n",
      " [31 32 33 34 35 36 37 38 39 40 41 42 43 44 45]\n",
      " [46 47 48 49 50 51 52 53 54 55 56 57 58 59 60]\n",
      " [61 62 63 64 65 66 67 68 69 70 71 72 73 74 75]\n",
      " [76 77 78 79 80 81 82 83 84 85 86 87 88 89 90]]\n"
     ]
    }
   ],
   "source": [
    "# 1 から 90 の要素の1次元配列\n",
    "d1 = np.arange(1, 91)\n",
    "print(d1)  \n",
    "# reshape(行数, 列数)と指定\n",
    "print('1次元配列を6行15列の2次元配列に変換')\n",
    "d2 = d1.reshape(6, 15) \n",
    "print(d2) # 2次元配列の出力"
   ]
  },
  {
   "cell_type": "markdown",
   "metadata": {},
   "source": [
    "# プログラム7.12"
   ]
  },
  {
   "cell_type": "code",
   "execution_count": 12,
   "metadata": {},
   "outputs": [
    {
     "name": "stdout",
     "output_type": "stream",
     "text": [
      "90\n",
      "1\n"
     ]
    }
   ],
   "source": [
    "print(np.max(d1)) # 最大値を求める\n",
    "print(np.min(d1)) # 最小値を求める"
   ]
  },
  {
   "cell_type": "markdown",
   "metadata": {},
   "source": [
    "# プログラム7.13"
   ]
  },
  {
   "cell_type": "code",
   "execution_count": 13,
   "metadata": {},
   "outputs": [
    {
     "name": "stdout",
     "output_type": "stream",
     "text": [
      "[76 77 78 79 80 81 82 83 84 85 86 87 88 89 90]\n",
      "[15 30 45 60 75 90]\n",
      "90\n"
     ]
    }
   ],
   "source": [
    "print(np.max(d2, axis = 0)) # 列ごとの最大値の計算\n",
    "print(np.max(d2, axis = 1)) # 行ごとの最大値の計算\n",
    "print(np.max(d2)) # 全ての要素の最大値"
   ]
  },
  {
   "cell_type": "markdown",
   "metadata": {},
   "source": [
    "# プログラム7.14"
   ]
  },
  {
   "cell_type": "code",
   "execution_count": 14,
   "metadata": {},
   "outputs": [
    {
     "name": "stdout",
     "output_type": "stream",
     "text": [
      "[231 237 243 249 255 261 267 273 279 285 291 297 303 309 315]\n",
      "[ 120  345  570  795 1020 1245]\n",
      "4095\n"
     ]
    }
   ],
   "source": [
    "print(np.sum(d2, axis = 0)) # 列ごとの合計\n",
    "print(np.sum(d2, axis = 1)) # 行ごとの合計\n",
    "print(np.sum(d2)) # 全ての要素の合計"
   ]
  }
 ],
 "metadata": {
  "kernelspec": {
   "display_name": "Python 3 (ipykernel)",
   "language": "python",
   "name": "python3"
  },
  "language_info": {
   "codemirror_mode": {
    "name": "ipython",
    "version": 3
   },
   "file_extension": ".py",
   "mimetype": "text/x-python",
   "name": "python",
   "nbconvert_exporter": "python",
   "pygments_lexer": "ipython3",
   "version": "3.9.7"
  }
 },
 "nbformat": 4,
 "nbformat_minor": 4
}
