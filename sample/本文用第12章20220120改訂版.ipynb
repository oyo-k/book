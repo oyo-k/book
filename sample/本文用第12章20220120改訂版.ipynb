{
 "cells": [
  {
   "cell_type": "markdown",
   "metadata": {},
   "source": [
    "# プログラム12.1"
   ]
  },
  {
   "cell_type": "code",
   "execution_count": 2,
   "metadata": {},
   "outputs": [
    {
     "name": "stdout",
     "output_type": "stream",
     "text": [
      "dfa:\n",
      "     国語  数学\n",
      "s01  66  99\n",
      "s02  98  42\n",
      "dfb:\n",
      "     国語  数学\n",
      "s01  74  71\n",
      "s02  82  68\n",
      "dfa + dfb = \n",
      "      国語   数学\n",
      "s01  140  170\n",
      "s02  180  110\n"
     ]
    }
   ],
   "source": [
    "import pandas as pd\n",
    "# データフレームを作成して dfa に代入\n",
    "dfa = pd.DataFrame({'国語': [66, 98],\n",
    "    '数学':[99, 42]}, index = ['s01', 's02'])\n",
    "print('dfa:')\n",
    "print(dfa) # dfa の中身を出力\n",
    "# データフレームを作成して dfb に代入\n",
    "dfb = pd.DataFrame({'国語': [74, 82],\n",
    "    '数学':[71, 68]}, index = ['s01', 's02'])\n",
    "print('dfb:')\n",
    "print(dfb) # dfb の中身を出力\n",
    "dfab = dfa + dfb # 二つのデータフレームの値を加算\n",
    "print('dfa + dfb = ') \n",
    "print(dfab) # 結果の出力"
   ]
  },
  {
   "cell_type": "markdown",
   "metadata": {},
   "source": [
    "# プログラム12.2"
   ]
  },
  {
   "cell_type": "code",
   "execution_count": 3,
   "metadata": {
    "scrolled": true
   },
   "outputs": [
    {
     "name": "stdout",
     "output_type": "stream",
     "text": [
      "      国語  数学\n",
      "s01  140  99\n",
      "s02   98  42\n",
      "      国語   数学\n",
      "s01  140  170\n",
      "s02   98  110\n"
     ]
    }
   ],
   "source": [
    "dfa.at['s01','国語'] = dfa.at['s01','国語']+dfb.at['s01','国語']\n",
    "print(dfa)\n",
    "dfa.loc[:, '数学'] = dfa.loc[:, '数学'] + dfb.loc[:, '数学']\n",
    "print(dfa) "
   ]
  },
  {
   "cell_type": "markdown",
   "metadata": {},
   "source": [
    "# プログラム12.3"
   ]
  },
  {
   "cell_type": "code",
   "execution_count": 3,
   "metadata": {
    "scrolled": true
   },
   "outputs": [
    {
     "name": "stdout",
     "output_type": "stream",
     "text": [
      "dfc:\n",
      "     国語  数学\n",
      "s01  66  99\n",
      "s02  98  42\n",
      "dfd:\n",
      "     数学  国語\n",
      "s02  68  82\n",
      "s01  71  74\n",
      "dfc + dfd= \n",
      "      国語   数学\n",
      "s01  140  170\n",
      "s02  180  110\n"
     ]
    }
   ],
   "source": [
    "# データフレームを作成して dfc に代入\n",
    "dfc = pd.DataFrame({'国語':[66, 98],\n",
    "    '数学':[99, 42]}, index = ['s01', 's02'])\n",
    "print('dfc:')\n",
    "print(dfc) # dfc の中身を出力\n",
    "# データフレームを作成して dfd に代入\n",
    "dfd = pd.DataFrame({'数学':[68, 71],\n",
    "    '国語':[82, 74]}, index = ['s02', 's01'])\n",
    "print('dfd:')\n",
    "print(dfd) # dfd の中身を出力\n",
    "dfcd = dfc + dfd # 二つのデータフレームの値を加算\n",
    "print('dfc + dfd= ') \n",
    "print(dfcd) # 結果の出力"
   ]
  },
  {
   "cell_type": "markdown",
   "metadata": {},
   "source": [
    "# プログラム12.4"
   ]
  },
  {
   "cell_type": "code",
   "execution_count": 4,
   "metadata": {
    "scrolled": true
   },
   "outputs": [
    {
     "name": "stdout",
     "output_type": "stream",
     "text": [
      "df1:\n",
      "     国語  数学\n",
      "s01  10   7\n",
      "s02   8   6\n",
      "df2:\n",
      "     国語  数学\n",
      "s01   5   3\n",
      "s02   3   8\n",
      "s03   1   9\n",
      "df1 + df2:\n",
      "       国語    数学\n",
      "s01  15.0  10.0\n",
      "s02  11.0  14.0\n",
      "s03   NaN   NaN\n"
     ]
    }
   ],
   "source": [
    "# index には s01, s02の二つを指定\n",
    "df1 = pd.DataFrame({'国語':[10, 8],\n",
    "    '数学':[7, 6]}, index = ['s01', 's02']) \n",
    "print('df1:') \n",
    "print(df1) # df1の出力\n",
    "\n",
    "# indexには s01 と s02, s03の三つを指定\n",
    "df2 = pd.DataFrame({'国語':[5, 3, 1],\n",
    "    '数学':[3, 8, 9]}, index = ['s01', 's02', 's03']) \n",
    "print('df2:') \n",
    "print(df2) # df2の出力\n",
    "print('df1 + df2:')\n",
    "print(df1 + df2) # 演算の結果を表示"
   ]
  },
  {
   "cell_type": "markdown",
   "metadata": {},
   "source": [
    "# プログラム12.5"
   ]
  },
  {
   "cell_type": "code",
   "execution_count": 5,
   "metadata": {
    "scrolled": true
   },
   "outputs": [
    {
     "name": "stdout",
     "output_type": "stream",
     "text": [
      "       国語    数学\n",
      "s01  15.0  10.0\n",
      "s02  11.0  14.0\n",
      "s03   1.0   9.0\n"
     ]
    }
   ],
   "source": [
    "dfsum = df1.add(df2, fill_value = 0) \n",
    "print(dfsum)"
   ]
  },
  {
   "cell_type": "markdown",
   "metadata": {},
   "source": [
    "# プログラム12.6"
   ]
  },
  {
   "cell_type": "code",
   "execution_count": 6,
   "metadata": {
    "scrolled": true
   },
   "outputs": [
    {
     "name": "stdout",
     "output_type": "stream",
     "text": [
      "国語    18\n",
      "数学    13\n",
      "dtype: int64\n"
     ]
    }
   ],
   "source": [
    "print(df1.sum())"
   ]
  },
  {
   "cell_type": "markdown",
   "metadata": {},
   "source": [
    "# プログラム12.7"
   ]
  },
  {
   "cell_type": "code",
   "execution_count": 7,
   "metadata": {
    "scrolled": true
   },
   "outputs": [
    {
     "name": "stdout",
     "output_type": "stream",
     "text": [
      "s01    17\n",
      "s02    14\n",
      "dtype: int64\n"
     ]
    }
   ],
   "source": [
    "print(df1.sum(axis = 1))"
   ]
  },
  {
   "cell_type": "markdown",
   "metadata": {},
   "source": [
    "# プログラム12.8"
   ]
  },
  {
   "cell_type": "code",
   "execution_count": 1,
   "metadata": {
    "scrolled": true
   },
   "outputs": [
    {
     "data": {
      "text/html": [
       "<div>\n",
       "<style scoped>\n",
       "    .dataframe tbody tr th:only-of-type {\n",
       "        vertical-align: middle;\n",
       "    }\n",
       "\n",
       "    .dataframe tbody tr th {\n",
       "        vertical-align: top;\n",
       "    }\n",
       "\n",
       "    .dataframe thead th {\n",
       "        text-align: right;\n",
       "    }\n",
       "</style>\n",
       "<table border=\"1\" class=\"dataframe\">\n",
       "  <thead>\n",
       "    <tr style=\"text-align: right;\">\n",
       "      <th></th>\n",
       "      <th>都道府県</th>\n",
       "      <th>市区町村名</th>\n",
       "      <th>町域名</th>\n",
       "    </tr>\n",
       "    <tr>\n",
       "      <th>郵便番号</th>\n",
       "      <th></th>\n",
       "      <th></th>\n",
       "      <th></th>\n",
       "    </tr>\n",
       "  </thead>\n",
       "  <tbody>\n",
       "    <tr>\n",
       "      <th>600000</th>\n",
       "      <td>北海道</td>\n",
       "      <td>札幌市中央区</td>\n",
       "      <td>以下に掲載がない場合</td>\n",
       "    </tr>\n",
       "    <tr>\n",
       "      <th>640941</th>\n",
       "      <td>北海道</td>\n",
       "      <td>札幌市中央区</td>\n",
       "      <td>旭ケ丘</td>\n",
       "    </tr>\n",
       "    <tr>\n",
       "      <th>600041</th>\n",
       "      <td>北海道</td>\n",
       "      <td>札幌市中央区</td>\n",
       "      <td>大通東</td>\n",
       "    </tr>\n",
       "    <tr>\n",
       "      <th>600042</th>\n",
       "      <td>北海道</td>\n",
       "      <td>札幌市中央区</td>\n",
       "      <td>大通西（１〜１９丁目）</td>\n",
       "    </tr>\n",
       "    <tr>\n",
       "      <th>640820</th>\n",
       "      <td>北海道</td>\n",
       "      <td>札幌市中央区</td>\n",
       "      <td>大通西（２０〜２８丁目）</td>\n",
       "    </tr>\n",
       "    <tr>\n",
       "      <th>...</th>\n",
       "      <td>...</td>\n",
       "      <td>...</td>\n",
       "      <td>...</td>\n",
       "    </tr>\n",
       "    <tr>\n",
       "      <th>9071433</th>\n",
       "      <td>沖縄県</td>\n",
       "      <td>八重山郡竹富町</td>\n",
       "      <td>南風見仲</td>\n",
       "    </tr>\n",
       "    <tr>\n",
       "      <th>9071751</th>\n",
       "      <td>沖縄県</td>\n",
       "      <td>八重山郡竹富町</td>\n",
       "      <td>波照間</td>\n",
       "    </tr>\n",
       "    <tr>\n",
       "      <th>9071544</th>\n",
       "      <td>沖縄県</td>\n",
       "      <td>八重山郡竹富町</td>\n",
       "      <td>鳩間</td>\n",
       "    </tr>\n",
       "    <tr>\n",
       "      <th>9071800</th>\n",
       "      <td>沖縄県</td>\n",
       "      <td>八重山郡与那国町</td>\n",
       "      <td>以下に掲載がない場合</td>\n",
       "    </tr>\n",
       "    <tr>\n",
       "      <th>9071801</th>\n",
       "      <td>沖縄県</td>\n",
       "      <td>八重山郡与那国町</td>\n",
       "      <td>与那国</td>\n",
       "    </tr>\n",
       "  </tbody>\n",
       "</table>\n",
       "<p>124331 rows × 3 columns</p>\n",
       "</div>"
      ],
      "text/plain": [
       "        都道府県     市区町村名           町域名\n",
       "郵便番号                                \n",
       "600000   北海道    札幌市中央区    以下に掲載がない場合\n",
       "640941   北海道    札幌市中央区           旭ケ丘\n",
       "600041   北海道    札幌市中央区           大通東\n",
       "600042   北海道    札幌市中央区   大通西（１〜１９丁目）\n",
       "640820   北海道    札幌市中央区  大通西（２０〜２８丁目）\n",
       "...      ...       ...           ...\n",
       "9071433  沖縄県   八重山郡竹富町          南風見仲\n",
       "9071751  沖縄県   八重山郡竹富町           波照間\n",
       "9071544  沖縄県   八重山郡竹富町            鳩間\n",
       "9071800  沖縄県  八重山郡与那国町    以下に掲載がない場合\n",
       "9071801  沖縄県  八重山郡与那国町           与那国\n",
       "\n",
       "[124331 rows x 3 columns]"
      ]
     },
     "metadata": {},
     "output_type": "display_data"
    }
   ],
   "source": [
    "# データの読み込みは時間がかかるため、一つのセルに読み込み関係するものだけを記述する\n",
    "import pandas as pd \n",
    "data = pd.read_csv('data//ken_data.csv', # 住所録データのファイルパス\n",
    "    encoding = 'shift_jis', index_col = '郵便番号')\n",
    "display(data) # 全国 124,331 件の住所\n"
   ]
  },
  {
   "cell_type": "markdown",
   "metadata": {},
   "source": [
    "# プログラム12.9"
   ]
  },
  {
   "cell_type": "code",
   "execution_count": 9,
   "metadata": {
    "scrolled": true
   },
   "outputs": [
    {
     "name": "stdout",
     "output_type": "stream",
     "text": [
      "7桁郵便番号(-は不要)を入力してください:6691337\n",
      "あなたの入力した郵便番号: 6691337 です。\n",
      "郵便番号に関連する情報を一括で出力\n",
      "        都道府県 市区町村名 町域名\n",
      "郵便番号                  \n",
      "6691337  兵庫県   三田市  学園\n",
      "郵便番号に関連する情報を個別に出力\n",
      "あなたの都道府県: 兵庫県\n",
      "あなたの市区町村名: 三田市\n",
      "あなたの町域名: 学園\n"
     ]
    }
   ],
   "source": [
    "number = input('7桁郵便番号(-は不要)を入力してください:')\n",
    "print('あなたの入力した郵便番号:',number, 'です。')\n",
    "subset = data.loc[data.index.values == int(number), :]\n",
    "print('郵便番号に関連する情報を一括で出力')\n",
    "print(subset) # 郵便番号 6691337 の住所を出力\n",
    "print('郵便番号に関連する情報を個別に出力')\n",
    "print('あなたの都道府県:',subset.loc[int(number), '都道府県'])\n",
    "print('あなたの市区町村名:',subset.loc[int(number), '市区町村名'])\n",
    "print('あなたの町域名:',subset.loc[int(number), '町域名'])"
   ]
  },
  {
   "cell_type": "markdown",
   "metadata": {},
   "source": [
    "# プログラム12.10"
   ]
  },
  {
   "cell_type": "code",
   "execution_count": 10,
   "metadata": {
    "scrolled": true
   },
   "outputs": [
    {
     "name": "stdout",
     "output_type": "stream",
     "text": [
      "2桁の数字を入力してください:66\n",
      "あなたの入力した先頭2桁は 66 です。\n"
     ]
    },
    {
     "data": {
      "text/html": [
       "<div>\n",
       "<style scoped>\n",
       "    .dataframe tbody tr th:only-of-type {\n",
       "        vertical-align: middle;\n",
       "    }\n",
       "\n",
       "    .dataframe tbody tr th {\n",
       "        vertical-align: top;\n",
       "    }\n",
       "\n",
       "    .dataframe thead th {\n",
       "        text-align: right;\n",
       "    }\n",
       "</style>\n",
       "<table border=\"1\" class=\"dataframe\">\n",
       "  <thead>\n",
       "    <tr style=\"text-align: right;\">\n",
       "      <th></th>\n",
       "      <th>都道府県</th>\n",
       "      <th>市区町村名</th>\n",
       "      <th>町域名</th>\n",
       "    </tr>\n",
       "    <tr>\n",
       "      <th>郵便番号</th>\n",
       "      <th></th>\n",
       "      <th></th>\n",
       "      <th></th>\n",
       "    </tr>\n",
       "  </thead>\n",
       "  <tbody>\n",
       "    <tr>\n",
       "      <th>6600000</th>\n",
       "      <td>兵庫県</td>\n",
       "      <td>尼崎市</td>\n",
       "      <td>以下に掲載がない場合</td>\n",
       "    </tr>\n",
       "    <tr>\n",
       "      <th>6600051</th>\n",
       "      <td>兵庫県</td>\n",
       "      <td>尼崎市</td>\n",
       "      <td>東七松町</td>\n",
       "    </tr>\n",
       "    <tr>\n",
       "      <th>6600052</th>\n",
       "      <td>兵庫県</td>\n",
       "      <td>尼崎市</td>\n",
       "      <td>七松町</td>\n",
       "    </tr>\n",
       "    <tr>\n",
       "      <th>6600053</th>\n",
       "      <td>兵庫県</td>\n",
       "      <td>尼崎市</td>\n",
       "      <td>南七松町</td>\n",
       "    </tr>\n",
       "    <tr>\n",
       "      <th>6600054</th>\n",
       "      <td>兵庫県</td>\n",
       "      <td>尼崎市</td>\n",
       "      <td>西立花町</td>\n",
       "    </tr>\n",
       "    <tr>\n",
       "      <th>...</th>\n",
       "      <td>...</td>\n",
       "      <td>...</td>\n",
       "      <td>...</td>\n",
       "    </tr>\n",
       "    <tr>\n",
       "      <th>6696946</th>\n",
       "      <td>兵庫県</td>\n",
       "      <td>美方郡新温泉町</td>\n",
       "      <td>越坂</td>\n",
       "    </tr>\n",
       "    <tr>\n",
       "      <th>6696951</th>\n",
       "      <td>兵庫県</td>\n",
       "      <td>美方郡新温泉町</td>\n",
       "      <td>前</td>\n",
       "    </tr>\n",
       "    <tr>\n",
       "      <th>6696952</th>\n",
       "      <td>兵庫県</td>\n",
       "      <td>美方郡新温泉町</td>\n",
       "      <td>海上</td>\n",
       "    </tr>\n",
       "    <tr>\n",
       "      <th>6696953</th>\n",
       "      <td>兵庫県</td>\n",
       "      <td>美方郡新温泉町</td>\n",
       "      <td>石橋</td>\n",
       "    </tr>\n",
       "    <tr>\n",
       "      <th>6696954</th>\n",
       "      <td>兵庫県</td>\n",
       "      <td>美方郡新温泉町</td>\n",
       "      <td>岸田</td>\n",
       "    </tr>\n",
       "  </tbody>\n",
       "</table>\n",
       "<p>1943 rows × 3 columns</p>\n",
       "</div>"
      ],
      "text/plain": [
       "        都道府県    市区町村名         町域名\n",
       "郵便番号                             \n",
       "6600000  兵庫県      尼崎市  以下に掲載がない場合\n",
       "6600051  兵庫県      尼崎市        東七松町\n",
       "6600052  兵庫県      尼崎市         七松町\n",
       "6600053  兵庫県      尼崎市        南七松町\n",
       "6600054  兵庫県      尼崎市        西立花町\n",
       "...      ...      ...         ...\n",
       "6696946  兵庫県  美方郡新温泉町          越坂\n",
       "6696951  兵庫県  美方郡新温泉町           前\n",
       "6696952  兵庫県  美方郡新温泉町          海上\n",
       "6696953  兵庫県  美方郡新温泉町          石橋\n",
       "6696954  兵庫県  美方郡新温泉町          岸田\n",
       "\n",
       "[1943 rows x 3 columns]"
      ]
     },
     "metadata": {},
     "output_type": "display_data"
    }
   ],
   "source": [
    "number = input('2桁の数字を入力してください:')\n",
    "print('あなたの入力した先頭2桁は', number, 'です。')\n",
    "# 6600000以上6700000未満の範囲の指定のために最小値と最大値を計算\n",
    "n_min = int(number) * 100000 # 先頭2桁66に0を5つ加える\n",
    "n_max = (int(number) + 1) * 100000 # 指定する範囲の最大値\n",
    "\n",
    "cond1 = n_min <= data.index.values # 条件1:6600000以上のインデックス名\n",
    "cond2 = data.index.values < n_max # 条件2:6700000未満のインデックス名\n",
    "# 条件1と条件2の両方が True のとき、すなわち、6600000以上6700000未満の範囲を指定\n",
    "data_sub = data.loc[cond1 & cond2, :]\n",
    "display(data_sub.sort_values('郵便番号')) # 郵便番号で並び替えてから住所を出力"
   ]
  },
  {
   "cell_type": "markdown",
   "metadata": {},
   "source": [
    "# プログラム12.11"
   ]
  },
  {
   "cell_type": "code",
   "execution_count": 6,
   "metadata": {
    "scrolled": true
   },
   "outputs": [
    {
     "name": "stdout",
     "output_type": "stream",
     "text": [
      "あなたの町域名は三田\n",
      "あなたの入力した内容は 三田\n"
     ]
    },
    {
     "data": {
      "text/html": [
       "<div>\n",
       "<style scoped>\n",
       "    .dataframe tbody tr th:only-of-type {\n",
       "        vertical-align: middle;\n",
       "    }\n",
       "\n",
       "    .dataframe tbody tr th {\n",
       "        vertical-align: top;\n",
       "    }\n",
       "\n",
       "    .dataframe thead th {\n",
       "        text-align: right;\n",
       "    }\n",
       "</style>\n",
       "<table border=\"1\" class=\"dataframe\">\n",
       "  <thead>\n",
       "    <tr style=\"text-align: right;\">\n",
       "      <th></th>\n",
       "      <th>都道府県</th>\n",
       "      <th>市区町村名</th>\n",
       "      <th>町域名</th>\n",
       "    </tr>\n",
       "    <tr>\n",
       "      <th>郵便番号</th>\n",
       "      <th></th>\n",
       "      <th></th>\n",
       "      <th></th>\n",
       "    </tr>\n",
       "  </thead>\n",
       "  <tbody>\n",
       "    <tr>\n",
       "      <th>1530062</th>\n",
       "      <td>東京都</td>\n",
       "      <td>目黒区</td>\n",
       "      <td>三田</td>\n",
       "    </tr>\n",
       "    <tr>\n",
       "      <th>2140034</th>\n",
       "      <td>神奈川県</td>\n",
       "      <td>川崎市多摩区</td>\n",
       "      <td>三田</td>\n",
       "    </tr>\n",
       "    <tr>\n",
       "      <th>2430211</th>\n",
       "      <td>神奈川県</td>\n",
       "      <td>厚木市</td>\n",
       "      <td>三田</td>\n",
       "    </tr>\n",
       "    <tr>\n",
       "      <th>2920403</th>\n",
       "      <td>千葉県</td>\n",
       "      <td>君津市</td>\n",
       "      <td>三田</td>\n",
       "    </tr>\n",
       "    <tr>\n",
       "      <th>5180022</th>\n",
       "      <td>三重県</td>\n",
       "      <td>伊賀市</td>\n",
       "      <td>三田</td>\n",
       "    </tr>\n",
       "    <tr>\n",
       "      <th>6430511</th>\n",
       "      <td>和歌山県</td>\n",
       "      <td>有田郡有田川町</td>\n",
       "      <td>三田</td>\n",
       "    </tr>\n",
       "    <tr>\n",
       "      <th>6891437</th>\n",
       "      <td>鳥取県</td>\n",
       "      <td>八頭郡智頭町</td>\n",
       "      <td>三田</td>\n",
       "    </tr>\n",
       "    <tr>\n",
       "      <th>7100001</th>\n",
       "      <td>岡山県</td>\n",
       "      <td>倉敷市</td>\n",
       "      <td>三田</td>\n",
       "    </tr>\n",
       "    <tr>\n",
       "      <th>7170022</th>\n",
       "      <td>岡山県</td>\n",
       "      <td>真庭市</td>\n",
       "      <td>三田</td>\n",
       "    </tr>\n",
       "    <tr>\n",
       "      <th>9191513</th>\n",
       "      <td>福井県</td>\n",
       "      <td>三方上中郡若狭町</td>\n",
       "      <td>三田</td>\n",
       "    </tr>\n",
       "    <tr>\n",
       "      <th>9370811</th>\n",
       "      <td>富山県</td>\n",
       "      <td>魚津市</td>\n",
       "      <td>三田</td>\n",
       "    </tr>\n",
       "    <tr>\n",
       "      <th>9420054</th>\n",
       "      <td>新潟県</td>\n",
       "      <td>上越市</td>\n",
       "      <td>三田</td>\n",
       "    </tr>\n",
       "  </tbody>\n",
       "</table>\n",
       "</div>"
      ],
      "text/plain": [
       "         都道府県     市区町村名 町域名\n",
       "郵便番号                       \n",
       "1530062   東京都       目黒区  三田\n",
       "2140034  神奈川県    川崎市多摩区  三田\n",
       "2430211  神奈川県       厚木市  三田\n",
       "2920403   千葉県       君津市  三田\n",
       "5180022   三重県       伊賀市  三田\n",
       "6430511  和歌山県   有田郡有田川町  三田\n",
       "6891437   鳥取県    八頭郡智頭町  三田\n",
       "7100001   岡山県       倉敷市  三田\n",
       "7170022   岡山県       真庭市  三田\n",
       "9191513   福井県  三方上中郡若狭町  三田\n",
       "9370811   富山県       魚津市  三田\n",
       "9420054   新潟県       上越市  三田"
      ]
     },
     "metadata": {},
     "output_type": "display_data"
    }
   ],
   "source": [
    "ta_name = input('あなたの町域名は')\n",
    "print('あなたの入力した内容は', ta_name)\n",
    "data_sub = data[data['町域名'] == ta_name] # 入力した町域名に一致する情報を抽出\n",
    "display(data_sub.sort_values('郵便番号')) # 郵便番号で並び替えてから住所を出力\n"
   ]
  },
  {
   "cell_type": "markdown",
   "metadata": {},
   "source": [
    "# プログラム12.12"
   ]
  },
  {
   "cell_type": "code",
   "execution_count": 12,
   "metadata": {},
   "outputs": [],
   "source": [
    "data_sub.to_csv('data_sub.csv', index = True)"
   ]
  },
  {
   "cell_type": "markdown",
   "metadata": {},
   "source": [
    "# 練習問題解答"
   ]
  },
  {
   "cell_type": "markdown",
   "metadata": {},
   "source": [
    "# プログラム12.16"
   ]
  },
  {
   "cell_type": "code",
   "execution_count": 13,
   "metadata": {},
   "outputs": [],
   "source": [
    "dffw = pd.read_excel('data//1st-week.xlsx', index_col = 'ID')\n",
    "dfsw = pd.read_excel('data//2st-week.xlsx', index_col = 'ID')\n",
    "dftw = pd.read_excel('data//3st-week.xlsx', index_col = 'ID')\n",
    "# dffw + dfsw の計算結果を data_sum に代入\n",
    "data_sum = dffw.add(dfsw, fill_value = 0) \n",
    "# data_sum + dftw の計算結果を data_sum に代入\n",
    "data_sum = data_sum.add(dftw, fill_value = 0) "
   ]
  },
  {
   "cell_type": "markdown",
   "metadata": {},
   "source": [
    "# プログラム12.17"
   ]
  },
  {
   "cell_type": "code",
   "execution_count": 14,
   "metadata": {
    "scrolled": true
   },
   "outputs": [
    {
     "data": {
      "text/html": [
       "<div>\n",
       "<style scoped>\n",
       "    .dataframe tbody tr th:only-of-type {\n",
       "        vertical-align: middle;\n",
       "    }\n",
       "\n",
       "    .dataframe tbody tr th {\n",
       "        vertical-align: top;\n",
       "    }\n",
       "\n",
       "    .dataframe thead th {\n",
       "        text-align: right;\n",
       "    }\n",
       "</style>\n",
       "<table border=\"1\" class=\"dataframe\">\n",
       "  <thead>\n",
       "    <tr style=\"text-align: right;\">\n",
       "      <th></th>\n",
       "      <th>名前</th>\n",
       "      <th>国語</th>\n",
       "      <th>判定</th>\n",
       "    </tr>\n",
       "  </thead>\n",
       "  <tbody>\n",
       "    <tr>\n",
       "      <th>s01</th>\n",
       "      <td>斎藤</td>\n",
       "      <td>88</td>\n",
       "      <td></td>\n",
       "    </tr>\n",
       "    <tr>\n",
       "      <th>s02</th>\n",
       "      <td>鈴木</td>\n",
       "      <td>48</td>\n",
       "      <td></td>\n",
       "    </tr>\n",
       "  </tbody>\n",
       "</table>\n",
       "</div>"
      ],
      "text/plain": [
       "     名前  国語 判定\n",
       "s01  斎藤  88   \n",
       "s02  鈴木  48   "
      ]
     },
     "metadata": {},
     "output_type": "display_data"
    },
    {
     "name": "stdout",
     "output_type": "stream",
     "text": [
      "斎藤さんの評価前の成績\n",
      "     名前  国語 判定\n",
      "s01  斎藤  88   \n",
      "成績評価後\n"
     ]
    },
    {
     "data": {
      "text/html": [
       "<div>\n",
       "<style scoped>\n",
       "    .dataframe tbody tr th:only-of-type {\n",
       "        vertical-align: middle;\n",
       "    }\n",
       "\n",
       "    .dataframe tbody tr th {\n",
       "        vertical-align: top;\n",
       "    }\n",
       "\n",
       "    .dataframe thead th {\n",
       "        text-align: right;\n",
       "    }\n",
       "</style>\n",
       "<table border=\"1\" class=\"dataframe\">\n",
       "  <thead>\n",
       "    <tr style=\"text-align: right;\">\n",
       "      <th></th>\n",
       "      <th>名前</th>\n",
       "      <th>国語</th>\n",
       "      <th>判定</th>\n",
       "    </tr>\n",
       "  </thead>\n",
       "  <tbody>\n",
       "    <tr>\n",
       "      <th>s01</th>\n",
       "      <td>斎藤</td>\n",
       "      <td>88</td>\n",
       "      <td>A</td>\n",
       "    </tr>\n",
       "    <tr>\n",
       "      <th>s02</th>\n",
       "      <td>鈴木</td>\n",
       "      <td>48</td>\n",
       "      <td>不可</td>\n",
       "    </tr>\n",
       "  </tbody>\n",
       "</table>\n",
       "</div>"
      ],
      "text/plain": [
       "     名前  国語  判定\n",
       "s01  斎藤  88   A\n",
       "s02  鈴木  48  不可"
      ]
     },
     "metadata": {},
     "output_type": "display_data"
    },
    {
     "name": "stdout",
     "output_type": "stream",
     "text": [
      "鈴木さんの成績\n",
      "     名前  国語  判定\n",
      "s02  鈴木  48  不可\n"
     ]
    }
   ],
   "source": [
    "data = pd.read_csv('data//if2p.csv', index_col = 0)\n",
    "display(data)\n",
    "print('斎藤さんの評価前の成績')\n",
    "print(data.loc[data['名前']=='斎藤', :])\n",
    "if data.loc['s01', '国語'] >= 80: \n",
    "    data.loc['s01', '判定'] = 'A'\n",
    "elif data.loc['s01', '国語'] >= 60:\n",
    "    data.loc['s01', '判定'] = 'B'\n",
    "else:\n",
    "    data.loc['s01', '判定'] = '不可'\n",
    "if data.loc['s02', '国語'] >= 80: \n",
    "    data.loc['s02', '判定'] = 'A'\n",
    "elif data.loc['s02', '国語'] >= 60:\n",
    "    data.loc['s02', '判定'] = 'B'\n",
    "else:\n",
    "    data.loc['s02', '判定'] = '不可'\n",
    "print('成績評価後')\n",
    "display(data)\n",
    "print('鈴木さんの成績')\n",
    "print(data.loc[data.index.values == 's02', :])"
   ]
  },
  {
   "cell_type": "markdown",
   "metadata": {},
   "source": [
    "# プログラム12.18"
   ]
  },
  {
   "cell_type": "code",
   "execution_count": 15,
   "metadata": {
    "scrolled": true
   },
   "outputs": [
    {
     "data": {
      "text/html": [
       "<div>\n",
       "<style scoped>\n",
       "    .dataframe tbody tr th:only-of-type {\n",
       "        vertical-align: middle;\n",
       "    }\n",
       "\n",
       "    .dataframe tbody tr th {\n",
       "        vertical-align: top;\n",
       "    }\n",
       "\n",
       "    .dataframe thead th {\n",
       "        text-align: right;\n",
       "    }\n",
       "</style>\n",
       "<table border=\"1\" class=\"dataframe\">\n",
       "  <thead>\n",
       "    <tr style=\"text-align: right;\">\n",
       "      <th></th>\n",
       "      <th>名前</th>\n",
       "      <th>国語</th>\n",
       "      <th>数学</th>\n",
       "      <th>英語</th>\n",
       "      <th>合計</th>\n",
       "      <th>判定</th>\n",
       "    </tr>\n",
       "  </thead>\n",
       "  <tbody>\n",
       "    <tr>\n",
       "      <th>s01</th>\n",
       "      <td>斎藤</td>\n",
       "      <td>88</td>\n",
       "      <td>48</td>\n",
       "      <td>59</td>\n",
       "      <td>0</td>\n",
       "      <td></td>\n",
       "    </tr>\n",
       "    <tr>\n",
       "      <th>s02</th>\n",
       "      <td>鈴木</td>\n",
       "      <td>48</td>\n",
       "      <td>81</td>\n",
       "      <td>2</td>\n",
       "      <td>0</td>\n",
       "      <td></td>\n",
       "    </tr>\n",
       "  </tbody>\n",
       "</table>\n",
       "</div>"
      ],
      "text/plain": [
       "     名前  国語  数学  英語  合計 判定\n",
       "s01  斎藤  88  48  59   0   \n",
       "s02  鈴木  48  81   2   0   "
      ]
     },
     "metadata": {},
     "output_type": "display_data"
    },
    {
     "name": "stdout",
     "output_type": "stream",
     "text": [
      "成績評価後\n"
     ]
    },
    {
     "data": {
      "text/html": [
       "<div>\n",
       "<style scoped>\n",
       "    .dataframe tbody tr th:only-of-type {\n",
       "        vertical-align: middle;\n",
       "    }\n",
       "\n",
       "    .dataframe tbody tr th {\n",
       "        vertical-align: top;\n",
       "    }\n",
       "\n",
       "    .dataframe thead th {\n",
       "        text-align: right;\n",
       "    }\n",
       "</style>\n",
       "<table border=\"1\" class=\"dataframe\">\n",
       "  <thead>\n",
       "    <tr style=\"text-align: right;\">\n",
       "      <th></th>\n",
       "      <th>名前</th>\n",
       "      <th>国語</th>\n",
       "      <th>数学</th>\n",
       "      <th>英語</th>\n",
       "      <th>合計</th>\n",
       "      <th>判定</th>\n",
       "    </tr>\n",
       "  </thead>\n",
       "  <tbody>\n",
       "    <tr>\n",
       "      <th>s01</th>\n",
       "      <td>斎藤</td>\n",
       "      <td>88</td>\n",
       "      <td>48</td>\n",
       "      <td>59</td>\n",
       "      <td>195</td>\n",
       "      <td>合格</td>\n",
       "    </tr>\n",
       "    <tr>\n",
       "      <th>s02</th>\n",
       "      <td>鈴木</td>\n",
       "      <td>48</td>\n",
       "      <td>81</td>\n",
       "      <td>2</td>\n",
       "      <td>131</td>\n",
       "      <td>不合格</td>\n",
       "    </tr>\n",
       "  </tbody>\n",
       "</table>\n",
       "</div>"
      ],
      "text/plain": [
       "     名前  国語  数学  英語   合計   判定\n",
       "s01  斎藤  88  48  59  195   合格\n",
       "s02  鈴木  48  81   2  131  不合格"
      ]
     },
     "metadata": {},
     "output_type": "display_data"
    }
   ],
   "source": [
    "data = pd.read_csv('data//if2pg.csv', index_col = 0)\n",
    "display(data)\n",
    "data.iloc[0, 4] = data.iloc[0, 1:4].sum()\n",
    "if data.iloc[0, 4] >= 180: \n",
    "    data.iloc[0, 5] = '合格'\n",
    "else:\n",
    "    data.iloc[0, 5] = '不合格'\n",
    "data.iloc[1, 4] = data.iloc[1, 1:4].sum()\n",
    "if data.iloc[1, 4] >= 180: \n",
    "    data.iloc[1, 5] = '合格'\n",
    "else:\n",
    "    data.iloc[1, 5] = '不合格'\n",
    "print('成績評価後')\n",
    "display(data)\n",
    "data.to_csv('data//if2pg_hantei.csv', index = True)"
   ]
  }
 ],
 "metadata": {
  "kernelspec": {
   "display_name": "Python 3 (ipykernel)",
   "language": "python",
   "name": "python3"
  },
  "language_info": {
   "codemirror_mode": {
    "name": "ipython",
    "version": 3
   },
   "file_extension": ".py",
   "mimetype": "text/x-python",
   "name": "python",
   "nbconvert_exporter": "python",
   "pygments_lexer": "ipython3",
   "version": "3.9.7"
  }
 },
 "nbformat": 4,
 "nbformat_minor": 4
}
