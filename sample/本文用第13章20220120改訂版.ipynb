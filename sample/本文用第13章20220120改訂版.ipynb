{
 "cells": [
  {
   "cell_type": "markdown",
   "metadata": {},
   "source": [
    "# プログラム13.1"
   ]
  },
  {
   "cell_type": "code",
   "execution_count": null,
   "metadata": {},
   "outputs": [],
   "source": [
    "import numpy as np\n",
    "x = np.array([8, 3, 1]) # 出力用の配列\n",
    "for i in np.arange(3): # 要素番号iを利用\n",
    "    print('i =', i, 'x =', x[i]) "
   ]
  },
  {
   "cell_type": "markdown",
   "metadata": {},
   "source": [
    "# プログラム13.2"
   ]
  },
  {
   "cell_type": "code",
   "execution_count": null,
   "metadata": {},
   "outputs": [],
   "source": [
    "x = np.array([8, 3, 1])\n",
    "for i in x: # xの中身を一つずつiに代入\n",
    "    print('1次元配列の中身:', i)"
   ]
  },
  {
   "cell_type": "markdown",
   "metadata": {},
   "source": [
    "# プログラム13.3"
   ]
  },
  {
   "cell_type": "code",
   "execution_count": null,
   "metadata": {},
   "outputs": [],
   "source": [
    "y = np.array([10, 20, 30])\n",
    "for i in np.arange(3): # iは0,1,2と変化\n",
    "    y[i] = y[i] + i # i番目の要素にiを加算\n",
    "    print('i =', i, 'y =', y[i]) "
   ]
  },
  {
   "cell_type": "markdown",
   "metadata": {},
   "source": [
    "# プログラム13.4"
   ]
  },
  {
   "cell_type": "code",
   "execution_count": null,
   "metadata": {},
   "outputs": [],
   "source": [
    "import pandas as pd\n",
    "# 成績表のファイル名を利用して3回繰り返し(変数sfには読み込みたいファイル名を代入)\n",
    "for sf in ['2019_seiseki_1g.csv', '2020_seiseki_2g.csv', '2021_seiseki_3g.csv']:\n",
    "    print(sf, 'の読み込み準備', end = '・・・')\n",
    "    data = pd.read_csv('data//rcard//' + sf, index_col = 0) \n",
    "    display(data) # 読み込んだファイルを出力\n",
    "    print('読み込み終了')"
   ]
  },
  {
   "cell_type": "markdown",
   "metadata": {},
   "source": [
    "# プログラム13.5"
   ]
  },
  {
   "cell_type": "code",
   "execution_count": null,
   "metadata": {},
   "outputs": [],
   "source": [
    "import pandas as pd\n",
    "data = pd.read_csv(\n",
    "    'data//seiseki_6s.csv',\n",
    "    index_col = 'ID')\n",
    "display(data) # 表の形式で出力\n",
    "\n",
    "print('loop start')\n",
    "# カラム名を利用して繰り返す\n",
    "for i in data.columns.values: \n",
    "  # i にはカラム名を代入\n",
    "  print('20190001の', i, 'は',\n",
    "    data.at[20190001,i], '点です') \n",
    "print('loop end')"
   ]
  },
  {
   "cell_type": "markdown",
   "metadata": {},
   "source": [
    "# プログラム13.6"
   ]
  },
  {
   "cell_type": "code",
   "execution_count": null,
   "metadata": {},
   "outputs": [],
   "source": [
    "# インデックス名を利用して繰り返す\n",
    "for i in data.index: \n",
    "    print('インデックス名', i) \n",
    "    print(data.loc[i, :]) # 各カラムの出力"
   ]
  },
  {
   "cell_type": "markdown",
   "metadata": {},
   "source": [
    "# プログラム13.7"
   ]
  },
  {
   "cell_type": "code",
   "execution_count": null,
   "metadata": {},
   "outputs": [],
   "source": [
    "import pandas as pd\n",
    "df = pd.read_csv('data//seiseki_bj_ren.csv',index_col = 'ID')\n",
    "print(df)\n",
    "print('判定開始')\n",
    "\n",
    "# id には学籍番号を代入\n",
    "for id in df.index.values: \n",
    "  if df.at[id, '国語'] >= 60: # 点数が60以上？\n",
    "      df.at[id, '判定'] = '可' # 可とする\n",
    "  else: # それ以外の処理\n",
    "      df.at[id, '判定'] = '不可' # 不可とする\n",
    "print('判定終了')\n",
    "print(df)"
   ]
  },
  {
   "cell_type": "markdown",
   "metadata": {},
   "source": [
    "# プログラム13.8"
   ]
  },
  {
   "cell_type": "code",
   "execution_count": null,
   "metadata": {},
   "outputs": [],
   "source": [
    "import numpy as np\n",
    "for step in np.arange(3): # 3回繰り返す\n",
    "    print('Step', step, 'start!')\n",
    "    my_hand = input('my_handの入力: rock, scissors, or, paper:')\n",
    "    cpu_hand = input('cpu_handの入力: rock, scissors,  or, paper:')\n",
    "    print('my_hand:', my_hand, '. cpu_hand:', cpu_hand)\n",
    "    if my_hand == cpu_hand: # 勝敗の判定\n",
    "        print('Rock, paper, scissors')\n",
    "    elif my_hand == 'rock' and cpu_hand == 'scissors':\n",
    "        print('You win.')\n",
    "    elif my_hand == 'scissors' and cpu_hand == 'paper':\n",
    "        print('You win.')\n",
    "    elif my_hand == 'paper' and cpu_hand == 'rock':\n",
    "        print('You win.')\n",
    "    else:\n",
    "        print('You lose.')\n",
    "print('Game Over')"
   ]
  },
  {
   "cell_type": "markdown",
   "metadata": {},
   "source": [
    "# プログラム13.9"
   ]
  },
  {
   "cell_type": "code",
   "execution_count": null,
   "metadata": {},
   "outputs": [],
   "source": [
    "for kaisuu in np.arange(3):\n",
    "    rand = np.random.rand() # 0 から1 の実数値\n",
    "    print(kaisuu,'回目の乱数は',rand,'です。')\n",
    "    if  0.0 <= rand < 1/6 : # randは0 以上1/6 未満なので\n",
    "        print('サイコロの出目は 1 に対応します。')\n",
    "    elif 1/6 <= rand < 2/6 : # randは1/6 以上2/6 未満なので\n",
    "        print('サイコロの出目は 2 に対応します。')\n",
    "    elif 2/6 <= rand < 3/6 : # randは2/6 以上3/6 未満なので\n",
    "        print('サイコロの出目は 3 に対応します。')\n",
    "    elif 3/6 <= rand < 4/6 : # randは3/6 以上4/6 未満なので\n",
    "        print('サイコロの出目は 4 に対応します。')\n",
    "    elif 4/6 <= rand < 5/6 : # randは4/6 以上5/6 未満なので\n",
    "        print('サイコロの出目は 5 に対応します。')\n",
    "    elif 5/6 <= rand < 1 : # randは5/6 以上6/6 未満なので\n",
    "        print('サイコロの出目は 6 に対応します。')"
   ]
  },
  {
   "cell_type": "markdown",
   "metadata": {},
   "source": [
    "# プログラム13.10"
   ]
  },
  {
   "cell_type": "code",
   "execution_count": null,
   "metadata": {},
   "outputs": [],
   "source": [
    "for kaisuu in np.arange(1, 8):\n",
    "    # 1から6までの整数\n",
    "    rand = np.random.randint(1, 7) \n",
    "    print(kaisuu, '回目のサイコロの出目は',\n",
    "    rand, 'です。')"
   ]
  },
  {
   "cell_type": "markdown",
   "metadata": {},
   "source": [
    "# 練習問題の解答"
   ]
  },
  {
   "cell_type": "markdown",
   "metadata": {},
   "source": [
    "# プログラム13.11"
   ]
  },
  {
   "cell_type": "code",
   "execution_count": null,
   "metadata": {},
   "outputs": [],
   "source": [
    "import pandas as pd\n",
    "data = pd.read_csv('data//seiseki_6s.csv',\n",
    "    index_col='ID')\n",
    "for i in data: \n",
    "    print('19990003の', i, 'は', \n",
    "     data.at[19990003,i], '点です') "
   ]
  },
  {
   "cell_type": "markdown",
   "metadata": {},
   "source": [
    "# プログラム13.12"
   ]
  },
  {
   "cell_type": "code",
   "execution_count": null,
   "metadata": {},
   "outputs": [],
   "source": [
    "for i in data.loc[20190001:20195500, :].index:\n",
    "    # インデックス名を利用して繰り返すため確認用\n",
    "    print('インデックス名', i) \n",
    "    print(data.loc[i, :]) # 各カラムの出力"
   ]
  },
  {
   "cell_type": "markdown",
   "metadata": {},
   "source": [
    "# プログラム13.13"
   ]
  },
  {
   "cell_type": "code",
   "execution_count": null,
   "metadata": {},
   "outputs": [],
   "source": [
    "import pandas as pd\n",
    "df = pd.read_csv('data//seiseki_bj_ren2.csv',index_col='ID')\n",
    "print(df)\n",
    "\n",
    "print('判定開始')\n",
    "for id in df.index.values:\n",
    "  # id には学籍番号を代入\n",
    "  if df.at[id, '数学'] >= 60:\n",
    "      df.at[id, '判定'] = '可'\n",
    "  else:\n",
    "      df.at[id, '判定'] = '不可'\n",
    "print('判定終了')\n",
    "print(df)"
   ]
  },
  {
   "cell_type": "markdown",
   "metadata": {},
   "source": [
    "# プログラム13.8の書き換え（練習問題13-4）"
   ]
  },
  {
   "cell_type": "code",
   "execution_count": null,
   "metadata": {},
   "outputs": [],
   "source": [
    "for kaisuu in np.arange(5):\n",
    "    rand = np.random.rand() # 0 から1 の実数値\n",
    "    print(kaisuu,'回目の乱数は',rand,'です。')\n",
    "    if  0.0 <= rand < 1/6 : # randは0 以上1/6 未満なので\n",
    "        print('サイコロの出目は 1 に対応します。')\n",
    "    elif 1/6 <= rand < 2/6 : # randは1/6 以上2/6 未満なので\n",
    "        print('サイコロの出目は 2 に対応します。')\n",
    "    elif 2/6 <= rand < 3/6 : # randは2/6 以上3/6 未満なので\n",
    "        print('サイコロの出目は 3 に対応します。')\n",
    "    elif 3/6 <= rand < 4/6 : # randは3/6 以上4/6 未満なので\n",
    "        print('サイコロの出目は 4 に対応します。')\n",
    "    elif 4/6 <= rand < 5/6 : # randは4/6 以上5/6 未満なので\n",
    "        print('サイコロの出目は 5 に対応します。')\n",
    "    elif 5/6 <= rand < 1 : # randは5/6 以上6/6 未満なので\n",
    "        print('サイコロの出目は 6 に対応します。')"
   ]
  },
  {
   "cell_type": "markdown",
   "metadata": {},
   "source": [
    "# プログラム13.14"
   ]
  },
  {
   "cell_type": "code",
   "execution_count": null,
   "metadata": {},
   "outputs": [],
   "source": [
    "import numpy as np\n",
    "for kaisuu in np.arange(3):\n",
    "    rand = np.random.rand() # 0から1の実数値\n",
    "    print(kaisuu,'回目の乱数は',rand,'です。')\n",
    "    if 0.0 <= rand < 1/10 : \n",
    "        print('サイコロの出目は 1 に対応します。')\n",
    "    elif 1/10 <= rand < 2/10 :\n",
    "        print('サイコロの出目は 2 に対応します。')\n",
    "    elif 2/10 <= rand < 3/10 :\n",
    "        print('サイコロの出目は 3 に対応します。')\n",
    "    elif 3/10 <= rand < 4/10 :\n",
    "        print('サイコロの出目は 4 に対応します。')\n",
    "    elif 4/10 <= rand < 5/10 :\n",
    "        print('サイコロの出目は 5 に対応します。')\n",
    "    elif 5/10 <= rand < 1.0 : # 1/2でサイコロの出目が 6 になる\n",
    "        print('サイコロの出目は 6 に対応します。')"
   ]
  }
 ],
 "metadata": {
  "kernelspec": {
   "display_name": "Python 3 (ipykernel)",
   "language": "python",
   "name": "python3"
  },
  "language_info": {
   "codemirror_mode": {
    "name": "ipython",
    "version": 3
   },
   "file_extension": ".py",
   "mimetype": "text/x-python",
   "name": "python",
   "nbconvert_exporter": "python",
   "pygments_lexer": "ipython3",
   "version": "3.9.7"
  }
 },
 "nbformat": 4,
 "nbformat_minor": 4
}
