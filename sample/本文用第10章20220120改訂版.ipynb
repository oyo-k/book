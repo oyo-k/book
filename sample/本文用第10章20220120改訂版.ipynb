{
 "cells": [
  {
   "cell_type": "markdown",
   "metadata": {},
   "source": [
    "# プログラム10.1"
   ]
  },
  {
   "cell_type": "code",
   "execution_count": 2,
   "metadata": {},
   "outputs": [
    {
     "name": "stdout",
     "output_type": "stream",
     "text": [
      "1回目開始\n",
      "2回目開始\n",
      "3回目開始\n",
      "三角形描画終了\n"
     ]
    }
   ],
   "source": [
    "from turtle import *\n",
    "speed(1)\n",
    "print('1回目開始')\n",
    "forward(100) # 距離 100 進む\n",
    "left(120) # 左上に向けて 120 度回転\n",
    "print('2回目開始')\n",
    "forward(100) # 距離 100 進む\n",
    "left(120) # 左下に向けて 120 度回転\n",
    "print('3回目開始')\n",
    "forward(100) # 距離 100 進む\n",
    "left(120) # 120 度回転\n",
    "print('三角形描画終了')\n",
    "done()\n"
   ]
  },
  {
   "cell_type": "markdown",
   "metadata": {},
   "source": [
    "# プログラム10.2"
   ]
  },
  {
   "cell_type": "code",
   "execution_count": null,
   "metadata": {},
   "outputs": [],
   "source": [
    "from turtle import *   # プログラム開始 \n",
    "speed(1) # 亀の移動速度の設定\n",
    "# インデントした命令を3回繰り返し\n",
    "for i in range(1, 4):\n",
    "    print(i,'回目開始')\n",
    "    forward(100) # 距離 100 進む\n",
    "    left(120)    # 120 度回転\n",
    "\n",
    "print('三角形描画終了') \n",
    "done() # プログラム終了"
   ]
  },
  {
   "cell_type": "markdown",
   "metadata": {},
   "source": [
    "# プログラム10.3"
   ]
  },
  {
   "cell_type": "code",
   "execution_count": 1,
   "metadata": {
    "scrolled": true
   },
   "outputs": [
    {
     "name": "stdout",
     "output_type": "stream",
     "text": [
      "飛\n",
      "飛\n",
      "飛\n"
     ]
    }
   ],
   "source": [
    "print('飛')\n",
    "print('飛')\n",
    "print('飛')"
   ]
  },
  {
   "cell_type": "markdown",
   "metadata": {},
   "source": [
    "# プログラム10.4"
   ]
  },
  {
   "cell_type": "code",
   "execution_count": 2,
   "metadata": {
    "scrolled": true
   },
   "outputs": [
    {
     "name": "stdout",
     "output_type": "stream",
     "text": [
      "飛\n",
      "飛\n",
      "飛\n"
     ]
    }
   ],
   "source": [
    "import numpy as np \n",
    "for kaisuu in np.arange(3): # [0, 1, 2]のため3回繰り返す\n",
    "    print('飛')  # 回数のカウントは 0 からに注意"
   ]
  },
  {
   "cell_type": "markdown",
   "metadata": {},
   "source": [
    "# プログラム10.5"
   ]
  },
  {
   "cell_type": "code",
   "execution_count": 3,
   "metadata": {
    "scrolled": true
   },
   "outputs": [
    {
     "name": "stdout",
     "output_type": "stream",
     "text": [
      "一の段の 1 × 1 = 1 です\n",
      "一の段の 1 × 2 = 2 です\n",
      "一の段の 1 × 3 = 3 です\n",
      "一の段の 1 × 4 = 4 です\n",
      "一の段の 1 × 5 = 5 です\n",
      "一の段の 1 × 6 = 6 です\n",
      "一の段の 1 × 7 = 7 です\n",
      "一の段の 1 × 8 = 8 です\n",
      "一の段の 1 × 9 = 9 です\n"
     ]
    }
   ],
   "source": [
    "kazu = 1\n",
    "print('一の段の 1 ×', kazu, '=' , 1 * kazu, 'です') \n",
    "kazu = 2\n",
    "print('一の段の 1 ×', kazu, '=' , 1 * kazu, 'です') \n",
    "kazu = 3\n",
    "print('一の段の 1 ×', kazu, '=' , 1 * kazu, 'です') \n",
    "kazu = 4\n",
    "print('一の段の 1 ×', kazu, '=' , 1 * kazu, 'です') \n",
    "kazu = 5\n",
    "print('一の段の 1 ×', kazu, '=' , 1 * kazu, 'です') \n",
    "kazu = 6\n",
    "print('一の段の 1 ×', kazu, '=' , 1 * kazu, 'です') \n",
    "kazu = 7\n",
    "print('一の段の 1 ×', kazu, '=' , 1 * kazu, 'です') \n",
    "kazu = 8\n",
    "print('一の段の 1 ×', kazu, '=' , 1 * kazu, 'です') \n",
    "kazu = 9\n",
    "print('一の段の 1 ×', kazu, '=' , 1 * kazu, 'です') "
   ]
  },
  {
   "cell_type": "markdown",
   "metadata": {},
   "source": [
    "# プログラム10.6"
   ]
  },
  {
   "cell_type": "code",
   "execution_count": 4,
   "metadata": {
    "scrolled": true
   },
   "outputs": [
    {
     "name": "stdout",
     "output_type": "stream",
     "text": [
      "一の段の 1 × 1 = 1 です\n",
      "一の段の 1 × 2 = 2 です\n",
      "一の段の 1 × 3 = 3 です\n",
      "一の段の 1 × 4 = 4 です\n",
      "一の段の 1 × 5 = 5 です\n",
      "一の段の 1 × 6 = 6 です\n",
      "一の段の 1 × 7 = 7 です\n",
      "一の段の 1 × 8 = 8 です\n",
      "一の段の 1 × 9 = 9 です\n"
     ]
    }
   ],
   "source": [
    "import numpy as np\n",
    "# np.arange(1,10)の中身は [1, 2, 3, 4, 5, 6, 7, 8, 9]\n",
    "for kazu in np.arange(1, 10):\n",
    "    print('一の段の 1 ×', kazu, '=', 1 * kazu, 'です') "
   ]
  },
  {
   "cell_type": "markdown",
   "metadata": {},
   "source": [
    "# プログラム10.7"
   ]
  },
  {
   "cell_type": "code",
   "execution_count": 5,
   "metadata": {
    "scrolled": true
   },
   "outputs": [
    {
     "name": "stdout",
     "output_type": "stream",
     "text": [
      "5 歳から\n",
      "6 歳に変わりました\n",
      "6 歳から\n",
      "7 歳に変わりました\n",
      "7 歳から\n",
      "8 歳に変わりました\n",
      "現在は 8 歳です。\n"
     ]
    }
   ],
   "source": [
    "#import numpy as np\n",
    "age = 5 # 5 歳から始める設定\n",
    "# 5 歳、6 歳、7 歳と 1 年ごとに処理を繰り返す\n",
    "for i in np.arange(3): # 3 年分の設定\n",
    "    print(age, '歳から') # 加齢前\n",
    "    age = age + 1 # 歳をとる\n",
    "    print(age, '歳に変わりました') # 加齢後\n",
    "print('現在は',age,'歳です。')"
   ]
  },
  {
   "cell_type": "markdown",
   "metadata": {},
   "source": [
    "# プログラム10.8"
   ]
  },
  {
   "cell_type": "code",
   "execution_count": 6,
   "metadata": {},
   "outputs": [
    {
     "name": "stdout",
     "output_type": "stream",
     "text": [
      "-3\n"
     ]
    }
   ],
   "source": [
    "# プログラム10.2x = 0\n",
    "for i in np.arange(3): # 3回繰り返し\n",
    "    x = x - 1 # x から 1 を引く\n",
    "print(x) "
   ]
  },
  {
   "cell_type": "markdown",
   "metadata": {},
   "source": [
    "# プログラム10.9"
   ]
  },
  {
   "cell_type": "code",
   "execution_count": 7,
   "metadata": {
    "scrolled": true
   },
   "outputs": [
    {
     "name": "stdout",
     "output_type": "stream",
     "text": [
      "i = 5 x = 5\n",
      "i = 6 x = 11\n",
      "i = 7 x = 18\n",
      "i = 8 x = 26\n",
      "i = 9 x = 35\n",
      "35\n"
     ]
    }
   ],
   "source": [
    "x = 0\n",
    "for i in np.arange(5, 10): # 5 回繰り返し\n",
    "    x = x + i # x にループ変数 i の値を加算\n",
    "    print('i =', i, 'x =', x)\n",
    "# ループ変数 i を 5 回加算した結果を出力    \n",
    "print(x) "
   ]
  },
  {
   "cell_type": "markdown",
   "metadata": {},
   "source": [
    "# 練習問題の解答例"
   ]
  },
  {
   "cell_type": "markdown",
   "metadata": {},
   "source": [
    "# プログラム10.11"
   ]
  },
  {
   "cell_type": "code",
   "execution_count": 8,
   "metadata": {
    "scrolled": true
   },
   "outputs": [
    {
     "name": "stdout",
     "output_type": "stream",
     "text": [
      "0 回目の表示...飛\n",
      "1 回目の表示...飛\n",
      "2 回目の表示...飛\n",
      "3 回目の表示...飛\n",
      "4 回目の表示...飛\n",
      "練習終了\n"
     ]
    }
   ],
   "source": [
    "import numpy as np \n",
    "for kaisuu in np.arange(5):\n",
    "    print(kaisuu, '回目の表示', end = '...')   \n",
    "    print('飛')\n",
    "print('練習終了')"
   ]
  },
  {
   "cell_type": "markdown",
   "metadata": {},
   "source": [
    "# プログラム10.12"
   ]
  },
  {
   "cell_type": "code",
   "execution_count": 9,
   "metadata": {
    "scrolled": false
   },
   "outputs": [
    {
     "name": "stdout",
     "output_type": "stream",
     "text": [
      "5 歳から\n",
      "6 歳に変わりました\n",
      "6 歳から\n",
      "7 歳に変わりました\n",
      "7 歳から\n",
      "8 歳に変わりました\n",
      "8 歳から\n",
      "9 歳に変わりました\n",
      "9 歳から\n",
      "10 歳に変わりました\n",
      "10 歳から\n",
      "11 歳に変わりました\n",
      "現在は 11 歳です。\n"
     ]
    }
   ],
   "source": [
    "age = 5 # 5 歳から始める設定\n",
    "# 5 歳、6 歳、7 歳と 1 年ごとに処理を繰り返す\n",
    "for i in np.arange(6): # 3 年分の設定\n",
    "    print(age, '歳から') # 加齢前\n",
    "    age = age + 1 # 歳をとる\n",
    "    print(age, '歳に変わりました') # 加齢後\n",
    "print('現在は',age,'歳です。')"
   ]
  },
  {
   "cell_type": "markdown",
   "metadata": {},
   "source": [
    "# プログラム10.13"
   ]
  },
  {
   "cell_type": "code",
   "execution_count": 10,
   "metadata": {
    "scrolled": true
   },
   "outputs": [
    {
     "name": "stdout",
     "output_type": "stream",
     "text": [
      "12502500\n"
     ]
    }
   ],
   "source": [
    "sum_data = 0 # 合計を代入する入れ物\n",
    "for i in np.arange(1, 5001):  \n",
    "    sum_data = sum_data + i \n",
    "print(sum_data) "
   ]
  }
 ],
 "metadata": {
  "kernelspec": {
   "display_name": "Python 3 (ipykernel)",
   "language": "python",
   "name": "python3"
  },
  "language_info": {
   "codemirror_mode": {
    "name": "ipython",
    "version": 3
   },
   "file_extension": ".py",
   "mimetype": "text/x-python",
   "name": "python",
   "nbconvert_exporter": "python",
   "pygments_lexer": "ipython3",
   "version": "3.9.7"
  }
 },
 "nbformat": 4,
 "nbformat_minor": 4
}
