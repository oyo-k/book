{
 "cells": [
  {
   "cell_type": "markdown",
   "metadata": {},
   "source": [
    "# プログラム4.1"
   ]
  },
  {
   "cell_type": "code",
   "execution_count": 1,
   "metadata": {},
   "outputs": [
    {
     "name": "stdout",
     "output_type": "stream",
     "text": [
      "Love\n",
      "2\n",
      "3.14\n"
     ]
    }
   ],
   "source": [
    "h_str = 'Love' # 変数に文字列を設定\n",
    "print(h_str) # 変数に設定した文字列を出力\n",
    "h_int = 2 # 数値を変数に設定\n",
    "print(h_int) # 設定した数値を変数名で出力\n",
    "h_float = 3.14 # 数値を変数に設定\n",
    "print(h_float) # 設定した数値を変数名で出力"
   ]
  },
  {
   "cell_type": "markdown",
   "metadata": {},
   "source": [
    "# プログラム4.2"
   ]
  },
  {
   "cell_type": "code",
   "execution_count": 2,
   "metadata": {},
   "outputs": [],
   "source": [
    "from turtle import *\n",
    "\n",
    "forward(100)\n",
    "le# プログラム3.4ft(120)\n",
    "forward(100) \n",
    "left(120)\n",
    "forward(100) \n",
    "done()"
   ]
  },
  {
   "cell_type": "markdown",
   "metadata": {},
   "source": [
    "# プログラム4.3"
   ]
  },
  {
   "cell_type": "code",
   "execution_count": 8,
   "metadata": {},
   "outputs": [],
   "source": [
    "from turtle import *\n",
    "kyori = 100 # 距離100を設定\n",
    "kakudo = 120 # 角度を設定\n",
    "forward(kyori) # 100進む\n",
    "left(kakudo) # 左上に向く\n",
    "forward(kyori) \n",
    "left(kakudo) # 左下に向く\n",
    "forward(kyori) \n",
    "done() # 描画を終える\n"
   ]
  },
  {
   "cell_type": "markdown",
   "metadata": {},
   "source": [
    "# プログラム4.4"
   ]
  },
  {
   "cell_type": "code",
   "execution_count": 6,
   "metadata": {},
   "outputs": [],
   "source": [
    "from turtle import *\n",
    "kyori = 300 # 移動距離300に変更 \n",
    "kakudo = 120 \n",
    "forward(kyori) \n",
    "left(kakudo)   \n",
    "forward(kyori) \n",
    "left(kakudo)   \n",
    "forward(kyori) \n",
    "done() "
   ]
  },
  {
   "cell_type": "markdown",
   "metadata": {},
   "source": [
    "# プログラム4.5"
   ]
  },
  {
   "cell_type": "code",
   "execution_count": 1,
   "metadata": {},
   "outputs": [
    {
     "name": "stdout",
     "output_type": "stream",
     "text": [
      "10\n"
     ]
    }
   ],
   "source": [
    "seisu = 10\n",
    "print(seisu)"
   ]
  },
  {
   "cell_type": "markdown",
   "metadata": {},
   "source": [
    "# プログラム4.6"
   ]
  },
  {
   "cell_type": "code",
   "execution_count": 2,
   "metadata": {},
   "outputs": [
    {
     "name": "stdout",
     "output_type": "stream",
     "text": [
      "True\n"
     ]
    }
   ],
   "source": [
    "h_bool = True # # プログラム3.4この時点で自動的に型が決定\n",
    "print(h_bool)"
   ]
  },
  {
   "cell_type": "markdown",
   "metadata": {},
   "source": [
    "# プログラム4.7"
   ]
  },
  {
   "cell_type": "code",
   "execution_count": 3,
   "metadata": {},
   "outputs": [
    {
     "name": "stdout",
     "output_type": "stream",
     "text": [
      "step1; seisu: 10 other: 10\n",
      "step2; seisu: 10 other: 100\n"
     ]
    }
   ],
   "source": [
    "seisu = 10 # 変数の代入\n",
    "other = seisu # 変数seisuの値と変数otherを紐付け\n",
    "print('step1; seisu:', seisu, 'other:', other)\n",
    "other = 100 # 変数の再定義\n",
    "print('step2; seisu:', seisu, 'other:', other)"
   ]
  },
  {
   "cell_type": "markdown",
   "metadata": {},
   "source": [
    "# プログラム4.8"
   ]
  },
  {
   "cell_type": "code",
   "execution_count": 4,
   "metadata": {},
   "outputs": [
    {
     "name": "stdout",
     "output_type": "stream",
     "text": [
      "あなたの苗字を次の欄に入力してください: 斉藤\n",
      "あなたの名前は 斉藤 さんですね。Pythonの世界へようこそ\n",
      "これから 19 歳の 斉藤 さんは、変数を利用します。\n"
     ]
    }
   ],
   "source": [
    "name = input('あなたの苗字を次の欄に入力してください: ') # 実行中に入力を促す命令\n",
    "print('あなたの名前は', name, 'さんですね。Pythonの世界へようこそ')\n",
    "age = 19 # Jupyter Notebookに記述した数値を変数ageに代入\n",
    "print('これから', age, '歳の', name, 'さんは、変数を利用します。')"
   ]
  },
  {
   "cell_type": "markdown",
   "metadata": {},
   "source": [
    "# コラムのプログラム4.11\n"
   ]
  },
  {
   "cell_type": "code",
   "execution_count": 5,
   "metadata": {},
   "outputs": [
    {
     "name": "stdout",
     "output_type": "stream",
     "text": [
      "0 0 0\n"
     ]
    }
   ],
   "source": [
    "x = 0\n",
    "y = 0\n",
    "z = 0\n",
    "print(x,y,z)"
   ]
  },
  {
   "cell_type": "markdown",
   "metadata": {},
   "source": [
    "# コラムのプログラム4.12\n"
   ]
  },
  {
   "cell_type": "code",
   "execution_count": 6,
   "metadata": {},
   "outputs": [
    {
     "name": "stdout",
     "output_type": "stream",
     "text": [
      "0 0 0\n"
     ]
    }
   ],
   "source": [
    "x = y = z = 0\n",
    "print(x,y,z)"
   ]
  }
 ],
 "metadata": {
  "kernelspec": {
   "display_name": "Python 3 (ipykernel)",
   "language": "python",
   "name": "python3"
  },
  "language_info": {
   "codemirror_mode": {
    "name": "ipython",
    "version": 3
   },
   "file_extension": ".py",
   "mimetype": "text/x-python",
   "name": "python",
   "nbconvert_exporter": "python",
   "pygments_lexer": "ipython3",
   "version": "3.9.7"
  }
 },
 "nbformat": 4,
 "nbformat_minor": 4
}
