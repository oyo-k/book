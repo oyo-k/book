{
 "cells": [
  {
   "cell_type": "markdown",
   "metadata": {},
   "source": [
    "# プログラム6.1"
   ]
  },
  {
   "cell_type": "code",
   "execution_count": 1,
   "metadata": {},
   "outputs": [
    {
     "name": "stdout",
     "output_type": "stream",
     "text": [
      "[12 23 34]\n",
      "34\n",
      "[12 23 55]\n"
     ]
    }
   ],
   "source": [
    "import numpy as np \n",
    "d = np.array([12, 23, 34])\n",
    "print(d) # 1次元配列の中身を出力\n",
    "print(d[2]) # 1次元配列の一部を出力(34)\n",
    "d[2] = 55 # 代入場所を指定して55と変更\n",
    "print(d) # 1次元配列の出力"
   ]
  },
  {
   "cell_type": "markdown",
   "metadata": {},
   "source": [
    "# プログラム6.2"
   ]
  },
  {
   "cell_type": "code",
   "execution_count": 2,
   "metadata": {},
   "outputs": [
    {
     "name": "stdout",
     "output_type": "stream",
     "text": [
      "aの要素は [0 1 2 3]\n",
      "bの要素は [0 2 4 6 8]\n",
      "cの要素は [1. 1. 1. 1. 1. 1. 1. 1.]\n",
      "dの要素は [0. 0. 0. 0. 0. 0. 0. 0.]\n",
      "eの要素は [ 0.   2.5  5.   7.5 10. ]\n"
     ]
    }
   ],
   "source": [
    "a = np.arange(4) # 0, 1, 2, 3を持つ1次元配列\n",
    "print('aの要素は', a)\n",
    "b = np.arange(0, 10, 2) # 0以上10未満の範囲で\n",
    "print('bの要素は', b) # 2ずつ増加\n",
    "c = np.ones(8) # 要素1 を8 個持つ1次元配列\n",
    "print('cの要素は', c)\n",
    "d = np.zeros(8) # 要素0を8 個持つ1次元配列\n",
    "print('dの要素は', d)\n",
    "e = np.linspace(0, 10, 5) # 等間隔に要素を\n",
    "print('eの要素は', e) # 5 個作成"
   ]
  },
  {
   "cell_type": "markdown",
   "metadata": {},
   "source": [
    "# プログラム6.3"
   ]
  },
  {
   "cell_type": "code",
   "execution_count": 3,
   "metadata": {},
   "outputs": [
    {
     "name": "stdout",
     "output_type": "stream",
     "text": [
      "34\n",
      "34\n"
     ]
    }
   ],
   "source": [
    "d = np.array([12, 23, 34])\n",
    "print(d[2])\n",
    "print(d[-1])"
   ]
  },
  {
   "cell_type": "markdown",
   "metadata": {},
   "source": [
    "# プログラム6.4"
   ]
  },
  {
   "cell_type": "code",
   "execution_count": 4,
   "metadata": {},
   "outputs": [
    {
     "name": "stdout",
     "output_type": "stream",
     "text": [
      "[23 34]\n",
      "[23 34]\n"
     ]
    }
   ],
   "source": [
    "print(d[[1, 2]]) \n",
    "print(d[1:3])"
   ]
  },
  {
   "cell_type": "markdown",
   "metadata": {},
   "source": [
    "# プログラム6.5"
   ]
  },
  {
   "cell_type": "code",
   "execution_count": 5,
   "metadata": {},
   "outputs": [
    {
     "name": "stdout",
     "output_type": "stream",
     "text": [
      "[12 23]\n",
      "[12 23]\n"
     ]
    }
   ],
   "source": [
    "print(d[[0, 1]]) \n",
    "print(d[0:2])"
   ]
  },
  {
   "cell_type": "markdown",
   "metadata": {},
   "source": [
    "# プログラム6.6"
   ]
  },
  {
   "cell_type": "code",
   "execution_count": 6,
   "metadata": {},
   "outputs": [
    {
     "name": "stdout",
     "output_type": "stream",
     "text": [
      "[12 34]\n",
      "[12 34]\n"
     ]
    }
   ],
   "source": [
    "print(d[[0, 2]])\n",
    "print(d[0:3:2])"
   ]
  },
  {
   "cell_type": "markdown",
   "metadata": {},
   "source": [
    "# プログラム6.7"
   ]
  },
  {
   "cell_type": "code",
   "execution_count": 7,
   "metadata": {},
   "outputs": [
    {
     "name": "stdout",
     "output_type": "stream",
     "text": [
      "[12 25 58]\n"
     ]
    }
   ],
   "source": [
    "import numpy as np \n",
    "d = np.array([12, 25, 36])\n",
    "d[2] = 58\n",
    "print(d) "
   ]
  },
  {
   "cell_type": "markdown",
   "metadata": {},
   "source": [
    "# プログラム6.8"
   ]
  },
  {
   "cell_type": "code",
   "execution_count": 8,
   "metadata": {},
   "outputs": [
    {
     "name": "stdout",
     "output_type": "stream",
     "text": [
      "[ 7  7 58]\n"
     ]
    }
   ],
   "source": [
    "d[0:2] = 7\n",
    "print(d)"
   ]
  },
  {
   "cell_type": "markdown",
   "metadata": {},
   "source": [
    "# プログラム6.9"
   ]
  },
  {
   "cell_type": "code",
   "execution_count": 9,
   "metadata": {},
   "outputs": [
    {
     "name": "stdout",
     "output_type": "stream",
     "text": [
      "[9 7 9]\n"
     ]
    }
   ],
   "source": [
    "d[0:3:2] = 9\n",
    "print(d)"
   ]
  },
  {
   "cell_type": "markdown",
   "metadata": {},
   "source": [
    "# プログラム6.10"
   ]
  },
  {
   "cell_type": "code",
   "execution_count": 10,
   "metadata": {},
   "outputs": [
    {
     "name": "stdout",
     "output_type": "stream",
     "text": [
      "[20 40 60]\n",
      "[ 65  95 125]\n",
      "[21 41 61]\n"
     ]
    }
   ],
   "source": [
    "import numpy as np \n",
    "a = np.array([10, 20, 30])\n",
    "b = np.array([45, 55, 65])\n",
    "a = a + a # 1次元配列同士の演算 [10 + 10, 20 + 20, 30 + 30]\n",
    "print(a)\n",
    "b = b + a # 1次元配列同士の演算 [45 + 20, 55 + 40, 65 + 60]\n",
    "print(b)\n",
    "a = a + 1 # 1次元配列と数値の演算 [20 + 1, 40 + 1, 60 + 1]\n",
    "print(a)"
   ]
  },
  {
   "cell_type": "markdown",
   "metadata": {},
   "source": [
    "# プログラム6.11"
   ]
  },
  {
   "cell_type": "code",
   "execution_count": 11,
   "metadata": {},
   "outputs": [
    {
     "name": "stdout",
     "output_type": "stream",
     "text": [
      "[12 22 33]\n",
      "[13 23 33]\n",
      "[14 23 34]\n"
     ]
    }
   ],
   "source": [
    "v = np.array([11,22,33])\n",
    "v[0] = v[0] + 1 # [11 + 1, 22, 33]\n",
    "print(v) # [12 22 33] を出力\n",
    "v[0:2] = v[0:2] + 1 # [12 + 1, 22 + 1,33]\n",
    "print(v) # [13 23 33] を出力\n",
    "v[0:3:2] = v[0:3:2] + 1 # [13 + 1, 23, 33 + 1]\n",
    "print(v) # [14 23 34] を出力"
   ]
  }
 ],
 "metadata": {
  "kernelspec": {
   "display_name": "Python 3 (ipykernel)",
   "language": "python",
   "name": "python3"
  },
  "language_info": {
   "codemirror_mode": {
    "name": "ipython",
    "version": 3
   },
   "file_extension": ".py",
   "mimetype": "text/x-python",
   "name": "python",
   "nbconvert_exporter": "python",
   "pygments_lexer": "ipython3",
   "version": "3.9.7"
  }
 },
 "nbformat": 4,
 "nbformat_minor": 4
}
