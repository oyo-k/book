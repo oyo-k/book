{
 "cells": [
  {
   "cell_type": "markdown",
   "metadata": {},
   "source": [
    "# プログラム17.1"
   ]
  },
  {
   "cell_type": "code",
   "execution_count": null,
   "metadata": {},
   "outputs": [],
   "source": [
    "from turtle import *\n",
    "import numpy as np\n",
    "\n",
    "r = 20 # 円の半径を設定\n",
    "speed(0) # 最速で描画する設定\n",
    "pensize(3) # ペンを太めに設定\n",
    "shape('turtle') # 矢印を亀に設定\n",
    "pencolor('green') # 色を緑に設定\n",
    "tates = np.flipud(np.arange(-200, 201, r * 2))\n",
    "yokos = np.arange(0, 161, r * 2)\n",
    "for tate in tates: # 縦に 11 回移動\n",
    "    for yoko in yokos: # 横に 5 回移動\n",
    "        penup() # ペンを上げて\n",
    "        goto(yoko, tate) # 円描画の開始位置に移動\n",
    "        pendown() # ペンを下げる\n",
    "        circle(r) # 半径rの円を描画\n",
    "done() "
   ]
  },
  {
   "cell_type": "markdown",
   "metadata": {},
   "source": [
    "# プログラム17.2"
   ]
  },
  {
   "cell_type": "code",
   "execution_count": null,
   "metadata": {},
   "outputs": [],
   "source": [
    "from turtle import *\n",
    "import numpy as np\n",
    "import matplotlib.pylab as plt \n",
    "\n",
    "r = 20 # 長方形の一辺の長さ\n",
    "speed(0)\n",
    "pensize(2)\n",
    "shape('turtle')\n",
    "\n",
    "color_n = 10 # 10種類のカラーパレットを準備する指定\n",
    "# あらかじめ用意された色のセットSet3_rを利用\n",
    "cmap = plt.get_cmap('Set3_r', color_n) # カラーパレットを用意\n",
    "\n",
    "# シーケンスの中身が200,180, ..., 0, ..., -180, -200と変化して描画\n",
    "for tate in np.flipud(np.arange(-200, 201, r)): # 縦移動\n",
    "    for yoko in np.arange(-200, 201, r) :       # 横移動\n",
    "        rd = np.random.randint(color_n) # 乱数を利用して色を設定\n",
    "        # 描画領域を塗りつぶす色を指定 filcolor((赤色の濃さ, 緑色の濃さ, 青色の濃さ))\n",
    "        fillcolor((float(cmap(rd)[0]), float(cmap(rd)[1]), float(cmap(rd)[2])))\n",
    "        begin_fill()           # 塗り潰し開始位置 \n",
    "        penup()                # ペンを上げて、\n",
    "        goto(yoko, tate)       # 描画開始位置に移動\n",
    "        pendown()              # ペンを下げる\n",
    "        \n",
    "        for s in np.arange(4): # 四角形を描画用のループ\n",
    "            forward(r)\n",
    "            left(90)\n",
    "        end_fill()             # ここまでに一つの四角形を描画して塗り潰し\n",
    "        \n",
    "done() # 記述忘れに注意"
   ]
  },
  {
   "cell_type": "markdown",
   "metadata": {},
   "source": [
    "# プログラム17.3"
   ]
  },
  {
   "cell_type": "code",
   "execution_count": null,
   "metadata": {},
   "outputs": [],
   "source": [
    "r = 40 # importは四角形敷き詰めのプログラムと同じため省略。\n",
    "speed(0)\n",
    "pensize(2)\n",
    "shape('turtle')\n",
    "color_n = 10\n",
    "cmap = plt.get_cmap('Set3_r', color_n)\n",
    "for tate in np.flipud(np.arange(-200, 201, np.sqrt(3) * r)): # 縦に 6 回移動\n",
    "    for yoko in np.arange(-200, 201,r * 2): # 横に 6 回移動                \n",
    "        penup()          \n",
    "        goto(yoko, tate) # 六角形の描画開始位置に移動\n",
    "        pendown() \n",
    "        for rokkaku in np.arange(6): # 六角形を描画するために三角形を六つ描画 \n",
    "            rd = np.random.randint(color_n) \n",
    "            fillcolor((float(cmap(rd)[0]), float(cmap(rd)[1]), float(cmap(rd)[2])))\n",
    "            begin_fill() # end_fillまでに一つの三角形を描画\n",
    "            for sankaku in np.arange(3): # 一つの三角形の描画用のループ\n",
    "                forward(r)\n",
    "                left(120)\n",
    "            end_fill() # 三角形の中を塗りつぶす\n",
    "            left(60) # 次の三角形が重ならないように角度を変更\n",
    "done() # 記述忘れに注意"
   ]
  },
  {
   "cell_type": "markdown",
   "metadata": {},
   "source": [
    "# プログラム17.4"
   ]
  },
  {
   "cell_type": "code",
   "execution_count": null,
   "metadata": {},
   "outputs": [],
   "source": [
    "from turtle import *\n",
    "import matplotlib.pylab as plt\n",
    "import numpy as np\n",
    "\n",
    "np.random.seed(6) # この数値 6 を変更すれば異なる描画が可能\n",
    "sized = 50 # 描画する Maurer Rose の基本となる大きさ\n",
    "speed(0)\n",
    "pencolor('orange') # 色をオレンジに設定\n",
    "pensize(1) # ペンサイズは細めに設定\n",
    "\n",
    "for tate in [0, sized * 2, sized * 4]: # 縦移動用\n",
    "    for yoko in np.arange(-300, 301, sized * 2): # 横移動用\n",
    "        penup() # 描画開始位置までまペン先を上げる\n",
    "        # 描画する Maurer Rose の種類をランダムに決める\n",
    "        n = np.random.randint(30)  # 自由パラメータをランダムに設定\n",
    "        d = np.random.randint(300) # 自由パラメータをランダムに設定        \n",
    "        \n",
    "        for th in np.arange(0, 361, 1): # この繰り返しで一つの Maurer Rose を描画\n",
    "            k = np.deg2rad(th) * d\n",
    "            r = sized * np.sin(n * k) # 大きさを調整\n",
    "            x = r * np.cos(k) # x座標の設定 \n",
    "            y = r * np.sin(k) # y座標の設定\n",
    "            goto(x + yoko, y + tate) # 適宜描画開始位置を調整\n",
    "            pendown()\n",
    "            \n",
    "done() # 描画終了"
   ]
  },
  {
   "cell_type": "markdown",
   "metadata": {},
   "source": [
    "# プログラム17.5"
   ]
  },
  {
   "cell_type": "code",
   "execution_count": null,
   "metadata": {},
   "outputs": [],
   "source": [
    "import numpy as np\n",
    "d = np.array([[0, 0, 0], [0, 0, 0], [0, 0, 0]]) # 盤面の代わり\n",
    "print(d) # 1 は◯、0は空白、-1は × とする\n",
    "step = 0 # ◯か×を置いた回数\n",
    "loop_flag = True # ゲーム終了の管理：終了ならFalseになる\n",
    "while loop_flag and step < 9:\n",
    "    put_flag = True # プレイヤーの選択処理開始\n",
    "    while put_flag: # プレイヤーの入力が完了するまでループ\n",
    "        print('0から2の範囲で入力してください:')\n",
    "        tate_index = int(input('◯を置く「縦」の位置:'))\n",
    "        yoko_index = int(input('◯を置く「横」の位置:'))\n",
    "        if d[tate_index, yoko_index] == 0: # ◯を置く盤面に何もないか\n",
    "            d[tate_index, yoko_index] = 1 # 指定箇所に◯を置く\n",
    "            step += 1 # ゲームの進行をプラス\n",
    "            put_flag = False # 入力完了のためFalseへ\n",
    "    print(d, 'プレイヤーの手番終了') # 盤面とメッセージの出力\n",
    "    # プレイヤーの勝利判定： \n",
    "    if d[tate_index, :].sum() == 3 or d[:, yoko_index].sum() == 3 or np.diag(d).sum() == 3 or np.diag(np.fliplr(d)).sum() == 3:\n",
    "        print('*****プレイヤーの勝利*****')\n",
    "        loop_flag = False # プレイヤーが勝利したため、ループを終えるためにFalseを代入\n",
    "    elif step == 9:\n",
    "        print('-----引き分け-----')\n",
    "        loop_flag = False # 引き分けのため、ループを終えるためにFalseを代入\n",
    "    else: \n",
    "        put_flag = True # コンピュータの選択処理開始。入力が決まるまで True\n",
    "        while put_flag and loop_flag:\n",
    "            yoko_index = np.random.randint(3) # 横の要素番号\n",
    "            tate_index = np.random.randint(3) # 横の要素番号\n",
    "            if d[tate_index,yoko_index] == 0: # 置ける場合\n",
    "                d[tate_index,yoko_index] = -1 # ×を置く\n",
    "                step += 1\n",
    "                put_flag = False # 入力完了のためFalseへ\n",
    "        print(d, 'コンピュータの手番終了')\n",
    "        # コンピュータの勝利判定（プレイヤーの勝利判定の3を-3に書き換えた命令）\n",
    "        if d[tate_index, :].sum() == 3 or d[:, yoko_index].sum() == 3 or np.diag(d).sum() == 3 or np.diag(np.fliplr(d)).sum() == 3:\n",
    "            print('~~~~~コンピュータの勝利~~~~~')\n",
    "            loop_flag = False # コンピュータが勝利したので繰り返し終了\n",
    "    print('Step', step, '終了')    \n",
    "print('Game Over')"
   ]
  },
  {
   "cell_type": "markdown",
   "metadata": {},
   "source": [
    "# プログラム17.6"
   ]
  },
  {
   "cell_type": "code",
   "execution_count": null,
   "metadata": {},
   "outputs": [],
   "source": [
    "import pandas as pd\n",
    "data = pd.read_csv('data//ken_data.csv', encoding = 'shift_jis', index_col = '郵便番号')\n",
    "flag = True # 正しい入力まではTrueをFalseに変更しない\n",
    "not_found = True # 見つかるまで検索する\n",
    "\n",
    "while not_found: # 正しい入力が行われるまで繰り返す\n",
    "    while flag: # 数値が入力されるまで繰り返す(flagがTrueなら不正な入力として繰り返す)\n",
    "        number = input('7桁郵便番号(-不要)を入力してください:') # 正しい入力例 640820 \n",
    "        try: # エラーが起きるまで下記のブロックを実行\n",
    "            print('あなたの入力した郵便番号：',int(number), 'です。')\n",
    "            flag = False # 繰り返しを抜けるためFalseに変更\n",
    "        except ValueError: # エラーが起きた時点で以下のブロックを実行\n",
    "            print('文字ではなく数字を入力してください')\n",
    "\n",
    "    # 7桁の数値が日本の郵便番号かをチェック\n",
    "    i = 0 # インデックスを参照するために必要な変数\n",
    "    while data.index.values[i] != int(number) and i < data.shape[0] -1:\n",
    "        i += 1 # 次のインデックスを参照するために加算  \n",
    "    if data.index.values[i] == int(number):\n",
    "        not_found = False # 見つかった！\n",
    "    flag = True # 見つからなかった場合再度検索できるように\n",
    "\n",
    "# 繰り返し処理が終われば目的の住所を発見  \n",
    "print('あなたの入力した郵便番号は', i, '番目にありました。') \n",
    "print('郵便番号', number, 'は', data.iloc[i,:], 'です。')"
   ]
  },
  {
   "cell_type": "markdown",
   "metadata": {},
   "source": [
    "# プログラム17.7"
   ]
  },
  {
   "cell_type": "code",
   "execution_count": null,
   "metadata": {},
   "outputs": [],
   "source": [
    "flag = True # 正しい入力まではTrueをFalseに変更しない\n",
    "while flag: # flagがTrueなら不正な入力のため繰り返す\n",
    "    number = input('7桁郵便番号(-不要)を入力してください:') # 正しい入力例 640820\n",
    "    try: # エラーが起きるまで下記のブロックを実行\n",
    "        print('あなたの入力した郵便番号：', int(number), 'です。')\n",
    "        i = data.index.get_loc(int(number))\n",
    "        # get_locが正しく実行されない限りflagは変更しない\n",
    "        flag = False # 繰り返しを抜けるためFalseに変更\n",
    "    except ValueError: # エラーが発生たら下記のメッセージを出力\n",
    "        print('文字ではなく数字を入力してください')\n",
    "    except KeyError: # エラーが発生たら下記のメッセージを出力\n",
    "        print('正しい数字を入力してください')\n",
    "print('あなたの入力した郵便番号は', i, '番目にありました。') \n",
    "print('郵便番号', number, 'は', data.iloc[i, :], 'です。')"
   ]
  }
 ],
 "metadata": {
  "kernelspec": {
   "display_name": "Python 3 (ipykernel)",
   "language": "python",
   "name": "python3"
  },
  "language_info": {
   "codemirror_mode": {
    "name": "ipython",
    "version": 3
   },
   "file_extension": ".py",
   "mimetype": "text/x-python",
   "name": "python",
   "nbconvert_exporter": "python",
   "pygments_lexer": "ipython3",
   "version": "3.9.7"
  }
 },
 "nbformat": 4,
 "nbformat_minor": 4
}
