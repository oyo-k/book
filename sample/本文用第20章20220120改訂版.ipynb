{
 "cells": [
  {
   "cell_type": "markdown",
   "metadata": {},
   "source": [
    "# プログラム20.1"
   ]
  },
  {
   "cell_type": "code",
   "execution_count": null,
   "metadata": {},
   "outputs": [],
   "source": [
    "%matplotlib inline\n",
    "import numpy as np\n",
    "import pandas as pd\n",
    "import matplotlib.pyplot as plt \n",
    "df = pd.DataFrame({'xdf':np.arange(10, 15), # x軸のデータ\n",
    "    'ydf':np.arange(20, 25)}, # y軸のデータ\n",
    "     index = np.arange(1, 6)) # x軸とy軸のペアの名前として利用\n",
    "df.index.name = 'pair' # index.nameを変更\n",
    "display(df)  \n",
    "plt.plot('xdf', 'ydf', data = df) # 作図命令\n",
    "plt.show() # Jupyter Notebookに描画"
   ]
  },
  {
   "cell_type": "markdown",
   "metadata": {},
   "source": [
    "# プログラム20.2"
   ]
  },
  {
   "cell_type": "code",
   "execution_count": null,
   "metadata": {},
   "outputs": [],
   "source": [
    "plt.plot('xdf', 'ydf', data = df, # データの指定\n",
    "    color = 'r', # 線の色を赤に指定\n",
    "    marker = '.', # ペアの位置に描画する点をドットに指定\n",
    "    linestyle = '--', # 線の種類を破線に指定\n",
    "    label = 'default') # 線の名前をdefaultにして凡例を設定\n",
    "plt.legend(loc = 'best') # 凡例をちょうど良い場所に描画\n",
    "plt.show() # Jupyter Notebookに描画"
   ]
  },
  {
   "cell_type": "markdown",
   "metadata": {},
   "source": [
    "# プログラム20.3"
   ]
  },
  {
   "cell_type": "code",
   "execution_count": null,
   "metadata": {},
   "outputs": [],
   "source": [
    "df = pd.DataFrame({'xdf':np.arange(10), 'ydf':np.arange(10)})\n",
    "# 各セル共通の作図の設定 rcParams は あーるしーぱらむすと読む\n",
    "plt.rcParams['font.size'] = 15 # フォントサイズの設定\n",
    "# グラフのサイズ(単位インチ) [横の長さ, 縦の長さ]\n",
    "plt.rcParams['figure.figsize'] = [5, 5/2] \n",
    "# グラフの描画(色を赤、マーカーを'.'、線の種類を破線)\n",
    "plt.plot('xdf', 'ydf', color = 'r', marker = '.', linestyle = '--', data = df,\n",
    "          label = 'changed')\n",
    "plt.legend(loc = 'best')\n",
    "# グラフの枠(目盛り)の各種設定\n",
    "plt.xlim(-1, 11) # x軸の制限\n",
    "plt.ylim(-1, 11) # y軸の制限\n",
    "# 各軸の目盛りの数値を別の文字列に置き換える\n",
    "plt.xticks([0, 4, 8, 10], ['Zero', 'Four', 'Eight', 'Ten'])\n",
    "plt.yticks([0, 4, 8, 10], ['A', 'B', 'C', 'D'], rotation = 90)\n",
    "plt.xlabel('x-axis') # x軸を説明する文字列を加える\n",
    "plt.ylabel('y-axis') # y軸の説明する文字列を加える\n",
    "plt.title('Title') # グラフ上部に表示するタイトル設定\n",
    "plt.show()"
   ]
  },
  {
   "cell_type": "markdown",
   "metadata": {},
   "source": [
    "# プログラム20.4"
   ]
  },
  {
   "cell_type": "code",
   "execution_count": null,
   "metadata": {},
   "outputs": [],
   "source": [
    "df = pd.DataFrame({'xdf':np.arange(10), 'ydf':np.arange(10)})\n",
    "# 各セル共通の作図の設定 rcParams は あーるしーぱらむすと読む\n",
    "plt.rcParams['font.size'] = 15 # フォントサイズの設定\n",
    "# グラフのサイズ(単位インチ) [横の長さ, 縦の長さ]\n",
    "plt.rcParams['figure.figsize'] = [5, 5/2] \n",
    "# グラフの描画(色を赤、マーカーを'.'、線の種類を破線)\n",
    "plt.plot('xdf', 'ydf', color = 'r', marker = '.', linestyle = '--', data = df,\n",
    "          label = 'changed')\n",
    "plt.legend(loc = 'best')\n",
    "# グラフの枠(目盛り)の各種設定\n",
    "plt.xlim(-1, 11) # x軸の制限\n",
    "plt.ylim(-1, 11) # y軸の制限\n",
    "# 各軸の目盛りの数値を別の文字列に置き換える\n",
    "plt.xticks([0, 4, 8, 10], ['Zero', 'Four', 'Eight', 'Ten'])\n",
    "plt.yticks([0, 4, 8, 10], ['A', 'B', 'C', 'D'], rotation = 90)\n",
    "plt.xlabel('x-axis') # x軸を説明する文字列を加える\n",
    "plt.ylabel('y-axis') # y軸の説明する文字列を加える\n",
    "plt.title('Title') # グラフ上部に表示するタイトル設定\n",
    "plt.savefig('first_fig.pdf', bbox_inches = 'tight')"
   ]
  },
  {
   "cell_type": "markdown",
   "metadata": {},
   "source": [
    "# プログラム20.6"
   ]
  },
  {
   "cell_type": "code",
   "execution_count": null,
   "metadata": {},
   "outputs": [],
   "source": [
    "import japanize_matplotlib # 日本語を表示するライブラリ\n",
    "df = pd.read_csv('data//seiseki_8s.csv', index_col = 'ID')\n"
   ]
  },
  {
   "cell_type": "markdown",
   "metadata": {},
   "source": [
    "# プログラム20.7"
   ]
  },
  {
   "cell_type": "code",
   "execution_count": null,
   "metadata": {},
   "outputs": [],
   "source": [
    "# マーカーの大きさを指定する\n",
    "plt.rcParams['lines.markersize'] = 8 \n",
    "# x軸に国語とy軸に英語の点数の散布図\n",
    "plt.plot('国語', '英語', color = 'g', \n",
    "    marker = '+', linestyle = '',\n",
    "    data = df, label = '国語-英語', \n",
    "    alpha = 0.3) # 半透明な緑色の+マーカー\n",
    "# x軸に数学とy軸に理科の点数散布図     \n",
    "plt.plot('数学', '理科', color = 'r',\n",
    "    marker = 'x', linestyle = '',\n",
    "    data = df, label = '数学-理科',\n",
    "    alpha = 0.3) # 半透明な赤色のxマーカ\n",
    "plt.legend(loc = 'best')\n",
    "#plt.savefig('fig4.pdf', bbox_inches='tight',dpi=350)\n",
    "plt.show()"
   ]
  },
  {
   "cell_type": "markdown",
   "metadata": {},
   "source": [
    "# プログラム20.9"
   ]
  },
  {
   "cell_type": "code",
   "execution_count": null,
   "metadata": {},
   "outputs": [],
   "source": [
    "df = pd.read_csv('data//UKgas.csv', index_col = 'Year')\n",
    "df.plot(kind = 'line') # プロットを折れ線に変更\n",
    "plt.ylabel('Quarterly UK gas\\n consumption') # \\nは改行記号\n",
    "plt.savefig('data//fig5.pdf', bbox_inches = 'tight')"
   ]
  },
  {
   "cell_type": "markdown",
   "metadata": {},
   "source": [
    "# プログラム20.10"
   ]
  },
  {
   "cell_type": "code",
   "execution_count": null,
   "metadata": {},
   "outputs": [],
   "source": [
    "# 描画のスタイルを設定\n",
    "plt.style.use('ggplot')\n",
    "# 描画する大きさを設定\n",
    "plt.rcParams['figure.figsize'] = [5/2,5]\n",
    "# 棒グラフを指定して描画\n",
    "df.plot(kind = 'barh')\n",
    "plt.xlabel('consumption')\n",
    "# pdf形式として棒グラフを保存\n",
    "plt.savefig('data//barh.pdf', bbox_inches = 'tight')"
   ]
  },
  {
   "cell_type": "markdown",
   "metadata": {},
   "source": [
    "# プログラム20.11"
   ]
  },
  {
   "cell_type": "code",
   "execution_count": null,
   "metadata": {
    "scrolled": true
   },
   "outputs": [],
   "source": [
    "df.plot(kind = 'barh',\n",
    " stacked = True, # 積み上げ\n",
    " cmap = 'Blues') # 青を指定\n",
    "plt.xlabel('consumption')\n",
    "plt.savefig('data//barh_stacked.pdf', bbox_inches = 'tight')"
   ]
  },
  {
   "cell_type": "markdown",
   "metadata": {},
   "source": [
    "# プログラム20.12"
   ]
  },
  {
   "cell_type": "code",
   "execution_count": null,
   "metadata": {},
   "outputs": [],
   "source": [
    "plt.rcParams['figure.figsize'] = [2.5, 3]\n",
    "# ヒストグラムを指定して描画\n",
    "df.plot(kind = 'hist',\n",
    "    alpha = 0.3, # 棒の透明度を0.3に指定 \n",
    "    bins = 50) # 棒の数を指定    \n",
    "plt.xlabel('consumption') \n",
    "# pdf 形式で保存\n",
    "plt.savefig('data//m_hist.pdf', \n",
    "        bbox_inches='tight',dpi=350)"
   ]
  },
  {
   "cell_type": "markdown",
   "metadata": {},
   "source": [
    "# プログラム20.13"
   ]
  },
  {
   "cell_type": "code",
   "execution_count": null,
   "metadata": {},
   "outputs": [],
   "source": [
    "# 密度プロットを指定\n",
    "df.plot(kind = 'density')\n",
    "\n",
    "# x軸の指定\n",
    "plt.xlabel('consumption')\n",
    "# pdf形式で保存\n",
    "plt.savefig('data//matplotlib_density.pdf', bbox_inches = 'tight')"
   ]
  },
  {
   "cell_type": "markdown",
   "metadata": {},
   "source": [
    "# プログラム20.14"
   ]
  },
  {
   "cell_type": "code",
   "execution_count": null,
   "metadata": {},
   "outputs": [],
   "source": [
    "plt.rcParams['figure.figsize'] = [4, 2]\n",
    "df.plot(kind='box') # 箱ひげ図を指定して描画\n",
    "plt.savefig('data//box.pdf', bbox_inches = 'tight')"
   ]
  },
  {
   "cell_type": "markdown",
   "metadata": {},
   "source": [
    "# プログラム20.17\n",
    "プログラム20.15と20.16は練習問題の解答例へ"
   ]
  },
  {
   "cell_type": "code",
   "execution_count": null,
   "metadata": {},
   "outputs": [],
   "source": [
    "df = pd.read_csv('data//seiseki_8s.csv',index_col = 'ID')\n",
    "plt.style.use('ggplot') # 描画のスタイルを設定\n",
    "plt.rcParams['figure.figsize'] = [10, 3] # 描画サイズ\n",
    "plt.rcParams['xtick.color'] = 'black' # x軸の目盛りの色を黒に変更\n",
    "plt.rcParams['ytick.color'] = 'black' # y軸の目盛りの色を黒に変更\n",
    "df.plot(kind = 'box', whis = 3, # 外れ値と計算されないように箱ひげ図を設定\n",
    "        subplots = True, # カラム名ごとにグラフを作成\n",
    "        layout = (2, 4),  # 2行4列に分けてグラフを描画\n",
    "        sharex = True, sharey = True) # x軸とy軸の値を揃える\n",
    "plt.show()\n"
   ]
  },
  {
   "cell_type": "markdown",
   "metadata": {},
   "source": [
    "# プログラム20.18"
   ]
  },
  {
   "cell_type": "code",
   "execution_count": null,
   "metadata": {},
   "outputs": [],
   "source": [
    "plt.rcParams['figure.figsize'] = [10, 4] # 描画サイズ\n",
    "df.loc[:,].plot(kind = 'hist', alpha = 0.2, # 透明度の設定\n",
    "        bins = 25, # 棒の数を指定\n",
    "        subplots = True, # カラム名ごとにヒストグラムを作成\n",
    "        layout = (2, 4),  # 2 行 4  列に分けてグラフを描画\n",
    "        sharex = True, sharey = True) # x 軸と y 軸の値を揃える\n",
    "plt.show()"
   ]
  },
  {
   "cell_type": "markdown",
   "metadata": {},
   "source": [
    "# プログラム20.19"
   ]
  },
  {
   "cell_type": "code",
   "execution_count": null,
   "metadata": {},
   "outputs": [],
   "source": [
    "import seaborn as sns # ヒートマップを描くために利用\n",
    "plt.rcParams['figure.figsize'] = [6, 4]\n",
    "\n",
    "df = pd.read_csv('data//corr_8s.csv',index_col = 'ID')\n",
    "sns.heatmap(df.corr(), annot = True, # 各教科の相関係数をし、各セルに相関係数を描画\n",
    "    vmin = -1.0, vmax = 1.0, # カラーマップの最小値と最大値の設定\n",
    "    cmap = 'coolwarm', # 相関係数の値が高ければ濃い赤とし、低ければ濃い青とする\n",
    "    fmt = '1.2f') # 小数点第2位まで表示\n",
    "plt.savefig('data//heatmap.pdf', bbox_inches = 'tight', dpi=350)"
   ]
  },
  {
   "cell_type": "markdown",
   "metadata": {},
   "source": [
    "# 練習問題の解答例\n"
   ]
  },
  {
   "cell_type": "markdown",
   "metadata": {},
   "source": [
    "# プログラム20.20"
   ]
  },
  {
   "cell_type": "code",
   "execution_count": null,
   "metadata": {},
   "outputs": [],
   "source": [
    "import pandas as pd, numpy as np, matplotlib.pyplot as plt\n",
    "df = pd.DataFrame({'xdf':np.arange(10, 15), 'ydf':np.arange(20, 25)}, \n",
    "     index = np.arange(1,6))\n",
    "plt.plot('xdf', 'ydf', data = df, linestyle = '-', color = 'g', \n",
    "     marker = '*', label = 'default')\n",
    "plt.legend(loc = 'best')\n",
    "plt.show() # 色を緑色、線の種類を実線、マーカーを星に変更したグラフ1を描画"
   ]
  },
  {
   "cell_type": "markdown",
   "metadata": {},
   "source": [
    "# プログラム20.21"
   ]
  },
  {
   "cell_type": "code",
   "execution_count": null,
   "metadata": {},
   "outputs": [],
   "source": [
    "plt.plot('xdf', 'ydf', data = df, linestyle = '', color = 'c', marker = '^', label = 'default')\n",
    "plt.legend(loc = 'best') # 凡例をちょうど良い場所に描画\n",
    "plt.show() # 色をシアン、線を点のみ、マーカーを上三角に変更したグラフ2を描画"
   ]
  },
  {
   "cell_type": "markdown",
   "metadata": {},
   "source": [
    "# プログラム20.22"
   ]
  },
  {
   "cell_type": "code",
   "execution_count": null,
   "metadata": {},
   "outputs": [],
   "source": [
    "df = pd.DataFrame({'xdf':np.arange(10), 'ydf':np.arange(-10,0)})\n",
    "plt.rcParams['font.size'] = 15 # フォントの設定\n",
    "plt.rcParams['figure.figsize'] = [5,5] # サイズ(インチ)\n",
    "plt.rcParams['lines.linewidth'] = 2 # 線の太さ設定\n",
    "plt.rcParams['lines.markersize'] = 15 # マーカーの大きさ\n",
    "# グラフの描画\n",
    "plt.plot('xdf', 'ydf', color = 'c', marker = 'h', linestyle = '-', data = df, label = 'test_data')\n",
    "plt.legend(loc = 'upper left') # 左上に描画\n",
    "plt.xlim(-1, 11) # x軸の制限 グラフの枠(目盛り)の各種設定　\n",
    "plt.ylim(-11, 1) # y軸の制限\n",
    "# 各軸の目盛りの数値を別の文字列に置き換える\n",
    "plt.xticks([0, 5, 10], ['Zero', 'P-Five', 'P-Ten'], rotation = 45)\n",
    "plt.yticks([0, -5, -10], ['Zero', 'N-Five', 'N-Ten'], rotation = 45)\n",
    "plt.xlabel('x-positive number') # x軸の説明を加える\n",
    "plt.ylabel('y-negative number') # y軸の説明を加える\n",
    "plt.title('first png figure') # タイトル設定\n",
    "plt.savefig('first_png.png', bbox_inches = 'tight')"
   ]
  },
  {
   "cell_type": "markdown",
   "metadata": {},
   "source": [
    "# プログラム20.23"
   ]
  },
  {
   "cell_type": "code",
   "execution_count": null,
   "metadata": {},
   "outputs": [],
   "source": [
    "import japanize_matplotlib # 日本語を表示するライブラリ\n",
    "df = pd.read_csv('data//seiseki_8s.csv', index_col = 'ID')\n",
    "plt.plot('国語', '英語', color = 'g', marker = '+', linestyle = '', \n",
    "          data = df, label = '国語-英語', alpha = 0.3)\n",
    "plt.plot('数学', '理科', color = 'r', marker = 'x', linestyle = '', \n",
    "          data = df, label = '数学-理科', alpha = 0.3) \n",
    "plt.plot('国語', '音楽', color = 'b', marker = '3', linestyle = '', \n",
    "          data = df, label = '国語-音楽', alpha = 0.3) \n",
    "plt.legend(loc = 'best')\n",
    "#plt.savefig('fig4-2.pdf', bbox_inches='tight',dpi=350)\n",
    "plt.show()"
   ]
  },
  {
   "cell_type": "markdown",
   "metadata": {},
   "source": [
    "# プログラム20.24"
   ]
  },
  {
   "cell_type": "code",
   "execution_count": null,
   "metadata": {},
   "outputs": [],
   "source": [
    "df = pd.read_csv('data//seiseki_8s.csv', index_col = 'ID')\n",
    "plt.rcParams['figure.figsize'] = [5, 2] # 描画サイズ\n",
    "df.plot(kind = 'box', whis = 3) # 箱ひげ図\n",
    "plt.show()"
   ]
  },
  {
   "cell_type": "markdown",
   "metadata": {},
   "source": [
    "# プログラム20.25"
   ]
  },
  {
   "cell_type": "code",
   "execution_count": null,
   "metadata": {},
   "outputs": [],
   "source": [
    "df.loc[:, '国語':'英語'].plot(kind = 'hist', alpha = 0.2, bins = 25)\n",
    "plt.show()"
   ]
  },
  {
   "cell_type": "markdown",
   "metadata": {},
   "source": [
    "# フォント確認用\n"
   ]
  },
  {
   "cell_type": "code",
   "execution_count": null,
   "metadata": {},
   "outputs": [],
   "source": [
    "import matplotlib.font_manager as mfm\n",
    "print([f.name for f in mfm.fontManager.ttflist])"
   ]
  },
  {
   "cell_type": "code",
   "execution_count": null,
   "metadata": {},
   "outputs": [],
   "source": [
    "%matplotlib inline\n",
    "import numpy as np\n",
    "import pandas as pd\n",
    "import matplotlib.pyplot as plt \n",
    "df = pd.read_csv('data//seiseki_8s.csv', index_col = 'ID')\n",
    "#plt.style.use('ggplot') # 描画のスタイルを設定\n",
    "plt.rcParams['figure.figsize'] = [5, 3] # 描画サイズ\n",
    "plt.rcParams['font.family'] = 'sans-serif'\n",
    "plt.rcParams['font.family'] = 'MS Gothic'\n",
    "\n",
    "\n",
    "df.plot(kind = 'box', whis = 3) # 箱ひげ図\n",
    "#plt.savefig('ren_box2_new.pdf', bbox_inches = 'tight', dpi=300)\n",
    "plt.show()"
   ]
  },
  {
   "cell_type": "code",
   "execution_count": null,
   "metadata": {},
   "outputs": [],
   "source": [
    "%matplotlib inline\n",
    "import numpy as np\n",
    "import pandas as pd\n",
    "import matplotlib.pyplot as plt \n",
    "df = pd.read_csv('data//seiseki_8s.csv', index_col = 'ID')\n",
    "#plt.style.use('ggplot') # 描画のスタイルを設定\n",
    "plt.rcParams['figure.figsize'] = [5, 3] # 描画サイズ\n",
    "plt.rcParams['font.family'] = 'sans-serif'\n",
    "plt.rcParams['font.sans-serif'] = ['Hiragino Maru Gothic Pro', 'Yu Gothic', 'Meirio', 'Takao', 'IPAexGothic', 'IPAPGothic', 'Noto Sans CJK JP']\n",
    "plt.rcParams['font.family'] = ['Hiragino Maru Gothic Pro', 'Yu Gothic', 'Meirio', 'Takao', 'IPAexGothic', 'IPAPGothic', 'Noto Sans CJK JP']\n",
    "\n",
    "\n",
    "df.plot(kind = 'box', whis = 3) # 箱ひげ図\n",
    "#plt.savefig('ren_box2_new.pdf', bbox_inches = 'tight', dpi=300)\n",
    "plt.show()"
   ]
  }
 ],
 "metadata": {
  "kernelspec": {
   "display_name": "Python 3 (ipykernel)",
   "language": "python",
   "name": "python3"
  },
  "language_info": {
   "codemirror_mode": {
    "name": "ipython",
    "version": 3
   },
   "file_extension": ".py",
   "mimetype": "text/x-python",
   "name": "python",
   "nbconvert_exporter": "python",
   "pygments_lexer": "ipython3",
   "version": "3.9.7"
  }
 },
 "nbformat": 4,
 "nbformat_minor": 4
}
