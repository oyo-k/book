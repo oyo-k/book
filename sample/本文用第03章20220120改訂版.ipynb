{
 "cells": [
  {
   "cell_type": "markdown",
   "metadata": {},
   "source": [
    "# プログラム3.1"
   ]
  },
  {
   "cell_type": "code",
   "execution_count": null,
   "metadata": {},
   "outputs": [],
   "source": [
    "from turtle import * # 描画に必要なライブラリ\n",
    "forward(100) # 矢印の方向(右方向)に100進む\n",
    "left(90) # 左に90度回転(上方向に向く)\n",
    "forward(100) # 矢印の方向(上方向)に100進む\n",
    "left(90) # 左に90度回転(左方向に向く)\n",
    "forward(100) # 矢印の方向(左方向)に100進む\n",
    "left(90) # 左に90度回転(下方向に向く\n",
    "forward(100) # 矢印の方向(下方向)に100進む\n",
    "done(# プログラム3.3# プログラム3.3# プログラム3.3) # 描画を終えるために操作を許可"
   ]
  },
  {
   "cell_type": "markdown",
   "metadata": {},
   "source": [
    "# プログラム3.2"
   ]
  },
  {
   "cell_type": "code",
   "execution_count": null,
   "metadata": {},
   "outputs": [],
   "source": [
    "shape('circle') # 矢印を丸印に変更\n",
    "forward(100) \n",
    "done() "
   ]
  },
  {
   "cell_type": "markdown",
   "metadata": {},
   "source": [
    "# プログラム3.3\n"
   ]
  },
  {
   "cell_type": "markdown",
   "metadata": {},
   "source": [
    "# 注意\n",
    "以下のプログラムはエラーが出ます。本書の指示通り、Kernelから「Restart & Clear Output」を行いましょう。"
   ]
  },
  {
   "cell_type": "code",
   "execution_count": null,
   "metadata": {},
   "outputs": [],
   "source": [
    "from turtle import * # 実行内容をクリアするため再度必要\n",
    "shape('turtl') # ここに入力ミスによる誤植\n",
    "forward(100) \n",
    "done() # 描画を終える"
   ]
  },
  {
   "cell_type": "markdown",
   "metadata": {},
   "source": [
    "# プログラム3.4"
   ]
  },
  {
   "cell_type": "code",
   "execution_count": 1,
   "metadata": {},
   "outputs": [],
   "source": [
    "from turtle import * # 実行内容をクリアしたためここで再度必要\n",
    "shape('turtle') # turtlからturtleに修正\n",
    "forward(100) \n",
    "done() # 描画を終える"
   ]
  }
 ],
 "metadata": {
  "kernelspec": {
   "display_name": "Python 3 (ipykernel)",
   "language": "python",
   "name": "python3"
  },
  "language_info": {
   "codemirror_mode": {
    "name": "ipython",
    "version": 3
   },
   "file_extension": ".py",
   "mimetype": "text/x-python",
   "name": "python",
   "nbconvert_exporter": "python",
   "pygments_lexer": "ipython3",
   "version": "3.9.7"
  }
 },
 "nbformat": 4,
 "nbformat_minor": 4
}
