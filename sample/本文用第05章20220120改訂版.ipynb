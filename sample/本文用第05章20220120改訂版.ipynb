{
 "cells": [
  {
   "cell_type": "markdown",
   "metadata": {},
   "source": [
    "# プログラム5.1"
   ]
  },
  {
   "cell_type": "code",
   "execution_count": null,
   "metadata": {},
   "outputs": [],
   "source": [
    "print(1 + 1) # 加算\n",
    "print(2 * 3 - 1) # 乗算(掛け算)と減算\n",
    "print(2 * (6 / 3)) # 乗算と除算"
   ]
  },
  {
   "cell_type": "markdown",
   "metadata": {},
   "source": [
    "# プログラム5.2"
   ]
  },
  {
   "cell_type": "code",
   "execution_count": null,
   "metadata": {},
   "outputs": [],
   "source": [
    "sisan = 1 # 変数に 1 を代入\n",
    "print('あなたの資産は', sisan, '万です。')\n",
    "sisan = sisan + 1 # 変数の中身 1 に 1 を加算\n",
    "print('あなたの資産は', sisan, '万に増加')\n",
    "sisan = sisan - 1 # 変数の中身 2 から 1 を引く\n",
    "print('あなたの資産は', sisan, '万に減少')\n",
    "sisan = sisan * 10 # 変数の中身 1 に 10 をかける\n",
    "print('あなたの資産は10倍の', sisan, '万に増加')\n",
    "sisan = sisan / 2 # 変数の中身 10 を 2 で割る\n",
    "print('あなたの資産は半分の', sisan, '万に減少')"
   ]
  },
  {
   "cell_type": "markdown",
   "metadata": {},
   "source": [
    "# プログラム5.3"
   ]
  },
  {
   "cell_type": "code",
   "execution_count": null,
   "metadata": {},
   "outputs": [],
   "source": [
    "a = b = 2 # 前章の章末のマルチターゲット代入参照\n",
    "data = a ** b # 2 の 2 乗の計算\n",
    "print('2の2乗は', data, 'です')\n",
    "data = data % a # 4 を 2 で割ったあまりの計算\n",
    "print('あまりは', data, 'です')"
   ]
  },
  {
   "cell_type": "markdown",
   "metadata": {},
   "source": [
    "# プログラム5.4"
   ]
  },
  {
   "cell_type": "code",
   "execution_count": null,
   "metadata": {},
   "outputs": [],
   "source": [
    "name = '花子'  # 変数nameに文字列'花子'を代入\n",
    "greet = 'おはよう' # 変数greetに文字列'おはよう'を代入\n",
    "print(name + ' ' + greet) # 文字列の足し算\n",
    "greet = 'こんにちは' # 変数greetに文字列'こんにちは'を代入 \n",
    "print(name + ' ' + greet) # 別パターンのセリフを作成可能"
   ]
  },
  {
   "cell_type": "markdown",
   "metadata": {},
   "source": [
    "# プログラム5.5"
   ]
  },
  {
   "cell_type": "code",
   "execution_count": null,
   "metadata": {},
   "outputs": [],
   "source": [
    "print('こんにちは' * 3) "
   ]
  },
  {
   "cell_type": "markdown",
   "metadata": {},
   "source": [
    "# プログラム5.5の変更例"
   ]
  },
  {
   "cell_type": "code",
   "execution_count": null,
   "metadata": {},
   "outputs": [],
   "source": [
    "print('こんにちは' * 10) "
   ]
  },
  {
   "cell_type": "markdown",
   "metadata": {},
   "source": [
    "# プログラム5.6"
   ]
  },
  {
   "cell_type": "code",
   "execution_count": null,
   "metadata": {},
   "outputs": [],
   "source": [
    "ct = 1.10 # 消費税 (浮動小数点) の設定\n",
    "price = 100 # 100 円 (整数) として値段の設定\n",
    "goukei = price * ct # 消費税込みの値段を計算\n",
    "print(goukei) # goukeiは浮動小数点"
   ]
  },
  {
   "cell_type": "markdown",
   "metadata": {},
   "source": [
    "# プログラム5.7"
   ]
  },
  {
   "cell_type": "code",
   "execution_count": null,
   "metadata": {},
   "outputs": [],
   "source": [
    "y = 0 # 初期化: 何も購入していないときの合計金額\n",
    "print('現在の合計金額は', y, '円です。')\n",
    "y = y + 100 # 商品Aをレジ打ちする際の計算\n",
    "print('現在の合計金額は', y, '円です。')\n",
    "y = y + 150 # 商品Bをレジ打ちする際の計算\n",
    "print('現在の合計金額は', y, '円です。')\n",
    "y = y + 200 # 商品Cをレジ打ちする際の計算\n",
    "print('レジ通過後の合計金額は', y, '円です。')"
   ]
  },
  {
   "cell_type": "markdown",
   "metadata": {},
   "source": [
    "# プログラム5.8"
   ]
  },
  {
   "cell_type": "code",
   "execution_count": null,
   "metadata": {},
   "outputs": [],
   "source": [
    "print('現在の合計金額は', y, '円です')"
   ]
  },
  {
   "cell_type": "markdown",
   "metadata": {},
   "source": [
    "# プログラム5.11\n",
    "プログラム5.9とプログラム5.10は、u5or.ipynbファイルへ"
   ]
  },
  {
   "cell_type": "code",
   "execution_count": null,
   "metadata": {},
   "outputs": [],
   "source": [
    "print('現在の合計金額は', y, '円です')"
   ]
  },
  {
   "cell_type": "markdown",
   "metadata": {},
   "source": [
    "# プログラム5.12\n",
    "以下のプログラムはエラーが発生します"
   ]
  },
  {
   "cell_type": "code",
   "execution_count": null,
   "metadata": {
    "scrolled": true
   },
   "outputs": [],
   "source": [
    "test1 = 10 # 整数型\n",
    "test2 = '10' # 文字列型\n",
    "test1 + test2 # ここでエラーが発生"
   ]
  },
  {
   "cell_type": "markdown",
   "metadata": {},
   "source": [
    "# プログラム5.13"
   ]
  },
  {
   "cell_type": "code",
   "execution_count": null,
   "metadata": {},
   "outputs": [],
   "source": [
    "x = 10 # オブジェクト 10 の名前は x のみ\n",
    "y = 15 # オブジェクト 15 の名前は y のみ\n",
    "print('入れ替え前; x:', x, 'y:', y) # 10 15 を出力\n",
    "tmp = x # オブジェクト 10 は x と tmp の二つの名前を持つ\n",
    "x = y   # オブジェクト 15 は x と y の二つの名前を持つ\n",
    "y = tmp # オブジェクト 10 は y と tmp の二つの名前を持つ\n",
    "print('入れ替え後; x:', x, 'y:', y) # 15 10を出力"
   ]
  },
  {
   "cell_type": "markdown",
   "metadata": {},
   "source": [
    "# コラムのプログラム5.17"
   ]
  },
  {
   "cell_type": "code",
   "execution_count": null,
   "metadata": {},
   "outputs": [],
   "source": [
    "# プログラム5.11\n",
    "プログラム5.9とプログラム5.10は、u5or.ipynbファイルへx = 0\n",
    "y = 1\n",
    "z = 2\n",
    "print(x,y,z)"
   ]
  },
  {
   "cell_type": "markdown",
   "metadata": {},
   "source": [
    "# コラムのプログラム5.18"
   ]
  },
  {
   "cell_type": "code",
   "execution_count": null,
   "metadata": {},
   "outputs": [],
   "source": [
    "x, y, z = 0, 1, 2\n",
    "print(x,y,z)"
   ]
  }
 ],
 "metadata": {
  "kernelspec": {
   "display_name": "Python 3 (ipykernel)",
   "language": "python",
   "name": "python3"
  },
  "language_info": {
   "codemirror_mode": {
    "name": "ipython",
    "version": 3
   },
   "file_extension": ".py",
   "mimetype": "text/x-python",
   "name": "python",
   "nbconvert_exporter": "python",
   "pygments_lexer": "ipython3",
   "version": "3.9.7"
  }
 },
 "nbformat": 4,
 "nbformat_minor": 4
}
