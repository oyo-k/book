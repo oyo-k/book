{
 "cells": [
  {
   "cell_type": "markdown",
   "id": "1b2ed94d-1d8d-4518-9614-b25921f01ed1",
   "metadata": {},
   "source": [
    "# 繰り返し処理と音\n",
    "## 繰り返し音を鳴らして繰り返し処理を実感"
   ]
  },
  {
   "cell_type": "markdown",
   "id": "0e9a6bf4-2bd2-49f9-85e1-3b329250aa1e",
   "metadata": {},
   "source": [
    "それではプログラムの「繰り返し処理」を実感しましょう。音を鳴らすプログラムを作成する前に、「pip install pygame」で音を再生するライブラリをインストールしましょう。\n"
   ]
  },
  {
   "cell_type": "markdown",
   "id": "e7ae7789-52b7-44f9-8a5c-9ca39efb9e8c",
   "metadata": {},
   "source": [
    "以下のセルをそのまま実行してください。\n",
    "以下のセルの実行は1度で十分です。\n",
    "「Successfully installed 」等のメッセージが出力されれば、インストールが完了です。"
   ]
  },
  {
   "cell_type": "code",
   "execution_count": 1,
   "id": "5421fcc8-e334-4351-a1e0-7aa6dccd0991",
   "metadata": {},
   "outputs": [
    {
     "name": "stdout",
     "output_type": "stream",
     "text": [
      "Requirement already satisfied: pygame in /Users/oyokuratomo/opt/anaconda3/lib/python3.9/site-packages (2.1.2)\n",
      "Note: you may need to restart the kernel to use updated packages.\n"
     ]
    }
   ],
   "source": [
    "pip install pygame"
   ]
  },
  {
   "cell_type": "markdown",
   "id": "9df3820b-9347-4499-a6d2-882bae78d8d8",
   "metadata": {},
   "source": [
    "インストールが成功したら、一度、カーネルを再起動しましょう。\n",
    "カーネルの再起動は画面上の「カーネル」をクリックして、「再起動」をクリックしてください。\n",
    "その後、「現在のカーネルを再起動しますか？全ての変数は失われます。」とメッセージが出ますが、　そのまま「再起動」ボタンを押してください。変数に代入した履歴などはリセットされますが、pipを利用してインストールした内容は消えません。"
   ]
  },
  {
   "cell_type": "markdown",
   "id": "4a314a7d-09f6-4ae6-b416-e32034a546a7",
   "metadata": {},
   "source": [
    "## グランドピアノの音を鳴らす"
   ]
  },
  {
   "cell_type": "markdown",
   "id": "0c09eb57-a222-4eb7-8a3d-bcf9a747c4d9",
   "metadata": {},
   "source": [
    "最初にfor文を使わずに、グランドピアノの「ド、レ、ミ、ファ」の一連の音を1回鳴らすプログラムを作成して実行しましょう。"
   ]
  },
  {
   "cell_type": "code",
   "execution_count": 17,
   "id": "4a7e02a3-b740-494c-915f-cbf2e82b01c8",
   "metadata": {},
   "outputs": [],
   "source": [
    "# グランドピアノの一連の音を一回鳴らす\n",
    "import pygame # pygame の各種機能を利用するために最初に必要\n",
    "import pygame.mixer as pm # 音を再生する機能を利用するためにインポート\n",
    "pm.init() # pygame の機能を使うためには初期化が必要\n",
    "pm.music.load('data//music//grandpiano.mp3') # Jupyter Notebook上にロードする\n",
    "pm.music.play(1) # ロードしたファイルを1度再生する\n"
   ]
  },
  {
   "cell_type": "markdown",
   "id": "7c6b01b4-9d1e-4683-ba4f-c82bd6c28f2c",
   "metadata": {},
   "source": [
    "プログラムはpm.music.load('音のファイルのファイルパス')の丸括弧内に再生したいファイルのパスを指定します。pygameでは、そのファイルを pm.music.play(1) で再生します。"
   ]
  },
  {
   "cell_type": "markdown",
   "id": "4c3cfa37-4b93-4c97-bb07-e86eb6034547",
   "metadata": {},
   "source": [
    "### 補足説明"
   ]
  },
  {
   "cell_type": "markdown",
   "id": "f52adabb-0c7d-472c-a358-76ffcdbc91dd",
   "metadata": {},
   "source": [
    "音が出ない場合はPCの音量の設定などをみなおしましょう。PCにスピーカーが付いていない場合はイヤホンや外付けのスピーカーを利用しましょう。リモートワーク用のアプリケーション等を起動していると、音が出ない場合が稀にあります。その際は不要なアプリケーションを終了しましょう。\n",
    "\n",
    "他の音も再生できます。pm.music.load('data//grandpiano.mp3')のファイルパスに読者の音楽のファイルパスを指定すれば、読者の好きな音楽を再生できます。Pygameはゲームを作成するための多くの機能を提供しています。例えば、再生を止めたい場合には pm.music.stop()などの命令を利用することができます。\n"
   ]
  },
  {
   "cell_type": "markdown",
   "id": "68310f78-23d6-40eb-a56a-29fa7197a7e6",
   "metadata": {},
   "source": [
    "## 繰り返しとグランドピアノの音"
   ]
  },
  {
   "cell_type": "markdown",
   "id": "e3b9e300-6c5d-48c1-b4cf-1a3d45ad4f3e",
   "metadata": {},
   "source": [
    "次にfor文による繰り返し処理で「グランドピアノの一連の音」を3回鳴らす以下のプログラムを作成して実行しましょう。\n"
   ]
  },
  {
   "cell_type": "code",
   "execution_count": 19,
   "id": "cdfe32c9-5be6-4e1e-b61c-491456b2c17c",
   "metadata": {},
   "outputs": [
    {
     "name": "stdout",
     "output_type": "stream",
     "text": [
      "0 回目の再生:再生中・・・・・・再生終了\n",
      "1 回目の再生:再生中・・・・・・再生終了\n",
      "2 回目の再生:再生中・・・・・・再生終了\n"
     ]
    }
   ],
   "source": [
    "import numpy as np \n",
    "import time # 時間関連の操作をする準備\n",
    "\n",
    "pm.init()\n",
    "pm.music.load('data//music//grandpiano.mp3')\n",
    "\n",
    "for kaisuu in np.arange(3): # [0, 1, 2]のため3回繰り返す\n",
    "    print(kaisuu,'回目の再生', end=':')    # 回数のカウントは 0 からに注意\n",
    "    pm.music.play(1) # 一回「ド, レ, ミ, ファ」を再生\n",
    "    \n",
    "    # コンピュータは音を再生した瞬間に次の命令を実行する\n",
    "    print('再生中', end='・・・') # \n",
    "    #  そのため、音の再生が終わるまで 3 秒停止する命令を記述する必要がある     \n",
    "    time.sleep(3) # 丸括弧の数値は秒単位の指定。\n",
    "\n",
    "    print('・・・再生終了')\n"
   ]
  },
  {
   "cell_type": "code",
   "execution_count": 5,
   "id": "0df11367-1284-40fa-aafd-81d4a3bb64dd",
   "metadata": {},
   "outputs": [
    {
     "ename": "SyntaxError",
     "evalue": "unexpected character after line continuation character (854528559.py, line 1)",
     "output_type": "error",
     "traceback": [
      "\u001b[0;36m  File \u001b[0;32m\"/var/folders/9k/5x5mqwkj73sgxyc9b_q6sg8c0000gn/T/ipykernel_8199/854528559.py\"\u001b[0;36m, line \u001b[0;32m1\u001b[0m\n\u001b[0;31m    プログラム\\ref{グランドピアノの一連の音を3回鳴らす}では『コンピュータに「グランドピアノの一連の音を鳴らすこと」を3回続けて行いなさい』と命令しました。\u001b[0m\n\u001b[0m                                                                                  ^\u001b[0m\n\u001b[0;31mSyntaxError\u001b[0m\u001b[0;31m:\u001b[0m unexpected character after line continuation character\n"
     ]
    }
   ],
   "source": [
    "プログラム\\ref{グランドピアノの一連の音を3回鳴らす}では『コンピュータに「グランドピアノの一連の音を鳴らすこと」を3回続けて行いなさい』と命令しました。\n"
   ]
  },
  {
   "cell_type": "code",
   "execution_count": null,
   "id": "d5425cc9-7afc-4b3d-a899-9c20af44db13",
   "metadata": {},
   "outputs": [],
   "source": [
    "\\mybf{Pythonで音声や動画を再生する：} 例えば、Pythonで音を処理するためには、pyaudio(import pyaudio）、動画を処理するにはOpenCV（import cv2）や、動画を編集するならmoviepy（import moviepy.editor as me）、ゲーム系ならPyGameなどのパッケージがあります。Pythonでの音声処理は文献\\cite{2018pythonで学ぶ実践画像}があります。\n"
   ]
  },
  {
   "cell_type": "markdown",
   "id": "c76f0b75-229f-4ea5-ac3a-ffc6d12a61c5",
   "metadata": {},
   "source": [
    "## ループ変数に再生する効果音のファイル名を設定\n",
    "これまでにループ変数に数値を代入しながら繰り返しの処理を行いました。しかし、シーケンスには数値だけでなく、文字列を記述することができます。\n",
    "そこで試しに、再生する効果音の変更を意図して、効果音のファイル名としてループ変数 mfを使ってみましょう。\n",
    "繰り返し処理内で異なる効果音を再生するプログラム\\ref{再生する効果音を変える繰り返し}を作成して実行しましょう。\n"
   ]
  },
  {
   "cell_type": "code",
   "execution_count": 12,
   "id": "a0a9bc23-6714-48b4-b0c1-141381d0a853",
   "metadata": {},
   "outputs": [
    {
     "name": "stdout",
     "output_type": "stream",
     "text": [
      "marimba.mp3 の再生準備:::再生中・・・・・・再生終了\n",
      "harp.mp3 の再生準備:::再生中・・・・・・再生終了\n",
      "drumset.mp3 の再生準備:::再生中・・・・・・再生終了\n"
     ]
    }
   ],
   "source": [
    "# 再生する効果音を変える繰り返し\n",
    "import pygame # pygame の使い方は第10章参照\n",
    "import pygame.mixer as pm\n",
    "import time\n",
    "pm.init() # pygameを利用する前には初期化\n",
    "# 効果音のファイル名を三つ利用して3回繰り返し(変数mfには再生したいファイル名を代入)\n",
    "for mf in ['marimba.mp3', 'harp.mp3', 'drumset.mp3']:\n",
    "    print(mf,'の再生準備', end=':::') # ファイル名を出力\n",
    "    pm.music.load('data//music//' + mf) # フォルダ名＋読み込むファイル名\n",
    "    print('再生中', end='・・・')\n",
    "    pm.music.play(1) # 1回再生\n",
    "    time.sleep(2) #  音の再生が終わるまで停止 2 秒停止\n",
    "    print('・・・再生終了')\n"
   ]
  },
  {
   "cell_type": "markdown",
   "id": "b72944f9-b2a7-40d3-b9e7-6af3ef594a6e",
   "metadata": {},
   "source": [
    "ここでは\\mybf{再生したい効果音のファイル名としてループ変数mf}を利用します。\n",
    "プログラム\\ref{再生する効果音を変える繰り返し}は「木琴の音」（marimba.mp3）、「ハープの音」（harp.mp3）、「ドラムセットの音」（drumset.mp3）を鳴らします。\n",
    "繰り返しの中では、再生する効果音の三つのファイル名がループ変数mfに代入されます。このようにシーケンスやループ変数にはプログラムの目的（再生したい効果音を変える）を達成するために設定します。達成目標は、ソースコードに明示的に記述されないため、コメント文などを利用します。\n",
    "\n",
    "\n",
    "\n",
    "\n"
   ]
  },
  {
   "cell_type": "code",
   "execution_count": null,
   "id": "c19a6231-5c20-490f-b0e2-7ebd1665d508",
   "metadata": {},
   "outputs": [],
   "source": [
    "以下のプログラムでは\n",
    "プログラム\\ref{読み込むファイル名を変える繰り返し}では、直接、ファイル名をシーケンスに列挙しました。\n",
    "しかし、第\\ref{ファイルとフォルダのリストを取得}章で学習したlistdir関数のように、mp3ファイルのファイル名の一覧を取得することができれば、記述が楽になります。そこでファイルの種類を指定することができるglob関数を使い、指定したフォルダから取得したファイル名を用いて効果音を再生する課題用プログラムの空欄を埋めて完成させなさい。\n",
    "\n",
    "その後、listdir関数とglob関数が取得するファイル名の一覧を比較して、なぜglob関数を使うのか考えなさい。listdir関数とglob関数は共に、引数にファイルパスを指定すれば、そのファイルパスにあるファイルとフォルダの一覧を取得できます。glob関数のみ、ファイルパスの中にワイルドカードと呼ばれる *  を指定することができます。ここでの * は掛け算の記号ではなく、曖昧な検索を可能とするための任意の文字列の記号として利用します。\n",
    "\\end{pkiso}\n",
    "% !\\kas!\n",
    "\\begin{ana}{}{}\n",
    "\\begin{lstlisting}[style = {mystyle},escapechar=!]\n"
   ]
  },
  {
   "cell_type": "code",
   "execution_count": 15,
   "id": "30c809b4-aa19-43d2-a2e6-093e4683a47a",
   "metadata": {},
   "outputs": [
    {
     "name": "stdout",
     "output_type": "stream",
     "text": [
      "listdirの結果: ['harp.mp3', 'grandpiano.mp3', 'marimba.mp3', 'drumset.mp3']\n",
      "globの結果: ['data//music/harp.mp3', 'data//music/grandpiano.mp3', 'data//music/marimba.mp3', 'data//music/drumset.mp3']\n",
      "data//music/harp.mp3 の再生準備:::"
     ]
    },
    {
     "ename": "TypeError",
     "evalue": "function missing required argument 'filename' (pos 1)",
     "output_type": "error",
     "traceback": [
      "\u001b[0;31m---------------------------------------------------------------------------\u001b[0m",
      "\u001b[0;31mTypeError\u001b[0m                                 Traceback (most recent call last)",
      "\u001b[0;32m/var/folders/9k/5x5mqwkj73sgxyc9b_q6sg8c0000gn/T/ipykernel_8199/1899922725.py\u001b[0m in \u001b[0;36m<module>\u001b[0;34m\u001b[0m\n\u001b[1;32m     10\u001b[0m \u001b[0;32mfor\u001b[0m \u001b[0mmf\u001b[0m \u001b[0;32min\u001b[0m \u001b[0mmfs\u001b[0m\u001b[0;34m:\u001b[0m\u001b[0;34m\u001b[0m\u001b[0;34m\u001b[0m\u001b[0m\n\u001b[1;32m     11\u001b[0m     \u001b[0mprint\u001b[0m\u001b[0;34m(\u001b[0m\u001b[0mmf\u001b[0m\u001b[0;34m,\u001b[0m\u001b[0;34m'の再生準備'\u001b[0m\u001b[0;34m,\u001b[0m \u001b[0mend\u001b[0m\u001b[0;34m=\u001b[0m\u001b[0;34m':::'\u001b[0m\u001b[0;34m)\u001b[0m \u001b[0;31m# ファイル名を出力\u001b[0m\u001b[0;34m\u001b[0m\u001b[0;34m\u001b[0m\u001b[0m\n\u001b[0;32m---> 12\u001b[0;31m     \u001b[0mpm\u001b[0m\u001b[0;34m.\u001b[0m\u001b[0mmusic\u001b[0m\u001b[0;34m.\u001b[0m\u001b[0mload\u001b[0m\u001b[0;34m(\u001b[0m\u001b[0;34m)\u001b[0m \u001b[0;31m# 読み込むファイルパス\u001b[0m\u001b[0;34m\u001b[0m\u001b[0;34m\u001b[0m\u001b[0m\n\u001b[0m\u001b[1;32m     13\u001b[0m     \u001b[0mprint\u001b[0m\u001b[0;34m(\u001b[0m\u001b[0;34m'再生中'\u001b[0m\u001b[0;34m,\u001b[0m \u001b[0mend\u001b[0m\u001b[0;34m=\u001b[0m\u001b[0;34m'・・・'\u001b[0m\u001b[0;34m)\u001b[0m\u001b[0;34m\u001b[0m\u001b[0;34m\u001b[0m\u001b[0m\n\u001b[1;32m     14\u001b[0m     \u001b[0mpm\u001b[0m\u001b[0;34m.\u001b[0m\u001b[0mmusic\u001b[0m\u001b[0;34m.\u001b[0m\u001b[0mplay\u001b[0m\u001b[0;34m(\u001b[0m\u001b[0;36m1\u001b[0m\u001b[0;34m)\u001b[0m \u001b[0;31m# 1回再生\u001b[0m\u001b[0;34m\u001b[0m\u001b[0;34m\u001b[0m\u001b[0m\n",
      "\u001b[0;31mTypeError\u001b[0m: function missing required argument 'filename' (pos 1)"
     ]
    }
   ],
   "source": [
    "import pygame # pygame の使い方は第10章参照\n",
    "import pygame.mixer as pm\n",
    "import time, os, glob # 複数のライブラリを一括で読み込む方法\n",
    "\n",
    "pm.init() # pygameを利用する前には初期化\n",
    "mfs = os.listdir('data//music//')\n",
    "print('listdirの結果:', mfs) # mp3以外のファイルが含まれることがある\n",
    "mfs = glob.glob('data//music//*.mp3')\n",
    "print('globの結果:', mfs) # mp3のみ含む\n",
    "for mf in mfs:\n",
    "    print(mf,'の再生準備', end=':::') # ファイル名を出力\n",
    "    pm.music.load() # 読み込むファイルパス\n",
    "    print('再生中', end='・・・')\n",
    "    pm.music.play(1) # 1回再生\n",
    "    time.sleep(2) #  音の再生が終わるまで停止 2 秒停止\n",
    "    print('・・・再生終了')"
   ]
  },
  {
   "cell_type": "code",
   "execution_count": null,
   "id": "0f5fd2f0-070e-407e-954b-90ec31bc1ebe",
   "metadata": {},
   "outputs": [],
   "source": [
    "# 回答例\n",
    "import pygame \n",
    "import pygame.mixer as pm\n",
    "import time, os, glob # 複数のライブラリを一括で読み込む方法\n",
    "\n",
    "pm.init() # pygameを利用する前には初期化\n",
    "mfs = os.listdir('data//music//')\n",
    "print('listdirの結果:', mfs) # mp3以外のファイルが含まれることがある\n",
    "mfs = glob.glob('data//music//*.mp3')\n",
    "print('globの結果:', mfs) # mp3のみ含む\n",
    "for mf in mfs:\n",
    "    print(mf,'の再生準備', end=':::') # ファイル名を出力\n",
    "    pm.music.load() # 読み込むファイルパス\n",
    "    print('再生中', end='・・・')\n",
    "    pm.music.play(1) # 1回再生\n",
    "    time.sleep(2) #  音の再生が終わるまで停止 2 秒停止\n",
    "    print('・・・再生終了')"
   ]
  }
 ],
 "metadata": {
  "kernelspec": {
   "display_name": "Python 3 (ipykernel)",
   "language": "python",
   "name": "python3"
  },
  "language_info": {
   "codemirror_mode": {
    "name": "ipython",
    "version": 3
   },
   "file_extension": ".py",
   "mimetype": "text/x-python",
   "name": "python",
   "nbconvert_exporter": "python",
   "pygments_lexer": "ipython3",
   "version": "3.9.7"
  }
 },
 "nbformat": 4,
 "nbformat_minor": 5
}
