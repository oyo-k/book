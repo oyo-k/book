{
 "cells": [
  {
   "cell_type": "markdown",
   "id": "7827a816",
   "metadata": {},
   "source": [
    "# 音声データの代入と英語の発表練習を効率化"
   ]
  },
  {
   "cell_type": "markdown",
   "id": "5fdca0b1",
   "metadata": {},
   "source": [
    "プログラミングを学ぶ動機の一つは効率化です。\n",
    "ここでは英語の発表練習に利用する音声ファイルを作成しましょう。\n",
    "\n",
    "このノートブックのプログラムに取り掛かる前に文章を音声に変換するgTTSライブラリと、指定した文章を別の言語の文章に変換するgoogletransライブラリをインストールしましょう。"
   ]
  },
  {
   "cell_type": "markdown",
   "id": "6875ca94",
   "metadata": {},
   "source": [
    "## 事前準備"
   ]
  },
  {
   "cell_type": "markdown",
   "id": "88cc9bb9",
   "metadata": {},
   "source": [
    "以下のセルをそのまま実行してください。\n",
    "以下のセルの実行は1度で十分です。\n",
    "「Successfully installed 」等のメッセージが出力されれば、インストールが完了です。"
   ]
  },
  {
   "cell_type": "code",
   "execution_count": 1,
   "id": "e5615652",
   "metadata": {
    "scrolled": true
   },
   "outputs": [
    {
     "name": "stdout",
     "output_type": "stream",
     "text": [
      "Requirement already satisfied: gTTS in /Users/oyokuratomo/opt/anaconda3/lib/python3.9/site-packages (2.2.3)\n",
      "Requirement already satisfied: requests in /Users/oyokuratomo/opt/anaconda3/lib/python3.9/site-packages (from gTTS) (2.26.0)\n",
      "Requirement already satisfied: click in /Users/oyokuratomo/opt/anaconda3/lib/python3.9/site-packages (from gTTS) (8.0.3)\n",
      "Requirement already satisfied: six in /Users/oyokuratomo/opt/anaconda3/lib/python3.9/site-packages (from gTTS) (1.16.0)\n",
      "Requirement already satisfied: certifi>=2017.4.17 in /Users/oyokuratomo/opt/anaconda3/lib/python3.9/site-packages (from requests->gTTS) (2021.10.8)\n",
      "Requirement already satisfied: charset-normalizer~=2.0.0 in /Users/oyokuratomo/opt/anaconda3/lib/python3.9/site-packages (from requests->gTTS) (2.0.4)\n",
      "Requirement already satisfied: idna<4,>=2.5 in /Users/oyokuratomo/opt/anaconda3/lib/python3.9/site-packages (from requests->gTTS) (2.10)\n",
      "Requirement already satisfied: urllib3<1.27,>=1.21.1 in /Users/oyokuratomo/opt/anaconda3/lib/python3.9/site-packages (from requests->gTTS) (1.26.7)\n",
      "Note: you may need to restart the kernel to use updated packages.\n"
     ]
    }
   ],
   "source": [
    "pip install gTTS"
   ]
  },
  {
   "cell_type": "markdown",
   "id": "20d77bc4",
   "metadata": {},
   "source": [
    "以下のセルをそのまま実行してください。\n",
    "以下のセルの実行は1度で十分です。"
   ]
  },
  {
   "cell_type": "code",
   "execution_count": 5,
   "id": "c634a135",
   "metadata": {},
   "outputs": [
    {
     "name": "stdout",
     "output_type": "stream",
     "text": [
      "Requirement already satisfied: googletrans==4.0.0-rc1 in /Users/oyokuratomo/opt/anaconda3/lib/python3.9/site-packages (4.0.0rc1)\n",
      "Requirement already satisfied: httpx==0.13.3 in /Users/oyokuratomo/opt/anaconda3/lib/python3.9/site-packages (from googletrans==4.0.0-rc1) (0.13.3)\n",
      "Requirement already satisfied: sniffio in /Users/oyokuratomo/opt/anaconda3/lib/python3.9/site-packages (from httpx==0.13.3->googletrans==4.0.0-rc1) (1.2.0)\n",
      "Requirement already satisfied: rfc3986<2,>=1.3 in /Users/oyokuratomo/opt/anaconda3/lib/python3.9/site-packages (from httpx==0.13.3->googletrans==4.0.0-rc1) (1.5.0)\n",
      "Requirement already satisfied: idna==2.* in /Users/oyokuratomo/opt/anaconda3/lib/python3.9/site-packages (from httpx==0.13.3->googletrans==4.0.0-rc1) (2.10)\n",
      "Requirement already satisfied: chardet==3.* in /Users/oyokuratomo/opt/anaconda3/lib/python3.9/site-packages (from httpx==0.13.3->googletrans==4.0.0-rc1) (3.0.4)\n",
      "Requirement already satisfied: hstspreload in /Users/oyokuratomo/opt/anaconda3/lib/python3.9/site-packages (from httpx==0.13.3->googletrans==4.0.0-rc1) (2021.12.1)\n",
      "Requirement already satisfied: certifi in /Users/oyokuratomo/opt/anaconda3/lib/python3.9/site-packages (from httpx==0.13.3->googletrans==4.0.0-rc1) (2021.10.8)\n",
      "Requirement already satisfied: httpcore==0.9.* in /Users/oyokuratomo/opt/anaconda3/lib/python3.9/site-packages (from httpx==0.13.3->googletrans==4.0.0-rc1) (0.9.1)\n",
      "Requirement already satisfied: h2==3.* in /Users/oyokuratomo/opt/anaconda3/lib/python3.9/site-packages (from httpcore==0.9.*->httpx==0.13.3->googletrans==4.0.0-rc1) (3.2.0)\n",
      "Requirement already satisfied: h11<0.10,>=0.8 in /Users/oyokuratomo/opt/anaconda3/lib/python3.9/site-packages (from httpcore==0.9.*->httpx==0.13.3->googletrans==4.0.0-rc1) (0.9.0)\n",
      "Requirement already satisfied: hpack<4,>=3.0 in /Users/oyokuratomo/opt/anaconda3/lib/python3.9/site-packages (from h2==3.*->httpcore==0.9.*->httpx==0.13.3->googletrans==4.0.0-rc1) (3.0.0)\n",
      "Requirement already satisfied: hyperframe<6,>=5.2.0 in /Users/oyokuratomo/opt/anaconda3/lib/python3.9/site-packages (from h2==3.*->httpcore==0.9.*->httpx==0.13.3->googletrans==4.0.0-rc1) (5.2.0)\n",
      "Note: you may need to restart the kernel to use updated packages.\n"
     ]
    }
   ],
   "source": [
    "pip install googletrans==4.0.0-rc1"
   ]
  },
  {
   "cell_type": "markdown",
   "id": "74236783",
   "metadata": {},
   "source": [
    "インストールが成功したら、一度、カーネルを再起動しましょう。\n",
    "カーネルの再起動は画面上の「カーネル」をクリックして、「再起動」をクリックしてください。\n",
    "その後、「現在のカーネルを再起動しますか？全ての変数は失われます。」とメッセージが出ますが、　そのまま「再起動」ボタンを押してください。変数に代入した履歴などはリセットされますが、pipを利用してインストールした内容は消えません。"
   ]
  },
  {
   "cell_type": "markdown",
   "id": "0cdf89dc",
   "metadata": {},
   "source": [
    "## プログラムの作成"
   ]
  },
  {
   "cell_type": "markdown",
   "id": "b8e5ac6c",
   "metadata": {},
   "source": [
    "インストールが完了したら、「Nice to meet you. I am Taro.」を音声に変換し、その音声を「lecture_voice1.mp3」として保存するプログラムを作成して実行しましょう。\n",
    "プログラムの実行後、Jupyter Notebookを保存したpysrcフォルダにある「lecture_voice1.mp3」を、マウスを使い開いて音を聞いてみましょう。保存場所がわからない場合は本書の2章を参照にしましょう。"
   ]
  },
  {
   "cell_type": "code",
   "execution_count": 1,
   "id": "da9c9ff6",
   "metadata": {},
   "outputs": [
    {
     "name": "stdout",
     "output_type": "stream",
     "text": [
      "lecture_voice1.mp3 をパソコンに保存しました\n"
     ]
    }
   ],
   "source": [
    "#英語の文章を練習用の音声ファイルに変換\n",
    "# 英語を音声のファイルに変換するライブラリ\n",
    "from gtts import gTTS # 付録 C を参考にインストール\n",
    "\n",
    "# 英語の音声に変換したい英語の文字列を記述\n",
    "text_data = 'Nice to meet you.　I am Taro'\n",
    "# text_dataに代入した文字列を音声に変換\n",
    "voice_data = gTTS(text_data)\n",
    "\n",
    "filename = 'lecture_voice1.mp3' # 保存用のファイル名\n",
    "# Jupyter Notebookのu4を保存した場所に保存\n",
    "voice_data.save(filename) # 指定したファイル名で音声を保存\n",
    "# 上記の命令の形式は第4.3章で触れたオブジェクト.操作命令です。\n",
    "# これは voice_data というオブジェクトの音声部分を対象に、指定した filename でその音声を保存する、と解釈しましょう\n",
    "print(filename,'をパソコンに保存しました') "
   ]
  },
  {
   "cell_type": "markdown",
   "id": "27e59aca",
   "metadata": {},
   "source": [
    "プログラムはgTTS関数により「変数text_dataに紐付いたテキストデータ」を音声データに変換して変数voice_dataに代入します。save関数を利用して「変数voice_dataに紐付いた音声データ」を「lecture_voice1.mp3」として保存します。\n"
   ]
  },
  {
   "cell_type": "markdown",
   "id": "822d9232",
   "metadata": {},
   "source": [
    "# 日本語の文章から英語の文章と音声に翻訳する代入例"
   ]
  },
  {
   "cell_type": "markdown",
   "id": "49f8c3a3",
   "metadata": {},
   "source": [
    "自動翻訳の技術が向上したため、日本語の文章を英語の文章に翻訳して、そのまま英語の発表用の音声ファイルを作成して実行しましょう。\n"
   ]
  },
  {
   "cell_type": "code",
   "execution_count": 2,
   "id": "ec06284b",
   "metadata": {},
   "outputs": [
    {
     "name": "stdout",
     "output_type": "stream",
     "text": [
      "翻訳前: 初めまして。私は斉藤です。\n",
      "翻訳後: Nice to meet you.I am Saito.\n",
      "音声に変換終了\n",
      "lecture_voice2.mp3 をパソコンに保存しました\n"
     ]
    }
   ],
   "source": [
    "from gtts import gTTS\n",
    "from googletrans import Translator # 翻訳に必要な道具\n",
    "translator = Translator() # 翻訳機の用意\n",
    "\n",
    "filename = 'lecture_voice2.mp3' # 保存用のファイル名\n",
    "# 最大翻訳文字数は1500字である点に注意\n",
    "text_data_jp = '初めまして。私は斉藤です。' # 日本語の文字列を記述\n",
    "print('翻訳前:', text_data_jp)\n",
    "\n",
    "# text_data_jpの日本語を英語に翻訳\n",
    "data_translated = translator.translate(text_data_jp, \n",
    "        src='ja',  #  翻訳前の言語を日本語に指定\n",
    "        dest='en') #  翻訳後の言語を英語に指定\n",
    "print('翻訳後:', data_translated.text) # 英語の文章を出力\n",
    "# 翻訳結果を音声に変換する\n",
    "voice_data_en = gTTS(data_translated.text) \n",
    "print('音声に変換終了') \n",
    "voice_data_en.save(filename) # 音声をmp3として保存\n",
    "print(filename,'をパソコンに保存しました') "
   ]
  },
  {
   "cell_type": "markdown",
   "id": "5aaf1080",
   "metadata": {},
   "source": [
    "プログラムの実行後、「lecture_voice2.mp3」をマウスを使い開いてみましょう。プログラムは変数text_data_jpに、英語に翻訳して音声ファイルに変換したい日本語の文章を代入します。\n",
    "「変数text_data_jpに紐付いた日本語の文章」を翻訳機translatorを使い英語に翻訳します。その英語の文章を変数data_translatedに代入します。\n",
    "gTTS関数により「変数data_translatedに紐付いた英語の文章」を音声データに変換して変数voice_data_enに代入します。save関数を利用して「変数voice_data_enに紐付いた音声データ」を「lecture_voice2.mp3」として保存します。"
   ]
  }
 ],
 "metadata": {
  "kernelspec": {
   "display_name": "Python 3 (ipykernel)",
   "language": "python",
   "name": "python3"
  },
  "language_info": {
   "codemirror_mode": {
    "name": "ipython",
    "version": 3
   },
   "file_extension": ".py",
   "mimetype": "text/x-python",
   "name": "python",
   "nbconvert_exporter": "python",
   "pygments_lexer": "ipython3",
   "version": "3.9.7"
  }
 },
 "nbformat": 4,
 "nbformat_minor": 5
}
