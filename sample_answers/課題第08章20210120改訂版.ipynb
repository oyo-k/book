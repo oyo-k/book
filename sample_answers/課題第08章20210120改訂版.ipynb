{
 "cells": [
  {
   "cell_type": "markdown",
   "metadata": {},
   "source": [
    "# 基礎課題8.1\n",
    "\n",
    "## 問1\n",
    "- 正答例\n",
    "    - Windowsを想定する場合は「c://pysrc//data//t1.csv」\n",
    "    - Mac を想定する場合は「 /Users/kura/pysrc/data/t1.csv」\n",
    "    - ただし、図8.8を問題で指定しているため、厳密に正解は「c://pysrc//data//t1.csv」\n",
    "- 誤答例\n",
    "    - c://pysrc のように途中までしか書かれていない場合\n",
    "    - np.loadtxt(fname = 'data//t1.csv')のような命令を記述する場合。\n",
    "\n",
    "## 問2\n",
    "- 絶対パスは、cドライブのようなルートからファイルまでのパスを全て記述する必要がある。\n",
    "- 相対パスは、設定されたカレントディレクトリからファイルまでのパスを記述すれば良い。\n",
    "- 絶対パスと相対パスは、設定されたカレントディレクトリがcドライブ（ルート）であれば、同一である。一方で、相対パスは、カレントディレクトリからの相対的な位置を記述すれば良いため、絶対パスよりもファイルパスを省略して書くことができる。\n",
    "\n",
    "## 問3\n",
    "- 絶対パスを記述したプログラムは、他人のパソコンで実行する場合には、絶対パスを他人のパソコン上のパスに修正しなければならない。しかし、pysrcのようなフォルダをカレントディレクトリとして設定すれば、そのフォルダからの相対的な位置である相対パスを記述したプログラムであれば、他人のパソコンや、自身のパソコンの別の階層からでも、プログラムを修正せずに、作成したプログラムを実行することができる。\n"
   ]
  },
  {
   "cell_type": "code",
   "execution_count": 1,
   "metadata": {},
   "outputs": [
    {
     "name": "stdout",
     "output_type": "stream",
     "text": [
      "[[ 0  1  2  3  4]\n",
      " [ 5  6  7  8  9]\n",
      " [10 11 12 13 14]\n",
      " [15 16 17 18 19]]\n"
     ]
    }
   ],
   "source": [
    "# 基礎課題8.2 \n",
    "# step1 0 から19 までの整数値を持つ2 次元配列を生成\n",
    "import numpy as np\n",
    "data1 = np.arange(0, 20).reshape(4, 5)\n",
    "print(data1)\n",
    "\n",
    "# step1の続き：data1をCSV形式のdata1.csvとして出力\n",
    "np.savetxt(\n",
    "    fname='data//data1.csv', # 出力用のファイルパス\n",
    "    X=data1, # 出力するファイル\n",
    "    fmt='%0d', # 有効桁数の指定\n",
    "    delimiter=',') \n",
    "# 注意：カンマ「,」の記述忘れが目立つため注意\n",
    "# SyntaxError: invalid synta X=data1, # 出力するファイル などが出る場合などはカンマ「,」の記述忘れ\n",
    "\n",
    "# このセルを実行すれば、dataフォルダに、変数data1と同じ数値を、小数点なしで、カンマ「,」で区切って、data1.csvというファイル名で出力する\n",
    "# 上記のような設定で、pysrc フォルダのdataフォルダに data1.csv が保存される"
   ]
  },
  {
   "cell_type": "code",
   "execution_count": 7,
   "metadata": {},
   "outputs": [
    {
     "name": "stdout",
     "output_type": "stream",
     "text": [
      "[[20 21 22 23 24]\n",
      " [25 26 27 28 29]\n",
      " [30 31 32 33 34]\n",
      " [35 36 37 38 39]]\n"
     ]
    }
   ],
   "source": [
    "# step 2  20 から39 までの整数値を持つ2 次元配列を生成\n",
    "data2 = np.arange(20, 40).reshape(4, 5)\n",
    "print(data2)\n",
    "# step 2の続き  data2をCSV形式のdata2.csvとして出力\n",
    "np.savetxt(\n",
    "    fname='data//data2.csv', # 出力用のファイルパス\n",
    "    X=data2, # 出力するファイル\n",
    "    fmt='%0d', # 有効桁数の指定\n",
    "    delimiter=',') \n",
    "# このセルを実行すれば、dataフォルダに、変数data2と同じ数値を、小数点なしで、カンマ「,」で区切って、data2.csvというファイル名で出力する\n",
    "# 上記のような設定で、pysrc フォルダのdataフォルダに data2.csv が保存される"
   ]
  },
  {
   "cell_type": "code",
   "execution_count": 8,
   "metadata": {},
   "outputs": [],
   "source": [
    "# step 3 step1で作成したdata1.csvのファイルを読み込み、それを変数data1に代入\n",
    "data1 = np.loadtxt(\n",
    "    fname='data//data1.csv', # ファイルパスの設定\n",
    "    dtype='int', # 読み込む際に整数型を指定\n",
    "    delimiter=',', # 区切り文字\n",
    "    encoding ='utf-8') # 文字コードの指定\n",
    "# コンピュータ上のpysrcフォルダにある、dataフォルダ内のdata1.csv を読み込み、その数値（二次元配列）を変数data1として扱う\n",
    "# この時点でファイルを書き込み、そのファイルを読み込む操作ができるようになっている\n",
    "\n",
    "# step 4 step2で作成したdata2.csvのファイルを読み込み、それを変数data2に代入\n",
    "data2 = np.loadtxt(\n",
    "    fname='data//data2.csv', # ファイルパスの設定\n",
    "    dtype='int', # 読み込む際に整数型を指定\n",
    "    delimiter=',', # 区切り文字\n",
    "    encoding ='utf-8') # 文字コードの指定\n",
    "# コンピュータ上のpysrcフォルダにある、dataフォルダ内のdata2.csv を読み込み、その数値（二次元配列）を変数data2として扱う"
   ]
  },
  {
   "cell_type": "code",
   "execution_count": 9,
   "metadata": {},
   "outputs": [
    {
     "name": "stdout",
     "output_type": "stream",
     "text": [
      "[[20 22 24 26 28]\n",
      " [30 32 34 36 38]\n",
      " [40 42 44 46 48]\n",
      " [50 52 54 56 58]]\n"
     ]
    }
   ],
   "source": [
    "# step 5 読み込んだdata1とdata2のそれぞれの要素を足し合わせて、変数data3とする。\n",
    "data3 = data1 + data2\n",
    "print(data3)\n",
    "# step 6 data3の数値をstep 2 や step 3 と同様な方法で、CSV形式のファイルとして出力する。\n",
    "np.savetxt(\n",
    "    fname='data//data3.csv', # 出力用のファイルパス\n",
    "    X=data3, # 出力するファイル\n",
    "    fmt='%0d', # 有効桁数の指定\n",
    "    delimiter=',') \n",
    "# このセルを実行すれば、dataフォルダに、変数data3と同じ数値を、小数点なしで、カンマ「,」で区切って、data3.csvというファイル名で出力する\n",
    "# 上記のような設定で、pysrc フォルダのdataフォルダに data3.csv が保存される\n"
   ]
  },
  {
   "cell_type": "markdown",
   "metadata": {},
   "source": [
    "# 基礎課題8.3\n",
    "\n",
    "- 問1: ファイル読み込み時にint型を指定したが、そのファイルには日本語の「あ」が含まれていたため、エラーが発生した。つまり、指定した型とは異なる文字列がファイルに含まれていることが問題である。\n",
    "- 問2: 「ファイルの先頭でUTF-8では翻訳できない0x82から始まるコードがあります」とエラーが出ている。読み込むファイルがUTF-8ではない別の文字コードで保存されていることが原因\n"
   ]
  },
  {
   "cell_type": "code",
   "execution_count": 12,
   "metadata": {},
   "outputs": [
    {
     "name": "stdout",
     "output_type": "stream",
     "text": [
      "[[1 2]\n",
      " [3 4]]\n",
      "[[1 2]\n",
      " [3 4]]\n"
     ]
    }
   ],
   "source": [
    "# 基礎課題8.4\n",
    "\n",
    "# プログラム作成前に、メモ帳などで csv ファイルを作成する\n",
    "# 1, 2,\n",
    "# 3, 4 \n",
    "# のように入力する\n",
    "# エラー not found が発生する場合は、保存したファイルu8_uft8.csvや、u8_sj.csvが\n",
    "# pysrc フォルダの data フォルダにあるかを確認\n",
    "\n",
    "#  作成したファイルを読み込む\n",
    "tmp1 = np.loadtxt(\n",
    "    fname='data//u8_uft8.csv', # ファイルパスの設定\n",
    "    dtype='int', # 読み込む際に整数型を指定\n",
    "    delimiter=',', # 区切り文字\n",
    "    encoding ='utf-8') # 文字コードの指定\n",
    "print(tmp1)\n",
    "tmp2 = np.loadtxt(\n",
    "    fname='data//u8_sj.csv', # ファイルパスの設定\n",
    "    dtype='int', # 読み込む際に整数型を指定\n",
    "    delimiter=',', # 区切り文字\n",
    "    encoding ='shift-jis') # 文字コードの指定\n",
    "print(tmp2)\n",
    "# 作成したファイルは、整数値であるため、 dtype='int' を忘れないようにすること。"
   ]
  },
  {
   "cell_type": "code",
   "execution_count": 11,
   "metadata": {},
   "outputs": [
    {
     "name": "stdout",
     "output_type": "stream",
     "text": [
      "subdirフォルダには ['sub_data1.csv', 'sub_data2.csv'] が含まれています。\n",
      "読み込むfilepass[0]は sub_data1.csv です。\n",
      "[[48. 81.  2.]\n",
      " [91. 39. 30.]\n",
      " [26. 33. 28.]]\n",
      "読み込むfilepass[1]は sub_data2.csv です。\n"
     ]
    }
   ],
   "source": [
    "# 発展課題8.5の問題\n",
    "import os, numpy as np # import の省略形\n",
    "# 既にダウンロード済みのsubdirフォルダ内のファイル、またはフォルダの一覧を取得\n",
    "filepass = os.listdir('data//subdir')\n",
    "print('subdirフォルダには', filepass, 'が含まれています。')\n",
    "# 1次元配列のようにfilepass[x]の要素番号 x を指定して、一つのファイル名を取得\n",
    "print('読み込むfilepass[0]は', filepass[0], 'です。')\n",
    "# filepass[0]のファイル名を利用したファイルパスのデータを読み込む\n",
    "data0 = np.loadtxt(fname = 'data//subdir//' + filepass[0], delimiter = ',', encoding = 'utf-8')\n",
    "print(data0) \n",
    "\n",
    "print('読み込むfilepass[1]は', filepass[1], 'です。') # 別のファイル名を指定\n",
    "\n",
    "\n",
    "# この課題では　'data//subdir//' 　を　'data//subdir'と記述するミスがみられます。\n",
    "# エラーメッセージが「OSError: data//subdirsub_data1.csv not found.」の場合は注意しましょう。\n",
    "\n",
    "# NotADirectoryError：WinError 267 ディレクトリ名が無効です。：data//subdir.zip\n",
    "# .zip は 圧縮されたファイルを示す拡張子です。ファイルを読み込む際には、圧縮されていない .csv 形式のデータを読み込む必要があります。\n",
    "# また、os.listdir 関数は、フォルダを指定することを想定しているため、具体的なファイル名を記述せずにos.listdir('data//subdir')のようにフォルダまで記述します。"
   ]
  },
  {
   "cell_type": "code",
   "execution_count": 4,
   "metadata": {},
   "outputs": [
    {
     "name": "stdout",
     "output_type": "stream",
     "text": [
      "subdirフォルダには ['sub_data1.csv', 'sub_data2.csv'] が含まれています。\n",
      "読み込むfilepass[0]は sub_data1.csv です。\n",
      "[[48. 81.  2.]\n",
      " [91. 39. 30.]\n",
      " [26. 33. 28.]]\n",
      "読み込むfilepass[1]は sub_data2.csv です。\n",
      "[[46. 71. 59.]\n",
      " [72. 90. 96.]\n",
      " [61. 29. 76.]]\n"
     ]
    }
   ],
   "source": [
    "# 発展課題8.5の解答例\n",
    "import os, numpy as np # import の省略形\n",
    "# 既にダウンロード済みのsubdirフォルダ内のファイル、またはフォルダの一覧を取得\n",
    "filepass = os.listdir('data//subdir')\n",
    "print('subdirフォルダには', filepass, 'が含まれています。')\n",
    "# 1次元配列のようにfilepass[x]の要素番号 x を指定して、一つのファイル名を取得\n",
    "print('読み込むfilepass[0]は', filepass[0], 'です。')\n",
    "# filepass[0]のファイル名を利用したファイルパスのデータを読み込む\n",
    "data0 = np.loadtxt(fname = 'data//subdir//' + filepass[0], delimiter = ',', encoding = 'utf-8')\n",
    "print(data0) \n",
    "\n",
    "print('読み込むfilepass[1]は', filepass[1], 'です。') # 別のファイル名を指定\n",
    "\n",
    "data1 = np.loadtxt(fname='data//subdir//' + filepass[1], delimiter=',', encoding ='utf-8')\n",
    "print(data1)"
   ]
  },
  {
   "cell_type": "markdown",
   "metadata": {},
   "source": [
    "# 絶対パス\n",
    "\n",
    "- sub_data1.csvの絶対パスは、c://pysrc//data//subdir//sub_data1.csv です。\n",
    "- sub_data2.csvの絶対パスは、c://pysrc//data//subdir//sub_data2.csv です。\n"
   ]
  }
 ],
 "metadata": {
  "kernelspec": {
   "display_name": "Python 3 (ipykernel)",
   "language": "python",
   "name": "python3"
  },
  "language_info": {
   "codemirror_mode": {
    "name": "ipython",
    "version": 3
   },
   "file_extension": ".py",
   "mimetype": "text/x-python",
   "name": "python",
   "nbconvert_exporter": "python",
   "pygments_lexer": "ipython3",
   "version": "3.9.7"
  }
 },
 "nbformat": 4,
 "nbformat_minor": 4
}
