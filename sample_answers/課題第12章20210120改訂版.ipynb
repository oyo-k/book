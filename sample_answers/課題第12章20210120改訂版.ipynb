{
 "cells": [
  {
   "cell_type": "markdown",
   "metadata": {},
   "source": [
    "# 基礎課題12.1\n",
    "NaNはデータフレーム同士のカラムの数またはインデックス数が一致していないために、発生する"
   ]
  },
  {
   "cell_type": "code",
   "execution_count": 1,
   "metadata": {},
   "outputs": [
    {
     "name": "stdout",
     "output_type": "stream",
     "text": [
      "    a   b   c   d   e   f\n",
      "1   0   1   2   3   4   5\n",
      "2   6   7   8   9  10  11\n",
      "3  12  13  14  15  16  17\n",
      "4  18  19  20  21  22  23\n",
      "a    36\n",
      "b    40\n",
      "c    44\n",
      "d    48\n",
      "e    52\n",
      "f    56\n",
      "dtype: int64\n",
      "a     9.0\n",
      "b    10.0\n",
      "c    11.0\n",
      "d    12.0\n",
      "e    13.0\n",
      "f    14.0\n",
      "dtype: float64\n",
      "    a   b   c   d   e   f\n",
      "1   0   1   2   3   4   5\n",
      "2   6   8  10  12  14  16\n",
      "3  18  21  24  27  30  33\n",
      "4  36  40  44  48  52  56\n",
      "a    4\n",
      "b    4\n",
      "c    4\n",
      "d    4\n",
      "e    4\n",
      "f    4\n",
      "dtype: int64\n",
      "a    1\n",
      "b    1\n",
      "c    1\n",
      "d    1\n",
      "e    1\n",
      "f    1\n",
      "dtype: int64\n",
      "               a          b          c          d          e          f\n",
      "count   4.000000   4.000000   4.000000   4.000000   4.000000   4.000000\n",
      "mean    9.000000  10.000000  11.000000  12.000000  13.000000  14.000000\n",
      "std     7.745967   7.745967   7.745967   7.745967   7.745967   7.745967\n",
      "min     0.000000   1.000000   2.000000   3.000000   4.000000   5.000000\n",
      "25%     4.500000   5.500000   6.500000   7.500000   8.500000   9.500000\n",
      "50%     9.000000  10.000000  11.000000  12.000000  13.000000  14.000000\n",
      "75%    13.500000  14.500000  15.500000  16.500000  17.500000  18.500000\n",
      "max    18.000000  19.000000  20.000000  21.000000  22.000000  23.000000\n"
     ]
    }
   ],
   "source": [
    "# 基礎課題10.2\n",
    "import numpy as np\n",
    "import pandas as pd \n",
    "df_data = pd.DataFrame(\n",
    "    {'a': np.arange(0,19,6),\n",
    "     'b': np.arange(1,20,6),\n",
    "     'c': np.arange(2,21,6),\n",
    "     'd': np.arange(3,22,6),\n",
    "     'e': np.arange(4,23,6),\n",
    "     'f': np.arange(5,24,6)},\n",
    "    index = [1,2,3,4])\n",
    "print(df_data)\n",
    "print(df_data.sum())\n",
    "print(df_data.mean())\n",
    "print(df_data.cumsum())\n",
    "print(df_data.idxmax())\n",
    "print(df_data.idxmin())\n",
    "print(df_data.describe())"
   ]
  },
  {
   "cell_type": "markdown",
   "metadata": {},
   "source": [
    "# 基礎課題12.3\n",
    "本文を参照やサンプルプログラムを参考にすること"
   ]
  },
  {
   "cell_type": "code",
   "execution_count": 2,
   "metadata": {},
   "outputs": [
    {
     "name": "stdout",
     "output_type": "stream",
     "text": [
      "       1      2      3     4     5\n",
      "ID                                \n",
      "A  -33.0   16.0   20.0  21.0  -1.0\n",
      "B   -7.0   65.0  -14.0 -42.0 -10.0\n",
      "C   -5.0 -109.0  -63.0  -5.0 -80.0\n",
      "D  -65.0  -60.0  -92.0 -26.0 -95.0\n",
      "E  -30.0  -99.0 -194.0 -96.0 -66.0\n"
     ]
    }
   ],
   "source": [
    "# 発展課題12.4\n",
    "import pandas as pd\n",
    "dfA = pd.read_csv('data//dataA.csv', index_col = 'ID')\n",
    "dfB = pd.read_csv('data//dataB.csv', index_col = 'ID')\n",
    "dfC = pd.read_csv('data//dataC.csv', index_col = 'ID')\n",
    "dfA = dfA.sub(dfB, fill_value = 0)\n",
    "dfA = dfA.sub(dfC, fill_value = 0)\n",
    "print(dfA)"
   ]
  },
  {
   "cell_type": "code",
   "execution_count": 3,
   "metadata": {},
   "outputs": [
    {
     "name": "stdout",
     "output_type": "stream",
     "text": [
      "      1       2         3    4    5\n",
      "ID                                 \n",
      "A   0.0  6900.0   81780.0  0.0  0.0\n",
      "B   0.0  4140.0  226238.0  0.0  0.0\n",
      "C   0.0     0.0       0.0  0.0  0.0\n",
      "D   0.0     0.0       0.0  0.0  0.0\n",
      "E   0.0     0.0       0.0  0.0  0.0\n"
     ]
    }
   ],
   "source": [
    "# 発展課題10.2\n",
    "import pandas as pd \n",
    "dfA = pd.read_csv('data//dataA.csv',index_col='ID')\n",
    "dfB = pd.read_csv('data//dataB.csv',index_col='ID')\n",
    "dfC = pd.read_csv('data//dataC.csv',index_col='ID')\n",
    "\n",
    "dfA = dfA.mul(dfB, fill_value=0)\n",
    "dfA = dfA.mul(dfC, fill_value=0)\n",
    "print(dfA)"
   ]
  },
  {
   "cell_type": "code",
   "execution_count": null,
   "metadata": {},
   "outputs": [],
   "source": []
  },
  {
   "cell_type": "code",
   "execution_count": null,
   "metadata": {},
   "outputs": [],
   "source": []
  },
  {
   "cell_type": "code",
   "execution_count": null,
   "metadata": {},
   "outputs": [],
   "source": []
  },
  {
   "cell_type": "code",
   "execution_count": null,
   "metadata": {},
   "outputs": [],
   "source": []
  },
  {
   "cell_type": "code",
   "execution_count": null,
   "metadata": {},
   "outputs": [],
   "source": []
  }
 ],
 "metadata": {
  "kernelspec": {
   "display_name": "Python 3 (ipykernel)",
   "language": "python",
   "name": "python3"
  },
  "language_info": {
   "codemirror_mode": {
    "name": "ipython",
    "version": 3
   },
   "file_extension": ".py",
   "mimetype": "text/x-python",
   "name": "python",
   "nbconvert_exporter": "python",
   "pygments_lexer": "ipython3",
   "version": "3.9.7"
  }
 },
 "nbformat": 4,
 "nbformat_minor": 4
}
