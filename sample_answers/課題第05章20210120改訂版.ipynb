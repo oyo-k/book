{
 "cells": [
  {
   "cell_type": "code",
   "execution_count": 2,
   "metadata": {},
   "outputs": [
    {
     "name": "stdout",
     "output_type": "stream",
     "text": [
      "16\n",
      "10\n",
      "39\n",
      "4.333333333333333\n",
      "1\n",
      "2197\n"
     ]
    }
   ],
   "source": [
    "# 基礎課題5.1\n",
    "# step1 \n",
    "x = 13\n",
    "y = 3\n",
    "# step2 \n",
    "x1 = x + y # 加算\n",
    "x2 = x - y # 減算\n",
    "x3 = x * y # 乗算\n",
    "x4 = x / y # 除算\n",
    "x5 = x % y # 剰余\n",
    "x6 = x ** y # 累乗\n",
    "# step3\n",
    "print(x1)\n",
    "print(x2)\n",
    "print(x3)\n",
    "print(x4)\n",
    "print(x5)\n",
    "print(x6)\n"
   ]
  },
  {
   "cell_type": "code",
   "execution_count": 3,
   "metadata": {},
   "outputs": [
    {
     "name": "stdout",
     "output_type": "stream",
     "text": [
      "Yamada Taro\n",
      "Yamada Taro\n",
      "Yamada Taro\n"
     ]
    }
   ],
   "source": [
    "# 基礎課題5.2\n",
    "x = 'Yamada'\n",
    "y = 'Taro'\n",
    "print(x, y) # このように記述することもできるが、加算していないため不正解\n",
    "print(x + ' ' + y) # 別解1\n",
    "\n",
    "# 別解2\n",
    "tmp = x + ' ' +  y\n",
    "print(tmp)"
   ]
  },
  {
   "cell_type": "code",
   "execution_count": 4,
   "metadata": {},
   "outputs": [
    {
     "ename": "SyntaxError",
     "evalue": "cannot assign to operator (3864921370.py, line 2)",
     "output_type": "error",
     "traceback": [
      "\u001b[0;36m  File \u001b[0;32m\"/var/folders/9k/5x5mqwkj73sgxyc9b_q6sg8c0000gn/T/ipykernel_5114/3864921370.py\"\u001b[0;36m, line \u001b[0;32m2\u001b[0m\n\u001b[0;31m    10 * 10 = data\u001b[0m\n\u001b[0m    ^\u001b[0m\n\u001b[0;31mSyntaxError\u001b[0m\u001b[0;31m:\u001b[0m cannot assign to operator\n"
     ]
    }
   ],
   "source": [
    "# 基礎課題5.3\n",
    "10 * 10 = data\n",
    "# SyntaxErrorが起きる理由\n",
    "## 本来は 10 × 10 の計算結果を変数 data に代入することを意図してプログラムを作成していた。\n",
    "## しかし、代入の構文から逸脱したためエラーが発生した。\n",
    "## 正しくは data = 10 * 10 と記述する\n",
    "##  10 * 10 = の場合は SyntaxError: invalid syntax (無効な構文)\n",
    "##  10 * 10 = 10 の場合は　SyntaxError: 　can't assign to operator　"
   ]
  },
  {
   "cell_type": "code",
   "execution_count": 5,
   "metadata": {},
   "outputs": [
    {
     "name": "stdout",
     "output_type": "stream",
     "text": [
      "100\n"
     ]
    }
   ],
   "source": [
    "data = 10 * 10\n",
    "print(data)"
   ]
  },
  {
   "cell_type": "code",
   "execution_count": 6,
   "metadata": {},
   "outputs": [
    {
     "ename": "TypeError",
     "evalue": "unsupported operand type(s) for +: 'int' and 'str'",
     "output_type": "error",
     "traceback": [
      "\u001b[0;31m---------------------------------------------------------------------------\u001b[0m",
      "\u001b[0;31mTypeError\u001b[0m                                 Traceback (most recent call last)",
      "\u001b[0;32m/var/folders/9k/5x5mqwkj73sgxyc9b_q6sg8c0000gn/T/ipykernel_5114/2007845738.py\u001b[0m in \u001b[0;36m<module>\u001b[0;34m\u001b[0m\n\u001b[1;32m      1\u001b[0m \u001b[0;31m# 基礎課題5.4\u001b[0m\u001b[0;34m\u001b[0m\u001b[0;34m\u001b[0m\u001b[0m\n\u001b[0;32m----> 2\u001b[0;31m \u001b[0;36m30\u001b[0m \u001b[0;34m+\u001b[0m \u001b[0;34m'40'\u001b[0m\u001b[0;34m\u001b[0m\u001b[0;34m\u001b[0m\u001b[0m\n\u001b[0m\u001b[1;32m      3\u001b[0m \u001b[0;34m\u001b[0m\u001b[0m\n\u001b[1;32m      4\u001b[0m \u001b[0;31m# 異なる型同士は、例外を除き演算することができない。\u001b[0m\u001b[0;34m\u001b[0m\u001b[0;34m\u001b[0m\u001b[0m\n\u001b[1;32m      5\u001b[0m \u001b[0;31m# 実行結果を70にするためには、30 + 40 と整数型同士の演算が必要。\u001b[0m\u001b[0;34m\u001b[0m\u001b[0;34m\u001b[0m\u001b[0m\n",
      "\u001b[0;31mTypeError\u001b[0m: unsupported operand type(s) for +: 'int' and 'str'"
     ]
    }
   ],
   "source": [
    "# 基礎課題5.4\n",
    "30 + '40'\n",
    "\n",
    "# 異なる型同士は、例外を除き演算することができない。\n",
    "# 実行結果を70にするためには、30 + 40 と整数型同士の演算が必要。"
   ]
  },
  {
   "cell_type": "code",
   "execution_count": 7,
   "metadata": {},
   "outputs": [
    {
     "data": {
      "text/plain": [
       "70"
      ]
     },
     "execution_count": 7,
     "metadata": {},
     "output_type": "execute_result"
    }
   ],
   "source": [
    "30 + int('40') # 数値 として演算すれば良いので、文字列'40'を整数型に変換する"
   ]
  },
  {
   "cell_type": "code",
   "execution_count": 8,
   "metadata": {},
   "outputs": [
    {
     "data": {
      "text/plain": [
       "'3040'"
      ]
     },
     "execution_count": 8,
     "metadata": {},
     "output_type": "execute_result"
    }
   ],
   "source": [
    "#  上とは逆に、30を文字列にすると、数値同士の足し算ではないため、文字列として結合される\n",
    "str(30) + '40'"
   ]
  },
  {
   "cell_type": "code",
   "execution_count": 9,
   "metadata": {},
   "outputs": [
    {
     "name": "stdout",
     "output_type": "stream",
     "text": [
      "変更前 10 100\n",
      "変更後 100 10\n"
     ]
    }
   ],
   "source": [
    "# 基礎課題 5.5\n",
    "x = 10\n",
    "y = 100\n",
    "print('変更前',x,y)\n",
    "tmp = x\n",
    "x = y\n",
    "y = tmp\n",
    "print('変更後',x,y)"
   ]
  },
  {
   "cell_type": "code",
   "execution_count": 10,
   "metadata": {},
   "outputs": [],
   "source": [
    "# 発展課題 5.6\n",
    "# 本書の図を利用して絵を描くこと"
   ]
  },
  {
   "cell_type": "code",
   "execution_count": 11,
   "metadata": {},
   "outputs": [
    {
     "name": "stdout",
     "output_type": "stream",
     "text": [
      "300 100 200\n"
     ]
    }
   ],
   "source": [
    "# 発展課題 5.7\n",
    "x = 100\n",
    "y = 200\n",
    "z = 300\n",
    "\n",
    "tmp = x\n",
    "x = z\n",
    "z = y\n",
    "y = tmp\n",
    "\n",
    "print(x, y, z)"
   ]
  },
  {
   "cell_type": "code",
   "execution_count": 13,
   "metadata": {},
   "outputs": [
    {
     "name": "stdout",
     "output_type": "stream",
     "text": [
      "300 100 200\n"
     ]
    }
   ],
   "source": [
    "# よくある誤答例\n",
    "x = 100\n",
    "y = 200\n",
    "z = 300\n",
    "\n",
    "x = 300\n",
    "y = 100\n",
    "z = 200\n",
    "\n",
    "print(x, y, z)"
   ]
  },
  {
   "cell_type": "code",
   "execution_count": 12,
   "metadata": {},
   "outputs": [
    {
     "name": "stdout",
     "output_type": "stream",
     "text": [
      "摩擦係数 0.7 としたとき、\n",
      "時速 60 kmの車はブレーキを踏んでから 20.247469066366705 m走ります。\n"
     ]
    }
   ],
   "source": [
    "# 発展課題 5.8\n",
    "k = 60 # 時速の設定\n",
    "masatu = 0.7 # 摩擦係数の設定\n",
    "kyori = k ** 2 / (254 * masatu) # 停止距離の計算\n",
    "print('摩擦係数', masatu, 'としたとき、')\n",
    "print('時速', k, 'kmの車はブレーキを踏んでから', kyori, 'm走ります。')\n",
    "\n",
    "# 様々な時速の停止距離を求める際に、時速の変数kの値を変えれば、時速ごとの停止距離を求めることができる\n",
    "# 変数masatuは、道路の状況により変化するため、その状況に合わせた摩擦係数を設定して計算できる。"
   ]
  },
  {
   "cell_type": "code",
   "execution_count": 13,
   "metadata": {},
   "outputs": [
    {
     "name": "stdout",
     "output_type": "stream",
     "text": [
      "310 秒は 5.0 分 10 秒です\n"
     ]
    }
   ],
   "source": [
    "# 発展課題 5.9\n",
    "time = 310 # 計算対象の秒数\n",
    "second = time % 60 # time から秒を計算\n",
    "minute = (time - time % 60) / 60 # second を使い、分を計算\n",
    "print(time, '秒は', minute, '分', second, '秒です') "
   ]
  },
  {
   "cell_type": "code",
   "execution_count": 16,
   "metadata": {},
   "outputs": [],
   "source": [
    "# 発展課題 5.10 (解答例)\n",
    "\n",
    "from turtle import *\n",
    "shape('turtle')\n",
    "speed(0) # 亀の移動が早すぎる場合はspeed(10)と変更\n",
    "circle_size = 50 # 円の半径\n",
    "left_dis = 50 # 亀の方向転換の角度\n",
    "pencolor('green') # 色の指定\n",
    "circle(circle_size) # 1\n",
    "left(left_dis) \n",
    "circle(circle_size) # 2\n",
    "left(left_dis) \n",
    "circle(circle_size) # 3\n",
    "left(left_dis) \n",
    "circle(circle_size) # 4\n",
    "left(left_dis) \n",
    "circle(circle_size) # 5\n",
    "left(left_dis) \n",
    "circle(circle_size) # 6\n",
    "left(left_dis) \n",
    "circle(circle_size) # 7\n",
    "left(left_dis) \n",
    "circle(circle_size) # 8\n",
    "left(left_dis) \n",
    "circle(circle_size) # 9 \n",
    "left(left_dis) \n",
    "circle(circle_size) # 10\n",
    "left(left_dis) \n",
    "circle(circle_size) # 11\n",
    "left(left_dis) \n",
    "circle(circle_size) # 12\n",
    "left(left_dis) \n",
    "circle(circle_size) # 13\n",
    "left(left_dis) \n",
    "circle(circle_size) # 14\n",
    "left(left_dis) \n",
    "done()"
   ]
  },
  {
   "cell_type": "code",
   "execution_count": 18,
   "metadata": {},
   "outputs": [],
   "source": [
    "# 発展課題 5.10 (変数の値を100にした場合)\n",
    "\n",
    "from turtle import *\n",
    "shape('turtle')\n",
    "speed(0) # 亀の移動が早すぎる場合はspeed(10)と変更\n",
    "circle_size = 100 # 円の半径\n",
    "left_dis = 100 # 亀の方向転換の角度\n",
    "pencolor('green') # 色の指定\n",
    "circle(circle_size) # 1\n",
    "left(left_dis) \n",
    "circle(circle_size) # 2\n",
    "left(left_dis) \n",
    "circle(circle_size) # 3\n",
    "left(left_dis) \n",
    "circle(circle_size) # 4\n",
    "left(left_dis) \n",
    "circle(circle_size) # 5\n",
    "left(left_dis) \n",
    "circle(circle_size) # 6\n",
    "left(left_dis) \n",
    "circle(circle_size) # 7\n",
    "left(left_dis) \n",
    "circle(circle_size) # 8\n",
    "left(left_dis) \n",
    "circle(circle_size) # 9 \n",
    "left(left_dis) \n",
    "circle(circle_size) # 10\n",
    "left(left_dis) \n",
    "circle(circle_size) # 11\n",
    "left(left_dis) \n",
    "circle(circle_size) # 12\n",
    "left(left_dis) \n",
    "circle(circle_size) # 13\n",
    "left(left_dis) \n",
    "circle(circle_size) # 14\n",
    "left(left_dis) \n",
    "done()"
   ]
  },
  {
   "cell_type": "markdown",
   "metadata": {},
   "source": [
    "# 発展課題5.11\n",
    "\n",
    "circle(circle_size)とleft(left_dis)を何度も利用しているため、それらの命令を何度も書かなくても良いような命令があれば、プログラムを簡単に書くことができる。"
   ]
  }
 ],
 "metadata": {
  "kernelspec": {
   "display_name": "Python 3 (ipykernel)",
   "language": "python",
   "name": "python3"
  },
  "language_info": {
   "codemirror_mode": {
    "name": "ipython",
    "version": 3
   },
   "file_extension": ".py",
   "mimetype": "text/x-python",
   "name": "python",
   "nbconvert_exporter": "python",
   "pygments_lexer": "ipython3",
   "version": "3.9.7"
  }
 },
 "nbformat": 4,
 "nbformat_minor": 4
}
