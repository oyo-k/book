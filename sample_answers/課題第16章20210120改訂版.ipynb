{
 "cells": [
  {
   "cell_type": "code",
   "execution_count": 1,
   "id": "77bca81d",
   "metadata": {},
   "outputs": [
    {
     "name": "stdout",
     "output_type": "stream",
     "text": [
      "[[ 1.  2.  3.  4.  5.  6.  7.  8.  9.]\n",
      " [ 2.  4.  6.  8. 10. 12. 14. 16. 18.]\n",
      " [ 3.  6.  9. 12. 15. 18. 21. 24. 27.]\n",
      " [ 4.  8. 12. 16. 20. 24. 28. 32. 36.]\n",
      " [ 5. 10. 15. 20. 25. 30. 35. 40. 45.]\n",
      " [ 6. 12. 18. 24. 30. 36. 42. 48. 54.]\n",
      " [ 7. 14. 21. 28. 35. 42. 49. 56. 63.]\n",
      " [ 8. 16. 24. 32. 40. 48. 56. 64. 72.]\n",
      " [ 9. 18. 27. 36. 45. 54. 63. 72. 81.]]\n"
     ]
    }
   ],
   "source": [
    "# 基礎課題16.1\n",
    "import numpy as np\n",
    "d = np.ones((9, 9))\n",
    "for i in np.arange(1, 10):\n",
    "    for j in np.arange(1, 10):\n",
    "        d[i - 1, j - 1] = i *  j\n",
    "print(d)"
   ]
  },
  {
   "cell_type": "code",
   "execution_count": 2,
   "id": "abf54011",
   "metadata": {},
   "outputs": [
    {
     "name": "stdout",
     "output_type": "stream",
     "text": [
      "globの結果: ['data//subset/2008y_seiseki_5s_g.csv', 'data//subset/2014y_seiseki_5s_g.csv', 'data//subset/2011y_seiseki_5s_g.csv', 'data//subset/2009y_seiseki_5s_g.csv', 'data//subset/2015y_seiseki_5s_g.csv', 'data//subset/1999y_seiseki_5s_g.csv', 'data//subset/2010y_seiseki_5s_g.csv', 'data//subset/2016y_seiseki_5s_g.csv', 'data//subset/2013y_seiseki_5s_g.csv', 'data//subset/2017y_seiseki_5s_g.csv', 'data//subset/2012y_seiseki_5s_g.csv', 'data//subset/2007y_seiseki_5s_g.csv', 'data//subset/2002y_seiseki_5s_g.csv', 'data//subset/2006y_seiseki_5s_g.csv', 'data//subset/2003y_seiseki_5s_g.csv', 'data//subset/2005y_seiseki_5s_g.csv', 'data//subset/2019y_seiseki_5s_g.csv', 'data//subset/2000y_seiseki_5s_g.csv', 'data//subset/2004y_seiseki_5s_g.csv', 'data//subset/2018y_seiseki_5s_g.csv', 'data//subset/2001y_seiseki_5s_g.csv']\n",
      "data//subset/2008y_seiseki_5s_g.csv の読み込み準備・・・読み込み終了\n",
      "data//subset/2008y_seiseki_5s_g.csv の成績評価開始・・・成績評価終了\n",
      "data//subset_h//2008y_seiseki_5s_g.csv への書き込み開始・・・書き込み終了\n",
      "data//subset/2014y_seiseki_5s_g.csv の読み込み準備・・・読み込み終了\n",
      "data//subset/2014y_seiseki_5s_g.csv の成績評価開始・・・成績評価終了\n",
      "data//subset_h//2014y_seiseki_5s_g.csv への書き込み開始・・・書き込み終了\n",
      "data//subset/2011y_seiseki_5s_g.csv の読み込み準備・・・読み込み終了\n",
      "data//subset/2011y_seiseki_5s_g.csv の成績評価開始・・・成績評価終了\n",
      "data//subset_h//2011y_seiseki_5s_g.csv への書き込み開始・・・書き込み終了\n",
      "data//subset/2009y_seiseki_5s_g.csv の読み込み準備・・・読み込み終了\n",
      "data//subset/2009y_seiseki_5s_g.csv の成績評価開始・・・成績評価終了\n",
      "data//subset_h//2009y_seiseki_5s_g.csv への書き込み開始・・・書き込み終了\n",
      "data//subset/2015y_seiseki_5s_g.csv の読み込み準備・・・読み込み終了\n",
      "data//subset/2015y_seiseki_5s_g.csv の成績評価開始・・・成績評価終了\n",
      "data//subset_h//2015y_seiseki_5s_g.csv への書き込み開始・・・書き込み終了\n",
      "data//subset/1999y_seiseki_5s_g.csv の読み込み準備・・・読み込み終了\n",
      "data//subset/1999y_seiseki_5s_g.csv の成績評価開始・・・成績評価終了\n",
      "data//subset_h//1999y_seiseki_5s_g.csv への書き込み開始・・・書き込み終了\n",
      "data//subset/2010y_seiseki_5s_g.csv の読み込み準備・・・読み込み終了\n",
      "data//subset/2010y_seiseki_5s_g.csv の成績評価開始・・・成績評価終了\n",
      "data//subset_h//2010y_seiseki_5s_g.csv への書き込み開始・・・書き込み終了\n",
      "data//subset/2016y_seiseki_5s_g.csv の読み込み準備・・・読み込み終了\n",
      "data//subset/2016y_seiseki_5s_g.csv の成績評価開始・・・成績評価終了\n",
      "data//subset_h//2016y_seiseki_5s_g.csv への書き込み開始・・・書き込み終了\n",
      "data//subset/2013y_seiseki_5s_g.csv の読み込み準備・・・読み込み終了\n",
      "data//subset/2013y_seiseki_5s_g.csv の成績評価開始・・・成績評価終了\n",
      "data//subset_h//2013y_seiseki_5s_g.csv への書き込み開始・・・書き込み終了\n",
      "data//subset/2017y_seiseki_5s_g.csv の読み込み準備・・・読み込み終了\n",
      "data//subset/2017y_seiseki_5s_g.csv の成績評価開始・・・成績評価終了\n",
      "data//subset_h//2017y_seiseki_5s_g.csv への書き込み開始・・・書き込み終了\n",
      "data//subset/2012y_seiseki_5s_g.csv の読み込み準備・・・読み込み終了\n",
      "data//subset/2012y_seiseki_5s_g.csv の成績評価開始・・・成績評価終了\n",
      "data//subset_h//2012y_seiseki_5s_g.csv への書き込み開始・・・書き込み終了\n",
      "data//subset/2007y_seiseki_5s_g.csv の読み込み準備・・・読み込み終了\n",
      "data//subset/2007y_seiseki_5s_g.csv の成績評価開始・・・成績評価終了\n",
      "data//subset_h//2007y_seiseki_5s_g.csv への書き込み開始・・・書き込み終了\n",
      "data//subset/2002y_seiseki_5s_g.csv の読み込み準備・・・読み込み終了\n",
      "data//subset/2002y_seiseki_5s_g.csv の成績評価開始・・・成績評価終了\n",
      "data//subset_h//2002y_seiseki_5s_g.csv への書き込み開始・・・書き込み終了\n",
      "data//subset/2006y_seiseki_5s_g.csv の読み込み準備・・・読み込み終了\n",
      "data//subset/2006y_seiseki_5s_g.csv の成績評価開始・・・成績評価終了\n",
      "data//subset_h//2006y_seiseki_5s_g.csv への書き込み開始・・・書き込み終了\n",
      "data//subset/2003y_seiseki_5s_g.csv の読み込み準備・・・読み込み終了\n",
      "data//subset/2003y_seiseki_5s_g.csv の成績評価開始・・・成績評価終了\n",
      "data//subset_h//2003y_seiseki_5s_g.csv への書き込み開始・・・書き込み終了\n",
      "data//subset/2005y_seiseki_5s_g.csv の読み込み準備・・・読み込み終了\n",
      "data//subset/2005y_seiseki_5s_g.csv の成績評価開始・・・成績評価終了\n",
      "data//subset_h//2005y_seiseki_5s_g.csv への書き込み開始・・・書き込み終了\n",
      "data//subset/2019y_seiseki_5s_g.csv の読み込み準備・・・読み込み終了\n",
      "data//subset/2019y_seiseki_5s_g.csv の成績評価開始・・・成績評価終了\n",
      "data//subset_h//2019y_seiseki_5s_g.csv への書き込み開始・・・書き込み終了\n",
      "data//subset/2000y_seiseki_5s_g.csv の読み込み準備・・・読み込み終了\n",
      "data//subset/2000y_seiseki_5s_g.csv の成績評価開始・・・成績評価終了\n",
      "data//subset_h//2000y_seiseki_5s_g.csv への書き込み開始・・・書き込み終了\n",
      "data//subset/2004y_seiseki_5s_g.csv の読み込み準備・・・読み込み終了\n",
      "data//subset/2004y_seiseki_5s_g.csv の成績評価開始・・・成績評価終了\n",
      "data//subset_h//2004y_seiseki_5s_g.csv への書き込み開始・・・書き込み終了\n",
      "data//subset/2018y_seiseki_5s_g.csv の読み込み準備・・・読み込み終了\n",
      "data//subset/2018y_seiseki_5s_g.csv の成績評価開始・・・成績評価終了\n",
      "data//subset_h//2018y_seiseki_5s_g.csv への書き込み開始・・・書き込み終了\n",
      "data//subset/2001y_seiseki_5s_g.csv の読み込み準備・・・読み込み終了\n",
      "data//subset/2001y_seiseki_5s_g.csv の成績評価開始・・・成績評価終了\n",
      "data//subset_h//2001y_seiseki_5s_g.csv への書き込み開始・・・書き込み終了\n",
      "全体の成績評価終了\n"
     ]
    }
   ],
   "source": [
    "import pandas as pd\n",
    "import os\n",
    "import glob\n",
    "sfs = glob.glob('data//subset//*.csv') # subsetフォルダからcsvファイル名の一覧を取得\n",
    "print('globの結果:', sfs) # csvのファオル名一覧を出力\n",
    "for sf in sfs: # ファイル名を変えながらファイル一つ一つを読み込むループ\n",
    "    print(sf, 'の読み込み準備', end = '・・・') # sfには相対パスを格納済み\n",
    "    data = pd.read_csv(sf, index_col = 0) # sfのファイルパスを利用してcsvの読み込み\n",
    "    print('読み込み終了')\n",
    "    print(sf, 'の成績評価開始', end = '・・・')\n",
    "    for sid in data.index: # 成績を判定するループ\n",
    "        data.loc[sid, '合計'] = data.loc[sid, '国語':'社会'].sum() # 合計を計算\n",
    "        if data.loc[sid, '合計'] >= 300: # 300点以上の場合\n",
    "            data.loc[sid, '判定'] = '合格'\n",
    "        else: # それ以外の場合\n",
    "            data.loc[sid, '判定'] = '不合格'\n",
    "    print('成績評価終了')\n",
    "    # os.path.splitはファイルパス分割し、[1]にはファイル名だけ抽出されている\n",
    "    fname = 'data//subset_h//' + os.path.split(sf)[1] # 保存先フォルダを変更する工夫\n",
    "    print(fname, 'への書き込み開始', end = '・・・')\n",
    "    data.to_csv(fname, index = True)\n",
    "    print('書き込み終了')\n",
    "print('全体の成績評価終了')"
   ]
  }
 ],
 "metadata": {
  "kernelspec": {
   "display_name": "Python 3 (ipykernel)",
   "language": "python",
   "name": "python3"
  },
  "language_info": {
   "codemirror_mode": {
    "name": "ipython",
    "version": 3
   },
   "file_extension": ".py",
   "mimetype": "text/x-python",
   "name": "python",
   "nbconvert_exporter": "python",
   "pygments_lexer": "ipython3",
   "version": "3.9.7"
  }
 },
 "nbformat": 4,
 "nbformat_minor": 5
}
