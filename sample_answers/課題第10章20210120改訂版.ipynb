{
 "cells": [
  {
   "cell_type": "code",
   "execution_count": 2,
   "id": "bd0d5f8b",
   "metadata": {},
   "outputs": [
    {
     "ename": "SyntaxError",
     "evalue": "invalid syntax (675161048.py, line 5)",
     "output_type": "error",
     "traceback": [
      "\u001b[0;36m  File \u001b[0;32m\"/var/folders/9k/5x5mqwkj73sgxyc9b_q6sg8c0000gn/T/ipykernel_965/675161048.py\"\u001b[0;36m, line \u001b[0;32m5\u001b[0m\n\u001b[0;31m    for kaisuu in np.arange(3) # [0, 1, 2]のため3回繰り返す\u001b[0m\n\u001b[0m                               ^\u001b[0m\n\u001b[0;31mSyntaxError\u001b[0m\u001b[0;31m:\u001b[0m invalid syntax\n"
     ]
    }
   ],
   "source": [
    "# 基礎課題10.1の手順1\n",
    "# この問題では、「:」を削除したため、エラーが発生します。\n",
    "\n",
    "import numpy as np \n",
    "for kaisuu in np.arange(3) # [0, 1, 2]のため3回繰り返す\n",
    "    print('飛') # 回数のカウントは 0 からに注意"
   ]
  },
  {
   "cell_type": "code",
   "execution_count": 3,
   "id": "7f31fdbb",
   "metadata": {},
   "outputs": [
    {
     "name": "stdout",
     "output_type": "stream",
     "text": [
      "飛\n",
      "飛\n",
      "飛\n"
     ]
    }
   ],
   "source": [
    "# 基礎課題10.1の手順2\n",
    "# 削除した「:」をもとに戻したため、エラーが解消し、'飛'を三回出力します。\n",
    "import numpy as np \n",
    "for kaisuu in np.arange(3): # [0, 1, 2]のため3回繰り返す\n",
    "    print('飛') # 回数のカウントは 0 からに注意"
   ]
  },
  {
   "cell_type": "code",
   "execution_count": 4,
   "id": "14161421",
   "metadata": {},
   "outputs": [
    {
     "ename": "IndentationError",
     "evalue": "expected an indented block (3715339438.py, line 5)",
     "output_type": "error",
     "traceback": [
      "\u001b[0;36m  File \u001b[0;32m\"/var/folders/9k/5x5mqwkj73sgxyc9b_q6sg8c0000gn/T/ipykernel_965/3715339438.py\"\u001b[0;36m, line \u001b[0;32m5\u001b[0m\n\u001b[0;31m    print('飛') # 回数のカウントは 0 からに注意\u001b[0m\n\u001b[0m    ^\u001b[0m\n\u001b[0;31mIndentationError\u001b[0m\u001b[0;31m:\u001b[0m expected an indented block\n"
     ]
    }
   ],
   "source": [
    "# 基礎課題10.1の手順3\n",
    "\n",
    "import numpy as np \n",
    "for kaisuu in np.arange(3): # [0, 1, 2]のため3回繰り返す\n",
    "print('飛') # 回数のカウントは 0 からに注意\n",
    "\n",
    "# print('飛')の前のTabキーにより挿入されたインデントを削除したため、\n",
    "# エラーが発生します。このエラーを解消するためには、\n",
    "# print('飛')の前にTabキーによりインデントを挿入します。"
   ]
  },
  {
   "cell_type": "code",
   "execution_count": 4,
   "id": "51e97999",
   "metadata": {},
   "outputs": [
    {
     "name": "stdout",
     "output_type": "stream",
     "text": [
      "三の段の 3 × 1 = 3 です\n",
      "三の段の 3 × 2 = 6 です\n",
      "三の段の 3 × 3 = 9 です\n",
      "三の段の 3 × 4 = 12 です\n",
      "三の段の 3 × 5 = 15 です\n",
      "三の段の 3 × 6 = 18 です\n",
      "三の段の 3 × 7 = 21 です\n",
      "三の段の 3 × 8 = 24 です\n",
      "三の段の 3 × 9 = 27 です\n"
     ]
    }
   ],
   "source": [
    "# 基礎課題10.2\n",
    "import numpy as np\n",
    "# np.arange(1,10)の中身は\n",
    "# [1, 2, 3, 4, 5, 6, 7, 8, 9]\n",
    "for kazu in np.arange(1, 10):\n",
    "    print('三の段の 3 ×', kazu, '=', 3 * kazu, 'です') \n",
    "# 「'」が多いため、カンマ「,」やシングルクォーテーション「'」の記入忘れに注意しましょう。"
   ]
  },
  {
   "cell_type": "code",
   "execution_count": 5,
   "id": "24f942dc",
   "metadata": {},
   "outputs": [
    {
     "name": "stdout",
     "output_type": "stream",
     "text": [
      "0 回目の繰り返しのループ変数の中身は 0 です\n",
      "1 回目の繰り返しのループ変数の中身は 2 です\n",
      "2 回目の繰り返しのループ変数の中身は 4 です\n",
      "3 回目の繰り返しのループ変数の中身は 6 です\n",
      "4 回目の繰り返しのループ変数の中身は 8 です\n"
     ]
    }
   ],
   "source": [
    "# 基礎課題10.3\n",
    "j = 0\n",
    "for k in np.arange(0, 10, 2):\n",
    "    print(j, '回目の繰り返しのループ変数の中身は', k, 'です')\n",
    "    j = j + 1"
   ]
  },
  {
   "cell_type": "code",
   "execution_count": 6,
   "id": "e046e7cb",
   "metadata": {},
   "outputs": [
    {
     "name": "stdout",
     "output_type": "stream",
     "text": [
      "1 回目開始\n",
      "2 回目開始\n",
      "3 回目開始\n",
      "4 回目開始\n"
     ]
    }
   ],
   "source": [
    "# 基礎課題10.4\n",
    "from turtle import *   # プログラム開始 \n",
    "speed(1) # 亀の移動速度の設定\n",
    "for i in range(1, 5):\n",
    "    print(i,'回目開始')\n",
    "    forward(100) # 距離 100 進む\n",
    "    left(90)    # 120 度回転\n",
    "    \n",
    "done() # プログラム終了"
   ]
  },
  {
   "cell_type": "code",
   "execution_count": 1,
   "id": "9c34d815",
   "metadata": {},
   "outputs": [
    {
     "name": "stdout",
     "output_type": "stream",
     "text": [
      "1 回目開始\n",
      "2 回目開始\n",
      "3 回目開始\n",
      "4 回目開始\n",
      "5 回目開始\n"
     ]
    }
   ],
   "source": [
    "# 基礎課題10.5\n",
    "from turtle import *   # プログラム開始 \n",
    "speed(1) # 亀の移動速度の設定\n",
    "for i in range(1, 6):\n",
    "    print(i,'回目開始')\n",
    "    forward(150)\n",
    "    right(144)\n",
    "    \n",
    "done() # プログラム終了"
   ]
  },
  {
   "cell_type": "code",
   "execution_count": 3,
   "id": "48e0908d",
   "metadata": {},
   "outputs": [
    {
     "name": "stdout",
     "output_type": "stream",
     "text": [
      "1 回目開始\n",
      "2 回目開始\n",
      "3 回目開始\n",
      "4 回目開始\n",
      "5 回目開始\n"
     ]
    }
   ],
   "source": [
    "# 基礎課題10.5の別解\n",
    "from turtle import *   # プログラム開始 \n",
    "speed(1) # 亀の移動速度の設定\n",
    "for i in range(1, 6):\n",
    "    print(i,'回目開始')\n",
    "    forward(150)\n",
    "    left(144)\n",
    "    \n",
    "done() # プログラム終了"
   ]
  },
  {
   "cell_type": "code",
   "execution_count": 4,
   "id": "a5693751",
   "metadata": {},
   "outputs": [
    {
     "name": "stdout",
     "output_type": "stream",
     "text": [
      "現在の合計金額は 0 円です。\n",
      "現在の合計金額は 100 円です。\n",
      "現在の合計金額は 250 円です。\n",
      "レジ通過後の合計金額は 450 円です。\n"
     ]
    }
   ],
   "source": [
    "# 基礎課題10.6 の for 文を利用する前のプログラム\n",
    "y = 0 # 初期化: 何も購入していないときの合計金額\n",
    "print('現在の合計金額は', y, '円です。')\n",
    "y = y + 100 # 商品Aをレジ打ちする際の計算\n",
    "print('現在の合計金額は', y, '円です。')\n",
    "y = y + 150 # 商品Bをレジ打ちする際の計算\n",
    "print('現在の合計金額は', y, '円です。')\n",
    "y = y + 200 # 商品Cをレジ打ちする際の計算\n",
    "print('レジ通過後の合計金額は', y, '円です。')"
   ]
  },
  {
   "cell_type": "code",
   "execution_count": 5,
   "id": "b579afed",
   "metadata": {},
   "outputs": [
    {
     "name": "stdout",
     "output_type": "stream",
     "text": [
      "現在の合計金額は 0 円です。\n",
      "現在の合計金額は 100 円です。\n",
      "現在の合計金額は 250 円です。\n",
      "現在の合計金額は 450 円です。\n",
      "レジ通過後の合計金額は 450 円です。\n"
     ]
    }
   ],
   "source": [
    "# 基礎課題10.6 の for 文を利用するプログラム\n",
    "import numpy as np\n",
    "y = 0\n",
    "print('現在の合計金額は', y, '円です。') # 初期値は処理として分ける場合\n",
    "for nedan in np.array([100, 150, 200]):\n",
    "    y = y + nedan\n",
    "    print('現在の合計金額は', y, '円です。')\n",
    "print('レジ通過後の合計金額は', y, '円です。')"
   ]
  },
  {
   "cell_type": "code",
   "execution_count": 6,
   "id": "c2537128",
   "metadata": {},
   "outputs": [
    {
     "name": "stdout",
     "output_type": "stream",
     "text": [
      "現在の合計金額は 450 円です。\n",
      "現在の合計金額は 550 円です。\n",
      "現在の合計金額は 700 円です。\n",
      "現在の合計金額は 900 円です。\n",
      "レジ通過後の合計金額は 900 円です。\n"
     ]
    }
   ],
   "source": [
    "# 基礎課題10.6 の for 文を利用するプログラムの誤答例\n",
    "import numpy as np\n",
    "# 初期値もfor文に入れてしまうと、変数yが定義されていないためエラーが出るか、答えがおかしくなる。そのため、初期値は別とする方が良い。\n",
    "for nedan in np.array([0, 100, 150, 200]):\n",
    "    y = y + nedan\n",
    "    print('現在の合計金額は', y, '円です。')\n",
    "print('レジ通過後の合計金額は', y, '円です。')"
   ]
  },
  {
   "cell_type": "code",
   "execution_count": 7,
   "id": "d94e4a25",
   "metadata": {},
   "outputs": [
    {
     "name": "stdout",
     "output_type": "stream",
     "text": [
      "現在の合計金額は 0 円です。\n",
      "現在の合計金額は 100 円です。\n",
      "現在の合計金額は 250 円です。\n",
      "レジ通過後の合計金額は 450 円です。\n"
     ]
    }
   ],
   "source": [
    "# 基礎課題10.6 の for 文を利用するプログラムの別解\n",
    "import numpy as np\n",
    "y = 0\n",
    "print('現在の合計金額は', y, '円です。')\n",
    "for nedan in np.array([100, 150]):\n",
    "    y = y + nedan\n",
    "    print('現在の合計金額は', y, '円です。')\n",
    "# メッセージを同じにするために繰り返し処理の最後を分ける。    \n",
    "y = y + 200\n",
    "print('レジ通過後の合計金額は', y, '円です。')"
   ]
  },
  {
   "cell_type": "code",
   "execution_count": 9,
   "id": "920fdaae",
   "metadata": {},
   "outputs": [],
   "source": [
    "# 基礎課題10.6 の for 文を利用するプログラム\n",
    "# 5.16の書き換え\n",
    "from turtle import *\n",
    "shape('turtle')\n",
    "speed(0) # 亀の移動が早すぎる場合はspeed(10)と変更\n",
    "circle_size = 50 # 円の半径\n",
    "left_dis = 50 # 亀の方向転換の角度\n",
    "pencolor('green') # 色の指定\n",
    "for i in np.arange(0,14):\n",
    "    circle(circle_size) # 1\n",
    "    left(left_dis) \n",
    "done()"
   ]
  },
  {
   "cell_type": "code",
   "execution_count": 10,
   "id": "b87f6e91",
   "metadata": {},
   "outputs": [
    {
     "name": "stdout",
     "output_type": "stream",
     "text": [
      "苗字の入力待機中:斉藤\n",
      "斉藤 さんは 1 番目のお客さんです。\n",
      "苗字の入力待機中:鈴木\n",
      "鈴木 さんは 2 番目のお客さんです。\n",
      "苗字の入力待機中:高橋\n",
      "高橋 さんは 3 番目のお客さんです。\n"
     ]
    }
   ],
   "source": [
    "# 基礎課題10.7 \n",
    "import numpy as np\n",
    "for i in np.arange(1, 4):\n",
    "    name = input('苗字の入力待機中:')\n",
    "    print(name, 'さんは', i, '番目のお客さんです。')"
   ]
  }
 ],
 "metadata": {
  "kernelspec": {
   "display_name": "Python 3 (ipykernel)",
   "language": "python",
   "name": "python3"
  },
  "language_info": {
   "codemirror_mode": {
    "name": "ipython",
    "version": 3
   },
   "file_extension": ".py",
   "mimetype": "text/x-python",
   "name": "python",
   "nbconvert_exporter": "python",
   "pygments_lexer": "ipython3",
   "version": "3.9.7"
  }
 },
 "nbformat": 4,
 "nbformat_minor": 5
}
