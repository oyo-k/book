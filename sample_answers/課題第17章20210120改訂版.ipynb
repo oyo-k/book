{
 "cells": [
  {
   "cell_type": "code",
   "execution_count": 2,
   "metadata": {},
   "outputs": [],
   "source": [
    "# 基礎課題17.1"
   ]
  },
  {
   "cell_type": "code",
   "execution_count": 1,
   "metadata": {},
   "outputs": [],
   "source": [
    "from turtle import *\n",
    "for j in [0,-10,-20,-30]: #y座標指定用\n",
    "    penup()  \n",
    "    goto(0,j) # ペンの開始位置を指定\n",
    "    pendown()\n",
    "    setposition(+30,j) \n",
    "    \n",
    "for i in [0,10,20,30]: #x座標指定用\n",
    "    penup()  \n",
    "    goto(i,0)\n",
    "    pendown()\n",
    "    setposition(i,-30)\n",
    "\n",
    "for i in [0,10,20]:\n",
    "    for j in [-10,-20,-30]:\n",
    "        penup()  \n",
    "        #goto(x座標,y座標)注意\n",
    "        goto(i+5,j)\n",
    "        # gotoには格子の中心点は指定しない \n",
    "        pendown() \n",
    "        # 円は指定された座標の上方向に描画\n",
    "        circle(5) \n",
    "done()"
   ]
  },
  {
   "cell_type": "code",
   "execution_count": null,
   "metadata": {},
   "outputs": [],
   "source": [
    "# 発展課題17.2"
   ]
  },
  {
   "cell_type": "code",
   "execution_count": 1,
   "metadata": {},
   "outputs": [],
   "source": [
    "from turtle import *\n",
    "import numpy as np \n",
    "import math\n",
    "speed(0)\n",
    "penup()\n",
    "pencolor('purple') # 色を紫に変更\n",
    "pensize(3)\n",
    "sized = 50 # バタフライ曲線の大きさ\n",
    "for th in np.arange(0,361,1): # 一つのバタフライ曲線を描く\n",
    "    th = np.deg2rad(th)\n",
    "    # 描画する座標 (x, y) は、sin関数やcos関数を利用して計算\n",
    "    kyoutuu =  (math.e ** np.cos(th) - 2 * np.cos(4 * th) - np.sin(th/12) ** 5) * sized\n",
    "    # math.e は ネイピア数という2.71828... と続く数値\n",
    "    x = np.sin(th) * kyoutuu\n",
    "    y = np.cos(th) * kyoutuu\n",
    "    goto(x, y)\n",
    "    pendown()\n",
    "done()"
   ]
  },
  {
   "cell_type": "code",
   "execution_count": null,
   "metadata": {},
   "outputs": [],
   "source": [
    "# 発展課題17.2 の 複数のバタフライ曲線"
   ]
  },
  {
   "cell_type": "code",
   "execution_count": 1,
   "metadata": {},
   "outputs": [],
   "source": [
    "from turtle import *\n",
    "import numpy as np \n",
    "import math\n",
    "speed(0)\n",
    "penup()\n",
    "pencolor('purple') # 色を紫に変更\n",
    "pensize(3)\n",
    "sized = 50 # バタフライ曲線の大きさ\n",
    "for th in np.arange(0, 3 ,1):\n",
    "    for th in np.arange(0,361,1): # 一つのバタフライ曲線を描く\n",
    "        th = np.deg2rad(th)\n",
    "        # 描画する座標 (x, y) は、sin関数やcos関数を利用して計算\n",
    "        kyoutuu =  (math.e ** np.cos(th) - 2 * np.cos(4 * th) - np.sin(th/12) ** 5) * sized\n",
    "        # math.e は ネイピア数という2.71828... と続く数値\n",
    "        x = np.sin(th) * kyoutuu\n",
    "        y = np.cos(th) * kyoutuu\n",
    "        goto(x, y)\n",
    "        pendown()\n",
    "    sized = sized - 10\n",
    "done()"
   ]
  }
 ],
 "metadata": {
  "kernelspec": {
   "display_name": "Python 3 (ipykernel)",
   "language": "python",
   "name": "python3"
  },
  "language_info": {
   "codemirror_mode": {
    "name": "ipython",
    "version": 3
   },
   "file_extension": ".py",
   "mimetype": "text/x-python",
   "name": "python",
   "nbconvert_exporter": "python",
   "pygments_lexer": "ipython3",
   "version": "3.9.7"
  }
 },
 "nbformat": 4,
 "nbformat_minor": 4
}
