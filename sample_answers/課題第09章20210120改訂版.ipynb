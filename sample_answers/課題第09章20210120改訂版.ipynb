{
 "cells": [
  {
   "cell_type": "code",
   "execution_count": 4,
   "metadata": {},
   "outputs": [
    {
     "ename": "SyntaxError",
     "evalue": "invalid syntax (4029456673.py, line 3)",
     "output_type": "error",
     "traceback": [
      "\u001b[0;36m  File \u001b[0;32m\"/var/folders/9k/5x5mqwkj73sgxyc9b_q6sg8c0000gn/T/ipykernel_16714/4029456673.py\"\u001b[0;36m, line \u001b[0;32m3\u001b[0m\n\u001b[0;31m    if grade >= 60 # grade の中身が 60 以上かどうか\u001b[0m\n\u001b[0m                   ^\u001b[0m\n\u001b[0;31mSyntaxError\u001b[0m\u001b[0;31m:\u001b[0m invalid syntax\n"
     ]
    }
   ],
   "source": [
    "#基礎課題9.1の手順1\n",
    "grade = 65 # ある学生の点数が 65 点であると仮定\n",
    "if grade >= 60 # grade の中身が 60 以上かどうか \n",
    "    print('合格') # 60 以上なので合格と出力\n",
    "    \n",
    "# コロン(:)がない場合はSyntaxError: invalid syntaxが発生する。\n",
    "# このエラーは「:」がなく、if文の構文から逸脱するために発生する。\n",
    "# 特に条件式の記述と処理の区別ができなくなる。"
   ]
  },
  {
   "cell_type": "code",
   "execution_count": 2,
   "metadata": {},
   "outputs": [
    {
     "name": "stdout",
     "output_type": "stream",
     "text": [
      "合格\n"
     ]
    }
   ],
   "source": [
    "# 基礎課題9.1の手順2\n",
    "grade = 65 # \n",
    "if grade >= 60: # コロン「:」を記入することで構文の通りになり、エラーが発生しない\n",
    "    print('合格') # "
   ]
  },
  {
   "cell_type": "code",
   "execution_count": 5,
   "metadata": {},
   "outputs": [
    {
     "ename": "IndentationError",
     "evalue": "expected an indented block (3865549515.py, line 4)",
     "output_type": "error",
     "traceback": [
      "\u001b[0;36m  File \u001b[0;32m\"/var/folders/9k/5x5mqwkj73sgxyc9b_q6sg8c0000gn/T/ipykernel_16714/3865549515.py\"\u001b[0;36m, line \u001b[0;32m4\u001b[0m\n\u001b[0;31m    print('合格') # 本来、この4行目の先頭にタブキーによるインデントを挿入する\u001b[0m\n\u001b[0m    ^\u001b[0m\n\u001b[0;31mIndentationError\u001b[0m\u001b[0;31m:\u001b[0m expected an indented block\n"
     ]
    }
   ],
   "source": [
    "# 基礎課題9.1の手順3\n",
    "grade = 65 # \n",
    "if grade >= 60: # \n",
    "print('合格') # 本来、この4行目の先頭にタブキーによるインデントを挿入する\n",
    "\n",
    "# Tabがない場合はIndentationError: expected an indented blockが発生する。\n",
    "# このエラーは本来挿入されるべき箇所に「Tab」が一度も挿入されていないことが原因です。"
   ]
  },
  {
   "cell_type": "code",
   "execution_count": 6,
   "metadata": {},
   "outputs": [
    {
     "name": "stdout",
     "output_type": "stream",
     "text": [
      "Accept\n"
     ]
    }
   ],
   "source": [
    "# 基礎課題9.2 == の場合\n",
    "grade = 60  \n",
    "if grade == 60: \n",
    "    print('Accept') "
   ]
  },
  {
   "cell_type": "code",
   "execution_count": 7,
   "metadata": {},
   "outputs": [
    {
     "name": "stdout",
     "output_type": "stream",
     "text": [
      "Accept\n"
     ]
    }
   ],
   "source": [
    "# 基礎課題9.2 >= の場合    \n",
    "grade = 60  \n",
    "if grade >= 60: \n",
    "    print('Accept') "
   ]
  },
  {
   "cell_type": "code",
   "execution_count": 10,
   "metadata": {},
   "outputs": [],
   "source": [
    "# 基礎課題9.2 > の場合 \n",
    "grade = 60  \n",
    "if grade > 60: \n",
    "    print('Accept') \n"
   ]
  },
  {
   "cell_type": "code",
   "execution_count": 8,
   "metadata": {},
   "outputs": [
    {
     "name": "stdout",
     "output_type": "stream",
     "text": [
      "Accept\n"
     ]
    }
   ],
   "source": [
    "# 基礎課題9.2 <= の場合 \n",
    "grade = 60  \n",
    "if grade <= 60: \n",
    "    print('Accept') "
   ]
  },
  {
   "cell_type": "code",
   "execution_count": 11,
   "metadata": {},
   "outputs": [],
   "source": [
    "# 基礎課題9.2 < の場合 \n",
    "grade = 60  \n",
    "if grade < 60: \n",
    "    print('Accept') "
   ]
  },
  {
   "cell_type": "code",
   "execution_count": 12,
   "metadata": {},
   "outputs": [],
   "source": [
    "# 基礎課題9.2 != の場合 \n",
    "grade = 60  \n",
    "if grade != 60: \n",
    "    print('Accept') "
   ]
  },
  {
   "cell_type": "code",
   "execution_count": 13,
   "metadata": {},
   "outputs": [
    {
     "name": "stdout",
     "output_type": "stream",
     "text": [
      "合格\n",
      "不合格\n"
     ]
    }
   ],
   "source": [
    "# 基礎課題9.3\n",
    "grade = 60  \n",
    "if grade < 60: \n",
    "    print('不合格')\n",
    "else:\n",
    "    print('合格')\n",
    "\n",
    "# 動作確認用\n",
    "grade = 40  # 上のプログラムの60 を 40 に変えたもの\n",
    "if grade < 60: \n",
    "    print('不合格')\n",
    "else:\n",
    "    print('合格')\n",
    "# 不合格と表示されたため、課題のプログラムが完成したとみなせる。"
   ]
  },
  {
   "cell_type": "code",
   "execution_count": 14,
   "metadata": {},
   "outputs": [
    {
     "name": "stdout",
     "output_type": "stream",
     "text": [
      "True\n",
      "False\n"
     ]
    }
   ],
   "source": [
    "# 基礎課題9.4\n",
    "Nl, M, E = 90, 80, 40 # 国語, 数学, 英語の点数\n",
    "# or の場合であれば、次の通り\n",
    "print(Nl >= 60 or M >= 60 or E >= 60)\n",
    "# 全ての場合であれば、次の通り\n",
    "print(Nl >= 60  and  M  >= 60  and  E >= 60)"
   ]
  },
  {
   "cell_type": "code",
   "execution_count": 15,
   "metadata": {},
   "outputs": [
    {
     "name": "stdout",
     "output_type": "stream",
     "text": [
      "Reject\n",
      "Accept\n",
      "Accept\n"
     ]
    }
   ],
   "source": [
    "# 基礎課題9.5\n",
    "Nl, M, E = 90, 80, 40\n",
    "if Nl >= 60 and M >= 60 and E >= 60:\n",
    "    print('Accept')\n",
    "else:\n",
    "    print('Reject')\n",
    "    \n",
    "# 動作確認用に 全ての点数を60点以上にする\n",
    "Nl, M, E = 90, 80, 65\n",
    "if Nl >= 60 and M >= 60 and E >= 60:\n",
    "    print('Accept')\n",
    "else:\n",
    "    print('Reject')\n",
    "# Accept が出力されたため、課題のプログラムが完成したとみなせる。\n",
    "\n",
    "# いずれかの場合\n",
    "Nl, M, E = 90, 80, 40\n",
    "# いずれかが 60以上のため、Acceptが出力\n",
    "if Nl >= 60  or  M  >= 60  or  E >= 60:\n",
    "    print('Accept')\n",
    "else:\n",
    "    print('Reject')"
   ]
  },
  {
   "cell_type": "code",
   "execution_count": 16,
   "metadata": {},
   "outputs": [
    {
     "name": "stdout",
     "output_type": "stream",
     "text": [
      "A+\n"
     ]
    }
   ],
   "source": [
    "# 発展課題9.6\n",
    "grade = 85 \n",
    "if 100 >= grade and 90 <= grade :\n",
    "    print('S')\n",
    "elif 89 >= grade and 85 <= grade: \n",
    "    print('A+')\n",
    "elif 84 >= grade and 80 <= grade: \n",
    "    print('A')\n",
    "elif 79 >= grade and 75 <= grade: \n",
    "    print('B+')\n",
    "elif 74 >= grade and 70 <= grade: \n",
    "    print('B')\n",
    "elif 69 >= grade and 65 <= grade: \n",
    "    print('C+')\n",
    "elif 64 >= grade and 60 <= grade: \n",
    "    print('C')\n",
    "else:\n",
    "    print('D')"
   ]
  },
  {
   "cell_type": "code",
   "execution_count": 31,
   "metadata": {},
   "outputs": [
    {
     "name": "stdout",
     "output_type": "stream",
     "text": [
      "C\n"
     ]
    }
   ],
   "source": [
    "# 発展課題9.6の別解\n",
    "grade = 63 \n",
    "if 100 >= grade  >= 90:\n",
    "        print('S')\n",
    "elif 89 >= grade >= 85: \n",
    "    print('A+')\n",
    "elif 84 >= grade >= 80: \n",
    "    print('A')\n",
    "elif 79 >= grade >= 75: \n",
    "    print('B+')\n",
    "elif 74 >= grade >= 70: \n",
    "    print('B')\n",
    "elif 69 >= grade >= 65: \n",
    "    print('C+')\n",
    "elif 64 >= grade >=  60: \n",
    "    print('C')\n",
    "else:\n",
    "    print('D')"
   ]
  },
  {
   "cell_type": "code",
   "execution_count": 28,
   "metadata": {},
   "outputs": [
    {
     "name": "stdout",
     "output_type": "stream",
     "text": [
      "95S\n",
      "87A+\n",
      "83A\n",
      "77B+\n",
      "73B\n",
      "65C+\n",
      "62C\n",
      "59D\n"
     ]
    }
   ],
   "source": [
    "# 発展課題9.6の別解を10章の知識を利用して動作確認\n",
    "for grade in [95, 87, 83, 77, 73, 65, 62, 59]:\n",
    "    #grade = 85 \n",
    "    print(grade,end='')\n",
    "    if 100 >= grade  >= 90:\n",
    "        print('S')\n",
    "    elif 89 >= grade >= 85: \n",
    "        print('A+')\n",
    "    elif 84 >= grade >= 80: \n",
    "        print('A')\n",
    "    elif 79 >= grade >= 75: \n",
    "        print('B+')\n",
    "    elif 74 >= grade >= 70: \n",
    "        print('B')\n",
    "    elif 69 >= grade >= 65: \n",
    "        print('C+')\n",
    "    elif 64 >= grade >=  60: \n",
    "        print('C')\n",
    "    else:\n",
    "        print('D')"
   ]
  },
  {
   "cell_type": "code",
   "execution_count": 23,
   "metadata": {},
   "outputs": [
    {
     "name": "stdout",
     "output_type": "stream",
     "text": [
      "my_handの入力: rock, scissors, or, paper: \n",
      "rock\n",
      "cpu_handの入力: rock, scissors, or, paper: \n",
      "paper\n",
      "my_hand:  rock . cpu_hand: paper\n",
      "You lose.\n"
     ]
    }
   ],
   "source": [
    "# 発展課題9.7\n",
    "\n",
    "print('my_handの入力: rock, scissors, or, paper: ')\n",
    "my_hand = input()\n",
    "print('cpu_handの入力: rock, scissors, or, paper: ')\n",
    "cpu_hand = input()\n",
    "print('my_hand: ', my_hand, '. cpu_hand:', cpu_hand)\n",
    "if my_hand == cpu_hand:\n",
    "    print('Rock, paper, scissors')\n",
    "elif my_hand == 'rock' and cpu_hand == 'scissors':\n",
    "    print('You win.')\n",
    "elif my_hand == 'scissors' and cpu_hand == 'paper':\n",
    "    print('You win.')\n",
    "elif my_hand == 'paper' and cpu_hand == 'rock':\n",
    "    print('You win.')\n",
    "else:\n",
    "    print('You lose.')\n",
    "\n",
    "# paper や scissors、rock に「'」を忘れないようにしましょう。"
   ]
  }
 ],
 "metadata": {
  "kernelspec": {
   "display_name": "Python 3 (ipykernel)",
   "language": "python",
   "name": "python3"
  },
  "language_info": {
   "codemirror_mode": {
    "name": "ipython",
    "version": 3
   },
   "file_extension": ".py",
   "mimetype": "text/x-python",
   "name": "python",
   "nbconvert_exporter": "python",
   "pygments_lexer": "ipython3",
   "version": "3.9.7"
  }
 },
 "nbformat": 4,
 "nbformat_minor": 4
}
