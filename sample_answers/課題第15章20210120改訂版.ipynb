{
 "cells": [
  {
   "cell_type": "code",
   "execution_count": 1,
   "metadata": {},
   "outputs": [],
   "source": [
    "#基礎課題15.1\n",
    "while False:\n",
    "    print('loop')"
   ]
  },
  {
   "cell_type": "code",
   "execution_count": 2,
   "metadata": {},
   "outputs": [
    {
     "name": "stdout",
     "output_type": "stream",
     "text": [
      "120\n"
     ]
    }
   ],
   "source": [
    "#基礎課題15.2\n",
    "import numpy as np\n",
    "n = 5\n",
    "goukei = 1\n",
    "for i in np.arange(1, n+1):\n",
    "    goukei = goukei * i\n",
    "    \n",
    "print(goukei)"
   ]
  },
  {
   "cell_type": "code",
   "execution_count": 3,
   "metadata": {},
   "outputs": [
    {
     "name": "stdout",
     "output_type": "stream",
     "text": [
      "my_handの入力: rock, scissors, or, paper : scissors\n",
      "my_hand is  scissors . cpu_hand is  scissors\n",
      "***rock, paper, scissors***\n",
      "my_handの入力: rock, scissors, or, paper : scissors\n",
      "my_hand is  scissors . cpu_hand is  rock\n",
      "***You lose.***\n",
      "my_handの入力: rock, scissors, or, paper : scissors\n",
      "my_hand is  scissors . cpu_hand is  rock\n",
      "***You lose.***\n",
      "my_handの入力: rock, scissors, or, paper : scissors\n",
      "my_hand is  scissors . cpu_hand is  paper\n",
      "***You win. lose_count 1 ***\n",
      "my_handの入力: rock, scissors, or, paper : scissors\n",
      "my_hand is  scissors . cpu_hand is  scissors\n",
      "***rock, paper, scissors***\n",
      "my_handの入力: rock, scissors, or, paper : scissors\n",
      "my_hand is  scissors . cpu_hand is  paper\n",
      "***You win. lose_count 2 ***\n",
      "my_handの入力: rock, scissors, or, paper : scissors\n",
      "my_hand is  scissors . cpu_hand is  paper\n",
      "***You win. lose_count 3 ***\n",
      "my_handの入力: rock, scissors, or, paper : scissors\n",
      "my_hand is  scissors . cpu_hand is  scissors\n",
      "***rock, paper, scissors***\n",
      "my_handの入力: rock, scissors, or, paper : scissors\n",
      "my_hand is  scissors . cpu_hand is  paper\n",
      "***You win. lose_count 4 ***\n",
      "my_handの入力: rock, scissors, or, paper : scissors\n",
      "my_hand is  scissors . cpu_hand is  paper\n",
      "***You win. lose_count 5 ***\n",
      "*******Game Over*******\n"
     ]
    }
   ],
   "source": [
    "# 発展課題15.3\n",
    "import numpy as np\n",
    "lose_count =  0 # 読者が勝利した際のカウント\n",
    "while lose_count <= 4 : \n",
    "    my_hand = input('my_handの入力: rock, scissors, or, paper : ')\n",
    "    cpu_select = np.random.randint(3)\n",
    "    if cpu_select == 0:\n",
    "        cpu_hand = 'paper'\n",
    "    elif cpu_select == 1:\n",
    "        cpu_hand = 'scissors'\n",
    "    else:\n",
    "        cpu_hand = 'rock'    \n",
    "    print('my_hand is ', my_hand, '. cpu_hand is ', cpu_hand)\n",
    "    if my_hand == cpu_hand:\n",
    "        print('***rock, paper, scissors***')\n",
    "    elif my_hand == 'rock' and cpu_hand == 'scissors':\n",
    "        lose_count +=1 # コンピュータが敗北した回数を加算\n",
    "        print('***You win. lose_count', lose_count ,'***')\n",
    "    elif my_hand == 'scissors' and cpu_hand == 'paper':\n",
    "        lose_count +=1 # コンピュータが敗北した回数を加算\n",
    "        print('***You win. lose_count', lose_count ,'***')\n",
    "    elif my_hand == 'paper' and cpu_hand == 'rock':\n",
    "        lose_count +=1 # コンピュータが敗北した回数を加算\n",
    "        print('***You win. lose_count', lose_count ,'***')        \n",
    "    else:\n",
    "        print('***You lose.***')\n",
    "print('*******Game Over*******')"
   ]
  },
  {
   "cell_type": "code",
   "execution_count": 4,
   "metadata": {},
   "outputs": [],
   "source": [
    "# 発展課題15.4"
   ]
  },
  {
   "cell_type": "code",
   "execution_count": 4,
   "metadata": {},
   "outputs": [
    {
     "name": "stdout",
     "output_type": "stream",
     "text": [
      "円周率は 4.0\n",
      "亀は 1 回動きました。\n",
      "亀は計算に 1.132751226425171 秒かかりました。\n"
     ]
    }
   ],
   "source": [
    "from turtle import *\n",
    "import numpy as np\n",
    "import time \n",
    "speed(0) # 亀を高速に移動 \n",
    "shapesize(0.3) # ペンサイズを小さめに設定\n",
    "penup() # 亀の足跡だけを打てるように準備\n",
    "np.random.seed(seed = 1) # 再現可能なように設定\n",
    "in_c = 0 # 円の内部に点をプロットした回数\n",
    "out_c = 0 # 円の外部に点をプロットした回数\n",
    "# シミュレーションの初期設定\n",
    "error = 1000000 # 誤差計算用変数：誤差を大きく設定\n",
    "epsilon = 1 # 誤差の許容範囲を設定する変数 \n",
    "start = time.time() # プログラムの開始時刻を保存\n",
    "\n",
    "# ヒント：繰り返しの条件式には変数errorとepsilonを利用\n",
    "while error > epsilon: # epsilonを超える誤差の間繰り返す\n",
    "  x = np.random.randint(-100, 100) # 横軸の乱数を設定\n",
    "  y = np.random.randint(-100, 100) # 縦軸の乱数を設定\n",
    "  goto(x, y) # 亀がxとyの位置に移動する\n",
    "  # 三平方の定理を利用して、以下の条件式が正しければ円内にプロットしたとする\n",
    "  if -10000 <= (x * x + y * y) <= 10000: # 三平方の定理\n",
    "    pencolor('red') # 円内のため赤\n",
    "    shape('circle') # ペン先を円に\n",
    "    stamp() # 赤いスタンプを押す\n",
    "    in_c += 1 # ヒント：円内に点をプロットした数として変数に加算\n",
    "  else: # 縦横100の正方形内だが円の外にプロットする\n",
    "    pencolor('blue') # 円外のため青\n",
    "    shape('square') # ペン先を四角に\n",
    "    stamp() # 青いスタンプを押す\n",
    "    out_c += 1 # ヒント：円外に点をプロットした数として変数に加算\n",
    "  # 正確な円周率 - 計算中の円周率の絶対値を誤差とする\n",
    "  error = abs(np.pi - in_c / (in_c + out_c) * 4) # ヒント:空欄は円周率の近似\n",
    "done() # 計算終了。以下で計算結果をまとめて出力\n",
    "print('円周率は',in_c / (in_c + out_c) * 4)\n",
    "print('亀は', (in_c + out_c), '回動きました。')\n",
    "print('亀は計算に', time.time() - start, '秒かかりました。')"
   ]
  },
  {
   "cell_type": "code",
   "execution_count": 6,
   "metadata": {},
   "outputs": [
    {
     "name": "stdout",
     "output_type": "stream",
     "text": [
      "円周率は 3.141141141141141\n",
      "亀は 666 回動きました。\n",
      "亀は計算に 26.6227388381958 秒かかりました。\n"
     ]
    }
   ],
   "source": [
    "from turtle import *\n",
    "import numpy as np\n",
    "import time \n",
    "np.random.seed(seed=1)\n",
    "start = time.time()\n",
    "speed(0) #亀を高速に移動 \n",
    "in_c = 0 #  円の内部に点を打った回数\n",
    "out_c = 0 # 円の外部に点を打った回数\n",
    "penup() #亀の足跡だけを打てるように準備\n",
    "error = 1000000\n",
    "epsilon = 0.001 # 誤差の許容範囲 \n",
    "shapesize(0.3)\n",
    "while error > epsilon: # 誤差がepsilon以上の間\n",
    "  # x軸の数値をランダムに設定 \n",
    "  x = np.random.randint(-100,100)\n",
    "  # y軸の数値をランダムに設定 \n",
    "  y = np.random.randint(-100,100)\n",
    "  goto(x, y) # 亀がxとyの位置に移動する\n",
    "\n",
    "  if -10000 <= (x*x + y*y) <= 10000:\n",
    "    pencolor('red') # 円内のため赤\n",
    "    shape('circle') #  ペン先を円に\n",
    "    stamp()     #dot(5) #亀の足を使いスタンプ\n",
    "    in_c += 1 #円内に点が打たれた数\n",
    "  else:\n",
    "    pencolor('blue') #円内のため青\n",
    "    shape('square') # ペン先を四角に\n",
    "    stamp()     #dot(5) #亀の足を使いスタンプ\n",
    "    out_c += 1 #円外に点が打たれた数\n",
    "  error = abs(np.pi - in_c / (in_c + out_c) * 4)\n",
    "print('円周率は',in_c / (in_c + out_c) * 4)\n",
    "print('亀は', (in_c + out_c) , '回動きました。')\n",
    "print('亀は計算に', time.time() - start, '秒かかりました。')\n",
    "done()# 亀のお仕事終了\n",
    "\n"
   ]
  },
  {
   "cell_type": "markdown",
   "metadata": {},
   "source": [
    "# 問1と問2の答え\n",
    "\n",
    "以下の結果は実行ごとに変化することがあります。\n",
    "\n",
    "- epsilon = 1\n",
    "   - 円周率4.0 \n",
    "   - 処理時間　0.7481439113616943\n",
    "- epsilon = 0.1\n",
    "   - 円周率3.2 \n",
    "   - 処理時間　0.9422028064727783\n",
    "- epsilon = 0.01\n",
    "   - 円周率3.142857142857143 \n",
    "   - 処理時間　1.015904188156128\n",
    "- epsilon = 0.001\n",
    "   - 円周率3.141141141141141\n",
    "   - 処理時間　32.11669111251831\n",
    "\n",
    "epsilonの値が低くなれば、誤差が小さくなるので、その誤差以下まで繰り返すため、繰り返しの回数が増える。"
   ]
  },
  {
   "cell_type": "code",
   "execution_count": 1,
   "metadata": {},
   "outputs": [
    {
     "name": "stdout",
     "output_type": "stream",
     "text": [
      "3.141592653589793\n"
     ]
    }
   ],
   "source": [
    "import numpy as np\n",
    "print(np.pi)"
   ]
  }
 ],
 "metadata": {
  "kernelspec": {
   "display_name": "Python 3 (ipykernel)",
   "language": "python",
   "name": "python3"
  },
  "language_info": {
   "codemirror_mode": {
    "name": "ipython",
    "version": 3
   },
   "file_extension": ".py",
   "mimetype": "text/x-python",
   "name": "python",
   "nbconvert_exporter": "python",
   "pygments_lexer": "ipython3",
   "version": "3.9.7"
  }
 },
 "nbformat": 4,
 "nbformat_minor": 4
}
