{
 "cells": [
  {
   "cell_type": "markdown",
   "metadata": {},
   "source": [
    "# 基礎課題4.1\n",
    "\n",
    "- 命令が多くなれば、変数を利用した方が、修正が簡単になるために利用する\n",
    "- 変数を利用すれば、なぜ、その値を出力するのか想像がつくため\n",
    "\n",
    "# 基礎課題4.2\n",
    "\n",
    "- 図は本書を参考に作成すること\n",
    "- オブジェクトの値 2 を　h_intに代入する。 2は名前(変数名)と紐づく"
   ]
  },
  {
   "cell_type": "code",
   "execution_count": 1,
   "metadata": {},
   "outputs": [
    {
     "name": "stdout",
     "output_type": "stream",
     "text": [
      "13\n",
      "Yamada\n",
      "1.42\n",
      "False\n"
     ]
    }
   ],
   "source": [
    "# 4.3\n",
    "x = 13\n",
    "print(x)\n",
    "y = 'Yamada'\n",
    "print(y)\n",
    "z = 1.42\n",
    "print(z)\n",
    "w = False\n",
    "print(w)"
   ]
  },
  {
   "cell_type": "code",
   "execution_count": 2,
   "metadata": {},
   "outputs": [
    {
     "name": "stdout",
     "output_type": "stream",
     "text": [
      "<class 'int'>\n",
      "<class 'float'>\n",
      "<class 'str'>\n",
      "<class 'bool'>\n"
     ]
    }
   ],
   "source": [
    "# 4.4\n",
    "x = 15\n",
    "y = 1.5\n",
    "a = 'moji'\n",
    "b = True\n",
    "print(type(x))\n",
    "print(type(y))\n",
    "print(type(a))\n",
    "print(type(b))"
   ]
  },
  {
   "cell_type": "code",
   "execution_count": 3,
   "metadata": {},
   "outputs": [
    {
     "name": "stdout",
     "output_type": "stream",
     "text": [
      "Yamada\n",
      "Taro\n"
     ]
    }
   ],
   "source": [
    "# 4.5\n",
    "tmp = 'Yamada'\n",
    "print(tmp)\n",
    "tmp = 'Taro'\n",
    "print(tmp)"
   ]
  },
  {
   "cell_type": "code",
   "execution_count": 4,
   "metadata": {},
   "outputs": [
    {
     "name": "stdout",
     "output_type": "stream",
     "text": [
      "入力:空腹です\n",
      "あなた: 空腹です\n",
      "ELIZA:いつから空腹ですか?\n",
      "入力:昨日\n",
      "あなた: 昨日\n",
      "ELIZA:昨日からですか!\n",
      "ELIZA:ご飯食べに行きましょう\n"
     ]
    }
   ],
   "source": [
    "# 発展課題4.6\n",
    "you = input('入力:') # 1回目の入力\n",
    "print('あなた:', you) # you の値に置きかわり出力\n",
    "print('ELIZA:いつから', you, 'か?', sep = '') \n",
    "when = input('入力:') # 2回目の入力\n",
    "print('あなた:', when) # when の値に置きかわり出力\n",
    "print('ELIZA:', when, 'からですか!', sep = '')\n",
    "print('ELIZA:ご飯食べに行きましょう')"
   ]
  },
  {
   "cell_type": "markdown",
   "metadata": {},
   "source": [
    "コンピュータは言葉の意味を理解していないため、想定以外の入力があれば、意味不明な回答になる。"
   ]
  },
  {
   "cell_type": "code",
   "execution_count": 5,
   "metadata": {},
   "outputs": [],
   "source": [
    "# 発展課題4.7 (五角形の修正前まで)\n",
    "from turtle import *\n",
    "forward(50) \n",
    "left(70)   \n",
    "forward(5) \n",
    "left(72)   \n",
    "forward(50) \n",
    "left(700)\n",
    "forward(5) \n",
    "left(72)   \n",
    "forward(50) \n",
    "done() "
   ]
  },
  {
   "cell_type": "code",
   "execution_count": 7,
   "metadata": {},
   "outputs": [],
   "source": [
    "# 発展課題4.7 (五角形を描くまでの修正)\n",
    "from turtle import *\n",
    "forward(50) \n",
    "left(72)   \n",
    "forward(50) \n",
    "left(72)   \n",
    "forward(50) \n",
    "left(72)   \n",
    "forward(50) \n",
    "left(72)   \n",
    "forward(50) \n",
    "done() "
   ]
  },
  {
   "cell_type": "code",
   "execution_count": 9,
   "metadata": {},
   "outputs": [],
   "source": [
    "# 発展課題4.7 (変数を利用して五角形を描く)\n",
    "from turtle import *\n",
    "kyori = 50\n",
    "kakudo = 72\n",
    "forward(kyori) \n",
    "left(kakudo)   \n",
    "forward(kyori) \n",
    "left(kakudo)   \n",
    "forward(kyori) \n",
    "left(kakudo)   \n",
    "forward(kyori) \n",
    "left(kakudo)   \n",
    "forward(kyori) \n",
    "done() "
   ]
  },
  {
   "cell_type": "markdown",
   "metadata": {},
   "source": [
    "変数を利用しない場合、\n",
    "- 単純な入力ミスなどの可能性が増える。\n",
    "- なぜ、その数値を利用したのかを変数名から推測できない。\n",
    "- プログラムを編集する際に、手間が増える。\n",
    "\n",
    "などが考えられる。"
   ]
  }
 ],
 "metadata": {
  "kernelspec": {
   "display_name": "Python 3 (ipykernel)",
   "language": "python",
   "name": "python3"
  },
  "language_info": {
   "codemirror_mode": {
    "name": "ipython",
    "version": 3
   },
   "file_extension": ".py",
   "mimetype": "text/x-python",
   "name": "python",
   "nbconvert_exporter": "python",
   "pygments_lexer": "ipython3",
   "version": "3.9.7"
  }
 },
 "nbformat": 4,
 "nbformat_minor": 4
}
