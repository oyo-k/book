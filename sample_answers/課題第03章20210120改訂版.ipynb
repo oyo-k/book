{
 "cells": [
  {
   "cell_type": "code",
   "execution_count": 1,
   "metadata": {},
   "outputs": [],
   "source": [
    "# 基礎課題3.1\n",
    "from turtle import * # 描画に必要なライブラリ\n",
    "forward(100) # 矢印の方向(右方向)に100進む\n",
    "left(120) # 左に120度回転(上方向に向く)\n",
    "forward(100) \n",
    "left(120)     \n",
    "forward(100) \n",
    "done() # 描画を終えるために操作を許可"
   ]
  },
  {
   "cell_type": "code",
   "execution_count": 3,
   "metadata": {},
   "outputs": [],
   "source": [
    "# 基礎課題3.2\n",
    "from turtle import *\n",
    "forward(150) \n",
    "left(60)   \n",
    "forward(150) \n",
    "left(60)\n",
    "forward(150) \n",
    "left(60)\n",
    "forward(150) \n",
    "left(60)\n",
    "forward(150) \n",
    "left(60)\n",
    "forward(150) \n",
    "left(60)\n",
    "done() # 描画を終えるために操作を許可"
   ]
  },
  {
   "cell_type": "code",
   "execution_count": 5,
   "metadata": {},
   "outputs": [],
   "source": [
    "# 発展課題3.3\n",
    "from turtle import *\n",
    "forward(100) #  矢印の方向に100進む\n",
    "right(144)   #  右に144度回転\n",
    "forward(100) #  矢印の方向に100進む\n",
    "right(144)   #  右に144度回転\n",
    "forward(100) #  矢印の方向に100進む\n",
    "right(144)   #  右に144度回転\n",
    "forward(100) #  矢印の方向に100進む\n",
    "right(144)   #  右に144度回転\n",
    "forward(100) #  矢印の方向に100進む\n",
    "done() # 描画を終えるために操作を許可"
   ]
  },
  {
   "cell_type": "code",
   "execution_count": 9,
   "metadata": {},
   "outputs": [],
   "source": [
    "# 発展課題3.4\n",
    "from turtle import *\n",
    "pensize(10) # ペンのサイズを大きくするための命令\n",
    "pencolor('red') # ペンの色を赤に変更する命令\n",
    "circle(50,180)  # 時計回りに180度、大きさ50の円を描く\n",
    "pencolor('blue') # ペンの色を青に変更する命令\n",
    "circle(-50,180)  # 反時計回りに、180度、大きさ50の円を描く、\n",
    "pencolor('black') # ペンの色を黒に変更する命令\n",
    "circle(-100) # 反時計回りに100の円を描く命令\n",
    "done()"
   ]
  },
  {
   "cell_type": "code",
   "execution_count": 11,
   "metadata": {},
   "outputs": [],
   "source": []
  }
 ],
 "metadata": {
  "kernelspec": {
   "display_name": "Python 3 (ipykernel)",
   "language": "python",
   "name": "python3"
  },
  "language_info": {
   "codemirror_mode": {
    "name": "ipython",
    "version": 3
   },
   "file_extension": ".py",
   "mimetype": "text/x-python",
   "name": "python",
   "nbconvert_exporter": "python",
   "pygments_lexer": "ipython3",
   "version": "3.9.7"
  }
 },
 "nbformat": 4,
 "nbformat_minor": 4
}
