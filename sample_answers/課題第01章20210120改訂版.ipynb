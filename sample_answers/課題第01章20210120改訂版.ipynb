{
 "cells": [
  {
   "cell_type": "markdown",
   "metadata": {},
   "source": [
    "# 　基礎課題1.1"
   ]
  },
  {
   "cell_type": "markdown",
   "metadata": {},
   "source": [
    "問1 : コンピュータに仕事(処理)を指示するために、コンピュータにやらせたい仕事（処理）を専用の命令で順番に記述したもの\n",
    "\n",
    "問2 : 問1で述べたプログラムを作成する作業。一つ一つの作業手順を一つずつの処理（命令）として書く作業です。\n",
    "\n",
    "問3 : 機械語は0と1で構成されているため、人間が読み書きすることは困難。ソースコードは人間が読み書き可能な言語で記述されている。"
   ]
  },
  {
   "cell_type": "markdown",
   "metadata": {},
   "source": [
    "# 基礎課題1.2"
   ]
  },
  {
   "cell_type": "markdown",
   "metadata": {},
   "source": [
    "問1: C, Java, R\n",
    "\n",
    "問2: \n",
    "- C言語はコンパイラ型\n",
    "- Javaはコンパイラ型\n",
    "- Rはインタープリタ\n",
    "\n",
    "問3: 表(代表的なプログラミング言語)参照\n",
    "\n"
   ]
  },
  {
   "cell_type": "markdown",
   "metadata": {},
   "source": [
    "# 基礎課題1.3"
   ]
  },
  {
   "cell_type": "markdown",
   "metadata": {},
   "source": [
    "問1: インタープリタ型は試行錯誤が容易に可能。ただし、大規模なプログラムを作成することは不向き。\n",
    "\n",
    "問2: コンパイラ型はインタープリタ型よりも高速で大規模なプログラムを作成することが可能。ただし、インタープリタ型よりも対話的に命令を実行できないため、試行錯誤に苦労する。\n",
    "\n",
    "問3: 機械語で記述すれば、コンピュータにとってはソースコードからの機械語に変換する手間が省けるため、高速に処理できる。"
   ]
  },
  {
   "cell_type": "markdown",
   "metadata": {},
   "source": [
    "# 発展課題1.4\n",
    "\n",
    "試行回数 1 回目でコインを見つけることが可能。\n",
    "しかし、コインの枚数が奇数であるため、8枚の比較が終われば、重い金貨を見つけられるため、3回目でコインを見つけることが可能。\n"
   ]
  }
 ],
 "metadata": {
  "kernelspec": {
   "display_name": "Python 3 (ipykernel)",
   "language": "python",
   "name": "python3"
  },
  "language_info": {
   "codemirror_mode": {
    "name": "ipython",
    "version": 3
   },
   "file_extension": ".py",
   "mimetype": "text/x-python",
   "name": "python",
   "nbconvert_exporter": "python",
   "pygments_lexer": "ipython3",
   "version": "3.9.7"
  }
 },
 "nbformat": 4,
 "nbformat_minor": 4
}
