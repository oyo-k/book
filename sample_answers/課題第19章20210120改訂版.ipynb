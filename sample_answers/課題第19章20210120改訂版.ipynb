{
 "cells": [
  {
   "cell_type": "markdown",
   "metadata": {},
   "source": [
    "# 基礎課題18.1\n",
    "\n",
    "- 平均値：男女の平均年齢は33歳である。\n",
    "- 標準偏差：男性の年齢の標準偏差は18.7である, 女性の年齢の標準偏差は女性18.6である。集団はおおよそ15歳から51歳の男女が多いと考えられる。\n",
    "- 最小値と最大値: 集団は1歳から65歳までの年齢\n",
    "- 中央値: 集団の中間の年齢は33歳である。集団の50%は33歳以下である。\n",
    "- 25%点: 25%点は17歳である。集団の25%は17歳以下である。\n",
    "- 75%点: 75%点は49歳である。集団の75%は49歳以下である。"
   ]
  },
  {
   "cell_type": "markdown",
   "metadata": {},
   "source": [
    "# 基礎課題19.2"
   ]
  },
  {
   "cell_type": "code",
   "execution_count": 1,
   "metadata": {},
   "outputs": [],
   "source": [
    "import pandas as pd\n",
    "import numpy as np\n",
    "# データの読み込み\n",
    "data = pd.read_excel('data//demographic.xlsx', index_col = 'ID')"
   ]
  },
  {
   "cell_type": "code",
   "execution_count": 2,
   "metadata": {},
   "outputs": [
    {
     "name": "stdout",
     "output_type": "stream",
     "text": [
      "男性の場合\n",
      "男性:合計人数: 6762\n",
      "男性の平均年齢: 33.004436557231585\n",
      "男性の分散: 350.68942131075005 標準偏差 18.726703428813895\n",
      "min: 1\n",
      "max: 65\n",
      "50%点の位置: 3380 小数: 0.5 中央値: 33.0\n",
      "25%点の位置: 1690 小数: 0.25 25%点: 17.0\n",
      "75%点の位置: 5070 小数: 0.75 75%点: 49.0\n"
     ]
    }
   ],
   "source": [
    "# 男性の場合\n",
    "print('男性の場合')\n",
    "man_data =data.loc[data['性別']==1,:]\n",
    "male = 0 # 男性の人数を代入する変数に初期値0を代入する\n",
    "# IDを利用して男女別の人数カウントを開始\n",
    "for i in man_data.index: # モニター人数分繰り返し\n",
    "  # i は100000001から100014342まで変化           \n",
    "  male = male + 1 # maleを１増加(男性の人数に+1)\n",
    "# カウント結果である男性人数と女性人数を表示\n",
    "print('男性:合計人数:',male)\n",
    "\n",
    "male_age = 0 # 男性の年齢を加える変数 (全男性の合計年齢)\n",
    "for i in man_data.index:\n",
    "    male_age = male_age + data.at[i,'年齢']\n",
    "\n",
    "# 年齢の総合計を人数で割り、男性と女性の平均年齢を計算\n",
    "print('男性の平均年齢:', male_age/male)\n",
    "\n",
    "ave_male_age=male_age/male # 男性の平均年齢\n",
    "var_male=0 # 男性の分散を求める変数\n",
    "\n",
    "for i in man_data.index: \n",
    "    #男性の個々の年齢と年齢平均の差の二乗を求めてvar_maleに加算\n",
    "    var_male+=(data.at[i,'年齢']-ave_male_age)**2 \n",
    "    \n",
    "var_male/=male #男性の年齢平均と個々の年齢の差の二乗の合計/人数\n",
    "# 標準偏差は分散(var_maleまたはvar_female)の平方根\n",
    "print('男性の分散:',var_male,'標準偏差',np.sqrt(var_male))\n",
    "\n",
    "df_s = man_data.sort_values('年齢') # 並び替え\n",
    "print('min:',df_s.iloc[0,0]) # 年齢の0番目\n",
    "# 年齢の14341番目\n",
    "print('max:',df_s.iloc[len(man_data)-1,0]) \n",
    "n = len(df_s) # データの数\n",
    "q = (n - 1) * 50 / 100 # 整数と小数部分の計算のために用意\n",
    "i = int(q) # 整数に変換して整数部分を求める\n",
    "dp = q - i # 実数から整数部分を除き小数部分を求める\n",
    "# 「i番目の年齢 + 小数部分 (i+1番目の年齢 - i番目の年齢)」\n",
    "q50 = df_s.iloc[i, 0] + dp * (df_s.iloc[i + 1, 0] - df_s.iloc[i, 0])\n",
    "print('50%点の位置:',i , '小数:',dp , '中央値:', q50)\n",
    "\n",
    "# 25%点の位置を計算するための整数部\n",
    "q = (n - 1) * 25 / 100 # 整数と小数部分の計算のために用意\n",
    "i = int(q) # 整数に変換して整数部分を求める\n",
    "dp = q - i # 実数から整数部分を除き小数部分を求める\n",
    "# 「i番目の年齢 + 小数部分 (i+1番目の年齢 - i番目の年齢)」\n",
    "q25 = df_s.iloc[i, 0] + dp * (df_s.iloc[i + 1, 0] - df_s.iloc[i, 0])\n",
    "print('25%点の位置:',i , '小数:',dp , '25%点:', q25)\n",
    "\n",
    "q = (n - 1) * 75 / 100 # 整数と小数部分の計算のために用意\n",
    "i = int(q) # 整数に変換して整数部分を求める\n",
    "dp = q - i # 実数から整数部分を除き小数部分を求める\n",
    "# 「i番目の年齢 + 小数部分 (i+1番目の年齢 - i番目の年齢)」\n",
    "q75 = df_s.iloc[i, 0] + dp * (df_s.iloc[i + 1, 0] - df_s.iloc[i, 0])\n",
    "print('75%点の位置:',i , '小数:',dp , '75%点:', q75)\n"
   ]
  },
  {
   "cell_type": "markdown",
   "metadata": {},
   "source": [
    "# 基礎課題19.3"
   ]
  },
  {
   "cell_type": "code",
   "execution_count": 3,
   "metadata": {},
   "outputs": [
    {
     "name": "stdout",
     "output_type": "stream",
     "text": [
      "女性の場合\n",
      "女性:合計人数: 8238\n",
      "女性の平均年齢: 33.093712066035444\n",
      "女性の分散: 347.6865324453761 標準偏差 18.6463544009379\n",
      "min: 1\n",
      "max: 65\n",
      "50%点の位置: 4118 小数: 0.5 中央値: 33.0\n",
      "25%点の位置: 2059 小数: 0.25 25%点: 17.0\n",
      "75%点の位置: 6177 小数: 0.75 75%点: 49.0\n"
     ]
    }
   ],
   "source": [
    "# 女性の場合\n",
    "print('女性の場合')\n",
    "woman_data =data.loc[data['性別']==2,:]\n",
    "female = 0 # 女性の人数を代入する変数に初期値0を代入する\n",
    "# IDを利用して男女別の人数カウントを開始\n",
    "for i in woman_data.index: # モニター人数分繰り返し\n",
    "  # i は100000001から100014342まで変化           \n",
    "  female = female + 1 # femaleを１増加(女性の人数に+1)\n",
    "# カウント結果である女性人数と女性人数を表示\n",
    "print('女性:合計人数:',female)\n",
    "\n",
    "female_age = 0 # 女性の年齢を加える変数 (全女性の合計年齢)\n",
    "for i in woman_data .index:\n",
    "    female_age = female_age + data.at[i,'年齢']\n",
    "\n",
    "# 年齢の総合計を人数で割り、女性と女性の平均年齢を計算\n",
    "print('女性の平均年齢:', female_age/female)\n",
    "\n",
    "ave_female_age=female_age/female # 女性の平均年齢\n",
    "var_female=0 # 女性の分散を求める変数\n",
    "\n",
    "for i in woman_data .index: \n",
    "    #女性の個々の年齢と年齢平均の差の二乗を求めてvar_femaleに加算\n",
    "    var_female+=(data.at[i,'年齢']-ave_female_age)**2 \n",
    "    \n",
    "var_female/=female #女性の年齢平均と個々の年齢の差の二乗の合計/人数\n",
    "# 標準偏差は分散(var_femaleまたはvar_female)の平方根\n",
    "print('女性の分散:',var_female,'標準偏差',np.sqrt(var_female))\n",
    "\n",
    "df_s = woman_data.sort_values('年齢') # 並び替え\n",
    "print('min:',df_s.iloc[0,0]) # 年齢の0番目\n",
    "# 年齢の14341番目\n",
    "print('max:',df_s.iloc[len(woman_data)-1,0]) \n",
    "n = len(df_s) # データの数\n",
    "q = (n - 1) * 50 / 100 # 整数と小数部分の計算のために用意\n",
    "i = int(q) # 整数に変換して整数部分を求める\n",
    "dp = q - i # 実数から整数部分を除き小数部分を求める\n",
    "# 「i番目の年齢 + 小数部分 (i+1番目の年齢 - i番目の年齢)」\n",
    "q50 = df_s.iloc[i, 0] + dp * (df_s.iloc[i + 1, 0] - df_s.iloc[i, 0])\n",
    "print('50%点の位置:',i , '小数:',dp , '中央値:', q50)\n",
    "\n",
    "# 25%点の位置を計算するための整数部\n",
    "q = (n - 1) * 25 / 100 # 整数と小数部分の計算のために用意\n",
    "i = int(q) # 整数に変換して整数部分を求める\n",
    "dp = q - i # 実数から整数部分を除き小数部分を求める\n",
    "# 「i番目の年齢 + 小数部分 (i+1番目の年齢 - i番目の年齢)」\n",
    "q25 = df_s.iloc[i, 0] + dp * (df_s.iloc[i + 1, 0] - df_s.iloc[i, 0])\n",
    "print('25%点の位置:',i , '小数:',dp , '25%点:', q25)\n",
    "\n",
    "q = (n - 1) * 75 / 100 # 整数と小数部分の計算のために用意\n",
    "i = int(q) # 整数に変換して整数部分を求める\n",
    "dp = q - i # 実数から整数部分を除き小数部分を求める\n",
    "# 「i番目の年齢 + 小数部分 (i+1番目の年齢 - i番目の年齢)」\n",
    "q75 = df_s.iloc[i, 0] + dp * (df_s.iloc[i + 1, 0] - df_s.iloc[i, 0])\n",
    "print('75%点の位置:',i , '小数:',dp , '75%点:', q75)\n"
   ]
  },
  {
   "cell_type": "markdown",
   "metadata": {},
   "source": [
    "# 基礎課題19.4"
   ]
  },
  {
   "cell_type": "code",
   "execution_count": 4,
   "metadata": {},
   "outputs": [
    {
     "name": "stdout",
     "output_type": "stream",
     "text": [
      "男性\n",
      "                年齢      性別\n",
      "count  6762.000000  6762.0\n",
      "mean     33.004437     1.0\n",
      "std      18.728088     0.0\n",
      "min       1.000000     1.0\n",
      "25%      17.000000     1.0\n",
      "50%      33.000000     1.0\n",
      "75%      49.000000     1.0\n",
      "max      65.000000     1.0\n",
      "女性\n",
      "                年齢      性別\n",
      "count  8238.000000  8238.0\n",
      "mean     33.093712     2.0\n",
      "std      18.647486     0.0\n",
      "min       1.000000     2.0\n",
      "25%      17.000000     2.0\n",
      "50%      33.000000     2.0\n",
      "75%      49.000000     2.0\n",
      "max      65.000000     2.0\n"
     ]
    }
   ],
   "source": [
    "\n",
    "print('男性')\n",
    "print(data.loc[data['性別']==1,:].describe())\n",
    "print('女性')\n",
    "print(data.loc[data['性別']==2,:].describe())"
   ]
  },
  {
   "cell_type": "markdown",
   "metadata": {},
   "source": [
    "# 発展課題19.5"
   ]
  },
  {
   "cell_type": "code",
   "execution_count": 5,
   "metadata": {},
   "outputs": [
    {
     "name": "stdout",
     "output_type": "stream",
     "text": [
      "国語      73.992517\n",
      "数学      56.201699\n",
      "英語      57.917653\n",
      "理科      56.559025\n",
      "社会      73.258294\n",
      "音楽      65.092276\n",
      "体育      43.906306\n",
      "技術家庭    52.493972\n",
      "Name: 11068, dtype: float64\n"
     ]
    }
   ],
   "source": [
    "\n",
    "\n",
    "import pandas as pd \n",
    "df = pd.read_csv('data//seiseki_8s.csv', index_col = 'ID')\n",
    "dfh = df.copy() # 元のデータが変更されないようにデータを複製\n",
    "for i in dfh.columns: # # カラム名を利用して 8 回繰り返し\n",
    "    x = dfh.loc[:, i] # 科目 i における全生徒の点数を x とする \n",
    "    # 平均50, 標準偏差10の偏差値を計算\n",
    "    dfh.loc[:,i] = (x - x.mean()) / (x.std()) * 10 + 50\n",
    "print(dfh.loc[11068, :]) # 指定生徒の成績\n",
    "\n"
   ]
  },
  {
   "cell_type": "markdown",
   "metadata": {},
   "source": [
    "実行結果から11068の生徒は国語と社会の偏差値が70を超え、体育以外は平均以上の偏差値をとっている生徒であることがわかります。また、11068の生徒は平均50 + 標準偏差20を超えているため全体の上位2.5% 以上にはいる国語が得意な生徒であり、体育は苦手だが他の科目でかなりできる生徒であることがわかります。"
   ]
  },
  {
   "cell_type": "code",
   "execution_count": 6,
   "metadata": {},
   "outputs": [
    {
     "name": "stdout",
     "output_type": "stream",
     "text": [
      "       国語  数学  英語  理科  社会  音楽  体育  技術家庭\n",
      "ID                                     \n",
      "10863  85  86  81  40  53  43  78    70\n"
     ]
    }
   ],
   "source": [
    "# 発展課題19.6\n",
    "df = pd.read_csv('data//seiseki_8s.csv',index_col='ID')\n",
    "print(df.query('国語> 80 and 英語> 80 and 数学 >80'))\n"
   ]
  },
  {
   "cell_type": "code",
   "execution_count": 7,
   "metadata": {},
   "outputs": [
    {
     "name": "stdout",
     "output_type": "stream",
     "text": [
      "国語      67.860590\n",
      "数学      72.356878\n",
      "英語      67.069888\n",
      "理科      43.335844\n",
      "社会      31.209242\n",
      "音楽      46.712377\n",
      "体育      60.587376\n",
      "技術家庭    60.107343\n",
      "Name: 10863, dtype: float64\n"
     ]
    }
   ],
   "source": [
    "dfh = df.copy() \n",
    "for i in dfh.columns: \n",
    "    # 偏差値を計算\n",
    "    dfh.loc[:,i] = (dfh.loc[:,i] - dfh.loc[:,i].mean()) / (dfh.loc[:,i].std()) * 10 + 50\n",
    "print(dfh.loc[10863,:])"
   ]
  },
  {
   "cell_type": "markdown",
   "metadata": {},
   "source": [
    "最も得意な科目は数学。"
   ]
  }
 ],
 "metadata": {
  "kernelspec": {
   "display_name": "Python 3 (ipykernel)",
   "language": "python",
   "name": "python3"
  },
  "language_info": {
   "codemirror_mode": {
    "name": "ipython",
    "version": 3
   },
   "file_extension": ".py",
   "mimetype": "text/x-python",
   "name": "python",
   "nbconvert_exporter": "python",
   "pygments_lexer": "ipython3",
   "version": "3.9.7"
  }
 },
 "nbformat": 4,
 "nbformat_minor": 4
}
