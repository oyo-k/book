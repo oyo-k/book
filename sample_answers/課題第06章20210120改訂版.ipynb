{
 "cells": [
  {
   "cell_type": "code",
   "execution_count": 1,
   "metadata": {},
   "outputs": [
    {
     "name": "stdout",
     "output_type": "stream",
     "text": [
      "[1 5]\n",
      "[1 3 5]\n",
      "[1 3 5]\n",
      "[ 3  5 13]\n",
      "[13]\n"
     ]
    }
   ],
   "source": [
    "# 基礎課題 6.1\n",
    "import numpy as np \n",
    "d = np.array([1,3,5,7,13])\n",
    "# 問１\n",
    "print(d[[0, 2]])\n",
    "# 問2\n",
    "print(d[0:3]) \n",
    "print(d[[0, 1, 2]]) # 別解\n",
    "# 問3\n",
    "print(d[[1, 2, 4]])\n",
    "# 問4\n",
    "print(d[[4]])\n"
   ]
  },
  {
   "cell_type": "code",
   "execution_count": 2,
   "metadata": {},
   "outputs": [
    {
     "name": "stdout",
     "output_type": "stream",
     "text": [
      "step 1::: [10.  0. 10.  0. 10.  0. 10.  0. 10.  0.]\n",
      "step 2::: [ 5.  0. 10. -5. 10.  0.  5.  0. 10. -5.]\n",
      "step 3::: [25.  0. 10. -5. 50.  0.  5.  0. 50. -5.]\n",
      "step 4::: [ 2.5  0.  10.  -5.  50.   0.   5.   0.  50.  -5. ]\n",
      "step 1::: [10.  0. 10.  0. 10.  0. 10.  0. 10.  0.]\n",
      "step 2::: [ 5.  0. 10. -5. 10.  0.  5.  0. 10. -5.]\n",
      "step 3::: [25.  0. 10. -5. 50.  0.  5.  0. 50. -5.]\n",
      "step 4::: [ 2.5  0.  10.  -5.  50.   0.   5.   0.  50.  -5. ]\n"
     ]
    }
   ],
   "source": [
    "# 基礎課題 6.2\n",
    "tmp = np.zeros(10)\n",
    "tmp[0:10:2] =  tmp[0:10:2] + 10 \n",
    "print('step 1:::',tmp)\n",
    "tmp[0:10:3] =  tmp[0:10:3] - 5 \n",
    "print('step 2:::',tmp)\n",
    "tmp[0:10:4] =  tmp[0:10:4] * 5\n",
    "print('step 3:::',tmp)\n",
    "tmp[0:10:5] =  tmp[0:10:5] / 10\n",
    "print('step 4:::',tmp)\n",
    "\n",
    "########### 別解\n",
    "tmp = np.zeros(10)\n",
    "tmp[[0,2,4,6,8]] =  tmp[[0,2,4,6,8]] + 10\n",
    "print('step 1:::',tmp)\n",
    "tmp[[0,3,6,9]] =  tmp[[0,3,6,9]] - 5 \n",
    "print('step 2:::',tmp)\n",
    "tmp[[0,4,8]] =  tmp[[0,4,8]] * 5\n",
    "print('step 3:::',tmp)\n",
    "tmp[[0,5]] =  tmp[[0,5]] / 10\n",
    "print('step 4:::',tmp)"
   ]
  },
  {
   "cell_type": "code",
   "execution_count": 3,
   "metadata": {},
   "outputs": [
    {
     "ename": "IndexError",
     "evalue": "index 6 is out of bounds for axis 0 with size 6",
     "output_type": "error",
     "traceback": [
      "\u001b[0;31m---------------------------------------------------------------------------\u001b[0m",
      "\u001b[0;31mIndexError\u001b[0m                                Traceback (most recent call last)",
      "\u001b[0;32m/var/folders/9k/5x5mqwkj73sgxyc9b_q6sg8c0000gn/T/ipykernel_5161/1768547529.py\u001b[0m in \u001b[0;36m<module>\u001b[0;34m\u001b[0m\n\u001b[1;32m      1\u001b[0m \u001b[0;31m# 基礎課題 6.3\u001b[0m\u001b[0;34m\u001b[0m\u001b[0;34m\u001b[0m\u001b[0m\n\u001b[1;32m      2\u001b[0m \u001b[0md\u001b[0m \u001b[0;34m=\u001b[0m \u001b[0mnp\u001b[0m\u001b[0;34m.\u001b[0m\u001b[0marange\u001b[0m\u001b[0;34m(\u001b[0m\u001b[0;36m6\u001b[0m\u001b[0;34m)\u001b[0m\u001b[0;34m\u001b[0m\u001b[0;34m\u001b[0m\u001b[0m\n\u001b[0;32m----> 3\u001b[0;31m \u001b[0mprint\u001b[0m\u001b[0;34m(\u001b[0m\u001b[0md\u001b[0m\u001b[0;34m[\u001b[0m\u001b[0;36m6\u001b[0m\u001b[0;34m]\u001b[0m\u001b[0;34m)\u001b[0m\u001b[0;34m\u001b[0m\u001b[0;34m\u001b[0m\u001b[0m\n\u001b[0m",
      "\u001b[0;31mIndexError\u001b[0m: index 6 is out of bounds for axis 0 with size 6"
     ]
    }
   ],
   "source": [
    "# 基礎課題 6.3\n",
    "d = np.arange(6)\n",
    "print(d[6])"
   ]
  },
  {
   "cell_type": "markdown",
   "metadata": {},
   "source": [
    "# 理由\n",
    "解答例1: 一次元配列の要素番号6は存在しないため。\n",
    "\n",
    "解答例2: 一次元配列のサイズを超えたため。\n",
    "\n",
    "解答例3: 一次元配列d の要素数は6であるが、要素番号は0から始まるため、0, 1, 2, 3, 4, 5の6種類である。そのため、d[6]で指定した要素番号6は存在しない。よってエラー「IndexError: index 6 is out of bounds for axis 0 with size 6」が発生する"
   ]
  },
  {
   "cell_type": "code",
   "execution_count": 4,
   "metadata": {},
   "outputs": [
    {
     "name": "stdout",
     "output_type": "stream",
     "text": [
      "合計は 6 です。\n",
      "平均は 2.0 です。\n"
     ]
    }
   ],
   "source": [
    "# 基礎課題 6.4\n",
    "d = np.array([1, 2, 3])\n",
    "goukei = d[0] + d[1] + d[2]\n",
    "heikin = goukei / 3\n",
    "print('合計は',goukei,'です。')\n",
    "print('平均は',heikin,'です。')"
   ]
  },
  {
   "cell_type": "code",
   "execution_count": 5,
   "metadata": {},
   "outputs": [
    {
     "name": "stdout",
     "output_type": "stream",
     "text": [
      "交換前: [10 11 12 13 14]\n",
      "交換1回目: [10 11 12 13 14]\n",
      "交換2回目: [12 11 12 13 14]\n",
      "交換3回目: [12 11 11 13 14]\n",
      "交換4回目: [12 13 11 13 14]\n",
      "交換5回目: [12 13 11 14 14]\n",
      "交換終了: [12 13 11 14 10]\n"
     ]
    }
   ],
   "source": [
    "# 発展課題 6.5\n",
    "d = np.array([10,11,12,13,14])\n",
    "print('交換前:',d)\n",
    "# 10 と14を入れ替える\n",
    "tmp = d[0]\n",
    "print('交換1回目:',d)\n",
    "d[0] = d[2]\n",
    "print('交換2回目:',d)\n",
    "d[2] = d[1]\n",
    "print('交換3回目:',d)\n",
    "d[1] = d[3]\n",
    "print('交換4回目:',d)\n",
    "d[3] = d[4]\n",
    "print('交換5回目:',d)\n",
    "d[4] = tmp\n",
    "print('交換終了:',d)"
   ]
  },
  {
   "cell_type": "code",
   "execution_count": 6,
   "metadata": {},
   "outputs": [
    {
     "name": "stdout",
     "output_type": "stream",
     "text": [
      "交換前: [10 11 12 13 14]\n",
      "[14 11 12 13 10]\n",
      "[13 11 12 14 10]\n",
      "[13 12 11 14 10]\n",
      "交換終了: [12 13 11 14 10]\n"
     ]
    }
   ],
   "source": [
    "#別解\n",
    "d = np.array([10,11,12,13,14])\n",
    "print('交換前:',d)\n",
    "# 10 と14を入れ替える\n",
    "tmp = d[0]\n",
    "d[0] = d[4]\n",
    "d[4] = tmp\n",
    "print(d)\n",
    "tmp = d[3]\n",
    "d[3] = d[0]\n",
    "d[0] = tmp\n",
    "print(d)\n",
    "tmp = d[2]\n",
    "d[2] = d[1]\n",
    "d[1] = tmp\n",
    "print(d)\n",
    "tmp = d[1]\n",
    "d[1] = d[0]\n",
    "d[0] = tmp\n",
    "print('交換終了:',d)"
   ]
  },
  {
   "cell_type": "code",
   "execution_count": 7,
   "metadata": {},
   "outputs": [
    {
     "name": "stdout",
     "output_type": "stream",
     "text": [
      "交換前: [10 11 12 13 14]\n",
      "交換終了: [12 13 11 14 10]\n"
     ]
    }
   ],
   "source": [
    "# 誤答例\n",
    "d = np.array([10,11,12,13,14])\n",
    "print('交換前:',d)\n",
    "d[0] = 12\n",
    "d[1] = 13\n",
    "d[2] = 11\n",
    "d[3] = 14\n",
    "d[4] = 10\n",
    "print('交換終了:',d)\n",
    "# 最終的な出力は同じでも、交換アルゴリズムを用いてない。"
   ]
  },
  {
   "cell_type": "code",
   "execution_count": null,
   "metadata": {},
   "outputs": [],
   "source": []
  }
 ],
 "metadata": {
  "kernelspec": {
   "display_name": "Python 3 (ipykernel)",
   "language": "python",
   "name": "python3"
  },
  "language_info": {
   "codemirror_mode": {
    "name": "ipython",
    "version": 3
   },
   "file_extension": ".py",
   "mimetype": "text/x-python",
   "name": "python",
   "nbconvert_exporter": "python",
   "pygments_lexer": "ipython3",
   "version": "3.9.7"
  }
 },
 "nbformat": 4,
 "nbformat_minor": 4
}
